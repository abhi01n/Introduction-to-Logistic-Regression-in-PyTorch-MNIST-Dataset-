{
  "nbformat": 4,
  "nbformat_minor": 0,
  "metadata": {
    "colab": {
      "name": "Logistic Regression.ipynb",
      "provenance": [],
      "authorship_tag": "ABX9TyNimOoCOP2ut6KhK0AREpHG",
      "include_colab_link": true
    },
    "kernelspec": {
      "name": "python3",
      "display_name": "Python 3"
    },
    "language_info": {
      "name": "python"
    },
    "widgets": {
      "application/vnd.jupyter.widget-state+json": {
        "0951d51ffcd14ca495859f5e3aa60a07": {
          "model_module": "@jupyter-widgets/controls",
          "model_name": "HBoxModel",
          "state": {
            "_view_name": "HBoxView",
            "_dom_classes": [],
            "_model_name": "HBoxModel",
            "_view_module": "@jupyter-widgets/controls",
            "_model_module_version": "1.5.0",
            "_view_count": null,
            "_view_module_version": "1.5.0",
            "box_style": "",
            "layout": "IPY_MODEL_0c14d8e33a46487cb2b2b5407e081404",
            "_model_module": "@jupyter-widgets/controls",
            "children": [
              "IPY_MODEL_0b8c41fbe36b49f9ac7a50718e096d6f",
              "IPY_MODEL_fdcd0599c9b040deaefbacecde9dd245"
            ]
          }
        },
        "0c14d8e33a46487cb2b2b5407e081404": {
          "model_module": "@jupyter-widgets/base",
          "model_name": "LayoutModel",
          "state": {
            "_view_name": "LayoutView",
            "grid_template_rows": null,
            "right": null,
            "justify_content": null,
            "_view_module": "@jupyter-widgets/base",
            "overflow": null,
            "_model_module_version": "1.2.0",
            "_view_count": null,
            "flex_flow": null,
            "width": null,
            "min_width": null,
            "border": null,
            "align_items": null,
            "bottom": null,
            "_model_module": "@jupyter-widgets/base",
            "top": null,
            "grid_column": null,
            "overflow_y": null,
            "overflow_x": null,
            "grid_auto_flow": null,
            "grid_area": null,
            "grid_template_columns": null,
            "flex": null,
            "_model_name": "LayoutModel",
            "justify_items": null,
            "grid_row": null,
            "max_height": null,
            "align_content": null,
            "visibility": null,
            "align_self": null,
            "height": null,
            "min_height": null,
            "padding": null,
            "grid_auto_rows": null,
            "grid_gap": null,
            "max_width": null,
            "order": null,
            "_view_module_version": "1.2.0",
            "grid_template_areas": null,
            "object_position": null,
            "object_fit": null,
            "grid_auto_columns": null,
            "margin": null,
            "display": null,
            "left": null
          }
        },
        "0b8c41fbe36b49f9ac7a50718e096d6f": {
          "model_module": "@jupyter-widgets/controls",
          "model_name": "FloatProgressModel",
          "state": {
            "_view_name": "ProgressView",
            "style": "IPY_MODEL_5ac578f862e64a1a8b0424fbaadc9ab1",
            "_dom_classes": [],
            "description": "100%",
            "_model_name": "FloatProgressModel",
            "bar_style": "success",
            "max": 600,
            "_view_module": "@jupyter-widgets/controls",
            "_model_module_version": "1.5.0",
            "value": 600,
            "_view_count": null,
            "_view_module_version": "1.5.0",
            "orientation": "horizontal",
            "min": 0,
            "description_tooltip": null,
            "_model_module": "@jupyter-widgets/controls",
            "layout": "IPY_MODEL_4d88097464aa4fbaa2f5820b96f9cb4e"
          }
        },
        "fdcd0599c9b040deaefbacecde9dd245": {
          "model_module": "@jupyter-widgets/controls",
          "model_name": "HTMLModel",
          "state": {
            "_view_name": "HTMLView",
            "style": "IPY_MODEL_a1f749e629514ba6be36f50d5017ba7a",
            "_dom_classes": [],
            "description": "",
            "_model_name": "HTMLModel",
            "placeholder": "​",
            "_view_module": "@jupyter-widgets/controls",
            "_model_module_version": "1.5.0",
            "value": " 600/600 [13:13&lt;00:00,  1.32s/it]",
            "_view_count": null,
            "_view_module_version": "1.5.0",
            "description_tooltip": null,
            "_model_module": "@jupyter-widgets/controls",
            "layout": "IPY_MODEL_24df7d07af024406a114a2a6f2916809"
          }
        },
        "5ac578f862e64a1a8b0424fbaadc9ab1": {
          "model_module": "@jupyter-widgets/controls",
          "model_name": "ProgressStyleModel",
          "state": {
            "_view_name": "StyleView",
            "_model_name": "ProgressStyleModel",
            "description_width": "initial",
            "_view_module": "@jupyter-widgets/base",
            "_model_module_version": "1.5.0",
            "_view_count": null,
            "_view_module_version": "1.2.0",
            "bar_color": null,
            "_model_module": "@jupyter-widgets/controls"
          }
        },
        "4d88097464aa4fbaa2f5820b96f9cb4e": {
          "model_module": "@jupyter-widgets/base",
          "model_name": "LayoutModel",
          "state": {
            "_view_name": "LayoutView",
            "grid_template_rows": null,
            "right": null,
            "justify_content": null,
            "_view_module": "@jupyter-widgets/base",
            "overflow": null,
            "_model_module_version": "1.2.0",
            "_view_count": null,
            "flex_flow": null,
            "width": null,
            "min_width": null,
            "border": null,
            "align_items": null,
            "bottom": null,
            "_model_module": "@jupyter-widgets/base",
            "top": null,
            "grid_column": null,
            "overflow_y": null,
            "overflow_x": null,
            "grid_auto_flow": null,
            "grid_area": null,
            "grid_template_columns": null,
            "flex": null,
            "_model_name": "LayoutModel",
            "justify_items": null,
            "grid_row": null,
            "max_height": null,
            "align_content": null,
            "visibility": null,
            "align_self": null,
            "height": null,
            "min_height": null,
            "padding": null,
            "grid_auto_rows": null,
            "grid_gap": null,
            "max_width": null,
            "order": null,
            "_view_module_version": "1.2.0",
            "grid_template_areas": null,
            "object_position": null,
            "object_fit": null,
            "grid_auto_columns": null,
            "margin": null,
            "display": null,
            "left": null
          }
        },
        "a1f749e629514ba6be36f50d5017ba7a": {
          "model_module": "@jupyter-widgets/controls",
          "model_name": "DescriptionStyleModel",
          "state": {
            "_view_name": "StyleView",
            "_model_name": "DescriptionStyleModel",
            "description_width": "",
            "_view_module": "@jupyter-widgets/base",
            "_model_module_version": "1.5.0",
            "_view_count": null,
            "_view_module_version": "1.2.0",
            "_model_module": "@jupyter-widgets/controls"
          }
        },
        "24df7d07af024406a114a2a6f2916809": {
          "model_module": "@jupyter-widgets/base",
          "model_name": "LayoutModel",
          "state": {
            "_view_name": "LayoutView",
            "grid_template_rows": null,
            "right": null,
            "justify_content": null,
            "_view_module": "@jupyter-widgets/base",
            "overflow": null,
            "_model_module_version": "1.2.0",
            "_view_count": null,
            "flex_flow": null,
            "width": null,
            "min_width": null,
            "border": null,
            "align_items": null,
            "bottom": null,
            "_model_module": "@jupyter-widgets/base",
            "top": null,
            "grid_column": null,
            "overflow_y": null,
            "overflow_x": null,
            "grid_auto_flow": null,
            "grid_area": null,
            "grid_template_columns": null,
            "flex": null,
            "_model_name": "LayoutModel",
            "justify_items": null,
            "grid_row": null,
            "max_height": null,
            "align_content": null,
            "visibility": null,
            "align_self": null,
            "height": null,
            "min_height": null,
            "padding": null,
            "grid_auto_rows": null,
            "grid_gap": null,
            "max_width": null,
            "order": null,
            "_view_module_version": "1.2.0",
            "grid_template_areas": null,
            "object_position": null,
            "object_fit": null,
            "grid_auto_columns": null,
            "margin": null,
            "display": null,
            "left": null
          }
        },
        "442bf9d0dd114b58832cd31d5b1652cd": {
          "model_module": "@jupyter-widgets/controls",
          "model_name": "HBoxModel",
          "state": {
            "_view_name": "HBoxView",
            "_dom_classes": [],
            "_model_name": "HBoxModel",
            "_view_module": "@jupyter-widgets/controls",
            "_model_module_version": "1.5.0",
            "_view_count": null,
            "_view_module_version": "1.5.0",
            "box_style": "",
            "layout": "IPY_MODEL_8c332e42a94f444dbc3fbec3fb5fbab3",
            "_model_module": "@jupyter-widgets/controls",
            "children": [
              "IPY_MODEL_b912b1b978514d65bc8008585caf97e2",
              "IPY_MODEL_28855bfb1a5648ef9e3d4111cc0ccb72"
            ]
          }
        },
        "8c332e42a94f444dbc3fbec3fb5fbab3": {
          "model_module": "@jupyter-widgets/base",
          "model_name": "LayoutModel",
          "state": {
            "_view_name": "LayoutView",
            "grid_template_rows": null,
            "right": null,
            "justify_content": null,
            "_view_module": "@jupyter-widgets/base",
            "overflow": null,
            "_model_module_version": "1.2.0",
            "_view_count": null,
            "flex_flow": null,
            "width": null,
            "min_width": null,
            "border": null,
            "align_items": null,
            "bottom": null,
            "_model_module": "@jupyter-widgets/base",
            "top": null,
            "grid_column": null,
            "overflow_y": null,
            "overflow_x": null,
            "grid_auto_flow": null,
            "grid_area": null,
            "grid_template_columns": null,
            "flex": null,
            "_model_name": "LayoutModel",
            "justify_items": null,
            "grid_row": null,
            "max_height": null,
            "align_content": null,
            "visibility": null,
            "align_self": null,
            "height": null,
            "min_height": null,
            "padding": null,
            "grid_auto_rows": null,
            "grid_gap": null,
            "max_width": null,
            "order": null,
            "_view_module_version": "1.2.0",
            "grid_template_areas": null,
            "object_position": null,
            "object_fit": null,
            "grid_auto_columns": null,
            "margin": null,
            "display": null,
            "left": null
          }
        },
        "b912b1b978514d65bc8008585caf97e2": {
          "model_module": "@jupyter-widgets/controls",
          "model_name": "FloatProgressModel",
          "state": {
            "_view_name": "ProgressView",
            "style": "IPY_MODEL_0bdf3332249c40fc94ea1f51726c9ffa",
            "_dom_classes": [],
            "description": "100%",
            "_model_name": "FloatProgressModel",
            "bar_style": "success",
            "max": 100,
            "_view_module": "@jupyter-widgets/controls",
            "_model_module_version": "1.5.0",
            "value": 100,
            "_view_count": null,
            "_view_module_version": "1.5.0",
            "orientation": "horizontal",
            "min": 0,
            "description_tooltip": null,
            "_model_module": "@jupyter-widgets/controls",
            "layout": "IPY_MODEL_3e312fe8d34e4056bbd3af1c8a51c405"
          }
        },
        "28855bfb1a5648ef9e3d4111cc0ccb72": {
          "model_module": "@jupyter-widgets/controls",
          "model_name": "HTMLModel",
          "state": {
            "_view_name": "HTMLView",
            "style": "IPY_MODEL_3306357d839b4673998f80855c15b845",
            "_dom_classes": [],
            "description": "",
            "_model_name": "HTMLModel",
            "placeholder": "​",
            "_view_module": "@jupyter-widgets/controls",
            "_model_module_version": "1.5.0",
            "value": " 100/100 [05:10&lt;00:00,  3.10s/it]",
            "_view_count": null,
            "_view_module_version": "1.5.0",
            "description_tooltip": null,
            "_model_module": "@jupyter-widgets/controls",
            "layout": "IPY_MODEL_7953b9c211ba47b3938cd6edf84cce61"
          }
        },
        "0bdf3332249c40fc94ea1f51726c9ffa": {
          "model_module": "@jupyter-widgets/controls",
          "model_name": "ProgressStyleModel",
          "state": {
            "_view_name": "StyleView",
            "_model_name": "ProgressStyleModel",
            "description_width": "initial",
            "_view_module": "@jupyter-widgets/base",
            "_model_module_version": "1.5.0",
            "_view_count": null,
            "_view_module_version": "1.2.0",
            "bar_color": null,
            "_model_module": "@jupyter-widgets/controls"
          }
        },
        "3e312fe8d34e4056bbd3af1c8a51c405": {
          "model_module": "@jupyter-widgets/base",
          "model_name": "LayoutModel",
          "state": {
            "_view_name": "LayoutView",
            "grid_template_rows": null,
            "right": null,
            "justify_content": null,
            "_view_module": "@jupyter-widgets/base",
            "overflow": null,
            "_model_module_version": "1.2.0",
            "_view_count": null,
            "flex_flow": null,
            "width": null,
            "min_width": null,
            "border": null,
            "align_items": null,
            "bottom": null,
            "_model_module": "@jupyter-widgets/base",
            "top": null,
            "grid_column": null,
            "overflow_y": null,
            "overflow_x": null,
            "grid_auto_flow": null,
            "grid_area": null,
            "grid_template_columns": null,
            "flex": null,
            "_model_name": "LayoutModel",
            "justify_items": null,
            "grid_row": null,
            "max_height": null,
            "align_content": null,
            "visibility": null,
            "align_self": null,
            "height": null,
            "min_height": null,
            "padding": null,
            "grid_auto_rows": null,
            "grid_gap": null,
            "max_width": null,
            "order": null,
            "_view_module_version": "1.2.0",
            "grid_template_areas": null,
            "object_position": null,
            "object_fit": null,
            "grid_auto_columns": null,
            "margin": null,
            "display": null,
            "left": null
          }
        },
        "3306357d839b4673998f80855c15b845": {
          "model_module": "@jupyter-widgets/controls",
          "model_name": "DescriptionStyleModel",
          "state": {
            "_view_name": "StyleView",
            "_model_name": "DescriptionStyleModel",
            "description_width": "",
            "_view_module": "@jupyter-widgets/base",
            "_model_module_version": "1.5.0",
            "_view_count": null,
            "_view_module_version": "1.2.0",
            "_model_module": "@jupyter-widgets/controls"
          }
        },
        "7953b9c211ba47b3938cd6edf84cce61": {
          "model_module": "@jupyter-widgets/base",
          "model_name": "LayoutModel",
          "state": {
            "_view_name": "LayoutView",
            "grid_template_rows": null,
            "right": null,
            "justify_content": null,
            "_view_module": "@jupyter-widgets/base",
            "overflow": null,
            "_model_module_version": "1.2.0",
            "_view_count": null,
            "flex_flow": null,
            "width": null,
            "min_width": null,
            "border": null,
            "align_items": null,
            "bottom": null,
            "_model_module": "@jupyter-widgets/base",
            "top": null,
            "grid_column": null,
            "overflow_y": null,
            "overflow_x": null,
            "grid_auto_flow": null,
            "grid_area": null,
            "grid_template_columns": null,
            "flex": null,
            "_model_name": "LayoutModel",
            "justify_items": null,
            "grid_row": null,
            "max_height": null,
            "align_content": null,
            "visibility": null,
            "align_self": null,
            "height": null,
            "min_height": null,
            "padding": null,
            "grid_auto_rows": null,
            "grid_gap": null,
            "max_width": null,
            "order": null,
            "_view_module_version": "1.2.0",
            "grid_template_areas": null,
            "object_position": null,
            "object_fit": null,
            "grid_auto_columns": null,
            "margin": null,
            "display": null,
            "left": null
          }
        },
        "aa4d480a5ea64f1b9664c56ec5a3ae4d": {
          "model_module": "@jupyter-widgets/controls",
          "model_name": "HBoxModel",
          "state": {
            "_view_name": "HBoxView",
            "_dom_classes": [],
            "_model_name": "HBoxModel",
            "_view_module": "@jupyter-widgets/controls",
            "_model_module_version": "1.5.0",
            "_view_count": null,
            "_view_module_version": "1.5.0",
            "box_style": "",
            "layout": "IPY_MODEL_41da51cde5e44e2f8346e30204e8bf2e",
            "_model_module": "@jupyter-widgets/controls",
            "children": [
              "IPY_MODEL_67ae1a2e411040d1a24d13a440873f9a",
              "IPY_MODEL_a40ce916f662489194a9692c77db778c"
            ]
          }
        },
        "41da51cde5e44e2f8346e30204e8bf2e": {
          "model_module": "@jupyter-widgets/base",
          "model_name": "LayoutModel",
          "state": {
            "_view_name": "LayoutView",
            "grid_template_rows": null,
            "right": null,
            "justify_content": null,
            "_view_module": "@jupyter-widgets/base",
            "overflow": null,
            "_model_module_version": "1.2.0",
            "_view_count": null,
            "flex_flow": null,
            "width": null,
            "min_width": null,
            "border": null,
            "align_items": null,
            "bottom": null,
            "_model_module": "@jupyter-widgets/base",
            "top": null,
            "grid_column": null,
            "overflow_y": null,
            "overflow_x": null,
            "grid_auto_flow": null,
            "grid_area": null,
            "grid_template_columns": null,
            "flex": null,
            "_model_name": "LayoutModel",
            "justify_items": null,
            "grid_row": null,
            "max_height": null,
            "align_content": null,
            "visibility": null,
            "align_self": null,
            "height": null,
            "min_height": null,
            "padding": null,
            "grid_auto_rows": null,
            "grid_gap": null,
            "max_width": null,
            "order": null,
            "_view_module_version": "1.2.0",
            "grid_template_areas": null,
            "object_position": null,
            "object_fit": null,
            "grid_auto_columns": null,
            "margin": null,
            "display": null,
            "left": null
          }
        },
        "67ae1a2e411040d1a24d13a440873f9a": {
          "model_module": "@jupyter-widgets/controls",
          "model_name": "FloatProgressModel",
          "state": {
            "_view_name": "ProgressView",
            "style": "IPY_MODEL_0aa4ce278482404ab91c4665ef4a964b",
            "_dom_classes": [],
            "description": "100%",
            "_model_name": "FloatProgressModel",
            "bar_style": "success",
            "max": 600,
            "_view_module": "@jupyter-widgets/controls",
            "_model_module_version": "1.5.0",
            "value": 600,
            "_view_count": null,
            "_view_module_version": "1.5.0",
            "orientation": "horizontal",
            "min": 0,
            "description_tooltip": null,
            "_model_module": "@jupyter-widgets/controls",
            "layout": "IPY_MODEL_efb95aa8e42d425ea3d167b1c1953e36"
          }
        },
        "a40ce916f662489194a9692c77db778c": {
          "model_module": "@jupyter-widgets/controls",
          "model_name": "HTMLModel",
          "state": {
            "_view_name": "HTMLView",
            "style": "IPY_MODEL_bd612d52f4dc4dbd9bbc7510abe28c25",
            "_dom_classes": [],
            "description": "",
            "_model_name": "HTMLModel",
            "placeholder": "​",
            "_view_module": "@jupyter-widgets/controls",
            "_model_module_version": "1.5.0",
            "value": " 600/600 [1:07:14&lt;00:00,  6.72s/it]",
            "_view_count": null,
            "_view_module_version": "1.5.0",
            "description_tooltip": null,
            "_model_module": "@jupyter-widgets/controls",
            "layout": "IPY_MODEL_a658226402a541439cc934624721b6a4"
          }
        },
        "0aa4ce278482404ab91c4665ef4a964b": {
          "model_module": "@jupyter-widgets/controls",
          "model_name": "ProgressStyleModel",
          "state": {
            "_view_name": "StyleView",
            "_model_name": "ProgressStyleModel",
            "description_width": "initial",
            "_view_module": "@jupyter-widgets/base",
            "_model_module_version": "1.5.0",
            "_view_count": null,
            "_view_module_version": "1.2.0",
            "bar_color": null,
            "_model_module": "@jupyter-widgets/controls"
          }
        },
        "efb95aa8e42d425ea3d167b1c1953e36": {
          "model_module": "@jupyter-widgets/base",
          "model_name": "LayoutModel",
          "state": {
            "_view_name": "LayoutView",
            "grid_template_rows": null,
            "right": null,
            "justify_content": null,
            "_view_module": "@jupyter-widgets/base",
            "overflow": null,
            "_model_module_version": "1.2.0",
            "_view_count": null,
            "flex_flow": null,
            "width": null,
            "min_width": null,
            "border": null,
            "align_items": null,
            "bottom": null,
            "_model_module": "@jupyter-widgets/base",
            "top": null,
            "grid_column": null,
            "overflow_y": null,
            "overflow_x": null,
            "grid_auto_flow": null,
            "grid_area": null,
            "grid_template_columns": null,
            "flex": null,
            "_model_name": "LayoutModel",
            "justify_items": null,
            "grid_row": null,
            "max_height": null,
            "align_content": null,
            "visibility": null,
            "align_self": null,
            "height": null,
            "min_height": null,
            "padding": null,
            "grid_auto_rows": null,
            "grid_gap": null,
            "max_width": null,
            "order": null,
            "_view_module_version": "1.2.0",
            "grid_template_areas": null,
            "object_position": null,
            "object_fit": null,
            "grid_auto_columns": null,
            "margin": null,
            "display": null,
            "left": null
          }
        },
        "bd612d52f4dc4dbd9bbc7510abe28c25": {
          "model_module": "@jupyter-widgets/controls",
          "model_name": "DescriptionStyleModel",
          "state": {
            "_view_name": "StyleView",
            "_model_name": "DescriptionStyleModel",
            "description_width": "",
            "_view_module": "@jupyter-widgets/base",
            "_model_module_version": "1.5.0",
            "_view_count": null,
            "_view_module_version": "1.2.0",
            "_model_module": "@jupyter-widgets/controls"
          }
        },
        "a658226402a541439cc934624721b6a4": {
          "model_module": "@jupyter-widgets/base",
          "model_name": "LayoutModel",
          "state": {
            "_view_name": "LayoutView",
            "grid_template_rows": null,
            "right": null,
            "justify_content": null,
            "_view_module": "@jupyter-widgets/base",
            "overflow": null,
            "_model_module_version": "1.2.0",
            "_view_count": null,
            "flex_flow": null,
            "width": null,
            "min_width": null,
            "border": null,
            "align_items": null,
            "bottom": null,
            "_model_module": "@jupyter-widgets/base",
            "top": null,
            "grid_column": null,
            "overflow_y": null,
            "overflow_x": null,
            "grid_auto_flow": null,
            "grid_area": null,
            "grid_template_columns": null,
            "flex": null,
            "_model_name": "LayoutModel",
            "justify_items": null,
            "grid_row": null,
            "max_height": null,
            "align_content": null,
            "visibility": null,
            "align_self": null,
            "height": null,
            "min_height": null,
            "padding": null,
            "grid_auto_rows": null,
            "grid_gap": null,
            "max_width": null,
            "order": null,
            "_view_module_version": "1.2.0",
            "grid_template_areas": null,
            "object_position": null,
            "object_fit": null,
            "grid_auto_columns": null,
            "margin": null,
            "display": null,
            "left": null
          }
        },
        "c392adccd1d94f62b4ce028e560c91df": {
          "model_module": "@jupyter-widgets/controls",
          "model_name": "HBoxModel",
          "state": {
            "_view_name": "HBoxView",
            "_dom_classes": [],
            "_model_name": "HBoxModel",
            "_view_module": "@jupyter-widgets/controls",
            "_model_module_version": "1.5.0",
            "_view_count": null,
            "_view_module_version": "1.5.0",
            "box_style": "",
            "layout": "IPY_MODEL_b1e3977481684e02981f89b86b7fa84d",
            "_model_module": "@jupyter-widgets/controls",
            "children": [
              "IPY_MODEL_39734db92c06478f8cdbd389fc59cf0d",
              "IPY_MODEL_99652d7c635c415eb8e9083b32f58bfc"
            ]
          }
        },
        "b1e3977481684e02981f89b86b7fa84d": {
          "model_module": "@jupyter-widgets/base",
          "model_name": "LayoutModel",
          "state": {
            "_view_name": "LayoutView",
            "grid_template_rows": null,
            "right": null,
            "justify_content": null,
            "_view_module": "@jupyter-widgets/base",
            "overflow": null,
            "_model_module_version": "1.2.0",
            "_view_count": null,
            "flex_flow": null,
            "width": null,
            "min_width": null,
            "border": null,
            "align_items": null,
            "bottom": null,
            "_model_module": "@jupyter-widgets/base",
            "top": null,
            "grid_column": null,
            "overflow_y": null,
            "overflow_x": null,
            "grid_auto_flow": null,
            "grid_area": null,
            "grid_template_columns": null,
            "flex": null,
            "_model_name": "LayoutModel",
            "justify_items": null,
            "grid_row": null,
            "max_height": null,
            "align_content": null,
            "visibility": null,
            "align_self": null,
            "height": null,
            "min_height": null,
            "padding": null,
            "grid_auto_rows": null,
            "grid_gap": null,
            "max_width": null,
            "order": null,
            "_view_module_version": "1.2.0",
            "grid_template_areas": null,
            "object_position": null,
            "object_fit": null,
            "grid_auto_columns": null,
            "margin": null,
            "display": null,
            "left": null
          }
        },
        "39734db92c06478f8cdbd389fc59cf0d": {
          "model_module": "@jupyter-widgets/controls",
          "model_name": "FloatProgressModel",
          "state": {
            "_view_name": "ProgressView",
            "style": "IPY_MODEL_cd154405c8a04d3ea89c8eed29981a2a",
            "_dom_classes": [],
            "description": "100%",
            "_model_name": "FloatProgressModel",
            "bar_style": "success",
            "max": 100,
            "_view_module": "@jupyter-widgets/controls",
            "_model_module_version": "1.5.0",
            "value": 100,
            "_view_count": null,
            "_view_module_version": "1.5.0",
            "orientation": "horizontal",
            "min": 0,
            "description_tooltip": null,
            "_model_module": "@jupyter-widgets/controls",
            "layout": "IPY_MODEL_3ef0a57205404810b0fd3ad5bf27750e"
          }
        },
        "99652d7c635c415eb8e9083b32f58bfc": {
          "model_module": "@jupyter-widgets/controls",
          "model_name": "HTMLModel",
          "state": {
            "_view_name": "HTMLView",
            "style": "IPY_MODEL_270f9464d0974729a505ce842a5a5f89",
            "_dom_classes": [],
            "description": "",
            "_model_name": "HTMLModel",
            "placeholder": "​",
            "_view_module": "@jupyter-widgets/controls",
            "_model_module_version": "1.5.0",
            "value": " 100/100 [04:18&lt;00:00,  2.58s/it]",
            "_view_count": null,
            "_view_module_version": "1.5.0",
            "description_tooltip": null,
            "_model_module": "@jupyter-widgets/controls",
            "layout": "IPY_MODEL_091d433425a740759337b797893b16ef"
          }
        },
        "cd154405c8a04d3ea89c8eed29981a2a": {
          "model_module": "@jupyter-widgets/controls",
          "model_name": "ProgressStyleModel",
          "state": {
            "_view_name": "StyleView",
            "_model_name": "ProgressStyleModel",
            "description_width": "initial",
            "_view_module": "@jupyter-widgets/base",
            "_model_module_version": "1.5.0",
            "_view_count": null,
            "_view_module_version": "1.2.0",
            "bar_color": null,
            "_model_module": "@jupyter-widgets/controls"
          }
        },
        "3ef0a57205404810b0fd3ad5bf27750e": {
          "model_module": "@jupyter-widgets/base",
          "model_name": "LayoutModel",
          "state": {
            "_view_name": "LayoutView",
            "grid_template_rows": null,
            "right": null,
            "justify_content": null,
            "_view_module": "@jupyter-widgets/base",
            "overflow": null,
            "_model_module_version": "1.2.0",
            "_view_count": null,
            "flex_flow": null,
            "width": null,
            "min_width": null,
            "border": null,
            "align_items": null,
            "bottom": null,
            "_model_module": "@jupyter-widgets/base",
            "top": null,
            "grid_column": null,
            "overflow_y": null,
            "overflow_x": null,
            "grid_auto_flow": null,
            "grid_area": null,
            "grid_template_columns": null,
            "flex": null,
            "_model_name": "LayoutModel",
            "justify_items": null,
            "grid_row": null,
            "max_height": null,
            "align_content": null,
            "visibility": null,
            "align_self": null,
            "height": null,
            "min_height": null,
            "padding": null,
            "grid_auto_rows": null,
            "grid_gap": null,
            "max_width": null,
            "order": null,
            "_view_module_version": "1.2.0",
            "grid_template_areas": null,
            "object_position": null,
            "object_fit": null,
            "grid_auto_columns": null,
            "margin": null,
            "display": null,
            "left": null
          }
        },
        "270f9464d0974729a505ce842a5a5f89": {
          "model_module": "@jupyter-widgets/controls",
          "model_name": "DescriptionStyleModel",
          "state": {
            "_view_name": "StyleView",
            "_model_name": "DescriptionStyleModel",
            "description_width": "",
            "_view_module": "@jupyter-widgets/base",
            "_model_module_version": "1.5.0",
            "_view_count": null,
            "_view_module_version": "1.2.0",
            "_model_module": "@jupyter-widgets/controls"
          }
        },
        "091d433425a740759337b797893b16ef": {
          "model_module": "@jupyter-widgets/base",
          "model_name": "LayoutModel",
          "state": {
            "_view_name": "LayoutView",
            "grid_template_rows": null,
            "right": null,
            "justify_content": null,
            "_view_module": "@jupyter-widgets/base",
            "overflow": null,
            "_model_module_version": "1.2.0",
            "_view_count": null,
            "flex_flow": null,
            "width": null,
            "min_width": null,
            "border": null,
            "align_items": null,
            "bottom": null,
            "_model_module": "@jupyter-widgets/base",
            "top": null,
            "grid_column": null,
            "overflow_y": null,
            "overflow_x": null,
            "grid_auto_flow": null,
            "grid_area": null,
            "grid_template_columns": null,
            "flex": null,
            "_model_name": "LayoutModel",
            "justify_items": null,
            "grid_row": null,
            "max_height": null,
            "align_content": null,
            "visibility": null,
            "align_self": null,
            "height": null,
            "min_height": null,
            "padding": null,
            "grid_auto_rows": null,
            "grid_gap": null,
            "max_width": null,
            "order": null,
            "_view_module_version": "1.2.0",
            "grid_template_areas": null,
            "object_position": null,
            "object_fit": null,
            "grid_auto_columns": null,
            "margin": null,
            "display": null,
            "left": null
          }
        },
        "5825a167881f499b93f844a1eb6c7633": {
          "model_module": "@jupyter-widgets/controls",
          "model_name": "HBoxModel",
          "state": {
            "_view_name": "HBoxView",
            "_dom_classes": [],
            "_model_name": "HBoxModel",
            "_view_module": "@jupyter-widgets/controls",
            "_model_module_version": "1.5.0",
            "_view_count": null,
            "_view_module_version": "1.5.0",
            "box_style": "",
            "layout": "IPY_MODEL_cdd7669ed4ef42728c97d5c23f7a1257",
            "_model_module": "@jupyter-widgets/controls",
            "children": [
              "IPY_MODEL_755a2abd3b314a27b74931b9d222bb31",
              "IPY_MODEL_1d60bb2fadc340a79fdff7eb9de9cd92"
            ]
          }
        },
        "cdd7669ed4ef42728c97d5c23f7a1257": {
          "model_module": "@jupyter-widgets/base",
          "model_name": "LayoutModel",
          "state": {
            "_view_name": "LayoutView",
            "grid_template_rows": null,
            "right": null,
            "justify_content": null,
            "_view_module": "@jupyter-widgets/base",
            "overflow": null,
            "_model_module_version": "1.2.0",
            "_view_count": null,
            "flex_flow": null,
            "width": null,
            "min_width": null,
            "border": null,
            "align_items": null,
            "bottom": null,
            "_model_module": "@jupyter-widgets/base",
            "top": null,
            "grid_column": null,
            "overflow_y": null,
            "overflow_x": null,
            "grid_auto_flow": null,
            "grid_area": null,
            "grid_template_columns": null,
            "flex": null,
            "_model_name": "LayoutModel",
            "justify_items": null,
            "grid_row": null,
            "max_height": null,
            "align_content": null,
            "visibility": null,
            "align_self": null,
            "height": null,
            "min_height": null,
            "padding": null,
            "grid_auto_rows": null,
            "grid_gap": null,
            "max_width": null,
            "order": null,
            "_view_module_version": "1.2.0",
            "grid_template_areas": null,
            "object_position": null,
            "object_fit": null,
            "grid_auto_columns": null,
            "margin": null,
            "display": null,
            "left": null
          }
        },
        "755a2abd3b314a27b74931b9d222bb31": {
          "model_module": "@jupyter-widgets/controls",
          "model_name": "FloatProgressModel",
          "state": {
            "_view_name": "ProgressView",
            "style": "IPY_MODEL_d87b1e428e25452caa9378bbdab43f56",
            "_dom_classes": [],
            "description": "100%",
            "_model_name": "FloatProgressModel",
            "bar_style": "success",
            "max": 600,
            "_view_module": "@jupyter-widgets/controls",
            "_model_module_version": "1.5.0",
            "value": 600,
            "_view_count": null,
            "_view_module_version": "1.5.0",
            "orientation": "horizontal",
            "min": 0,
            "description_tooltip": null,
            "_model_module": "@jupyter-widgets/controls",
            "layout": "IPY_MODEL_a87481c3701c42b3bbefbc6e9cb264ad"
          }
        },
        "1d60bb2fadc340a79fdff7eb9de9cd92": {
          "model_module": "@jupyter-widgets/controls",
          "model_name": "HTMLModel",
          "state": {
            "_view_name": "HTMLView",
            "style": "IPY_MODEL_bd83e8d364f241c390574970da7aa57c",
            "_dom_classes": [],
            "description": "",
            "_model_name": "HTMLModel",
            "placeholder": "​",
            "_view_module": "@jupyter-widgets/controls",
            "_model_module_version": "1.5.0",
            "value": " 600/600 [00:05&lt;00:00, 117.57it/s]",
            "_view_count": null,
            "_view_module_version": "1.5.0",
            "description_tooltip": null,
            "_model_module": "@jupyter-widgets/controls",
            "layout": "IPY_MODEL_2be789f80d12409b9f0ffa8f4e903e42"
          }
        },
        "d87b1e428e25452caa9378bbdab43f56": {
          "model_module": "@jupyter-widgets/controls",
          "model_name": "ProgressStyleModel",
          "state": {
            "_view_name": "StyleView",
            "_model_name": "ProgressStyleModel",
            "description_width": "initial",
            "_view_module": "@jupyter-widgets/base",
            "_model_module_version": "1.5.0",
            "_view_count": null,
            "_view_module_version": "1.2.0",
            "bar_color": null,
            "_model_module": "@jupyter-widgets/controls"
          }
        },
        "a87481c3701c42b3bbefbc6e9cb264ad": {
          "model_module": "@jupyter-widgets/base",
          "model_name": "LayoutModel",
          "state": {
            "_view_name": "LayoutView",
            "grid_template_rows": null,
            "right": null,
            "justify_content": null,
            "_view_module": "@jupyter-widgets/base",
            "overflow": null,
            "_model_module_version": "1.2.0",
            "_view_count": null,
            "flex_flow": null,
            "width": null,
            "min_width": null,
            "border": null,
            "align_items": null,
            "bottom": null,
            "_model_module": "@jupyter-widgets/base",
            "top": null,
            "grid_column": null,
            "overflow_y": null,
            "overflow_x": null,
            "grid_auto_flow": null,
            "grid_area": null,
            "grid_template_columns": null,
            "flex": null,
            "_model_name": "LayoutModel",
            "justify_items": null,
            "grid_row": null,
            "max_height": null,
            "align_content": null,
            "visibility": null,
            "align_self": null,
            "height": null,
            "min_height": null,
            "padding": null,
            "grid_auto_rows": null,
            "grid_gap": null,
            "max_width": null,
            "order": null,
            "_view_module_version": "1.2.0",
            "grid_template_areas": null,
            "object_position": null,
            "object_fit": null,
            "grid_auto_columns": null,
            "margin": null,
            "display": null,
            "left": null
          }
        },
        "bd83e8d364f241c390574970da7aa57c": {
          "model_module": "@jupyter-widgets/controls",
          "model_name": "DescriptionStyleModel",
          "state": {
            "_view_name": "StyleView",
            "_model_name": "DescriptionStyleModel",
            "description_width": "",
            "_view_module": "@jupyter-widgets/base",
            "_model_module_version": "1.5.0",
            "_view_count": null,
            "_view_module_version": "1.2.0",
            "_model_module": "@jupyter-widgets/controls"
          }
        },
        "2be789f80d12409b9f0ffa8f4e903e42": {
          "model_module": "@jupyter-widgets/base",
          "model_name": "LayoutModel",
          "state": {
            "_view_name": "LayoutView",
            "grid_template_rows": null,
            "right": null,
            "justify_content": null,
            "_view_module": "@jupyter-widgets/base",
            "overflow": null,
            "_model_module_version": "1.2.0",
            "_view_count": null,
            "flex_flow": null,
            "width": null,
            "min_width": null,
            "border": null,
            "align_items": null,
            "bottom": null,
            "_model_module": "@jupyter-widgets/base",
            "top": null,
            "grid_column": null,
            "overflow_y": null,
            "overflow_x": null,
            "grid_auto_flow": null,
            "grid_area": null,
            "grid_template_columns": null,
            "flex": null,
            "_model_name": "LayoutModel",
            "justify_items": null,
            "grid_row": null,
            "max_height": null,
            "align_content": null,
            "visibility": null,
            "align_self": null,
            "height": null,
            "min_height": null,
            "padding": null,
            "grid_auto_rows": null,
            "grid_gap": null,
            "max_width": null,
            "order": null,
            "_view_module_version": "1.2.0",
            "grid_template_areas": null,
            "object_position": null,
            "object_fit": null,
            "grid_auto_columns": null,
            "margin": null,
            "display": null,
            "left": null
          }
        },
        "c2a9d601c71848a59bcdd8a2ebec89e3": {
          "model_module": "@jupyter-widgets/controls",
          "model_name": "HBoxModel",
          "state": {
            "_view_name": "HBoxView",
            "_dom_classes": [],
            "_model_name": "HBoxModel",
            "_view_module": "@jupyter-widgets/controls",
            "_model_module_version": "1.5.0",
            "_view_count": null,
            "_view_module_version": "1.5.0",
            "box_style": "",
            "layout": "IPY_MODEL_69dc79003be74415a0008ae902e6977c",
            "_model_module": "@jupyter-widgets/controls",
            "children": [
              "IPY_MODEL_aff8e1366210465983a34f151018acb0",
              "IPY_MODEL_1a907ec8c1a4460f8d1a8a8a50074477"
            ]
          }
        },
        "69dc79003be74415a0008ae902e6977c": {
          "model_module": "@jupyter-widgets/base",
          "model_name": "LayoutModel",
          "state": {
            "_view_name": "LayoutView",
            "grid_template_rows": null,
            "right": null,
            "justify_content": null,
            "_view_module": "@jupyter-widgets/base",
            "overflow": null,
            "_model_module_version": "1.2.0",
            "_view_count": null,
            "flex_flow": null,
            "width": null,
            "min_width": null,
            "border": null,
            "align_items": null,
            "bottom": null,
            "_model_module": "@jupyter-widgets/base",
            "top": null,
            "grid_column": null,
            "overflow_y": null,
            "overflow_x": null,
            "grid_auto_flow": null,
            "grid_area": null,
            "grid_template_columns": null,
            "flex": null,
            "_model_name": "LayoutModel",
            "justify_items": null,
            "grid_row": null,
            "max_height": null,
            "align_content": null,
            "visibility": null,
            "align_self": null,
            "height": null,
            "min_height": null,
            "padding": null,
            "grid_auto_rows": null,
            "grid_gap": null,
            "max_width": null,
            "order": null,
            "_view_module_version": "1.2.0",
            "grid_template_areas": null,
            "object_position": null,
            "object_fit": null,
            "grid_auto_columns": null,
            "margin": null,
            "display": null,
            "left": null
          }
        },
        "aff8e1366210465983a34f151018acb0": {
          "model_module": "@jupyter-widgets/controls",
          "model_name": "FloatProgressModel",
          "state": {
            "_view_name": "ProgressView",
            "style": "IPY_MODEL_5e41304010cd44bc90a7919ae64c4c34",
            "_dom_classes": [],
            "description": "100%",
            "_model_name": "FloatProgressModel",
            "bar_style": "success",
            "max": 100,
            "_view_module": "@jupyter-widgets/controls",
            "_model_module_version": "1.5.0",
            "value": 100,
            "_view_count": null,
            "_view_module_version": "1.5.0",
            "orientation": "horizontal",
            "min": 0,
            "description_tooltip": null,
            "_model_module": "@jupyter-widgets/controls",
            "layout": "IPY_MODEL_ada2279e912d42109cfdb55f98ff3631"
          }
        },
        "1a907ec8c1a4460f8d1a8a8a50074477": {
          "model_module": "@jupyter-widgets/controls",
          "model_name": "HTMLModel",
          "state": {
            "_view_name": "HTMLView",
            "style": "IPY_MODEL_e642d5dd98aa4746addb9806b8846c70",
            "_dom_classes": [],
            "description": "",
            "_model_name": "HTMLModel",
            "placeholder": "​",
            "_view_module": "@jupyter-widgets/controls",
            "_model_module_version": "1.5.0",
            "value": " 100/100 [06:20&lt;00:00,  3.81s/it]",
            "_view_count": null,
            "_view_module_version": "1.5.0",
            "description_tooltip": null,
            "_model_module": "@jupyter-widgets/controls",
            "layout": "IPY_MODEL_4324262139e3411fab9498e2fb9d3008"
          }
        },
        "5e41304010cd44bc90a7919ae64c4c34": {
          "model_module": "@jupyter-widgets/controls",
          "model_name": "ProgressStyleModel",
          "state": {
            "_view_name": "StyleView",
            "_model_name": "ProgressStyleModel",
            "description_width": "initial",
            "_view_module": "@jupyter-widgets/base",
            "_model_module_version": "1.5.0",
            "_view_count": null,
            "_view_module_version": "1.2.0",
            "bar_color": null,
            "_model_module": "@jupyter-widgets/controls"
          }
        },
        "ada2279e912d42109cfdb55f98ff3631": {
          "model_module": "@jupyter-widgets/base",
          "model_name": "LayoutModel",
          "state": {
            "_view_name": "LayoutView",
            "grid_template_rows": null,
            "right": null,
            "justify_content": null,
            "_view_module": "@jupyter-widgets/base",
            "overflow": null,
            "_model_module_version": "1.2.0",
            "_view_count": null,
            "flex_flow": null,
            "width": null,
            "min_width": null,
            "border": null,
            "align_items": null,
            "bottom": null,
            "_model_module": "@jupyter-widgets/base",
            "top": null,
            "grid_column": null,
            "overflow_y": null,
            "overflow_x": null,
            "grid_auto_flow": null,
            "grid_area": null,
            "grid_template_columns": null,
            "flex": null,
            "_model_name": "LayoutModel",
            "justify_items": null,
            "grid_row": null,
            "max_height": null,
            "align_content": null,
            "visibility": null,
            "align_self": null,
            "height": null,
            "min_height": null,
            "padding": null,
            "grid_auto_rows": null,
            "grid_gap": null,
            "max_width": null,
            "order": null,
            "_view_module_version": "1.2.0",
            "grid_template_areas": null,
            "object_position": null,
            "object_fit": null,
            "grid_auto_columns": null,
            "margin": null,
            "display": null,
            "left": null
          }
        },
        "e642d5dd98aa4746addb9806b8846c70": {
          "model_module": "@jupyter-widgets/controls",
          "model_name": "DescriptionStyleModel",
          "state": {
            "_view_name": "StyleView",
            "_model_name": "DescriptionStyleModel",
            "description_width": "",
            "_view_module": "@jupyter-widgets/base",
            "_model_module_version": "1.5.0",
            "_view_count": null,
            "_view_module_version": "1.2.0",
            "_model_module": "@jupyter-widgets/controls"
          }
        },
        "4324262139e3411fab9498e2fb9d3008": {
          "model_module": "@jupyter-widgets/base",
          "model_name": "LayoutModel",
          "state": {
            "_view_name": "LayoutView",
            "grid_template_rows": null,
            "right": null,
            "justify_content": null,
            "_view_module": "@jupyter-widgets/base",
            "overflow": null,
            "_model_module_version": "1.2.0",
            "_view_count": null,
            "flex_flow": null,
            "width": null,
            "min_width": null,
            "border": null,
            "align_items": null,
            "bottom": null,
            "_model_module": "@jupyter-widgets/base",
            "top": null,
            "grid_column": null,
            "overflow_y": null,
            "overflow_x": null,
            "grid_auto_flow": null,
            "grid_area": null,
            "grid_template_columns": null,
            "flex": null,
            "_model_name": "LayoutModel",
            "justify_items": null,
            "grid_row": null,
            "max_height": null,
            "align_content": null,
            "visibility": null,
            "align_self": null,
            "height": null,
            "min_height": null,
            "padding": null,
            "grid_auto_rows": null,
            "grid_gap": null,
            "max_width": null,
            "order": null,
            "_view_module_version": "1.2.0",
            "grid_template_areas": null,
            "object_position": null,
            "object_fit": null,
            "grid_auto_columns": null,
            "margin": null,
            "display": null,
            "left": null
          }
        }
      }
    }
  },
  "cells": [
    {
      "cell_type": "markdown",
      "metadata": {
        "id": "view-in-github",
        "colab_type": "text"
      },
      "source": [
        "<a href=\"https://colab.research.google.com/github/abhi01n/Introduction-to-Logistic-Regression-in-PyTorch-MNIST-Dataset-/blob/main/Logistic_Regression.ipynb\" target=\"_parent\"><img src=\"https://colab.research.google.com/assets/colab-badge.svg\" alt=\"Open In Colab\"/></a>"
      ]
    },
    {
      "cell_type": "markdown",
      "metadata": {
        "id": "JOjtXndZRqx1"
      },
      "source": [
        "# Introduction to Logistic Regression in PyTorch"
      ]
    },
    {
      "cell_type": "markdown",
      "metadata": {
        "id": "SCnlFNb3Rx5s"
      },
      "source": [
        "In this notebook, i am going to build a very simple neural network in PyTorch to do handwritten digit classification.\n",
        "First, i'll start with some exploration of the MNIST dataset, explaining how we load and format the data.\n",
        "We'll then jump into motivating and then implementing the logistic regression model, including the forward and backwards pass, loss functions, and optimizers.\n",
        "After training the model, we'll evaluate how we did and visualize what we've learned.\n",
        "Finally, we'll refactor our code in an object-oriented manner, using higher level APIs.\n",
        "\n",
        "Before we get started, some imports for the packages we'll be using:"
      ]
    },
    {
      "cell_type": "code",
      "metadata": {
        "id": "eAj-YwcMR0dM"
      },
      "source": [
        "%matplotlib inline\n",
        "\n",
        "import numpy as np\n",
        "import matplotlib.pyplot as plt\n",
        "import torch\n",
        "from tqdm.notebook import tqdm"
      ],
      "execution_count": null,
      "outputs": []
    },
    {
      "cell_type": "markdown",
      "metadata": {
        "id": "NXJ232_hR-nz"
      },
      "source": [
        "### MNIST Dataset\n"
      ]
    },
    {
      "cell_type": "markdown",
      "metadata": {
        "id": "mnAyBIEMqNl2"
      },
      "source": [
        "The MNIST dataset is very popular machine learning dataset, consisting of 70000 grayscale images of handwritten digits, of dimensions 28x28. We'll be using it as our example dataset for this section of the tutorial, with the goal being to predict which digit is in each image\n",
        "\n",
        "![image.png](data:image/png;base64,iVBORw0KGgoAAAANSUhEUgAAAr8AAAGRCAYAAABsV9s1AAAgAElEQVR4AezdBdg1XVU+8M/u7gIFEzGwFVQMbFFBFBBeAUFaQAQUaWmRkE7plO4QBcQAJKS7u7vE+V+/zf9+3Wxn5kyd53k/PN91zTdz5szsvfZa91rrXmvmvM9pXdd1n/jEJ7r//u//dlj+c3zYDjo4YOCAgQMGDhg4YOCAgQMGDhj4dMAArus/aznNQU6Us///ixwf9gcNHDRw0MBBAwcNHDRw0MBBAwcNnJ41gPT6r5Bf/3v3u9/d/ed//mf3+Mc/vnvCE57QPfaxjy3HPh+2gw4OGDhg4ICBAwYOGDhg4ICBAwZOzxjAbXHcf//3f/9k5xfxvcQlLtF9xmd8RveZn/mZZXM8ZTvttNO6euu7Z+6Y7RgZf+447fUZp2/fzvnp8Llep/W0n9s1tvpqv/+/8pkedulqTBfuH/u+7zvzOd/eW8uRa/run3NubMx8F1ny2T74qPeZt74ux/luzT5j2a8ZZ8m99dzHMf8SmefeU6+rxd7YWMFArql1lXP1vr2+/m7fx61skWXOelsZ2zHr7z/rsz7rU3zFd1vMWc+x9LiW2/HScdr76nGn6rW+Z2y8XNdes8/P7RoiQ7tvZWi/3/W5vT+fc18+t/t8b19/F5zV5z4djuv1Oq7X2X43tt5c+zM/8zPdaTq/yO9FL3rRk0o0cC6au68nnnvvlOuNP+W6vmtq2daM0zf26e1crYvTm+z7lvc4sXGcc+9br4fxP7VRcKrpYyvs1bFlqzHX6KqWZ804h3un4XepzWs7tcenou4j4z5kC/k2duap90Nzumbou8P5/8HvSfL7ghe8oPvjP/7jwqYPyvsfBR3ActDFAQMHDBwwcMDAAQMHDBww8OmDgXOe85yffO3h+c9/fnfJS16y++zP/uyT7eSphq6rEcdpR9t/zud8zskxp46367ol5NxjqPZRVCqryL9r3tPj91lbrTPHtY0cRz+nxzXuQ+ZgYx9jj40Zu9TX1Das7Vhfs/Vx5Aguss/5vvlaObeStR63b97DueNNSDARfGQfnLT747JVLYeclM/7lMcc8mly6j7nmjN27U9b+aj514wbe4ztt5R1qr7IE0zXezb1eUimVhdjn8dkcZ95xvTiu7ExPl2+a3WYddV2yXG+G9ufJL86v975jVGXKvSLvuiLui/5ki/pvuIrvqL7mq/5mu6rvuqruq/8yq/svvALv7CMXQtD0PrzVseUlLHMIdhFpq/+6q/uvu7rvq778i//8o6sue649/Rdy71PeeiEPtglNqIXNqOrfdkla2rXuRRrGW/OvtVzK0s71lHK1s59nJ+/4Au+oPviL/7i4idf+7Vf28HH13/91xd//rIv+7JP8ZtWp1vKvcs+fXMtuadvnCnnjnKuKfIc9TWf//mffzK2ivVwIqYkrtg757vgZh8+NWQH5+UesU7Mt4dnssA3+T/v8z6vkIs1uhMzI0Pip/GTB7/0S7/0U3wm166Zc8m95s3ctcwZK9/t06czV70Xb+ocHdzYsxW7uSb8pL53y+MWm+bM/DAcXMM0mdhVzozetpAlY7GP8eM/5o+POWcjD5zZhua2pnZdQ9eeyufrNURHdM+va72wl/O71vKzP/uzn+z8riG/US5jfdu3fVv3vd/7vd3Zzna27id+4ie6H/uxHyvH3/zN31zAG6F3Cbb2+8zzuZ/7uSXYneUsZzkp04//+I8XGc94xjMWJdVKXTtv3/2RxXfRlX2CZN89+zhHDnNylDOd6UzdD/7gD3Z0wUY/+qM/2n3f931fsdE+5SJDrY9WJ9FPrsvnfegjY5or8+Q4Mtb7HOe+o9i38uxrzqzf+I6/6Zu+qfv2b//27vu///tP4gNOznrWs5bzgovr9iVPxs36I1/f3jXZIn/u38e+nivHfMZx5Mv5fczfjmku5zL30D7Xtfcv/WzN3/AN31DwABdiiHiSLZ/h5kd+5Ee67/qu7zqSeFuvx5oVbeYnj408Yh955CXxcG3Mo/N6XiSND/GfH/iBH+i++7u/uxBt5123tS3quceOzWutwUg+59xxyGVODanv/M7vPJmTgqGf/Mmf7H7oh36onP/Gb/zGosO1ttqln/p7HAG2yQA35Aqu7dmXDyii6vuWHscO9oo0OTlzBruRIzqit2/5lm85iSn6zBY5jtKurS9Ehq33fAnxZRv+jW/SCZsoDHbNtwn5BVwO/iu/8ivdQx7ykO4Zz3hG9+IXv7h785vf3L3hDW/onvOc53TXvva1C4gEmqNInAHRT/3UT3U3u9nNuuc973nda17zmu4tb3lL99a3vrV79rOf3T360Y/urnrVq3ZefFY5IMq7FLbke8XAFa94xe7P/uzPuqtd7Wontz/90z8tBgNc3Ycp1cqS+XMPsKgUtftvd7vbdV51edvb3ta9/e1v71760pd2T3rSk0oAUtHmnq331qkbAqA///M/3134whcuNmCHdvvzP//z7upXv3r3h3/4hycr/y3kEajOcIYzlCDmaUds8hd/8RfFThe5yEW6X/u1X+sEW5jQOXIP/e07iMChhHy+852vvINPNnLZnzhxoujMNW1wW6sX41mrNdP7gx/84O4pT3lK98IXvrB74xvf2L32ta8t/uyHsf/4j//Ynetc5yrkYUqQWSMbueCFD1360pc+aavYLJjx+SpXuUpJkkjHvu0Ex/wEqfmTP/mTkzaKXHz7Sle6UnfZy162++mf/um9+ZMuB7xc/vKX/1+6iSzZ0x9ZxGo6paO5iSrXu1e8v9vd7tY98YlPLDFevBdbbeJK9o7lgfve976FEGaMNbgYuxeOre+3f/u3u8td7nLdfe5zn+5Vr3pVwfGb3vSmguPnPve53QMf+MDuete7XvdzP/dzJR6sib/Bm7mRFjHkfve7X8mDGkvPetazuhvd6EYlByAvOnqePOostts+9UPOxDSdVrL+/u//fvmx+2/+5m92Zz/72TePLWO2snaNqVve8pbdP/3TP5U8BDewBDfveMc7St6mP77+rd/6rSfJ+9i4S7+jH3He9sM//MPdIx7xiGK7V7/61UWmyCZnkhHPucMd7tD91m/9VskTS+fNfTAItxe/+MW7u9/97sWv6MFcNvwlGyzb/uEf/qFcy3ZkvsxlLtP95V/+ZdmLUXC2RcEAl+STD41p37fBV/wh69pib0zz45swgzv8zd/8TcEHPYgxchWu97d/+7cll8HX0NyryG8WiG2f5zzn6QR8/3YaIRjs/e9/f/n3g1/5ylcWsvWrv/qr3ZnPfOZCwPbxygHAZqEMxQi/+7u/W0guJyLPBz7wge5DH/pQAQ3CJwACmoSZRwdrg0/0QhZJElF4wAMe0D384Q/vHvWoR53cHvawh5VXTX7hF36hJDCBKPJvta9BjzRJfEAjML/uda/rPvKRj3Qf+9jHSqL6l3/5l0J+JY6lOsh8dFDrIevxZEDX5Q/+4A8KObjjHe9Y/h1phUi7PeYxjyn/Ht9tbnObQn4Qd3LZ+sbOHGN795KBzpFqydu87OLfLnzoQx/akeka17hGIQq6n9/zPd/Tfcd3fEfBCBK8dO4+udq1kO0c5zhH99d//dfdXe96144OyCYIC7LIlG6E+4yX/RqZ3CuICSqqZzh90YteVIJKiMvrX//64ss+v+IVryik4pd/+ZcLnsjRN3/fuT4dtOeyJuclaJ0NyQV5iv+wWXSTc/bnP//5S/VvjBTA7fhbfOZLOg4IIN/2b0faIgt70SOZEbBalnp9S2WhW/EOLnXH7n//+5e5Wx963OMeV+SiK1j3o2Z2U/yRY6ksYity/9SnPrUQFon5wx/+8Mntgx/8YGcTa23vec97in/ptoqJ1r0UH0M6y3gwI85d//rXL3Humc98ZvfOd76ze9/73lfiP7k0Qvxbn7e//e27C13oQgUz7ssYS+SjS50oc9/2trftEGx5B1GSnJ/85Cd3Yv7FLnaxUvyLKzaFnU0hJd5EP0PrXHNesSSOysPmRJgQiDvd6U6lQSUXIhhLcTFFtnps8sAvW8jH9BXM2MMU7Lz85S/vbnKTmxRyV98/Zb4p17C7cenekwIkW7NB8Y/PvOtd7zqJbTJFNvFQMwDhpNcpcw1dQ+/0oVHIHhp0/ApniT/Ve+dtCDj9yannPve5u3ve854dv0ee5RNj8teheXO+1mvtB/keP1FowyncIqD24nOwbK+ZZ6yMVx/3jZvxp+z5qPnxTbyA7vl2rSMFilisUy7O1Wuv519Mfg0ioAMLw3Mg3SKOThiA9YczbBwfsdCBFWhMmuA7ZcFzrrFQMjE4Q9385jfvXvaylxXgIr82QfC9731vkc13173udUsS2ZL8SkzAzFh/9Ed/1CEPHMi82egG2brVrW7V/c7v/E4hPXPWOuXakFHXIny6QEjV05/+9OJY9MGhOLhzOrJIENmnjD/nGrbREUEs73WvexWHpX/AZZN6yznyuQZudExUcpypBvEuGVwbBySDbq9OgwJARc8emRt+BdqnPe1pBTsqaMHoCle4QiFggmIKtzj3rvmnfg+3ijVPCP7jP/6jkMwQCvIJcmT+jd/4jRKgYWtNoooPI74CGVKk6xv/tVdJI06e6JgfhskiiUtGdCnhW6Px5thlSC+xlT08XvCCFyyVPFliJ/v4cs7xJ3ZF8MhUE86huZacT1foUpe6VHeLW9yi+FGSUmRJfOFXCDB5gpfsl8yde/iBJE03MCrgZ+5aL+IwWZzzpAchVPRJWHVsyLhT9tYvEYr3dVyLTczVbuTQkfFExWPiLXQwJKvH1Be4wAVKPKP/xNvsySknkUfXDAH2dIVOluKXTtjY63668J52wiNcRC8+IzNivpxzzWtes8TCa13rWiXG2GsgISx8cql9+vRiXWIff+LnngKIa4psJAvx9KRHM8jTH7FFoS8mbe1HiRMwgCh5yoVk6miyEX0hlTa4sdGbGATvdNO3xqXnYnN78V0HXIHy93//92XuFsv5HNvSHb9y71IZYEfh48kMQqf5AC/yYOZr9/Tke0/lYFle9RRKTpM3jKE4VqiPdUB3yQw3+JQnxgi2p7HmglcYFn/y+TrXuU73e7/3e+W1Axhybz3+Wr9HfHEBxFdxWWMkcc5eY0/TAdY9nYwvxdZkWkx+OTvn0Fa/8Y1vXLofOodJnARgPMmSgIyjOgESnUcBqhakVtCS48iDuAmuumMCka6MAA2o5AGYKAlwdLH+6q/+qgBvK/JLFg7q0ZYEBZCCrflrAJNF4PHYECnVtVoLjlZ3Mbrzkh7SieQiMogeeegBsdC1Vy0pGtLh3EoecnAgBdCDHvSgMpfHgZI2RyVDveUcuwl8Hnl5csChyLQEO+5zv0ciirF/+7d/K9g0r0reXLBhPgGNXXTwkD9VNBm8WySYGGsL3ViHACE4GVfyI5/OVHSjOw8r5JKsEU5dGxgPyWvtvuszjCao8RevoPjXXnQc+LC5EQd60MW66U1v2v3rv/5rOUdHyDnf8thYsjbfFvrIOJIuneisIibItlgSvLIZe9WYoSPFgYCMnG2dtKNTeoNFhTV8kCv4IYMtctIlm4kDkaf2yYw5dy+gw4BEdJe73OV/6SZ6iSx0hWDc8IY3LAWoDs1Se1k/7FkXnIRgZ642xjnvGglJI8Dc4kv0sMSXx/QFy+JpXayRITnJXuwjj2uQjXvf+96zu4qRnyzivYaOZAsXCEiIm24mHJjXXsyHGyTY0wHHj3zkI8vxPe5xjxJj4EX+4APstFRH7ouvGw9u+bnX3jwlEOPoQWyBD518nWtrkUvhTLEfEjym9znfWRMMeBKAaL7kJS8pMvAl+vKaiifG8EVn7IVfaAxYR41da1yqHzJnLHoS36985SuXotYTAzaDnb6Nj8G6Zom8trR4Mj/i7BVN5F6RKvbGh8lQ+1SO4Ytc7KfYEvcUXnT30Y9+tMRuZFFHemrBQJboI7qRY/i7xtUNbnCDUvSKxzALu46DY0++kGK6wCPktNpP5mCkvZZc3jKQh80LH/ASP7OPrhRSYp3uvQIrzbwaJ4vJL6JocR6bUAKgULrJa2FioAAY8VEpuK9d3JrP5LFI728JQHlvRpLmQIJ/AiDwBMzIL0IOJFuQX8rl1GQRRARi3ag6SdBRrSfOLoFx7Bp4a/SRezMeuXQbBLiAJEDhZIIfp9OBDsET8DLOkr1gInByHk7gdQfBNYmBDdglzlzva2LjvGDtj7CEeNYgHpMt19lzQoFAV5dz0DsZMm+Og1+OJei6TnDWCVD5+hGCom+NU5OHbTglopbgh2QrEtmGPAmACifnJGvkWPWri0aWrD9rzeehvevMS5eCCX9BFu585zsXgss+iK53wK1ZANGd8e6kggVWFLTe/xXsvJLAd5CioTnnnKcXryFZm/d4xQxdDPqgg+imtlu+Q2R08gRr9gn+58w/dq0x4VnXV1GkOCAPWZIMHZMn2CY7MuHe2H1sjinfiS2eEtANW2X99tlgRtyBYZjm3xoVCKh4t0Q35FfE8mUNDWsPRs0bm9TnnE/Mgd3znve8Be/0iNyt8aPoKnq1V+TDMpwGK/ZkoBOykck5m3PiIj+Yo5Nci1jw31/8xV8seOW/4oumC2KiM2fPZ+RBcQW5sTk2v73v5SNdWSTV+5t+mCyOWlfWOnVPvjRg5CNxHTFBsOVFstjYjB7ILIfDhzyg8EQQ8sNAY5HFuFn7VFna69idj3p8rYC2bvPDK1LjsTVyLt7RIznpUSGeJ5O1TtbKQz6v+2nMKeo1RtiFXlrfjr6So8hFp7q2S2IgXfzSL/1Sef3SE3S4NXfmjwzxrXoPy3AkFrMt8kt/inFxR6Epv0whv/QZncoPGkWKH09c8Smv3Sl4kzuDW9jNxk7iIhL/67/+6+WVFrkSdtbyCffDpfgu9sCKeWMPeuLj8W020RwYetVqMflFfD1G9+gEQAGAMJk4wS4GdJ6hJEskrPx1jebPIrcOMuez4JNuDCN51KgiEXSQFwqKYqIs8qTz6/HAVuSXE1Gsx69+5KDTSg900G5AatOR1eGas+Yp1yYoCFoqIR1FXdUk5jgSHen+5lG25MpppswxdA3i61GORKmjTB/mpwsyqE6tnQxsUW8JLL5zrVc1dAg4kjXFSYfmzvlcx3HYVzLxuCRzZZ7aLpzI9+a1kZGTCTAqX8nb48O8/pC55uytgU3o2DtvXmXgS2STgMhFpuiGTD4LjAKzAO11GYl+zryuNTcCw8YeV0koko1xvWIiwHkcqsKmcx1GAURw1TEnI7n4u+t1i1X6awuCrIN8HrF5v9k6dTUQODap7RTd2NvoyKNb8uyL/EoKOt309s///M8lvpg7OCKDzWe4ITOCLD6F5Flf1rpkTwaFoESJ0Iq9wUswY8+fJUCdKU+eFC7ikXuXkl/yKpq8l872wWX2sUX2zod0Ooeo64xK9mKuYnStPqJD/oRIeBcZbiTiNu7GNvF//u03D3xOso6NMuaUPdsiigpITx4UygiJtfoRl4JM0S/XsAMZ2CSx2JMdG7yQVxdNsa8DKdkjDkvkIju/lGvlRq806fTyX3HEfLZgh50QcK8XWAc/Uiwp+BUGiJS4geCtsZl7FbcIlWLfu9D0glQhbmT0A3EFpu64J5IKctd4t52+2Zm9E9+n2GnoGvJYk6fRsKmRh3DDRs0Zgml7/lXrTTGho66gmyuTHKBrK8dZu1xjXnt4iAx17IufkwHWkEFjeMpMh84r6NL5pa+h9fed5+Ps7TcgGhCKSXqBYb4DN/J3sFsfs5WiHA8jE/Ish6Rx1TfflHOwh0N4NYf/yAl8PDGGThyzDxlhWM7SROkj3pPJL4Awqk1nU8L2iFayMVkEsG+Nlu8ZUieJQtZ2fiOPoKCqUbF5dCXgI3IBJnlq0ORzFNRHfqcYYugaDumRlc4cUoFQAIj5gJhRIk997CV1Dm9caxsaf+55ukHGvcd161vfugSRrN0+W4Ajoen4qSAR1rnz1ddLbsBnXuTevwLCLtbdt5GFHJHPNa4XhPwIDRFTidLxVB3BazozHJnzKIjYIkHFfI4zPxnMDSswa/MZrj3lsCadUIl7bqCLfuAWeeaA3pOCXcHKelsdkcsW7JKF4yM+niqk27BLJ/EZez/WEqwReklHMhQ0JWmdXEETZgQcstq8liNZ8Xl+xnfgBbmTqCRIr1AoMlyfeJE1j+3JFPnpRfLPe+n0bu3WHd/J3rlsrkHcdQZ0WgW8jDk295zvjIsMSFLIC7IQWWKn+jPswD291PMswQ2dIr5sk66zOa0/2DA3/EhOigZkAWbJgPzmnV/FzBQZor/srUFSFG+REfOZO2u3d45efA/TmiPIJcy6VnLUlfFOHqxFN1PkqXVYH8OMH3EhenKMVwuCm9jDPvI5pjd6El8kU09S6nXW4w8dk1kH3pM7eEVErJ0f8S9jKmz9EOnv/u7vChlGPr1qJy6yEeLCl5FmeqIjhaXvJHq5dk6sgRFkR6Gvq4qIpItqzbWtHJsvmziYY8RCrFTkwZuuvR9va2jIKXQyRV9w69rsEUQ6gU26igzm4r/4gQKTTenQe/UwjJAq5sRMa8NDMv9S7NCTrjifYke5TyyEneAl+spn+okegyPXaByxE/0PyZPz9vIYXZiXb1o/fRjfePQPT9YMH+3Gt2BGkcW++BifEsfJ5Tvr0pQg0xCG2/PIeBqJikjzp5Dk08Z1jsw2cpDNOcfmpz965PtyPxt6MkKWdr5dn2Njvu3po0JDzjJH8nYwa902n8UBxRv/QbzNE/07nkx+XQy8ApUK2S+HKZ0yTEQIgZ6Sciw5CAiSJeVQhkdCkpO2+NxqpFYSWTiHqkKAoRCkNwuPE/sMSDlPVsfAa2MoCUEySOe3nmfOsfVIDIDDgQUuQVgyEszoQ/WEENMbfcWxtia/9KNjwFZ+rKWiRVTYhw5CsMzvc2woGQAW0Ou8BXhz9OBaQUCH1Hp1pgLS2MP8tqyfLepzsY9za8gvHXjcp6uusqb7PmyQS+CBB86N0NFDdBO5JW54RgJ1e2pnmqMjyUMAF7AkFkGCM9f6iA5yjiyRA57IKRgoCObayftbqnkJxZqRb91M2B0ayys8utOKOl2uEydOlH8mSdCXqCUu3/vBCH8KKZ+qo1xHNxIugp312uc4+oh+svc9kiepemRML2tiDHu2uqAfHbF0ooMltiFHZGNL1ygQvA84J/n04Yg/Ww+9Gi9+LIaYm59ED7AkHvrFt86jfyaKD4rBYh3bTyW/kYVtFBOStUfVii5rN6e1Gh+ps17ykEHXzrU2JMbnYJz8kqVXkPjmkqQY2ZAIecAPr+UWeocF8sU+Yp/5FHvO+T56E/P4+xj2M1ff3hMSMUFMZwe49VRGEyTXw5GCQffVawUIhu6n145s3vdUUOtaJ+6QEfnR4UcWjREfybj1HsaQHetQ5HvK6v5g0t6Y9eecYxe2E1PID1fRk3vY2TlNCH6vkVDPPSZXrmMnOdsPojxpCtFjB3KQFafw1EnH2n2Ii6IbRuQS19KTp4li+5R5M3+7V9j7oa9CjK7EDjLQhXniz9Zvcw5u5XF4D87gh/x+F8Gu4t6YXNEDMscv+ICxbeahZzLwYXkbSaOHdoMZG+x7ipd3huUossP0VPLLLnK2nASjigD2MY41I+YKEE+OcAqvl2Z+jcwck1F8wXuiI7lKbPBblRS6rS2GPtMjfZFNroRR8pCLvmCUvsyhiDQv/3GOHjw1gCdcpI3ls8ivRELJWuuCqsFNQhiK4vwSKUUBCDBh/YiC6yVaZFgl6pFOqsehhY+dJ4vOlKpJtWM+ikCAycKBkW1gAszISDEhyRRIXo+ytyC/qguBRxDWufKIWCVkfkZjGNWI9dNdEoHvtyS/nE8y8XjIP13D+H6ZnWBDJxw2CTOODUzO048iRXcC8MbsMPQdfdKDhMvu1moeOq/nZZcQCedtuS7XriG/9MBRETQ6UKnCrDlsdJ9jXRf41NWzuZZ8cEU3ZKNDTubRJIcaC3JDunFeYvSDTMGEb8CHeayZTPbZfLYlODpmI5hX8deP1Mfm9B15BQE+jCQiKYKvDpGC1COiek11wkUoJVXJ3toFPOdgDM7hWyJRbHltQSLYJU9kqvchv+JIbGXtWX/wAavRUfSG3AjSugwCeSr+KXL0XVPj37HET29JfMEGmYJrssBNChRPCmqd9s2z65y5YcbrNjqI0Uv25s6jc0TMK19iLzIhCcIL3Swlv3CgOeB1N++ksnPWzCcQSwQCluCSHyFKnjAgKuyBxCUWkNsx/Pnltk7fUh3RDSLh8aw1Ryds49iGOPEzMdl5stvTGxzRkWK2TZC77OJ78xpbbjGW9bO5YiX3GxdpgB9FpK4lfbKpd1jlMvFAJxwBhS/yGVP+9CRRATQmnydcEjof9Yqb+MXu4oX18h9j2jsHp47NgaiwHdIDJ/In/JIj17tHkYyw0XfWZr/LduRWPCEx8rWCrLYDOa1bAQ2jyK97xCN2MaeYTCZFhNhDv3RSyzHnmM6Nw1/EL2sO8aWvxBfrtpHX/PRqQ5Sdi99PIb/0hGiyuX+RRF6CvdjGeMbFD/yoi67IKZa2mzFsdCrPiQ0KC/ey7RzyqxDzaoLXmTRF5Dh+Y904Ei6n6E7hLA6YO/itZUGG2UpMoFP4khs8uSXrHBvRl6LOU2Q8jW/BCn1FZ+QUS/i2fBheCrswZT1eD2x9ZzL5dSOwAaLHHwYNeQMIk0vgqhWbYIMg6ATZ8p6GDhHFaEdT3C6nGVIUWfKDGF0ICmBwypY0VfqMBsQ2MgIV5SHFFOf6rcgvJwQIYAUSXQ6AMZ+5gMm7X9r/9AeYEiRwkWNL8utFde88CqaIimTpMRw9xJERyjhtdBRZgEvFpIvS967MkE2cpwc2VY3qJLIDvYdEWqt5zekcW/g+5wUc3/mcc2vIL/IDsx4x6rB6vGmd9ZodWzMH1fHW2ZO4JQJ4StEQ2YzhO8FrKX49oiPI/rMAACAASURBVJUEzcVXYBZOIlvWbx+b+Z6sPsM73bGrd9WmJgF+jCzopCBI7Mw3vQfqBxt8sg0Srmdbjzt1oHRikN4EQK87wDdM820kR7IWTMewku/oMJtzuovIk5hindZdb8EHXNR6cgxv3iFEzulFUM88S/ZZu3sRFkU7HMEL2SSr2AU+4lOwLehLALrkS+au7yGHrgmfFlvMa7328GDeT3ziE+U9PO9s8l1xCKFJYbWG/MIXu9Cp13QkZus2Nx9BZsypMBD3YEvxDE8Sng6briaym8JB/qAjDQEEeakv0Y3fn3japsClF/qgGxtbIFX04kkJu8GQ71zHbrC7hPzyFeuCe80fY9G3PEBfsSEZdcXy2kC71uRXxYKnU2IiPZFdHvUamjFa38z49jqhcI94I8zuZR9rjf/4HMzQk/PWLvZ5R1Ku0PhA7uQueTN2tjb69Xoen6/nbtdTf+eY7EifVwzgh47MTzb24OviIGzzF8UQzNnrMmtywQmsaarkFas8XWrnG/scWcUz4/BRMT7+S0e2Or74DK/sAt9k1Swhe3xekwkJHOv8sh9cWBc9wmP8gZ7ZjD10SuUG73yPrSXfGVfDiZ7mkl/3emKtQBXbPTFSDMEJmWADqYRpOYv8eZIVXZIjx9bGVmICWfgFTuiJx9xmBNlwEH4hvsh5KVDIlw2e6BLu2TPXwLCCTUForOjL/iT51aHTlgY4F2Uh2QOuACVppsqNE5lAYHXeo2VMG3nwSzvOLjDpcJkDeBBnToSg1UqrBRs7pgxJgKEsDKlMMBNcgdNjU/80CnBShKQIUMiCY7IDLfKrSl77gzfOjdB498u85LBWYAYgyUA3GGFiCLIwJBnIvhX5jRycWoUMMJK1+TgweTibTQL3mS7IkI2+OLaArpswZov2O3iBH+vUHRKszMEOcW7H1s4xFEOIjiRoXhs5oxcyOaa7OM9YEgheI5fki7DRA8LKSYIJY1s7ucjJRro4iKAKVzCTiNiSrqIfupFMdTzb+drPkaPeu0aFbR7kBAYF38gSbNID2TJv5LV3nq7cy78EoykE2NyemijA6IP/8FPFCjKL4NWy1sc6st55FdwQGtgI3lTdApykKXnSHTKRIFmPs+tYcOWnCcBZd60fmAoBpQubZMqOMKVTpPus+7trvvb72oawbA3WqbuiS4nom488tuAp8pHXOUFfzBMz2zmmfk7AllAlVkkg5Nc8wQKs2MiA9CJL4rmkJRnQle6WOJzuTcbeJUtwhbjQKZJkXXRgnXyK/cU1XX++6kkCf4UZOGFTT2D4TRoC5GVHsZqP0vEuWdrv6cX4nrj5IXXIb/RCH+KwpKhzpCAXe6I7+5Df+p3fGgPtnPVn1/lXehRcsAeDfMA7vjq79ThiER/TnKjHcOw6OFPgeKVQvEYIxUVxWCHB/mP+pNAji/vpmX6jhxav9C4H8DFFAdIbzJjL00kdUbkSARZrkMGQXz9YbNcw9pmNEB+veHhtyrzkgx824lMaD4gxzpBXEBF6T7b8/sSrJLDsVQBYQ9h8PzZv33d0CDfWIE7AR9ZHplpvzsev+ZD55VN+xZ/ol83dI+bteu3B3K5RRGrawX49H7sYW1z2hEU3t28NfecUmPKuvCpnkpWO6N16++7JOaTZawUaF+5LTBPDYIFdcC74rTGd++s9m+CA8oBYnJgs7vQ1V+p7+475C/nkKzZgj7pwojP+ouiTv/G/+Ldc7R8/gO22kSeWndZ1XQlmLfnNIgU/ydo/USYpmYwzcR6BxKM13SPdXNWDtrcqN68SWLCgSBEEByiVk/dRLDbz9C28PZf2PmOYk3OGOAGxjgQiyUE4mbk4mmoGoDyaYBTnKRB58JhlLfkFakBVABjbI0jj05NN0M3jGqRddUePAf5a8ptEhpwwtGDPiRQlkhPdACFi7rGwx4PIKfJFf+SwcRrJAHg4d4JQa4ehzxKYokYgUDEaM0Ble3YQ5BRHnJ9eVMCqXJWbwEJWcrgvMk0lv5ELpuiEw/oxlqBdd1jJYmxOzg6wyXnS0RSgBFzOJCBwKHqiF/KpapEMjhndZ+6xPbkEB+MKEMYyf5yVTDafyZYgxOnNH+ePXlzHLyVNCWaXL/meTeFNMNFFkZDGSO+u9cC+98M9wlOIwg19+axoHrvfd63M3sWDy3TDrREe6AJx4jsIgaCscBIDQjzcY26PuXSyJc5d87ff1/KQBamQWARg/oMMwA+78XU29DTAvDDv++BK7PGr5yl6aOXwOdjiVzCpAWHdYgq92JMBfiVS/uMdW10NnRqfNRsUVwirQn8u+aUPcih6/EJfjLNGWOQHujwIk3jvmryD6NG1hJM1wL0nX3Tk3sgvPiFtdN2ng7FzMK8QU4iKKQgbncSHzMEuyBKCrFCEezpzjRizBfk1plyIINKJbiW/iOzRQT4P7V3HPnQqdtMzMi1+iWVjOoJ1ec/rJ3Qcn6EDWzBJTj6kiIFNf96YXsRtBQ5ipuOIDInL9BdCBXtemZLnh9bQd57tNYesTaHAT8nA9nzXesUiemtzjs9kkyuQZA0JuULBZM21v/bN7Vyu4UcIHFKoAWBevgEPdMSv0xyybtxGPMMTFPfWL0/Ys497kqemkF9xVo62TvqnV/9SAlvhDGykWPajWmtrCVvf+vAz8cUrM4pOeQIOyT2F/LpffsWd5MjgRNMHrski7tQYrgvV+jz5fCdn4h9wyL50JybLU7FF31racxo1cjJuKfbTE7+Nf7OXIlHe8VqFJ45yghhgE5utgW28PmK8zDFKfnORAKM7JLBQLOUI9kDoMZfvTKySAnJVBsenFIq1YMGNAggr8AHVHPKbAMyYJ06cKIEeIAUH4PX4FuET8DkYeZAC53VjVVGqIj/GkZQBw32cT0eAY8bpWmNGD2P7mvxyHg5h4xyMoLDQjdVdAG569H2MtJb8RjbvYgExoNAzW3FsW6pmiUKwswEF8kBOgCKPY5vr2TNjT9kjg3AA+ECZ9dsjCwKnoMX5gToJ07tXOoXsxzZ0IymRCeDnkt9gz48jdAxgT8CNPshCPwKYYkgxRW7JJc4p8CiKyKkzIliTC4Y5lUJQIJ0SoKI7wc+7f4qAkAC2MSbdk8mWz76jRwlQscexVeMJAK5jbx3Bqe/AkUHxowgiy9LuKD1FV/yS/hQ0iCtMKTaXkD4FLt3CMHsFQ8Y0vmJVkJO0JTCBD1ZdJyaY37tv7Kbwju7n7tlVooJNBZSEC0P8m11gAKHUDSYTbOuskr0mwLpwS+VILCKLOOrHm4hQ7afworshjulk8Slrp3/4FmvI6xhJVYQjprHdLr24jhySscfq6XIa05M+r4Ig3GKFa8V8CTCy1+O7ji8j5HRkDGTMOb5UXzvlWOGGkCvk+UZea4IbG1vBOn0gduwp5tEJ34GZLcivgkA+QWAQiJDf6Dj7rCmf6SrnskdyYYn9dLQQJLlX55xv5Lp2jyBq7nhNggyJVdZJz9aKPCIDXgMTb/PurLhNJnYjk459OomwJX6Kw0vIr/EUKHlyzFfZXwy0Lrhkf3kBQWnXJS/DXsgvvLD1iRMnTnKIPqzV45BB3KMjccOrFWKq2Eo/0RE+oHjQoGEDG7KLM3itRtxBmjx9sQ4YCyGbQn5xIzjXWIFLOSWvVxiHncgHr3XxVK+lPbYu+vV6qR8SsjMcik27yC+bk0fMFDvpli7kJnkTb1H8iz/BbDt/+5mfKSpgkD7pWCFBd3PjoK41Lifm0Q1MW59NDOTvnupaO26laNME8F3wb12aAHJk/drFSfILgKrjgD9gsucIgpxBBFoVAUMHfBIcA/QZK8D37ilHJrRFIKUMQ3FTlEoOToAcqZgEGi1tStbhFVTTafaIzbH3UwRryR3jBzzfOSdAAJ4EKyFIBmvIr3UKFhKx9QmoMRRDSJ6MA9iqGADzfSoY5EoSCZCMl+Mpe3YDUmMDXMAREPjM2RDwVJTWq9pGNl1nIzdn5IicW1CcMr9r2BEBgwtghxXzWqfxEE6PtHSwcr17bDAEmAi5oopeyOJ+e10drwkYfyixtnLCo6JHgSaBCFRkgUMOQ1dk1SWzThim9xr7xqAnxMJ91kEe8nHqKUWT9cGdwCvAC/p0Qd/WZyMb/0Kk4Jk/+ix5C0QwD+NIFvtGp3AkiHNkQSy4MWerD5+tja4VW3wAJvlH1tx3z5RzigaFggQh0CCq9G6uOWPzUx1bmBSIoyPrlLQlfyRLMPbOng6611XoKBiTWPmStYkDU+RvryGz8XUrPE63JvZmK7aTtBFvT1kE9MRAxafY6Fo2cr0kxPa7bNPK4HPiMZzBqcLe3Cl+6Mh6FfYIF9+mH+9buy7JjB4VpOKPp3LxwSm2iU+QQXJBfo3Lv3WSFRq6vWQlszGH8McPyKDg1BWnS2uBFfo219C9ffrx1EhuEsflBH4EK7pNSJtOM3KsgWNsMooxnhxInNYAN3xKZzj6mCqD6zR2FDjIvLF04elYvumTedc597GfnCFmW5uCCvlFcobuZ3skjV8jq4mf9AuLYgq8ikHy3ZiurUvetw7xCNmUF+RbT3HF8SE5cj66RIZ0JdkKqVRAwpB3pb0aY++pCj6QAir3Gss5MQoJFetgRvOMb1pHfW3mbvdiu9dGcAKvhXiCk3xHv+IN0ks/4o+nuOI+v5YbxDfYpRMkXndf8cu/6Zl++b0Clf2G8CO+hfwqbsRJeoUdGFREKXD7ioB2TflMPmPq0odMI7/sTT9jrz2QlS35jjXYHMsPnuDLt0Nryfz2sGTPvzRBcMT4gyaLYgvhrzuv9f19x+aFHTkF/oJjOjc2G8Imn2AX+Ydv06EYQK82x/yB7XGk4GUn+QUahmAoIJGMMXoVkVchhirRKAx5kBwkKQmK4MghcjSH/JKDgT3WEQgEOUEfgdHtAFYKMK85AV1n2XnOE+U6FsAlTPdbE/K79rUHRmVcFVRIFucSXDkJJ1dp+0U9J2EQgdI1nFnl69Fx5AyY8nnXHhnwuApJSmfQ2DagIRPixHHpyXgSggAroJDHtWTiAGzEXpx/19z5HqiASxElAZiTvbPRg8AiiOSe7DkhJ/a9pJ2kSKY15JdOdUwl2oylQHEeYZC0JY3IYW8dcGTPDmyr6yDg0mWcynqmkl9kQ1Cjb90X49C1Pf3QlWIDll2DbCkCFHgShceTggo5JG330os1uY9j62oFN/G/el1ZG5sKbjrGnoSEdPh+6L52nPaz5CBBeQokiQjCsGiuBJv2nvqza2BAINMhUKyINdZHR/BJJ3zbtTa692jWO4uCm+vcQx/Ir652Ykw915Rj48Oi2ICAwDNMkod/WZtCXOIgd8aEJ4USbMS+EutS8ksONtUNFLcQLbLwUTqRPCUGJAWO2UHSVojrgOhwkhnGyOxxtViXmDjF3uaPvmvyK0mKKYgLbI+R38zDlxAhRJyN6ZSe+OguQhYd13sdPB15ZDzxxnqNTTbFghwQv3AvYsmm/JB+zL+U/BqPTRRmEjKfVCTzRzG5lnXqMV3zSbJriogBYuIS8hvb24t7CkJ5IjlgSCaYFrMUXGIPoiHu6cAhsXPIrzzMV3QSyUDnOpRyIYIFkzqdckfIUfDCbggYP2ZPvgR36fyG/Ob6ofXAu1dyxDvdazYSL6xJcYpTeFRPx+KoOMQO9XjsSRYEi03S3DGOY/Llvewheayvj/wqCOBRTIbPFKf1/EPH8imf9uQbjq1pKvnFq2CC78AuX1C4I5X8Zmr+j67gRjzQuGEn42lcicfyQ2LE0Frq82xvXfSKL9KzjaxklGcQY2PajM82fEVstB56EPvETN8h05F1lPyaHMglY4TXYgJcAyErtbDtMUMLyLohKlIg44SAwpnGXnuIgEBk83hLFw9hdb9xyJTObuZ2Xx/wnCePxzweDamKBExGolzBRtIwTubOmH37zGFM4FMIeN8G+MgmqEtMnFyA1nL3z8Tl3bSAzXUSt66eBJJx++YcOucecggiKi7GZvg4pXUiI4yN8GYcx3QqoJDZ9WxsDMkowMr1Y3ukRNWrqyNgKyoAEBlxjJA4jwRwuHYs4BVcBCiEAz5gzRhxoCWdX51t3YbIYywkQDDtI+GRC/aDA3sBwju+1sFmAsxU8ut+tkfqdKnYnq7pPNW2c9asShdwdOjpku+5jx/mvXu4sg4ysDX7Cdocm9zWMIQjshhfoIRNj5RgE36y9iV7pAsZ9aoRYkPGOZ1fiY8c/FlnnG6sjf1t9ON8yK/1wYonSjpdKazNK8HyJ+NJRkvWA6O6huzNzmShcwWJxIDcSFDkyfhkEqd0iiUz91jHWvLLLxAF48KuriYM8mndZ40ISSd4FZcRHIU436c/cmgcSBA1WY/sY/v4AvvSawgM30b0vVqk8E9iI8cQ/uCsj/zyUYnOXEP39snoFbLoRMEen4IDHc6+TikipIhUVCLJ7LqG/CrA0g3nk3KK2Al7c9aS9dEBXYh3YibZ6HwJ+WUj8iAPSGtynLmGZBMXFXGaA/I2YkgGOSWd313v/NZjy/8IkHFgFx513v32JZjN2tu9Ik7TSN5U/Co85W6vHejow3N7T99nxaF4KvfjIZFD/NXYYy+NofrerIGMfBDRphOFEzvDjTiOiGmmeXIgboxhGP5b8oug8VNNDV1LT3DkyVqWsWO8gV+KgQowsk0lv9alSSC+Wg/byP3iDfxOjRXWLYbjV56q4hGwRx6vWcFT9Dm0lmDBdY41XXX35SnNK7aib2MqFGATBoyX682jQEvzgS6sCcfiP2TMPDvJLwcEGOAXXIBPcgP+mjwQOEJncZKDyg7IVY8SCUEoRmCeQn4JCkwCmUBrfkmFEjx6EHgFiszp2izOuShckiIvZeXdPQnEupDfKR28zFHvjQmojKSiRNgYieFVGx6xIC6KAIRLouJs9OA6oBcIJGrksR576rE1cirz0DH9MLrxFQocXXc3P2yiH5skoCJHdiOPilaQ8jhTBbdLhugX+OlQFwRJAVA2AkJzq8Z0/5EkNmrHdc6mstY5znvL5OKUS197qDu/xhLAJUv/TN7QUwuykSVrs9eZUL16XcfajEOvU3CDFCCu1gV7/CjEKA7tnLGtX0CCF/4hICMyiC1fkrQldveRwThLyK93JCVU9uLLOkF8JGtu7bPrM7sqIMknPszp/JqTbyD88CiwhfzSC7vZG1cwDlbM15JfWBMsJUwdlPodr11ryPfG5xtwwp9TrJBD0vVoVMypu9r8yToEX++PS4jwH/ss7fySiW8pUjwxQvTJZBPQ+ZR/WSCy25M95Nd10SUyT2dzCx36sL6a/PKBJeRXwa17jMgoSMVgWF5Kfj1pUGTxxdjJeIiEWC+mkr3WD6x7RxD+ybCG/BrbY3ud3yRcsohXirMl/kTfNflFXpeQX+tShCG+yJnCEpaiC7K3uvEdueVsOIZ3+QGOjJd3fjW/Mk7fvh4XIfJkU4EQEuOphHgYeVwfXWVvXHETByELvMMLXdOvfIdI9s3fnuMjyL9XYVIQJrcoIMlSjxX57cUcPiV/8je5TOylDz4Oax7ryynxlXoNtSx95NcP3siCF6VoE7vq+4aOyacQ1+SJDywhv2KE9YizOuAKFkW09QzNnfPWKv7LVUgzPhPeQTd4hPwZnea+dl/P5VisUtwi9cbj1/QktnoK6zUYT0PN73pkXZMJ14RZNlpMfiVDyVGiBBgKomDvcAD/rkcnhKcMCYrTcGIBiiMB0FTyizyoHiwqSgA6zmD8MaBE4QCMWHAk/ywPI1PmWvJrTKDX8RJk6IjSAVmXSMJRnbpOQPPXUzymDfkRDFTTyA3S0wJiymdrFEQ4gaoYQEKMrFPBoNqVmCVsurApTgQEQAn4EQ8BT0dYN2fX/HFy4yIwSDMSFxkkF58TfGuA12PHTsYRpBUIHCfjbEF+rVFFLFkqNqw/8mcfmciTc/aw7NUVlTlf4FT0OoX8sisn1SGiWz5AFmuDY8fwQk+qXQSBPW3u9ZkMHsPr/tGL+9jYHvll+zmvPUgCOs0KP/r2apLAPGSf6GVoH/LLDzyO8oTGHDVBHLrX2thDkNSB4RPxD8mOfuAY8YPb2IZfSUawJUDyZ7pQfCHS8LgrRvXJJN64D4mOjdgM4ZPkPAUYeuoV8osIkSf2WUp+yWIuhFvHWWIhhzisgYAU62pZR3xIQS4m+V6spUtyeHJBZ3PjDEwYuyW/MAs/7LbrtYfoGYnQsBCD2Zl9ybb0tQfJEc7o2zpDSMR1cvEJOowvkwPWyc2XtyC/YmjWw+aKAjEe/pb4E3l1GeUqzRN5k6xzO790IVbI17CDhLby1HqJjZAYfuXpkAYTDPEDa2MnWJxDfnUyzY+0aq7wZ7HHOH1+FByTRzdV3OR37mVj8dvTQcR46pOdEydOlHv4D7yJ33xaDM1762nmmT96EoPFNnFZTNEI1GCi29q/ETHXkNn9fXr13RD5JY8x+YMOdduFjm3aPTnFI0WgdZHJWHM6v+5nE7owvxiOU4m1mS/6yOd672mCwkHDwVNuMZgPwC2O5rx4VNu1vj/H9Rx8QNdfd9c41kU/8gAc8Ad+BwPup28xG8fyBB5u3WNNsCs/yJG9nV8dE7/sI0CMRwBOAGwCLsWoQL2XaBDAiOAmzybhCTAEF4QQVg5EaNUfMk3wsc5bFkQGJNyjX/80lMVnQRQLKJQUOcge+XOOnMCkva/DoLpKUrNuwNFpI3fumbqX7PxTICpZxolDWTMHV0UBhkoacfGuEV1Yh+RhTR7pmDu6nzp3rrNeTiU4IrkCBB1xhqzTXndaJ0Qi9iMVCUDQRuJ8T3ZBxqN21f9UfZhfgPCOEJsDmrlt3s2yRpX1GBGxdnYWQNga5iQmY3BkhY8xYGaqnoyXzq8OCAcXGBBQXVQ2N1b0OLSHQTaWiGCYrthaBYoU51FiX8Ajg2t0suE1SZqNyGMcG0f1HYKi4KRLuEF8U2Cle8JebEUOfqmQFATorl5PnzzOkdePIxQ9ih3rkqDMVwe8IX30nTcmzAh+OrQCoC43DMFH3z0553uFFh9BfsUM66Mf60OkJS02iHzWAcd0VZNfQVdy0o3j7ymwM9eUPYKGuPClBF1EjZ78gC5xDy5aHStQdGjjU/DL7uJl5q5tlHNDe34loHv8LaBbH+wgNOKJDm/9xIg88KIDIiaJMdZAHo9GdcLnzE8uY7IR4mwMP+4Sw8Q4ePVuqndDp5BqT/B02sRd91sLHCNa7GmeVqdDunFeM0FMtz54oW/jwjX7h5BkDP6o8yyPwZl1iAlyAhKQ66bsyWrje3DrcWuebnrqJ66nqBwar2+txlRoIGz04tUMhYz4PpYzxTPxNz94ow/2UWwoTqx9SA7nxRr4EHthn27Yxjj25FBseFKEnPfJXo+f73VM/ZAXboxhLAWL3Jnrc20+28Mpm+AK7hfD5TVFDXwjzn33ZQx6NIY1+Y2D+RUDMMcnrM8TqvxgM7El98Oz75Bv/4qLeManFJ4Zw15O1+Dre084Y2Uvdmh00YnxyCO/WZc93bCX9eWeob21i7viIvlg3/axj32s+6//+q8SN8U/ciVmtWNZM59k4/AXa3Ffi5dW1z6Lh5on4jAuAf+4jX9hC4m2FnOwRTv32GdzI8xe1RJ7szYdX++Oa3qKF7GZ8cVK/qZr7andxz/+8bImMRAX85pDHYeR4fLv/O4iv4BiQxwEFcAT/LMAirABm44aQpp3sVIFCN5AiJkLQAhb7u/bGy/kl4H7yC9wSlT1/e6Lsh0zPpmROo/0BcoEXd1ZziVIRh731OONHUvayBrlAm/IrzWH/DKSR+aSJ7D7DtjoUwVLNo4Wmcfm6/vOfUPk1zptChfkQieEY0kagjW7AweZdDRVwbrsZBYM++Zrz7G5hEsXgCnxBKyCNqIlEQBne28+c06OzJk8wtE5qckv4meMLcgvcqajwLnobczevuNgXldBONjM2qaQ39yriua0Kli6Zns4CcGLjeJf1qpLg2zwM7bg0AigJM2Wwa/AgPzRvS7IFAwhpIocRYokJxHpTPOjMRvFVn17cob8eqSN/E7t/JK5j/xao4SnIy5u0EliDt3CMr8Sk9L5hWHJiK9bE+LYJ+/YORjTiUaOJEmbJOm1K8G1vrfWNz/Q5WC/PIKUzBSA4kuudV09Rt9xrhWsEReExFMdtocfZFgxiPgi68Zwj7GRICQc5hBBeFVYOTe1oK1lomtjGzc/eINVsiAl/JU/jcULYxhT48RTwBSRdGscMULxZZ5cW8swdNySX+NZK5KCpMVe9GKjK/9agbinsOKD4ja/soahefrOk9XGbzwV8q6jmG89sKM48Z3YGAIwxfYwjlwak53pShyVrMde4+kjv15DylOQ+E67Fmsgl7yNdCumxRW6gR0Yhjk+wK/4ak0i2vHyOXZE9HR+a/KLGyi422vzOXu5USHLp9Klh0ExVazKHLm+3vvOmmHAvy4iL8n9MGJdfBQOEGxFpGvpwt694gD9+Z2GnMGf6ECujE74F6zpYrNzPX/f8Rj5VYSJed4rFn8iB5mQQXtjBsv8zdo8peWH1mRtiLRXKcRg+ZRcu8iv9ewiv5mfDNGTvIQ/yfviLv1qCmkoakyycdbRp4+hc9arAeTJeXgA3ciBCjDz1oU8/iR+8De/KZAT6MA9sIyYwyGMZ07F5KeQX4JSbhaXzi8jCyqcEWlAVCjfhkD4LLDknzSRXBlCUtLp5ci6r5IAUIWxR5CxPXmQX1UwJ2RcjmlsRM24grqNkSnCMTIASKpfpFeAcy+FICIcAiGsK4gxOfq+EwhU6CG/5LNu1Q+n0OWQhHX+gCPElz5VwbomY69t9M3ZnmOrmvxyAo4UMLOb7hlbIgu6AwIcIqZKFAQQOwDWpawB0s7V9xlmkAzv2CFigjUdmJ/evbLA/jDSd79ziB49CZKcVmKKQyoYJE3Je2yMemyY4UA6vzpD6fyyPwf12CQv9gs08Oj61fBNYAAAIABJREFUjOF+AZBuzelfFREo6dVmffQqWYRQ9AVidvG+E1tHJ+wjEHsKImjRu24hnOrGCxwwDZcc1ONPRRLMwJUNyUNckQYykHEowGVN9V5Fbl5rYH+y8G2BzDjWX1+/6zjv9iO8ilz69upKdDN2P7351wx0EKydn9IR/PBxHRLvAteJn3wwJxAKdLqr7uGHiLLim07mxJnIqFgWXBE8NjMu4qn4ascLPvgMfHpVIt0tONNdV+zzkYxv34eV+nvH1uhpHJ/gq+wuvhhX3IDbxGCPbCU5BYGEobANURbv2AOe5to1MrnPHOb0/qVXW5ITFCd+BCTx5Pp2z7eQM694ib3Wwb9t7hcf+Ep7367PLfmFGcRKJwpBQ5DIzHZIL0IK73Rio1O+CDMI0K756u8TH9jA2vmUOKGhIn5JuvxBDjCvTidSK08mb8Z+/MQmNxpHJ1m+Q3qNo1MNX+ku9uGHfs2fH4DGH4xjvHRLM2f27hOjND5cK7cG945t8IcAKsTI3+K51kt7bHydOjLAjZjjFQhxrc+frM347Me/dRH5FbyxGfJrLfy7Tw/1/HBrHDkJ5hQ69uzOP+RjBNeY4gsCpWjyjjA/ghXXmZdOwj3EXjkEMdY5tcYpOsFNyEPf4q1xjEvH5rAX0xXaCg0FLt0hkWKkvAAf/J/cYrgx6BT22RxW+IDvrQmuhvyeXyowrDFy0DniWa+HnvmnTYwhB/ulUBKTkE36VdzqbsNXa9/aNkPHZEXqNRXZnS9ZF90Y27zxI/JoitCHmEce/IE8codGjFdS2Mi1dY73tGoS+QUSA3JmiU7HAbkkpMCP1FowkqJVTRCKAHJkS/XpOoaYm1wpgyKAhQJiJGQSODx2Igd5sgGY1r3HsEiOio3zAIi1+JciJGcBZWm3i/Fa8hsnASYdH90A5JijSOpk8J1qhpGQ932RX3ri5OyGQHJmzmLdgAFUnFmXQledrryaACRDwOw7zz4IGIAluZnbJniH/HKGBCukwX35LJjp4iOqAi0dSYxAj3TmUddUZzI2oOtK5RUK2LFeOmELREny5PwJEuSyRvfbzCfpI6bshfjCtbUJjHPIb7Ah+Cq8JFwdZUHOu5sIADzQg+CjEFG8kVHng16QXkTG4yWYkuzIJ1BF9j4btef4I1ImaNKLtZEJCZeA68DX3uszu2WjJ8RVh0YR5ZEvTEkMU7BkHAW1f4ZIccbe0ZVjAY8OBF1rJJvEJxmEiIkFsCL4SZaIMbztWkff2pBIcSFdfvZCfhHRusCwbvKIfSE//IqP25BgpNxjU9f2zTV2zj3wgZBYG8yJX+wv2EuIYqqNbnR5ED0+BNt0GD3qxigw52Ckls19dK67rxBBdo0NO7Co6GVDMrNn5nHMDxEmsdL72PTiPjoSi9kM5uvEVM89dgwX/Jtf0BH/5leILkIiT+nGI3ZIqO/MKbaIMfAf3CsOxubq+846YUK+8R4s0m2N5uCvfFRxZl4ES65iK3mK3ZKv5C8b/RpDzJS44RpxM6YkL05Ft6087uW/8UH64IfWZzydbeQuc2aPlIvd8oLuLLvCPB1ZB93KV3K/AgEO5viVedhAhxJukHl5QbfUWNaRWOIYhuQhOcE7tvxfLiWP2E1WOROXaHXQfiYnXiL/szf/sT5jZY1iO3/iH0id4zzpSx5yrc298qZmAdwpavicmNnO3fdZPoFJ83iVT6MgY/Nvxxpl9EQu60di5T/r1qXWxDIvPqTQYR/+xN70Qy73WQduIwYPYYY8xnU/3dALsii2JnazDYzDq1ingypnir2KexihpxQGuIQYauyheft0k7hhLr6IS2ogGp9eyGa9GlqKB37EZzTd6EMRHY7lWvfShdc96budczL55ciSgSDnvS8GN2CqEZ85kWSMAAm+iALiKRC1lUQryNhnQdECWvKr4gEEi48cZLKpUFVwDJFKHDgYWCJQxQoUCMYcR27lbMmvOYBYYGcMiUs3SxLk9M4DK9ALjEAtabXjzvkMYIBav/Ob7iRQc1YJk+0EVIEHGQZY1yE+Oo50TBdzAEtOwUqAEfx1+QUaeqYHAFTJIg55RysgT6I0hsCuOyPI597Yyw8JAVVwd88U3bgObiRqeLR+DsRBjc8OEoMAJCizga5KjQV64IgcGfnUPXc/nQmCLfntk4td0vnlkMFGApTA41fL1uedJB1HCdI9fErgIyOnV8SQgT48/tERRThrmftk6DvnR1K6vHRgLXwbDuhK4JkzJj3zcU97+D2iKGkrgnU6+uZvz9E//Ah4/Iau2B9RslaFG58WUOlUEObf3qlXYIcwS94KTsTH3HOxTK6Q3xAq+rEmhTY8uAaGrRvBJpdiQvEIE/AlXvIDvgbXrm/XvOszDCNCyKwnNMGuOMKfEApxFUlAhPm/J2/xb/qLHt2jUFuij6yXPiV5jzMV0ca2Vp1cHZq+GG8NdCThK27gA47pVPwRmzySpL85mIvu6JwvxVZ0xC/kBXaRCxSXXqMyT4oCJIGt4EaMhl92z7hz9nCgAJWDNGnEQGukH3GWL7CJIkgxy1bkYjebY/faFF2IKsKqkEJ8+Ty/FBOQwiEswbychjzJL3RBv+ZHiOE3educ2eRzTQL5CJlJDpM7FAfOGY+vmYP/zbEV3bCFeRQg8CIfIln5HQhcZl30iYjCMhJIrrxLLY6Llzp/cNVnp4zjO3IiSXQo5tNJiJR12hTp8CLuInWesnnaQm+5JsSUTfmSYkZTT9NCQZE4V8/dJ5u1yTOeTCGourQh2OYwPl3Di1zNbuaCc8UCO+E0eJVrIqOuq/uN5a9guk5OoSMxs08W51ryy+ZItzyEOLNL8K3ggB+FKln4nbxBp9ET3NOLXD831rievRREaVzieHyVXmz8Qk5UBCDhfIZf0RFsWL9YKUfTnyer8oR80epgMvnlRDaTW7hOj0oWoO1tiBywqoo8SiKsLoxuVktcdoGkFpTyBRVGB2DgZSROSdEqgciBCNvIIulInJyNUtxDkRyBXAKeaobS5xoq8o2RXx0wQRdxUpEI0OQX0JAZQdKjfgEl4y3Zkz3kV5KWWAAyDmvtkjGbCCIID5CGDApEOm6CjfmnEszIan4ODYwIEMCGwCK/dI1guoaz2QQLRCLHEjkiJxiQ3/0cyjoQGl0l90+1k+s4EmyE/BqPTowNC5IfO/ixQB1QM4e9AIDYS6jsFrncz9kE6bEORE1+Yc/8AoYAI0DpGBpDgLY5RgS930cnAjMnVsDpvkjeAh+dSnQpWOb4E7sJGgK3QAsLfNt6dFgEOEETDmzRR+wdjNAv3xToBHLFFXwh0RKWoi9Job6375gPIORebxI/6BcOyAXTniTBJ3vofkncOhv0Q2b+5XpEWOKiS7L1zbXrHJzltYfYG0mCYR1M41qXdQuqYiHSzs/5GhvDlsTEdl6t2jVn3/d0j/yyd5Ibn2UnAd/66US8Q6o8OVDQ5DEoHYo3cEc/dDzXt2u54IDPSiaeGmStIb8wFXsHj/CPVEpmSCh8kImO3C8m8kHEY4lsIb8wzP6SnkfrfEOSlhf4N5zLF3yITXWTxEHY8b1HyWN+XOuhPaYX9/JdBZxGghxD7+KuZotCCPHTqWYr+TK5KnmUrGwqZ5HVfdaFBGv8iBXw186fz4pWHW6+4v1UOqbrFGFIXfJkcrY9LMmj8gOyC2NiJfsg7zrzbARbfA/+59gKBuR/PkU35OFPyDT/MRbcyAXwhSxrhsA+f4ZnmGczPqVAMF4K0aw/+zpehfzCHVuwffgDvFinzrL4JfZoluiAK+ZgxbU218afjKXTCM/yhoJwaqwhj/UpRP0gzFMB+cDY7GUu5JpPwRA9IbkKIs0EcsqH8Ay/9EK2PI1kb+TQaxtp7NX6iI6yp3NPBNiaLmDWb5PgRMFKxzAnByKczvM5+UtOik5xvWDNupI/xuaODPWefswnvsMK/Bk7NqML5F7xrwiHXwQXLzW/a0PGxU1jKDYVWWRJXDLnZPIb5dgL7JySo9gLYM75zBjALWERimIFPsHBwkxKgDlKcT3yY7HeIc07dYwOOOa2RY4EDecSgHSTdHu9d8SAAkld6c+RpzZWS34ZCYgYga7IJ4E7D9x0pAPhPo7PaZbOHTncH/IrgJkrSZss5rXPcZyMXGylqJB8BBRjLpEHEaBTARbpz1zGl2AEGI9JECIbB/FukY2zCvgCGzyxmUCHbAr8OgRTE1PAbS+oCpR+vSp4Cxj0Dzd0FBtxYORAgpEwkT+P6hRG3rciI2xxqmBOclK8CGQCSPSW+WObmvwGA3xEpwFpQtLMA4uInY4GW3jEKPCT0WZehQH8IscChE1wmpOIIpdkA398QYGAMArE/ETBxo7WLQHpykms5iOjQKKL590ryQLR4HP0yOckDgXyHLJFB7ohCL9iJWuWFOCBL3lVCVERePlQ5vQ93drIgtSTlW+19sj6x/aSmeQLK5FDQtKBpf9gGAFU7ElC8AGzAjD7SiAwDk9j3boxOdiVfnUm2T9YsKfnxDly2iID34dVMViRRF8SFuIyVx/BVvbkRXL5VHROFgQFsYNdPiFZ5jpJm+5cQ/bkELGBTfk3P5krG1nI4f1GccPY4k5iPjuQjU0ia+Iim4kJyIQnLvx9zBZj39Vyi51egbAm5IU8bGdv3Xykzp35TE65wmYd5IUnhSRfUhjKn/VcrUxiMF9FUhFt6zcOHzKmeG+edoMbcpCPnOZFbBT8cJPcIAYnN9R4aOXo+yxuiFsaTiHZGiPIujgDO/zKv7/MhxHu4NkeGRQTxWPrFL/oIvrIvm9ueOSnuqgwGJIUvVivOfhT5oQhdovOfId3yFGeZOpOii/hNPQR3fTJkHPRm3vlGQ06Y2a+5JjgJp/ZhpzsFLnd47wNboyDBMp54mlkM/eQfpxHxOVGMc74NrbxtA2OPc1HvtmAfnxPLzZPIelVE4Iv4mhrm3l0w4c0djRCzJM1W6vPiXnsYu3O5xqYt5YUJ0OvCo2SXwADSMkIYBjEBJnIsS1kyqQCLsfR8RC4PdbxWGDoEUVA0e5rIDmmUE6IRJkDMAUyc3PsyOLYRsY4PqPpSunMSEYewejuTCVUrWz5TC7dTslWEPdPa5Arwc6eDDYgVp0JfB7tT31nKXON7clhLbqFgqX56Kae3zn2s9EPvSF87CTgIF10MjbP2HfIBvLLUdgnc6meBRzOJAF6MmBTXSOPHlc4dg2yy8EBV8Wr0FG96YbA4q7g3yefd9Q4pFcHkLsk4NgFbuiDXZA2RFwXCNbgBIHh+K6hUxsZjSNIC4JDgYU87OJxpUREJ+4XQARj3XbvzwuCiAJf8SRApxBGJAmYgSuPcnS0dB+957SU2EVHdImUwa+EKSlZj0em6S5LfogXcowg1I9odekRUeugVwGRjuCPfXVRdA4y3649wik5Wr/OVbCbvbF1AXwn2NINOzjPlq5zzH58XLLdNefQ92RhM3GD37IbfOg6RCfWiHSxUwgLLAnKsMunBG/2nRv7ark8NdMhM65kZ46s1XrbzXe6xPCicETuYEahhWDWYy85hnV4RYrMTR7JiG0QLvLq2vAfT98UAWIvX86TE/iXNBV37Alf8LxEHnKwA/3IUfFnmKCvEIT4O5npiCxwRD8KnTlY7ZMzMcA6YI8erJG/wxCb2Piz+YPZnHNe1zqb75EtJFCBqovXN299Ds7onq11cxEa40Qn9vJi9JK9a5yPXGK2OKAb7ImruetGUT3nlGOET36QY+jFUyEEXAc1OUEeSG4QT+QmeuNbChVFuS4eXIldIZG75pcbNScU8YowMR5W6thh/dnoJPpiO3LQo/yl4wrL5KiJ5S4Z+r4nF3147Q3BE2PIEBtEnnYffyej73ymS7FK08IrX7iF2D5VRwo/DSp6phfjOsYN8C1rJiPd4A02csrTXn3QiRV3PYXSZa3jTPyiTwd95+iFD4nBOs1wKL6Yz5pjHzLmc/hodOM7pFjeF6vYv08Xo+SXgQUmyV/A4phxVsHVsT2QEsQ1lK+K05bWLUqFZlF9i516zgIoRKWExHIcyqeUyBWZkAWyOa+7gLx7JJhHFGQiz1zD9Mkq2CArwMFZgJhMNseAwhh0A6SqMwnUI7KhxzZ98+w6Z026A4IEOeiAXQTVbNEJuQRWHV8J2rvaSFwfQHbN63t6dH9+fS9QWLO1wwVwSkwCGSDbkCU6cWzvOuB1rHqVlLwWoMOYSnKJvcilC+URo0pQ1c6B6MYWm9EJgioISMiuQ+wkH2SGPd3HqQRDQeHEiRM7g6BAgDTqAlmrNRoLeZYEdOZ0XfOvPpgXPvLY0z30Zl468egQoV6ii9qW7mdvGNRJgUdEmN8qXpADSYI96EByIqeN/3msygcFXcnSMb2IFciWwgEm6znHjmOnvDpD1/GfBDV6gxsBGl6CMeddA2/igwS5FMtkJItuCPKYeEeWYJZOkGF7tjG/uW2KYDqSBCS3oa7DmC5q2wreSCSs5ImXeeA2+HWczTn+BjdwpBDIK0Njc079jmzG84MgcsSP7BFg5EKhicgo1uCW70c/YiD/VhywldjJP8xfr3uqPG1zhhx1vMtx5KQn2FLg6VbpOip01hT+tazJc2yPbPFzBIqP8Ck5C1bJA8c+23zPvvZ8yqtoCn968kSuJhT1fPUx/YkNmk1sJF7AQuwUXbT7OofDuA6r2Osd8uSpNWSPTsQCOhYXNEjohQ/DRnza3mf2Sc6EFbHHv36go6mwsM7ouV5/jtvvfOZH3ueFFzlSrKcXugiPkTN9ZhvcgXzise4nfSDuCBW9LMFq5Msen/G0S4dVDIHNxJvWRj6TyRYsk4/O+BwsI59euxG/MseUPW7lfsUo3AWDcAubcJtY7xinYj9kG3kXs63DehRgW+gGAda48tSKHNaadcc+dFXrK9+7VuyGNR3wGg+1bKPk100Io4QoAXJKCVEAs+WYMgQTj5GwdZWHx7n1RFOMMOUa3SHvs3gsi5xIwohCZJGMAEJyIpdEpDPrvrZ63UI+60Q6dc0AIkk4CVnSdE6XQYcz/4SJagvopqx5yjWCE/JpvfQR0hRb2Qu29KRrRhbvy3i8ALDIAn0s0Yl7E9x0KRA6SS/khFMHsAFo7cRJ3IIeHXp8ohuD9OoYLJEpOnMvHHvEz0GRYN1J+LDRkwQRe3EcpCZOH6IlWCZhet/Lj0ckzcwztKcXnRMVsk5QOsB0Y7305Fz25nVMDrgR/BFtOuVbcCMwDM0353ytV8eIsEQrOeloShJIe4If3NiQY7Egmw4BnSASgqGgJRCGgNbzDMkHvxK3rrbOlYKDL9MBH8oW/EhcbGbLdxKn9ykluqF5ppwni84J8gYb7BS/DpaDWXZMAudbCI9XvSQgtq8D75S562voTbJHpLySAz8wa73t2p2jG3Ihygo4Bb8foXnsu0aOWibHCBEb1X5ELuvXMYIP30lazvMnmxgkYerC8R3dVsUB3JFvCk5aWTw98QQJ8eY75jCnzTGZbPnMt7xi5fUVxSuf0qSBvXbsNZ8VlHKnJ0c6hZI4MqpLpoNI3vzo2nld1mz8jy8pDBRRcDRHlsRjJE1BmpgS3UQn2dONazQt+D2C5ylebGPuJbapZSYTAg/PXm1SQMMIH4cNOduxjTzijKdO4iysKWjFlHrMOcfmhVsEWFGIN5gn88oDNrLACF150sOXFWdyEfKOQ7BtPfcS3cC7/E/H+An9mzs4NX/fFpuRUa70RMVrLvk9xFzySXayaIJ5WqCDi8uIY/wKsdaJx7Xg0tM+r6p4hdHTPfmZ76wpjmpd5phccp14jlfCSuxCL9GDvc9sR3c212rCyvljHGuU/BJAZ9NjUdUXAiwh2nQ4skl+vufgHt9KYJSShWyxD8AoRHLzOMZrFToMiKVXLSQHnTvA5sjkYlA/0CBTAlwSQZLzGvk4hEBBFsmSISTMbJKmYx0xQRDIOBT9bEVirMdaJBPJQFClA7qIveyd49ASI7KiYuPIgGsMW/Q8RyfmNoaxBCkEHwEXWJC4egtRyT7khY7oDsEEeCRM0h4D7xQZsy76hgFdbo9S4IN+BFnkzvxIDFnTfXCO/ZxTEXu8ipjDngCu2NglA72wi8BB796HRqiNbRPs6cmcCcD25vQ90iM5SoZ8yzqsade8u75n5xb/Pkswil3BI4/14YZd6CtbfExM0LXWFdGhRGp0niS6BMQpmHINf0AaFZOCbpIjfdGPLfagG5/tQ04Vuwo6hG/X+se+Jwc90wF8kAPRZ6vIkb35fYfwIZ3ezxQzjRH9LrWX+xBDQdyrD4iJDoy5rdlW+xZfoh+PkpEsr5DwI3FvqQx9eiKPxOG9azFXbLGHieACXmzOZ5MvyIVcIRPkQuzoiXxTcNLKg+DzD4TSfJElcvmc3OCcY51pxNJrYuKB7tBcgtnK0X6Gf0Ugn0ASEBzvyCNzcgF86/g5Z/Nql9yQDeHTAEDYpsgWrNEhXdo0oRTdfJZurJ0+2k0s9HsCsca/4mFeNmYfODZmxm/XOfUzeYxl4x/ysrwNE+yCpNuLs/ZyqcJBJ9PvY8Ta5G9zGm/q3K4TV8Rh+Qm501WnFzoJbh2Tx2c60g1FfOlCPOCLtsQ14y7BbO6zBjlTM4/+5WZ6IIN9vTkXXdGPDSn0WpGYJ+7KlXPtFPnzL8XAKyzCqwJRbEeEvRYHm+K8/Md/dOJj09gi4+Xzmr38j7vxE69esIt1x6fZy+YcfMOxzbXytMKCfEMy7CS/jK3asVCPoDklBVG4LppOHyLge0ABkqHJ1pyPUgEvMkmy5jU/eciSjZyqekFWF8d9cx1mirzABnScU1D3ioVqjBEYK8cAI9h6BK8KnQvSqbLocFt3bEMP2egoj0ZcF1tFt1PmGLsG0HSSzefRmbULMHTBsW0BqH2+y/c6MgiHR3ZrSe+QnAKoYo5+PBL2wzMOXsvlmDOxH5kRPI8fBSlkQgEGU2OOZf7gDV69riB4KBCNZ+22JKU4cvbmtnlVA74RX+NkzKH1rT1vfGTAfHyLrvgUm3oXms7g3DlYohOPl8QIOpH012Jb90KQzTvIEkNrn3ymQzhjJ9crRMm/Vg/WkH96DUZ0PhSVmTd4RnjhRzKnI13+uY8dd8mK/Bjb62Q6Zohe5Kj3wZNExdclD/du5d+R05gSC2yQCxbqeAMncoTvkid875zChP+sxUhk8WNq3VE4NJfNvO1Wy4PwalrQD1uRZR9+xRfoiW/YzClnkdcTEiTQuXaDXzkiT+SWymZ+OYfu642OkiejM76s6ESixMit7BM71Xvrki8TWyKLPTuRBenhS2SxjikFQD1He0yH4ifdItPGz7zRgX305DtFgLlxh619iHxksuEE8Bt5+va1jDnWRBOjNSysrV3znM/wJn4bC1bpSeElD+RJfnCcfV2MzJlr6rV0Th75RSFv3dFNYkt0kc++hyt5YJfdRslvLSTAIkuChWolm3MB5y4yUI+39jjAYfRaJgGNbOS1rZ1n1/2Rg6IFOmAU2ICZE+cYCQca1+0ac8n3cU7yRB9sEzvZO08ndFbL4Z4lc/bdAwOcGbAUS/Rg37fV39ETkifgkLVv7C3OWSu8moPDe22Fg/fJ55zHZIoJj54Fh+iKvnM8RS6BQgfBXMazXtvQvDmPbOtYkNd8td2mzDv3muAIRmAFZrJZQ7Bl77NtH36vS48oIaD0VWMlurGPf/E1RRN5JMo5tunTkfuNRQ6+y24CcJ8cCINr+Nu+SAM5EAZy8BNytPhxjh4UtrDWt6615+AjGIGPxBW68tnmOFuw4zr6gd/Yph5rqVyKZFg1X+bK3pzZcs51wSs5spal80+9L2t2PXySY1eBv1Y2WBTrYot6X+vDeZ+Tx2tZp65vznXGhwPzwUS9sVfkjC+5Psdz5um7lk6jk2AyurCPLnwXwr0FTodkMTYcxG9qWXYdu4eMW+oma82enYyfz/W+b01bnjNXsNL6ePw6exiK7eiFzO61Dck0Sn7d2C7W5wyW7/L5OPf1QqO0o5InOrGvwUImn22trnLP1jLG2Jmv3meuvnP5bou98bN2IMwWXdT79juft5Bh6hjkNGctU45zPjJa19Rxc119z5BeMn67J1vsmfH2tW/lzDzOk6tPFt/lvuxz39J9xsl89uZHWHJc68n5Vr5ariVyRAb3mtNne7jIXJnD+VyzZK6p90SGyBFZglV7urCPbMZ2nHVMnWvXdRkz49fz5d6ca/VT31tfm+M1+3bsyNCer+cY+66+bu7xrnF3fT93vrHrY4Psx671HdmOUr5aHjLWc0fm+lx9/dLjejzH7WbepWMvva+WqR2jla/93F7/6fB5TB996+u7vu9c7h0lv7lobID6minX5fqt9pkzSakd1/mc2wrQmTPj1nPkXL2vr3e8lRz1HMas5TBPPW97bT6vlWUf6yFTLftaGbPWet/OUX/nOHPuuq69b+xzbZ+x63w3ZL9aL7vG2OL7qfO5LjqbO++UOaZcM3feKdez2dR17UPGjJl9ZG4/5/zQfuoahu6vz7dz9/mIc/XW3jNHr/XcQ8ft+EPX9Z1fc2/feM6tGXPNvX3yGK/e+q45Vc9tidspazzq+abIdBTX9GEuuvBdjmtZ+u6pv197PHf8udf/L/KboDR3oLULXXv/6U3etes93H/ayaJmC13AzwFD2+p0C7ucqmPAShJCjuvPBzwdsHSqYvcg1wGbBwz0/IW3A/k9OMb/RcfoI7595/4v6uaw5v+JCS0mQnKzj67azzl/2P+PLg+6OOjigIEDBo4LA4fO72kH8B0X+E7leXXx0sk7leU8yHa0/ltjAsGtP9e2OJDfo7VLrfvD8UH3BwwcMLALA3shv2OBPwnDfpdwc7/3g4+hcYfOz51j6vUhTzrp7jH/UcvQyjqUqNvrTrXPRyW3efwS2L8Y4l/m8E8Q+XxU8w/p3fy248bP0PzB+JD8a84ft+77ZCeTXx/7Z3ixKdfhAAAgAElEQVT8k0A2ePErY9cfhcxtPDmKOft0setcK2d9PZmHMFVft8WxefIjwS3GOz2P0WIl/mt/VPY4veqv1k99vK/1ZI7szcN+R+k7U9fW4qeWeeoYS69bMtdeyO/SBay9jwJaUCxRylo5Tg/3H/TyqZUxfSA0/lkx/0agf3LNP1vn3+X0T6KdKvo6bjkyv32OTw9431JGQd6/Z+2P7Zz97Gcvm3871D9LZ56WXGw5d99YbdLpu+Zw7pMNiBCHWh/HieP4Ub2vZdv3cebd9zzt+OZNrnbcfn+qfB7Tz6ks91Hpr/anWh+O9x0H6/nq9Q6dr69xvFfySwiBOSA3YT63gmzx2dj5dx/tbc5tMfaSMY4CAHPkIs9UYMwZd8trj1Nn/p1m/9C7v8jkL6r5E9r+OIV/4zeOfKrrb0tb9I2V7pmOuGKBj+WfIdtaN8Y7Tv+1/r41+bc1kV5/revqV796+QMo/siFf4946J4+XW5xLjEv/9RZbBG8bjHHmjHIkY0ubcchGz3RDdvZjkOGWo/m78NWfc0+j80d7ByHLOY0vxjiiclx5+ohXdeYCXbITPbobV92rMeNf2dvft/X1wytYZ/n2Y0+opvEn+hnn3PXYy/RxV7Jby1c3zEF9Z1fco7SkRd/stef6vMP0vvrNmc5y1nKo+slYx7u+dTu6Ke7PvyhAn+9zJ+S9Ve0/Mlaf1XLXzUT6E6F9R+nHPzVPybuL3TxMX8l6VznOlcpGAQ/gbkOxvXxqaC7JTIkweVewd4fkfCnV/01R39hzZ9kffKTn9zd5CY3KX8U4yhsxBb+UXdPKXSd/TEQhNxfQyLjUcgQnfTtTyXb09UZz3jG8kdQFLee6PhDPP6IAMz2yb/Pc8etG/PDjr8056/deX1HMbvPNbdjw6g/xIKA+Itc/qCN14cQKdcet44ir8YH/yKnWGfzl9WcEwe8Grclj8m89vFhuoJff2kNfm2O62uP4jjymIvfeEoqB+BaNjoSf7w2uC+dbLnOk+T3+c9/fneJS1yiLMoi14DPwo1BCYxEIcASwAC9wLPFQshpA1Idu8c97nHlbz+/9KUv7Z7znOeUhOQvI61Zzxw5zQMYnMJjUH/y2bqtGTkPgLKfM/aUa+txHefPFEqSCgN/jcqxgHfcAG3nV8CQi84EZrhRvPjLarHzFB1MuaadG3ljp+tc5zrl78q/9rWv7T70oQ8VLN3//vcvyWLKuGuuYS9Jid9Y91nPetaiC3v4lhiCY/va1mvm3XVv5hSEJSl/gtSfYeZfL3nJS4q+4DvvvOb6XeOOfW8sf9XMn68VQ/z1Nnsb3Thv70/E0g+5EBpJvCXhY/OMfWcdNU6MK2Be//rX71784hd3b3nLW7p3v/vd3fve977uHe94R/eCF7yg/NW16GFs7LXfWac//6rzfI973KP8ffsnPOEJ3b3vfe/yVwvhaO0cS++v7S/+SNxiDn8Wf5AGf5kJful06TxT7iMLXfnT4je60Y26Bz3oQd2znvWs4ucKXUUD3xJjpoy31TVw5dWZ5EW6QUTFvuTGWo9bzUvn4gj/kSsf85jHFH+WG8i0b3tYBxnkR3+a1p8H50sKR80qcWSrtS4Zp9Y5OTU/7nvf+5Y/Rf+iF72oe/nLX97Z3+1udytPB5G+ffma+a0BybzoRS/a3fzmNy82e+xjH9vd+c53PtkxX7LOpfeQSY7mw1e84hWLLthPHvBn6O90pzuVeJzx6/iZc1vtycJX+I5NLhBnUkDtmmdv5NeiddL8CVKk9EIXulDZAJyDC4q7hJvyPbDaBJGrXvWq3Qtf+MLuDW94Q0lIb33rW7vb3/72RSE1qKeMu/Qa81C+xOS9Ues/ceJE+bOkzvmObgLspfMM3VePi0yaU2BToZHj/Oc/f/nzqGc+85nLo4qhcY76PFklRHL5++oXuchFugte8IJFf4qXel37kI0Tqepve9vblm7e61//+u7DH/5w6f4+8pGPLLLtY952TEkBifMnbP2pWgnanmzePU4wgbN96ySyxXcE+XOe85zdJS95ye51r3td97a3va37wAc+0D3zmc8sfwc+pC/X5/4le2tFSs5xjnOUtdOHzZ+btjmWeBz7M78SKfLgvqnBb5dc1kHf9kiBsfnQve51r+5Nb3pT9/73v79773vfW2LNO9/5zhJ7YDd62DX+mu8ROvpBxB/ykIeUmKcYkRidV0CtGX+Le+GTLOzCTggon5Z0xH863TfZYju6utzlLldygQ79m9/85lIwXPOa1yyvruiYy1Vb4Haq3hTb8mDyYvbnPe95S5PEOPuQh008vUEUnv3sZ5f4hsSIMfSkwJ26hjXXsT9egDQpIO94xzsWP1YQrBl37b21zukD4YSZV7/61d273vWu4vN83VOfG9zgBuXPjMtba+ftuz/xXRPtKle5Silsn/vc53YalQrd4+jYk4mN+LQnpO95z3tKDpAHkGB60ajIepKv8nnLPc6gQSKm8B++IydoMk6ZZy/kl2MLvoLLK17xipOgAXKB+lrXulZ5l7IG2hRh+64xhu3iF794AUSMYf/2t7+9BDxVSt+9+zjH2MBx4QtfuMz99Kc/vfvIRz5SqsfrXe96peLmVFusfUj+6ESQQ544Kb1/8IMfLIH/SU96Ugk8Hl8PjXFU56MH3SFJ6NrXvnb3spe9rMgKL6985StLxwaeBOZcv5V8nNmYKsab3vSmBa+wg/giNogd3e2rum/XoasqGT3vec8rBJMMutCCHgJxHB376Fx39UpXulJ3m9vcpviWbqeu5z7Ir6AmOPGjy1zmMt0VrnCFznu1Op3ih/exYcV2i1vcorvPfe5T7OQd7TOd6Uyb4Nq6BVhkWveFL7GDohpGkF8JEZkS5wR+HbV9EzqYMYduJbJNL4oRGzIhCfgxnuuSQFucHcVnPnvZy162u93tbleeFIiDfNqTFEUU+el3n7KwoXh7+ctfvnSlnvrUpxa7iYV8XJGrW6XY3rcs9TqRv+te97rliQEf8pTJHo7Odraz7c1u8KDQR7yRFTnyUY96VHerW92qPKlM17mWdetjMlg/0uIJrRh3hzvcobwz7wfGW8+3dDyFt9ffdHo95YmdFP1Xu9rVSsEtb+y7YBB37n73u3ew+5rXvKY0HcQcc+ep6NI1zrmPL+E3GmlijjzNdogv/MLuwx/+8PIULuMmd+TzlntxWbx/4xvf2ClIPHnTqNIFnkK690J+ORAQexyXBElBwPOIRzyiPHIy8RaBmXJtF7jABboHPvCBBaQSE6NwbBWlhLSl0sfGkpR07iRtcz/jGc/oPv7xj5fg7/GJ93V0kMbG2OI7OkHYdJ456l3ucpcCUE4c8otgbDHXmjHiHLrTqjckBrmQnJALoPYoF/mAq1y/Zs76XhiU9HTpJUHBBX4++tGPlv0Tn/jEYsejSArkuvKVr1zIZU2w+A27XepSlyqV7lGQq1pHOfZu3i1vecvuoQ99aNENIsOvvQKheEnHcwsbISzwqXPo9QbdBAlb3IBpZCVdcccKbYXm+c53vnLdVrFFgEXikMkb3vCGJdAivNYuxsCnJ01IMRKuC7TF+qPzob31aTLQiy443JJJvFUo6IC4N3o4Cpkiq8RDNj6rUOHT3p9HfunrAQ94QLGjDs2+Cad1wxISjmA95SlPKXkIbskjcYqNHivvm8REP/YaJPAESyHi9jqMXg2Zkrzr8aYewwN9KGSROnh59KMfXcjvGc5whiN7GqjxIt4jv+Kb2Ku4lzunrmVf1wW/nnAhdIgmO/F3NvLUR+xRpIgN+5LDuGTx42skXLEiDyjY6M1T3aPgEvX65B5PIUN+xRzEVyHplRCNoqPs/CpQ6IRt6AeWxeopcWWQ/NYLnnusGtFt1ZqnGIGGkpAZlYGAqMs3d9y+6wU3mx8xqKSBAunlUEiM1x48Nu+7dx/ngNV7S8hvOh50oCsDwKom+tnH3MZM0LQXzAHRY2EJUeJRtT7+8Y8v8uXR475kmTJukrJA4xGTHw+leIEbxw9+8INLskCucv2UsadcIxkY1/zeP6Mj2DG3xMCGdHdUhNNj7Pvd737Fb/gLOeCHTIKg5HBUskR/dETvOooKETgmj4DDPk972tPKe6aSan1PjtfuzR88C3YenyPh4ojXEC52sYsV3UjmjhVSa+Y0n/sFUElakjOPeCaOWXM2OpCMdL8R8K3xObYOcykQPMJGfiVmWCHHec5znlU6GJt37DvYJJfmh1fcdMPhI0Wlpxh3vetdSxPAU4yjIJyIeDq/ZIFdvkVX6fyK10fpV17vuvGNb1xiDCzxc3K96lWv2jv51RRRSHpKIN7p/PInr36kgB2z8Rbfeb3Law+6h3wKJrySh9DF/7aYZ+4YmZtfaVYhvfF19lEwwYziUsEPM7ln7ly7rhfz2OPWt751eRKoyBZv8n6t/H0U/lPLybf92Dnv+9KNuMOGXjmVH/wuo75nX8caE3ifAtb8yK932BWPU3x5c/LLYBIG58ojJoEmIAr5lcS2UApj2LS6vZyO/CJ4jEIhqv2jfu3hOMlvHNFe8kaWkAGVqqJAR1ES1y1jpykg2cJOQ2OwHRmucY1rlCcFgqGklICjqrvnPe9Zkjywu35orCnn6aXWkbkVI0gn8iS4wKtKlq48XvdUAa7Xzj1Fvpb8RhaBF76Pg/yS29r9qxchv0nW9OVJgk4W+2SN0XE+r9lH72yA1CG9fqzjx0v+1QV6QSQEPx28teQ3svIfhECAVQDpcFtvux03+UXOW/KrUMk6jnLPVnyKTMiNbryYnCeAbIRo6c7oWk3p0KyRnzxw2XZ++ZOkrSnhx0OKm6OKhWSiH68PIZ/wxJ/EPN0zuiHLlj4UHRrzVCG/Or/Wa92eDvjBPb3URXTkPqq9GGN+T5zEGDjJxk7yggJOYScWu34fdrJevuHpiCcTiKWOM115JQ6POqpX8aJ7uLXedH75MnnoR670Q1IdfLrLPfvc95HfdH6n+PJm5DeK8SK0R49+fCYpUA7F+DGGClNXQoXnF9pbgMa8Nj948QtMjyiSnBBuXUP/NInHkUdRJQHHcZLfFmwcmZN63UKgtQEpUqdj5Hv6a+87qs8wQD5EBrmQJCUlNkTWyerfU62J1VaycRCPZulGNxzpRjbNb4NbSXOrpxRT5A75lQzJwn8Uc9599o6cvyS2hd9MkSXX6JzpMnjUJSHozgt45PKY9mY3u1l5XAr7uWfrPYxa96UvfenSGVfY0o0A7JUDj9UlB11hP37dYn7r9l6dJyfItbXGJuZPnDlO8gu/yFL+dRLJWXFwHOQ3uIQVcV6CpqfYik/pYp373Ocuv/bfN/ENBsQ4741rhGjIkIN/pfOL/MLNUcgDx+ShHz84E4+jIzb0T+f5gVN0mTVstTfuqUJ+ddvz3ihy97CHPay8048bbLXeueNohCDgmkWIebDL15M/kU8+B+f7jHmIr1fNxNs8zSaPVyl1yqcQvLnrr6+veYFj/EmTQwz2jrinFPSS+Oecghe+6nvrMf8fe/f1ck931n88f47ggeCRR2I9idhQLKhflAgqaGyJSqLY0EhiDQh6ZFfsgl1UrInBrtgVe+9dk8j94zU/3g8r8+wys/fMfL/Pk/uGxew9e2ata131c11rzdxbfh7BL6yneHU4+DVRgkCMyosHhyx3CZAqEpYEZQRK5ZYLgC5OewtGGFsDqC0XqxRWZRYcVR6My6EcsT/mWQO/lk0sz6i0A3OMh9LamyMI2bN0hKKekzV+WUbh9FWIkh1gxSFaevI6opzMWlo5e7opsGm+awKQpTfOxZPgnqBtbAYNRABTguYIfteOf27e584HfoEsDU32nb3hDW+Y9iXT4b1pmNNmTIASeGDLgLhAAAxyzC972ct2C9YjLR7g9IAbUCUYADBkhUfocRRQtwK/9MV+Y+DX/kz6yadI0Ixl7NH5AzRHyoYenwO/HpwceXfUZ3bKv3uoTWICaOIRvilMeDDZStwRQLM54xG9ER/ob4mlI8Bpa5ygvTeYyPewJw8w8XHxpkQf32wHoUd76BIanhXwa0XNEj6cwKb4YInIVqvCyX/NUSFGkcHD6VYF6K2Yyd5tO5Bki0l0Ct7ZQ0bRq4hmG5dx2ZHnUOgLTINPFfP2pAEtdIZt2MokXnojEpDJnm05AMY9b6VybwXe9c1hz+MIfvl/4FeBVfKyxJafV/nlvBC/hqEGAqLsY7JH0jKoagzFscTulRgeUgHCGD5AZpw1Y1xjooqzh4Xs6fLUH8dCaQEHwhIQj3jAy7wYhiUdy1oUNSfr4SlAbu9N8iOvODp890AXB1vlitORwQGAW8phHHvJZ/wCngByCsy4BSRy9MDgy1/+8rd5ev8arX7P+Bxl54zWQ4+qeDUO1ut9BD6vsuF8jc0R01vOBvhV+T3SGQd+0YIGDsaqiYeEjtymEp/xEFiR1EpQSqA4Gnt/bYNgW/F8iczXXhMt9gN6mhfgJi/6DIAD45JstNnOY9tD96wda7weQDOmbQ/ecmE/GUevsR+JNjoEgDe96U1TxXW8f+/PeC5APguVX7TguRU2CYiqJvBQgkJWgKdEUgzYmzf1jy5BTjFGAsnP8IFiA9tSxVOs4Qv21GH08HVipTgpSJe00VsAxyv0VO1dF/1bH81R4u9ZEDZMLmhRtbPFx29bj3mqPxVWPMd/fOBzVYElBd4EcuqeI87ZrmmVx4oxmuAIjS7jk1UuiSXguYecRh1UZRUbxSGrFOKB+GQ1FPjdO4HMh9JZOIFd0xNJihjNhmAtvJIsePMC7LOnnNAUXVbmxGa2E/gFym/e80ugBNAASybi1UImLkvhYAQjAQFBqkX2U6m8LkHjS8Y7dQ2nK0h7s8HrX//654xKSd52COBvb8GgC++AbJVoT3+375nxAAvA754PvM15M4JfgVpFkyGhR0UcT0aDm9+/9XdjaTkO2Zv9lIBEQUnypIpmlcD+IXNYQ0cGYgxPEAMugDTHav8wfRAMgRkghnPhWIwPdI7A82jwazuKykI04AtnJzAe9caJeE1OElXAF02cTFUzdk1uthupyB6hQ2wY2AVayEpiq+JgVenrvu7rJptXTQIGt6CH/pgbgKmaaaXEdgJVwh5m5V/oD0Dsgdt4d8TRHJ82+EVDsaJlUQChgCRYawCEij3gV9Duvr14Vf8qeQI2WQFa6JEsSebYlULFEQ/poEecUv22qgVc0WWgz5Yv4GJcZdqDL+TFn3rbA98nRj8N8IsOqyreSw1IBV4s58MSe8z9Wp/wCR+jIKJoR0/QRlboZPd8i61n1/q69Xd86V6xGaaCpcRsDU2Sf/uAs6Ou3/qY/QC+ACWQy44ka3SXD1akYu+2DSmyAaRb03GuP7YET7Ehdg2I02UyWoI176r8xhwK01IBRSEszk5QUMmy51YFjmC1APa5Sd1yXr+Wi1R+ZM/tH+XkKIp9nUdUftFBWVS6ARlGI0NiREDd3m97mPNuDn6BPAAGiFBVxRM0z+/b+zvlFCw5EvKiL4yJEqvu2edr75cq+S300U16xmFZefDfZ+iEipQqnZUJlQ+GIylgzBrnonE0frMlQuVvb37Uf+AXLWTF0aiYCdKAWNfteYx3HBmbIh+JGxkB5fSZXXsAzorL3k6Y/DVZPp9CXnjD2QlUlrQBT+AKQN3yeQI6ysmyE6sHmkDgAc1efk9PHsHvSyb9VFGUXNJbesKm+RsVRsFTNYtd0t/ix566rG/LsQoyaCh5890+f6tzEmSv+dqbDvNmT97aIi7xMwA5PaZLkv1ey7kXb9iRhBb4tS2FLT0N8IvXeG77HVnw++h5muBXceGlL33plEj3Rhu0AZu2o/A/Vt/2BHhjrBvBb0WrpwF+2ay5W8VWNJOooINte0OS/84nzkrEl4DOe+2MbRiHLKweBH4Bc9jhEPCboCyfv+51r5ve/wn4cjKCt+Va2ayl5vlyytbGrT9VRJUoFU0VV3QEfo+q/BKsuVo+UfH2ZDOFAX5tewB+OcB7FWDp/SP4xQ+gQUOP1/9QoOS4tM8triMrwBeQUFXk/BgTZ+zhN5VzztF1t4xnToKNd+Oq+KquqEa1xKiiih/G1BizFrgDfl1zNPi1fOTJ5xH8Ausq1keBX/wWCCRxVlM8iNJ+V7qDNm9YkNRuBTSvyZg8VYSqOqDDkqm9uKoOKrISX9Ukifa1/pb+zq8A9wIe/rNtQNhecNUhD8VwvmTkX2Mv7XeL6/DkaVZ+8QYN+XJV3bbHCJBsKbDJroFfAT3wGw/m3zu/xRFtqmf8HRrYOprITbJky4MK0JY6c45u8+Tz/NMhOoM/4pM42SuayPPc/VucJ69nBfyyI9umqkA7WsGZKnIvecmufBh5SS7AFP214qhQAkiRD7/3xje+cUro+BZ+AA/dn96Pfd37ub71Qxeq/AK/Gv0FxiUJexcdmp990N5uwd+yIXGS/3WUtNkmYsUNltjblvHFGHANkKuAJ47DD/Zj+z8Sq8Gv7FOGTAl0PgrhkkAJQKZPYWRusn3BUeNcgBuEXupjq98opoCMIejhgGXWVX453q3GutaPfW3mLjEgFM5XNnl05VewBiItp6ncUVrvKrT3DZ+O5Ame0SvAyj5RWZuqYvt9gU2VWZURm9Zdd28mSR+AEhkqHW/ZHBhWUQU07Z8CwG0vEJQ4GDzyGfiV9V6T9y2/51zGe4E5+3uBb7JCA2cnSOy5Vzy7R4tqJ/n472H20bMh9iwY0GPBugrr3sEaPekwWugIH4M/VpnI1qt3gHT6gvZ7dWaUx/wzmQEPgDbAQnfRRJdUoE/5zVNynvd7y3djjeA320aHN+7c0ueae5pXR6tr/fe/9FdQUq2nwxK7pf96dA0d82vxBU30AMCy8oMGekOH2beVHzbF/6B7z6Xs6BOUrQjachWIUFm0IiUxAK72oiO9FCONYV+8eA042Cd59Ht+8YQu2I4GaNITQFOSz2fHsyOOeMN3iJF4UaIU+LWVE4YAjvmXI2gyhmdVgF+6++Y3v3l64I2Ni5Ho2dPPGT+7hh/gFglj9iMeBH4lc96OAfweQRN5SVa99tLWUvYM6ylAeKjVFjV0pPPn5PXctodbwK8BEKHU3AMOmIMpgJbX2hy5x+tZAr8Av6qYSoiMiUHJkp4W+AXgngXwKymwEqAiq+piWwhDYuCcseV9tHLQKXBGeE6JL533wJJlTcviArOqMgenwvCa17xmepLftgZBSTYNHNNfzqbK71570ObzAqrsX7Ucy6DRAfy27eGoveKW+emtjN5/c8umgQfL+5Yq/eMYKxiA6SX+b/GbeQtM/Awa8AW4oi/Ai6rEVv/SeAm95ORBFHICXshIdUjVaMn9W13DuQd+VRADv3hyJPhtPuyE/hYgHa228H+SSwnTUYUQNNFjvsTeXuCKn6E/Gl/sn+qo4NuqccRDeHRGcisRYN/okEiqVnlOxQNnaI6fWx4DAuK1VUlghe4CDcYHIuzZPMKemxee2z4kieRrq8bj0xHyiA5+GPj1oJ2tiVav0xPV6GcB/HrTg2bVgv4cAX7jj8qvAoPkhB2hgf/lhxWVxFGVX4nm3tVomEDj9/g4LzNABz8jLtl/7DkhBdx5fG0+HW8Gv4E7zgOowhSGRHHspfQ+UPsB9yyDN4mOzxL4tUQqA7F3VWYLVLXt4SgQgy/kxKkBeM8C+FVl8QAap8/hlUEKkCoitq1saUCcfvs2VRo0GSrgJtCkn8C2ah6ApSqMLvzywNvee37RgEZGa+yqQmiwWuDfhANWQFe6vteRY3mXd3mXqRpuWR/ABGJUiFTGPejlHd70Kt7tRUv9cnSq0JxvSQF6BE0g3f5FKxhoR5NWsK+PrY50BnjgZO2BY9cqDpIpzz00DlroMbnuxSfOXcCxSoIOQcnSKF054j2/8RhgYlf+S6L9o/RWQgA4WBWURKlgKYTgSzza+ogfaNJsl1JowAuJNR0OlEsUXvnKV04PNwGcaOq+rWmqP7ogKeHjbIMTsK2oSPbFUK+ISne7Z+sj/qiqvupVr5oSN3Lig9m0rYL8ohi69bjn+jNf/O+VZ+QEPwBUwNa5+7Y+72F82yLphCIeOuAZ+sL/SZ5UqJ9m5ddKZNseetvDnraEx9mRf58+7lPngyXa+CNGWNHxBgyJ1V6+Dj30V/8SFQmrlxtI3BRk2iu+xsfcDH7tB5RVq6hxuhhCYRi2oGBJCejaWlEv9fcsgd+CpK0kgV+KcnTl91kDv97pK9uX5cuu6Y0mu7Y3l9Oj4BT9kqyX/jb24zODHg20320pABjQwJjoMvArMO0NfjkxIMmyJ/uJJ/hjvy3wIInaMik4xT+8ABpU6GTRqpmW9QuSgDh7B2QAnkBDPDzV5xbnBEiVKuCXw8UXmb6HUGyd8Tv5oV3DS3LeYux5HwACHbU8azsT0KkC7KEPut31+CNZYX9o6vyWR3wfwS+9ORL8JneJPhnYbsH3A3aqiuwI+ASKgS5JzF5ywVd9Z9/47nkTq4/2idMbdOGRt4TYjiZpErCTyZ600Um2w66AXrRYDRS0JXB7P+hmjuTFtj1UC9CxI7So3KHh1oeL49/aI3oUgqzMKZgB4hJ/lU0rcWv7u/V6iYcldLoiYeP38Ybfs7Xqp3/6p6cHa9/ewC+dJR/+3oPFEtpiU+CX76PXYidMOMbWW+Vx6T4xEE1kRm9tb4Wr6LStb4pa+aVL/fjtJvAr6FEEhiRzpSQahQFqVDjts9pzj+KpiQkynta0l1WgZkjAhOqDapZAsZQxp/pfc052okIEtLTXNPCryngUHQKwJMSSpMq84Ehx8cWrqo7e8+uJZsYiANEXxiR58soUS6YAxN4g75Qc8QnIFcCtWgBXqotHPfBmzraDGNeSUk7G0qzqM8C1Z6ZvfI4LaFOZB1wAOwGJ3nB8lto8XOZF5yUoewGG+mVH+GJcgQmIwRsVGUu19i5yeMAOpyjp5Af24pXtFajflhwAACAASURBVJZl6asqPfBg3zgZ2eYUXwBCQNmT0j6f0rl7z+ERQOnZgqdR+c2H4bm5228nQQHsHFXmxQirPbbJHLWUjS/8GltGAzAjPqHLUdIC7Hm9Gd25Vw6X7qcP6KGfgrVkli3xeWydTVlxErj1E08v9Xnrb+iwgmKPJvDLv4nX/nOjJJKeHu17xUJAN/ArJqhs+scyt85z7X3mropoKwx7VvigJ3wNWqwGSm4leHi4p4zGvm034Gvoi5igoYlvVoneWlbmhnd01pHOwg626sAu8FR2hA6yslf9Fa94xbRiS5Z7+d1kqsDJtuEIW6kUFuGGJ0+eTOfFr+jvnnPHxeA3oTuapGzNMo79iIIRRmAOZyOD8i7Dc4Pudf4U+LWEIdtWll/6FOAW9I3gl4A4Og7HOyVV+JYK6F5anhXwy6ht4KeoOd72DXHAgDidcs29cz53/+hYusa5zlv+4mwkdIAW0Kfya0ms6/c6zsGvBAV/jO9dhpJNY+egtqZDls+x4IE3pZi7AM3J0V0Zvuod+YxJ7d567ME7byWxkgTECNgqeQISQAxcctKW3e0jtxoFaCXTrfkE5AEPPRQjOfCdjNha7zyXQFjhkOjt8d/WzI8uCAT8mqV88jqy8kv2AjRwC0wClfRFPPBZ0YF8BKSt5XCqv2xDfEKTWCQpAGbYE/7Qa1tUJFSA797L/HQTPfSGDSmEoAcdHnTz1hR+j92Z0156izf6Zh9iM9mwI9sMxGsAmC7ttUpxSl7O4c0IfktOrJgC4+imZ8n2XD/3nLflw4ofrEB3A75WL2yFsOokBpClcfakZZwH2xGPyEgsqNoKc+39Ty7oitUIqyfwC57gDd0N+CpA2Hdr2xWQLIbtpb/xhS9hK8ZV9RUPrC4pgqQnS2lYDH51rFPInsNTCrdJnzFzKpgD/KqCyLiP2HMWQzqeAr+yJpU8S2+2HBxl3CP4xSOGJWNTIVKFPsqAngXwa67AlUq4ANCe2nTG8rrsmxGNwCq5bnGku2NDj0YfNJ/tuaUnKlgAuQCl8qtq7hqBkoGzga3ldw78SgpG8LsFL071YW4ciwoUZyeZZdeqZYKALBsQVb3Dq1N97HHOSoAlLQ+ioIk9W7VADx9jNQfwBTq9blEgtZy9By361LdKiAoRf4ceD25KDIApuiJwq8xIovhDoHxreugfnyxAqvziydHglx3Ye6dK500cqncFSW9TALDECqABvVvbzMjTYpMxJD/8ib2j5ESHgQf8ESzpiar8mirRONaazwAcHvD5wC5bwiN0iEuqvh7mVMHXr3ms6X/ptcVvuuL93Pasi0nooKMSOInt3snAnN45+AWugCqVWLadnjvuxRs+VkKEH3SFnwHw6LDtEJ5dArj4aPTvqccjf+gEXxL4rVjUA2/RM95zz+eRv2wboAT+syF6Sz7FbVsV8QadR63qiMMq8Hx/r7O1hx2ta3VkMfiNqQb3IJcn502e86cwgIJM8tWvfvVU6QBkRmZ2/55HtM23PVBkxmTPimoMY4uGPZV4BL8e7kIHQGUZ2wuhOaPo2PP4tMEvPjAOlRYPSqkiciwa3QGEgRtB3LWMbg/ekLWmb3uT7BkC5gQe1RDNu4UFAW+gsNeVoQsSwIstEQKYbBitANeWdM7BrwqeZguPJR5vrdhTTwBauqJCpYpIPq3oSE5UMGX35IMOtl3bgy59k5eqmCd6AXJ+xnYZlQ/BkSw4XUd2b0XB8he57uV78McDHgICn0eHVY1Upz0YQl9UJCz7s3cB1MMiW/MIb/g7eiwQCJBHg19AycNK+CEZYdt0hpzMG6AAqI6q/LIhYNOKgMIMoMmG0YM3khV2rUq9NXCYy5f+lVALslb8+DoxEo/YmL38dFdMIkt9kOu8r62+o0ligB7VTrwA+Ow7Vj3jp58F8MumFCAUS8a572XTbBcP2BBd0VRZPZyIJ/wifTH+nvIZ5W8cibbVI/ygv/QG8Nyr8ht/+XjzprP+kyfsohlbXOCDAXDbeMRstO7Nl/Sgyi+fx8+yJ7orNqPbHJpH95w7Pgd+BRdZhg5M5FwHsnhAwCuQcrgMiLMXfAQh1aOytnMD73Ge4QpAqqsqRZYkAQjLpZ5CBjwt7Zyb2xY01TchqUbhhycSZdiqM4xaNXFv59tcGK739AF3FIVRj+/53VtOqql4APhKAhixxqBVimxJmTu5aN/iSCeAXfv7ZKl0F/975ZnqkAySIUnmLNcKTGW49NoTwHTbvicBS/ICNOPtFjTqgz7YDsOmyCjwqyqxJ/ilr0C8SpgExRIfe1Zl4PDYTg9z2du51XyX9kN3LMuSAb0hD3vzOGYJCJoAQICHPgE2qgBL+792Hf7EI75RRdGSI/0FfumJYIA+SQJQLEhpbN72GUvb18ZZ8zt60CIZsd9O4BaUyIzeKEB4a4rr1vS79lqAzfi2pNgDTV8AB7wBHNBBRkesFIhZfJnlaa8ylHiwI3JAE1nQHXYOANL5PQO2/iWsKmeSNzGA/6UvQLh34NOlMYEmr71oKqZ7nZfnULxBxtYdPFF9dv4IOc11DPC3cmB1lK8hK3rkmR2+ei9+jHQAv/Zes112VPPu4647Kl6bL50AKumH+IiedJheS7bpVTq8FY/0I15K8OkIneVTyaNEH06UWLL7I/4lePzvyOfwe8CvBxHZkgTBNqe1MloNfmXWlmExRpAUkIAFzp9B61BZ2hLgVkJp4teOGIM2gutl1Rwgp+M7Zca40eFc63Pt7wUcSiR7ApJUQADxlmuBc8Frbd+3XA+E908u8IG8BEhZv6ri3uAXoLM/B2g0JkNGgyqR15tZGpYk3DK3JfcAR/bLemCMwQBJkiDZM4drTyC5cHz0mZwYOmeDVp+d45jRz/G0D7c9YEvouHbNOfCrQrMn+EUXe2AXgINAYL7shmMBxiUuEpSqU9fmstXv6BIYOVv+BZDx9LXlYhVHVV9BwkqUqr1lZYmJpd2taNBPYNNYCgTf8R3fMelDQQG/6A+dBrLojSoJnQF+LcttTQ//Alz5N9MKEfQ1oCcw4lu+aMuxx77og9U0QEoSWZWVnVgZ5IfZH1+3Ny2AGz+i+CEoAnb8TNUqti2xtVccIBeb9oxP5kwPJW5ipQen2BMe0ZMe7t2bL8nLXI1FLyRjbIjfY08SXoWBo2JSNDmSReBXfAr8Kl4Bv2Os3otXiiHAL19HX9DgaHtMtB7FG3IyFpwlXlmF5E/YNj8jZipG2HaaTLfgS+OyVxiq91Ebk85qcJ4k1xYnW2dghy3GjsdLjoFfz1FIZPlY4Ffs2hX8GphBWwJVxZPhC5IM22uHGJXKKlCwlpAlE790DSEwFJVG+wQ9jMfpUGJByjIcRcI0YHA0qkv9rv0tZdA/hfIEOrDEGY/g9yj+CNiSEXsRKQojEhSOAr9Ak/efAjAAAsei+WzpxN5IRrSWz0uvN28Pc3jKmuHaAiP4ALUBcTqMJ74HXPzO4DsGBgEfAd8bDziKpXRcu24OflXntb22PaSn6GKvHJ5sns2QDxBHR9i53ySz4z3X5nPv72wHTzydbssSp08WwItESrCW2LmGz6FnEgXbrfZ4aBLQtp/YKoEggEeBTTrje7rD35Q4AFzA6L38GO8nB3O3ZC6h93YdY/IvKjXjvuc9Zca3sC3gF+AkHwBGgkg+5LDn+PHEGICvLTJiEL1FC/nw/2ThWQOAU+CmW9271xF48WAZ+wlU0Q9gwuqfYE2GR9BijsbBJ2/fEBslK/hCZyRnkkb+7Ch64rtVOXITn+MTvwv8iuN7xenGd+Q37E8XF9IXFVarS113JF/MWXIrdnkHM5r4FytM4pjzPSAZffcc6YUkhD/xD4MUpMiDDdFZ8qArxmZfku5ea3aEfY9zwxf4zV5sPgcGRZOtbmtltLjyK8gIgKpQnIjlEmDKUpsqmqUvoOCoZa6RIT4TgmY/pmVQ2RwhEhzlAXoELk9PAsh7ZXIpQ4IALCwrCZgAn4cLgOG9xp/zRYBiKE8L/FpCUVlQbeVoGTGZqLh6J6jgPe7DRn+8m8/llu+qCrJYVUHOg84GVAK9juRjTx691lzLATrn6LtKMbCuosVw8PYWmk7dcw78qsTuUflNTzlaCZqgKKmVTUsEgBjzZtu2zHgQ8YhAFG9U8gRjQRnPgUgO2L9+tofWFg2OkB3xORwyoAwE0aetdEg/eGUMdqxSJjEI+NKlEsr0KiBKd2yl4Yua1xZH9ChE8GNe9wbY0WvjkZcl7FZTknPHLcavD+/Itd9OQmie7FqFFU3G3zI5bMz50bzIyAqT1YDxYUTyIAsBEkD3IPb4j0jmfW353dz5eT4D4OVjAAkAzzYIWwPnOjr/viU9+tZsI5IAWAmlx+jxwKbVSHbDD2057rW+YAoPovPPCkRiNT0CzlXx2fiefEGflS34hZ4Yn+9j50B59B/p+8yXX4Nj7KsFQuEse9htJ/J2l/H91NF465EN2fYmYVVttuWELNgOfjjSFTzyQDjgK3G7dbx77hMXPEAK/Nr+BlNIXhRl1/q4s+B3TiDhWz42edUhgwpGqlMqeEAd8CuQIvAocDfSafIEg06v6ACs0MgJyuoEUIHzqFeeoUeQstSOX2g4Gvxywpa0LSFxKoxIsAb2jtj24Glw2x48CMTRlklaxrYPW0BSJRnluMVnvKezsneVQ8mPIGR82z7o7Vvf+taplcDZtqOpLmro03z22iTvNPy8z/u8aclHprnnnl80CZj2/Koy26e4BV/qI0chuEgYBWpVBkGIvXB2AL//XmbrDrvu3iOOEgt2TEeBKwkJmiTeth6o9grUAoUEU+Cma0DqHo7ZFiaggR2znwAvGfUd33wWLFSqJRIeBAPKtuRZfgXgY1eCgMAN/BrTgzLo3XLMeV/4bhxLsOxDhZN/4VdUYiRLYwxI3+b93PsdHfRA8PNgKh3GC7LQ0ASAWhp98uTJ5AfvHfPc/WjpN/NHD7+DHnqCFj7IA4L0dLy++/Y4Ng4ZqDijyz5xCZP4qFKPP2yKP9iDhnN98v38C0zBxtHDfiRT5MWuxdA9wKc+gW8POdtbK3ED9tBAn/n46B51uXN7HMmKnBzZt6o8OdEfxTMxiK5vCX7NQ/FAgUwc8FYqeooX4iU7khBYvZU8hvH2mP+1Ptm6FSWJia077EsxStXavWv8zGLwK8DIxHqqF1NkJCp49jXJnlRegC2KksFdm8zWvzOUKtSqEhQZkCBI2YwKpEoWgL712PP+CAI9gHiVX0tesuyjMmwATULAkBg0mVFmctsb/HJstplIOMbMmhFbQvGPUGSae8gC7zk3xkxn8V/wUdWUQQMJHmDjdGXTgI2HhGSUjhra+m4e9FvwYGi2amzpEOmDaqYEAY098EZG9itzTnP9uud7TkLGr1IoQVBBxBvj45VkzTK6By/23hs+nwvgax+v/6QGkAMQgoBKiGV9/sg9/Aw5a/kdc9vS/+hPAgnooYMvYUd8i8+CNX5pltwFbkvLqvbmkGOez/HW7+gBUvQb+KU3ALdkzTYn4OvW/pfch7/8GuCr+EFvxARHwYjfW9LPvdewGzFHULbPWEAkE0kIGWnsm92yob2TuPROdcr2HH6HnqAHn9DHt9DXe+e+9P5s3ZFuAHW2ZIgBdJbOfNVXfdW0QrhlQr+EPnosUSv55pfRFa6wnQnQ2zKhjR/maoVCcg3wSa7JCdBjw62emMdR8kp/jKkoodgIt6hES3KtbCiEbF0w8vAaPw8zsWE2FPDlWzzoxq7bbhYPl8h4y2vEISDddisPoWsecC4ZWEPXYvDLmZq86qksBIAKxDAoRBHICOrWELIVgxgTB2fvCkCuUkOZBXJZAock09wDcM3nYP6CgAyWAqMBEGPoWwKn+bjjd0bLoMzXcpvgTH74sgf4TeaOwFz7AYEoBiW7FzBtP7Gna68KlfHNXcUb/1WYyR6A8a9NLSkxeA7OHiK6S3foL145+t5n3zW8rI18vvezviUoHA35cML4hVZ7bkdHfO9Y7k9OnAbnAVTaUqAiD+DRVzIDPC1Luu6oAIA+ARpN9p6pQgCYaOOgVXjJhg01jzlPzp2fX7f0u4TaFhqv5ROA0NYxvaJbbMoWEgknUIbOMaAtHe/SdeZGX2x78MAbe7JFxTYigZw+7/3eTby3XO6BPvoiUEqagL3A79YyOMWTknt8sFwrPqngCeASblswJK2uI4tTfWxxLhk7qlbaP093xR5ADl38kLik6rvFmLf0gT66oWqPPnbuzTd0GGA/KmmZ0x5N4oLVN36QXvN9Es899FmfVoF7FqTVWSteCiOjzz3S98UblXirxoC45MTyfuBza3rE6h6GlETTCzKAF+yH9twCMM6O0vXoPOpoXMDXyoltMWhUvGJPt/DjJPjV0XyCnL/XCEHaKQmDxhiOGAPm9xzFlHEcYAWQkTHaayqgy/yBTk90yqRUTI4An/iBHsueMidgwnKTrPuI8Ue+kJFqlOoDpQYkBCmOerzu3s+jDshQVXcFZMoqMKr4AqL2vLVKcO+Yl+5XMZC4qXByJkAcpxeopevzID3/fqn/LX7DM/oAzNARwRuYEZw8VQuoC0zGGvl779iNix8qYyp5ABx50VPJkiVBPDtaXz24Rl891MB2OGRPX/NDQAwZHSGnxsEr+ooXY6NXY+OIBYh7ZXPpfrQAKfSZDQN+KuQCpG05gDf9vtTHvb/xJxIBe4xtt1AIkdxbXRKwjb+lrp6jly7guYKCbW7erEN/vY7OSiU/Ix7cEhzPjXnpvDkDa+KNxEBCwueRjaSEDh2ht5do5BPRiEdWIumMuCgWHG3nI53sCiBBj20IEkx+AOja8vkKY5IBvbAaYOUaNpAE0B06xNegZ6Tv6M/sWOFBAuftDj7vVSzCY+/KhZlsLcMLuoEXVtrGf/JxNB8ajw1LhsQoKwSSAu8hvjVhWwx+KYqlX0xh0N5paQkHIYHfp23UmIQWwQdYkNV5SAVo55CBUEFesHLd3vTq3ziUB688lS3DthR6lDNOcTg12y1kSqp5jpYKgYmu2eI48pQzxX/7ySipBw7tyROwGfZ47RZjL+3jWlA+mi700AcBiY5YgrPHWOWKQ1KBSE7XaF/KA9c1T0eOXkUVYFCh4gRVzOw3PlpX0aYSQV+BCJUgR1tQml+09/3t6Wju7JlP5s/8dzm+DX98dv4I8OsZD7IpEPEr9NZ2oSP8K5njgy0wtrKZvwckAQU+1t7Ao3WXfQIKQIPEDbDyvmOJ5d4yWWoDeMafSKzR5YFafgYwP5pfox0bH+/4IDIUN4EyyfkeVXtJAL9HX+kLjKDRobZwLuXpHtcB/PwgWqyEAepse4+xrJZbwYeZ6IW4jRf4Iv6w5z3GXdMnvbWSaxuleKBAY/vDrXa1CvxSStm1gb3aTLZkeQdRayax57UFBoYEYFEezZKyyppqyVGl+2ix1IVXquT4ZXnhaCfDKTNqeztVw4FQm8Y5ltEBbSkbGZng7IE3e2qBOVk9YMX5HsED8x7nN34+N9cl15y795bzxsMLjp6OSDDtX7T/CiCWRHDUrtsS/EarfvVvHA5QtczqCGcrGHXdkUd7fumrlQO8UGX0Pt9o2IMP9T0/4k/t0m+umf++x/doEZBsN5Po823kRV/2rLo2Rz4fQOFP2LWKmZigaiRh8nvX7sGD+qQHxuLXzZ/eesMMfvBteHSkrqCLPKyYeJDMvm9gYnxn7dH0xKvxCExamcMv9FYQGq854nM64khvxW06bEsaeQKAaN0jVtAbiZNx+DwYQcMTvAlUReMR/BjHMGc+GfgkH/ocTeN19342P/4/zIQf8SI7aoynqbvkZRXUA8+Krh6slfDeqhuLwS8nwsEIQPbMAjX2CgKWT5MhCaUjQdac6/Op4xF0G1d2aa8OflGmvZYu4sG5Yw87qJLIJNGxd5DiXCQhwIz5qy4WoM/Rufd5Mrk0xrXfL9279Lf0sevpomQBj8jHct/ogF13hL4aJ9qO4EPznx8FPcDbk80cHj9TEDyKDyMvom/kzdPkT/ScOh5Bl4DDn9BTVUP/YUlM4Ff4uyNomM99LptoOEpfGg+QsKeWLdvqYFsGPxh9c7qfpe/N4UiaGtPxaVcYo6X5z793/qjjfPz59y3oyD461uf4fQ4w96Cjcc8djcmWYAnbWmEpyf+566+dXwx+MULwEZRU7WQhmu9PgxHnJraGllG45/rb4jyDxit7TwEcfNyi37V9lN2hxfLJXnQkA8f0hvM3f/rSHh2/d+3auay9Hh3a3IhP9XMETfGm8aONbCxBycLJq98dt6TLePps3HGcPvvNmBKkzh11JCcrNPR05IXzT4Oe5o0nY+v80UdyqaHn6PHJgX6yZ/rKtjWyWmJjW9Kbnm7Z5y19ZZ/mn7/DI/4/nX0asjo3l+jteO66vc+nL47xqXOjbLekc5TDuX7Hsffmwdj/KXqc6/z4ebzv1s9jv2MfnXfuafFipMdntiQu8DuO92CY58CvdyEqJ1M+ijcqx5yAx+8vOTzYPPL8keePOvCoA4868KgDL0YdgDfG9izMMZDZ8Vmg6UgaRvB75LhHjbUY/L7YGXEUwx/H+f/B61Gfnh/ET/Hk1LlHHXo+7x558siTRx3YRgf4nKP8TmN1fFYqjKMuRdt47u3h81E68LR4uRj8Pi0CH8fdxqE98vGRjy9UHXgWA+ILlZePdD/6gWs6cCTYy7YDWh2v0Xjk70fy48h5XRvrWZTFNZrX/P6iB7+nBHjq3BqmPV67fQBpq83esuFsyW/vcR51ZHsdOZqno474PH4/mpbH8V6Y+vRC1Jt88V46lx3Fm/b5+j4Hw3vRcKlf89cuXfP29NsorxfTvB/B70temE71xaSET2MuOd4lY2f8S659vObFY0+j3H0WpL2OzlPGvQ6uVyN5AtmTyORfgvWoC8+OLoyyPFIuxn1aY986z+iN9r7f2t+5++b9z7+fu2/v8yMdpz7vPf6z2r+EwAPIvRqu18h6K5E383gtm4fQnlX653Q9gt8dwW+GM2f64/fnB8UjeQWclN37PH7vfNWIR1k9X1ZvLzyhk+mHOXuy2Du6PRjsH3B84id+4vTvjD/+4z9+eiG8V0C6zn1vLzx6nOdl+zjSr20pi3wiPzjawJZj6CsbM87eY62hvfkXDxy9aaDvfl/T3wv9WnLyBhNJv3+O5R3ffKD/rOifYXiXv9dS+scyL5S53g1+Hx39aefndV5eW+Xl1F4irlEM7330WZVIMN2Kf/rZqq89lZeDY0Tez4cfNXzyCr17Xl2yhG5Oywvn/UvYL//yL5/++Yh/8+m/xYzNy/uBGu9Cnr9ybMk4b0/XnNO7c+dP8Wa8dvx86trxnGtr4/mtPgt29UVv/SMH/+/+n//5nx/+6Z/+6eEf/uEfHv72b/92+tfd/jvfu73buz33X5j2pCuaHo9v63/nutN3NuxVbN5BzP+ya5+dG2U88rN7x3NrPy/VgVNjnTq3dvw114tZXiEFyPhnRP4l89d+7ddO/xDpi7/4i6f3/Af67qGte/H+Ez7hE6Z/ZOOf+/C/xuOb/T+BrlszhyXXjv0CtP5/gThkVcd7qtHkX6v7x1Tzhk7/dMc/UhHD40fjjn13boujfse++zw/v8VY8z7M03z9t8If+7Efm3zd3/zN30x+76/+6q8efumXfmn6F97+c6v/ZzC//1n9fjf4nU8MuOFM/CeS3m/o+1xJ5vet/Z7w9VvWqA9jNZ7fgKkytq1oaGzjNb5zxkULR8uYKMy7vuu7Tv9y1H/H828k/ftRzcvhOWHXdt9In3NLeWLs6IgXp47xofEcm4v7x/GXjn3uOn3Vf5/RxOFZIsEX/wmq5jueAMFb0jGnD02yVv/e2b9lZbi//Mu/PB19rr3pTW+a/nsVmgD1aIpf835v/R5v0DX24Xxjjue3+kwWjWlO6Yb+s9tzOjT/vX5uoc3Yp3ja2PkRY9ai/RR/4tup326hz1jdBxj4d75/8Rd/8fDf//3fD//zP//z8O///u9T+5d/+ZeH3/u935uqwrZA4Il2am71t9fR3Bt/Kz6co9X8Gu/cNfPzaHPP3ryJB46KDv7xhH/EwRcLfP55ii0sfBLgl345umdO91bf45cxRv71eW+ZNQ/j1NiZhMCSNqBLz/175je+8Y0PP/dzPzf5S//IpP8wtoXsgKrXvOY1Dz/4gz/48Cu/8isPv/qrvzr53+/+7u+eksjo3PqYbB0VqMSe937v956aVZ2v+Zqvmf7Lpn8zP7Zf/MVfnGgUN+gRftGVremb9xe98/NHfReTrWpJ7n//93//4V//9V8f/uu//uvh3/7t3x6A35//+Z9/+KZv+qbpP3LCPEfRde84d4FfBpARdORIqnYKAv4LEMejqjdXlO65ZRKMdrzfy9Upo38FaFzNZ81/FPMbY6NIOZeOt4zfPfXBKZi3cTnZD/zAD5z+tSVH4v+8y2r9609H2aP/T+0aywhoVIXwsvj6XXq0xyZ+4zVgea4Zp9/6bEw8wcuRn0vHn18XPzqvbzTiPT1Qdf3Ij/zIhy/90i99jhd48trXvnb6P90UEi/dp9XPVkfJhn/tzIiBmH/8x3+cKniqePP2C7/wCxOt/oNV49/Do614HC17HNkoOaUn53SK/tQkemRG9uboONeDU7R2zZyn9pXp29inxndO4kh3gdPGPDXGvedG2tKdn/3Zn33wXvTf+q3fmgDvn/zJnzz83d/93cPf//3fTzr94R/+4ZNNCqyBhXvpeDHfnx7cM0dyGvWAHvOpdNmeRNXMT/7kT57+7TD/a9XnMz/zM6dEGJDxnyfpPL2S7PJXW8hupGmcn/96mQ8Wn1Qdx0QLT0bdG++99/Oc3wpE4vP7v//7T/x4wxveMK1uWNGwskG3/+iP/miKZ2zA+PM+bqEJj8XG3/md35nG4YuNZXxFEWOIAVvzorgimSVzMVo11wqgf9MN5P7uNPBPHAAAIABJREFU7/7uFBvQVBMfJLt/+qd/+vABH/ABU3EL7thSTs11bZ9rr18ir/rk39/rvd5rkpMkH+j9z//8z4kXv/Ebv/HwLd/yLVOlXHLE5pb0fcQ1eKmdG+su8FunmGQQxutfs1IM+0LsCfm4j/u4h4/6qI+a/gUmYHyJmPpbcjTm2Dx44v88tw/FkrWxLWF87Md+7MP7vu/7TtmLpcv6T7h9X3NsbPcwJk5TRdd4n/Zpn/bwFV/xFZNS/OiP/uhUWWRQwFSVxu/5nu95+Mqv/Mpp3yBa3/3d332qfC6lofEpJkfxMR/zMdMyvfHPNftz+s3nl73sZdO/JcWT+jP+PXyJfn2QNZmrJtALNH7u537uVFH9yZ/8ySmrxhfZ9U/8xE9M/EIXR1w/Wx85q+/93u99sGxj6fo//uM/njPkqniOjPuP//iPJ1COZyVu9/AGP07d73wOufm6rmv9rvXbVsf615/PxiAvlfF0hW6mM46+a36vfeiHfui0XDoG77HvS/Q2rmuMLxCryNV3NhwN7FsDMN/5nd95qtzM+x/7nP92z3dgCG8sifrf8q973eumJO6Hf/iHp8CgIqIKwvb9a1t6D6DvIbtL82j+owzGz5fuveU3fa/pf+31a2nCbwmUlTaxh75awv/Wb/3WB7Lig3/qp35q8gMSb/L89E//9EnPJebv937vNyXpkpe1Y3f9yI/xs9/ZuuoznbZf8sM+7MOmveT83haAOxquHZODwpCCzed//udPVU/gDugFcvKJvtN5fL3W79LfFW1UDBUijMMX88ligli6tJ+11yUPtqlSqdKsmis+S2r/7M/+bIoPzb0jfljxwQv68j7v8z5TAjP67vpeS9Ol6+nz2K/xxu/unX+/1N/S3+oTtlEZ/4M/+INJRvhAVvydRMV2CLpsFWXrB96iYSnNa667G/wShIBZlv0Zn/EZ074djkaZHPj7tm/7tgf7QWS4gYg1RJ66lkLk5DgNTkvmRokBKU5Os0fl+7//+yfDFTTt76k/9/f51qPslfOgHKqZ5gzYcbC//du//fDnf/7nU+ZYBu2oQvSHf/iH01IPWvGIAwbSKc8SujhJQM4ewy/5ki95AKZ/5Ed+5OHHf/zHLzb0aa77oR/6oYdXvOIVD+/4ju/4oBJhLpb/7tl3CwAB02SiATIf/MEf/PCqV73q4Qd+4AcmY/m1X/u1qeqqsiDTd7SPEs9UxzlidNwqk0v34ZnARw6MN0POwY1HtOGRAGkuS+RyaWy/MeZ4JJDgeS2eOXLMVQ7Z2Ohgr42x5PecClmTl7E8rWuvnSVP+sF26KZjzXctPaO/3/AN3zCteKwNjPhpbPM3Z3YEMEqSjNcY6Wy2Zcxv/uZvnipRghe68Ytst5DROf6RwTu8wztMPKLXAK7lwM/+7M+eAqgK8F//9V8/qAwD51Y5+LytZac/cuNLx8Zm+A/8wFMyValzXkvm5+a39jw9xnP+f9Tda5+TN31B3xb8IXf98It8GTl94Rd+4bRHW0ywtUmFUULLrvll1Uxgx7I+naJvqliSmpe//OVTNXYpT0a9ixZ8QAt5jDxR5f2iL/qiyQ9/3/d93zSmQoj9plY1yFQfY59L6VhyHbnRBbynI2LIR3zER0z+GfAUm/7yL/9y8stiFZ+o6im+uX7JGEuuwRvPVih+8MfFRjQoZM3j0Nb6Sw89pAX0mrOCCBrMVYVTfJg3vADQrR6IaQAw31PSgsZ76CRz8tef+atO6z89yrad97vr0pclPL/lGisUL33pS6dqeJVffMAbW2MkRfCXQhzdumWMc/fgJbse/dySz/jivku+5Tnw+5u/+ZvTfjUXE8BcgOOkEjCHyqhlr5/6qZ86ZY4ClP07lg0oE2ejNM4RCazuucWo5/RgFuVtOeu7vuu7HszBeDJJAAsdsjiKrdpnad02AzRcYso5QXQ+WiifSpAs0PINI+Y0NHthAliqiDIlzV4ZzVKK3wVL11Oi7/zO75yWF2ydAAoa79SRollm+IIv+IJpXHM0Zk2/Wt8do83Rkj9ekZfMzQMOn/IpnzJlsvhKwU6Ne+ocXqYTsnlB/5WvfOXD53zO50xbDDwkJLgAB3TC3BmRPZPAZ42jxUNZpNeo4ME9cjpFK6cBnHBwVX4ZMtmQk4aeHD5dAsot+wjydFe7ha5siDMT6Lw5wNIr3qu6kKWgqNEpIBA/AYxbxjs1/87hLV4ACVYOyF5V/vWvf/2kF3SHrNIb+pLejEfX2esqCACES5M3dAik7pMwm7vlRwFWIqf6BKA0frrrHJvmX4BwuhvvbCOiu1tXH+KZo77xjUw0AI6+2yuogsS2Jb10WOWRv7nF3zXm/F6ARQC0nM8HAFKSBiBbIgCQ21KFn6rnLelL+unQWj1KZ9GT3/OZfzAuHaann/RJnzTJgQzTYz6fLnuAyWfN75J1Sbek2H5L82m+a49owiNH9kmfbW8AYFWlAF66BPDmd/gejQ/gc+gw/aZrgJBiDVoF/XHOS2kTX8Q6tm2u5hwvfAYW7KWl05J++sLv2Y5Fl/m+W+PkORrHeZCpRjfIzkNmKrA/8zM/M/lGflulHDC3tQedYsVHf/RHP5dErdWjU3SxpQ/6oA+aeNM45GQsqyeetxj171Qft5yLF/SOH/71X//1aY7FgfFIR0YwLE4AfZIpsZO/lDzYKnMLLe6hvxrAxr4VEtkWPbBCQB7ZDf2wsixZYf/Gpfd8UfO6lY75ffXHr1idkCwWG/FBU+hDm9U/sWpLedExfCEn8xz9Hb83Nr9pqtQ1sQBfoklf4xz5npc8PDxMwJEDb8AmPl5MODJTQQbYtVmdw2fAnIdgiTlAxagwPgMRnKDtCYiKoLH/JZ/RZRIC7ZMnT6ZsneFwHrJ2oEuVuQfMvvEbv3ECXRwbEC5bk+3Ns8olY3cNGvBJ4ANYgWzOtE3gPnO0lgk4OcCYkXBuHAoHy8A01zImnzlhFWBBc6xQN+549FRl86+vwJtjINsyTZ+dT2ndQ1bRyulwcir29sOpfNi6QubjuOc+A1OCBdDGIMyf3DsaR6DBL85WpQNPgBdOBC3oRIeqnqBK4bdwsiPNZGZpGl3Nn96SC4evEkGPVB6BLHSjiexs55GBp7unbGQc69RnwOnVr371pBeqTqre+CIRGpvzgrZlW0EK2DnV3y3n2A/DtxJCVpJGoBIfRhp8xietz/gR36qKSGKAGUCWo4o/c2czp1WSB6QAKHxGOqn/UzqdfnedI3rcixb9WLK2knFt7DktS7/nf8brOViBCg/+93//d/KFHpqRUFi+vZbIjn3NPwNR7/Ee7/Hc69UkCvRTAqfRZY1PkaQJ5Ok2n+e7SppVMMFi3v+17/HRvCUr9NDeUGCXjQiI7ITvIoNkRy6j7tBx38nKNa7nt9EueNqXe4s9RT+6rL7hOT1gP3ydsdDFFxk7/R1pdd7vrmcLVj4kYVYh1tJE9wVfCT/+p6ONhx40aOM559GRjxTH6A6+bOkD7XH1DIMtb/RHkch+18/6rM+aVjFsJaLP7/me7zn5KXpDxnhq62C2Hd/vPQL5QBPbscoG+OIZ/RAHFHjEQqDw3rG6P5kC3/QGuCRvMUk8+uqv/uopNkmuyUhLZmTkO921YmClEq/Mof7XHPFTwua1ibCJAp0VCLKBHehjdoMG49NtfGrFAq6yarxm3CXXsn04ib0bg0zIRpzmi+nsnuAXjWRv25LVRTyR0Jq3pmAoYeND/Kb1m+tgv7aWfsiHfMjUl/jb3CUti8EvBVTlYCwcnyfiASZMqAmSmKTKJ6A6j1EE57UhgCdFuTWzpbicgYzxy77sy6YKEJDA2QC97/RO7zQ5LUEY0OFEGC4aOBYZrmrxGKRjxpojpdU/RwnEUAoNgAB6BZz29aJVdY0SqcqoLMSvDMsR34BfTvzaxnEZK/CrohqgNUefHU+1xsqIGFJ0R48kRVbL6VnuX+p08AIAAGbw4y1vectktIxXf5ITCqkaJXkC8DkNSYosn0Gjhf4I7oCm7HdNBXqJ/NDJQMwdj+iv5EUyhyYOXoXDUrbrCpq2lMi4VfICMznRJeO6xvWqvipj+AGssCFOThOIyKigTSboojuA4tJxLl0XzZaxJK/4LkEyLp4A+oIdPeDgyY6D0VSoAJ2CerpDn1Q6AWoAaWmAlCyxYfair1F/0WP+jmNLT/s9GjqqZAmYl3hw7294WNMXh0ovJH7Ar2AlgEmmBKVrtnyOHnzk01QNrVzZviVRFPgEIHoi8SjBZXNafMQjfHENmd0C5qJNIDQPiZjk2BYmtooO40dHuqQy7+l9Nq/Rb36BjuEPOfLH9E8sAfAD2o259Og+cYXs0cYHpx+Obalia/SZvuJL+tVnR3QKtPy0SlL2spQWMsNn9qJ/8qAT+OJoDCsl4gO9R0tyyo9bxVNUYvuWZgGQW3mD7vFe8gN8xeJiFR3Df2BQsYPPBQyAQvqGf5Iosb9iyNjnUt7Mr4u34rlKpofN6A39pU+2q4gP/ARAPr//1u8lE478lWTA/D13I3mmR+xWIYh8auSk+a5YAgcpGCroFRPQ1Lyu0eceBR5VVf0BkvRTzKEn2XhxOt/nt3TFtfCEgsrSca/R1e/6o894w7eF5xofH/YEvzAiu1Yk40vMmQ3hi0ZHavmhfBEd4icVPCVVEhoPtSq8Nj/zWgx+KSBlVL0DahgpBhg4h8ugnPd7Qc3vBGefDNBG4EDVLQZEIJSWguoP8FV1Vk0EqgAmAKPKrqwBLZiU0gI3MooMOWYsPUaDoCcoAU+BJABBJkKZgTpLcKrUlg7MHUgAKvEDPRmTQEC5LIEDYXh0iR592WcjO9UPA3GMjr471oyZAXekUM6n0IIRngJiAtxSpxP4tcxHUfVJ+dAnCZCcCCr0x3IWoCzjtb/XnAukaOV0gFBJUo7qEi/W/GY+9vzSU7wSiAAVe8wELVVDjp9+ARuuIxuB0xKuSpy5GvMWZ8PhqU6xIVt18OXbv/3bp+b1a8YiR/akCYB4hrY18zx3bTbHyat2ACIcCnnhPZAElAMBgo/XEKnAcLACOtumH/TFPRqdsUogiODvUvAL0AMr/AR91Je5O9JL8/fZWLWucxxp6LvAbh9u8zzHh3vO65teppv8gAodWeGlOajEAhgqpNdWcc7RwodJlFQw+BiOnL5KUP7v//7v4c1vfvPDW9/61glg5d/iT/wTDFxDRh5IuZUv7uOTJGIKCHQE/9NTPp49aRJKNkWfJbLsmZ4DUuigZ+6je+yeXlk1uJU2ciBzq1UqcfpFW/4Q3/hjgJJPwyP8cU38cq372kpjVYT/WWvjgV+2gxfptHGMwZ8UH/Aw/Y4eRz6Aj5L0KITcWihKr9JT3wE8/gfQpEcSXFUxFd/m6vrAr8SEzQPrwMPYV/2vPTZO9/luCww9Rw+50Cd6ofqtWj1W7Lrv1iMZGVPjj/UvHrFhsVos4M/QQ2YanSXD5Mi2JQfilCQpvIGm+fzO0Wm7grEVVYBefrDElm1r7JdORIfx8ce5/Lb4oWh2q/2co09/5I0ntnfSg2w8erYEvyPffJaMSbjgPH4PP/zxffm9EQzjVc21fItiDTwi3lotHyv0z4FfWbkshmKY8ClGEpa9HSpiOqYQBaoUxEDKz9A2g8mo/e6BNEieE70HeLpXoKn6IGADUIAU+qsWmocHTzgZwYHg0GaJhbLL+hL8yPjOXToah0EC3Rwm0MtwgQWGYQmDAcncgfH28AjOltYpMZoyJnOQ9XJMS/bBAZDAPlAiK298Ve6xjeeB65Q2x98RHRp5auSrX2Bmzpv5d3zioDkPlXY8UDkUAABGe9/MSyIC8ACPZCgBso1AlVVQLCAKmKrkQAM9PDXeJdlc+s18gHF6KimiQ5IUwIDelI1LLlTuAD1BAh9tX5GYWD4end2l8ea/mbNAL7ha6sKTPtvPpfrPrnJwwJMxtwK/0VPll97RQ7xnH5wv0AKY02MBmPyAMHwDwsg2fUGnSrH+8HBNoDYn4Fd//IQ29qvvsQEnnFkAii7TVffki/BLgD/nw5r/Fsf0kh9Q+aXjnC+66AuAwQ8IjmvGG/sV2PjR+EJGPpNX/HJOcOA/+CA6S64AhGsdFQgEWnSc8u2X6IuXKnDsEojlS4wjYJtrTRwB/FX06Y2VHjJRSZX8Asb4gy4gD51Ajn751Et0nPvNfd4mA/zSWXpCL6w+4gce8kuqY+jyO965xjGfaC6qeQoWkkO+4tyY587jla2BgDa/QVfR0d5efseWGGCFnSVPeo4eDT2KD/yPVUP6lU6cG/fS+e51tNpGT4EBtAC3gC7Z6gP9mrjFL1vx4icBdpX/tbpziS6/6Y/8yF91ju7QC/YsgUKvmDHG6mt9rv2dz9L4dDYiGfCWGQkTWaCFnDTyIVP6RDYKOEDa0jFHWYh9krav//qvn3TFWOkAfWDj6QUa0tN8Ad0Vp8VL26HqeyktS6+zjYc+ALoSSXbC/tEU+FW9rli1FR1W59mhxFmMwI/8XkfzD++4RizKvvEnHtEruAqmiD56P1V+l4BfCgj8qoKZOCEQFmWV0WIIBebwOSJL5xFJcLLye8EvgQFODFjVldOVNamOheoZlOY61VHBQyYgCKCRskH9AOlSBZhfp39gCQBVJQTG0SRrbI9mFWjGLbMVCAAoWT2+EQzlxkegnJC7Fwibjzl+F1CBffMzruzxVOPINdcApZQDwCIvipOxjQaFLt8FDkA1ZWn8+Xfn8cKSgiAkS2SMjpaE0MrQJU9kgncCi4clgUyVIXQADgKG77Y9XKt+R8+aIweHZwIyHeXAPCSEfk5fX+hDK/oFCAFbEwDsjfPwW2B5zdiuNQZnaf54Gx8YpSyXfuJ9uoHGrcGv+amoALaCMvvVACQVX4mkwGfpz1zprnMSWoFQBSC9cZRc4sfaAFXldwTTAozgQg/Ghv/sHKC018t313J0BQZ8s2fP6grdMs+18llzfXZgLNut+D06zKb5U/bc8vkt/XL++M1e8xNsNn+LP2QhIAF2bFyTpChQuIffpUuA6q3gFx/preQWSMF//oOd0hO+j4/J/9Ab/OBf2b6KoeQIsCTbgrzPki2VZCtj98jL3Oi05VnAUUBUZAAy2bhih4KBxNO46S8e+Syp6uEl197ie9IHfhBf6IDCCHBi7yHaJLq25YiDztFhehsdaPGZTLcGv3RQksbPPHnyZJIbWeEdHfY7GfDRfI5kHP2BXz5xjR4vuRbPjEn+aCID8qMjR4Hf9BsAFo+sXioq8TF8Cx+TnNi38/wi/+UesWPJXMdrzFtstN1DkalxHNk1+2L3bJ1+4EfN985JHiWVdGvsf8vP/DodURxVOFTwkxiIF7Zd4hfwKzniJ7KDtTSM9q8PdsSmYSY6gSfFBHxhx2IPv8MH0Vf+n+3jT2AZT8UOiRR/FH2rwa9JApM5MI5V8GIg9jESgm0FrgO2Ar8I2Ar8UjbARAbNOIFgy9EFXwIAOCkm5cIg5XG0YKCgZDnplgdARoEah7FgIudOUJzaWN10PbpUQVS5ZNIAFX6gh7MjKPMwHwEGaL5mUBTDE96yGWNrHHufO1qm1CQHHItMTfKCJyoS6CDLDKqj88Avh5eyNPf5d+fxQoVCJtzeKdkip6raSR7jfc6r/EkeODl6xLFQavKRRAie4z2Nf88RXzn/+GJJR6VGnxmfI4Aq0KtKAYgMjZNi6GgTSOnXLbQ0TvcKNnSELDkUMsAPDajYA/ziAaAEyNAFNm1vpoqQxEDywtl58FAVRFIrQZM8Aej0Fn102P10cW2ljK7TSfwF6jh7Osk+0DM2oBxtALttQ8YEnOhLgAHfLFUCnD2YOOd1PN/imG6qjJCdPdQSbPaEl6qQ5CexWTNe/QomVTLMDY8EXr6WDeOP4OO5AwDPEizdbItKgEpl332tHqzlievZN3mxV8Aa3wUaq1vG5V/yQQoL5szugUi+2XMWQKA5mAvaAr+CqQePmvcaXnUteVvWRI/VHBVNsUgVj3/ml8lIXDKu8YtNYoIVDXrPfymi8GX1vfQY/WwZkEMHu/EWFas8/DPQxN+gBzgPVCWr7IqM8Zc8t6r8mgefao7sHz0AAT0b58s3S3hti+IfxAH6LOYs5cXS6+IZUMLP2UqgyIAPR4Ff/peu0llFF8UxdsWOyUfzWaMzEk5xv0on21g6365jU4pXCmf6E2/zf4Aa+6aTVnOMy2Zq0cIG3SuJksTU95ZHdLYaCjNZSacXVlPEKoU8by9hd2x9HufX0DLnIztSDORX2VLPyfD9eCMmoEN1WJzycLiKvMSxmMCuyA9P+SWYL51bBX4FN46uChDBMFIKa/lWVVgQ5MhkmCoQgoEgSbicHKPHJAq3hjER7B4Mlp1bMgBiODUCIijN7x0pM0XOyXB8nDBDQ2c0jP137txxvNY45gJUqSoaOyE6h2dooMyWJils1Sp8IRwBwdK7ipX7z407P48OY5R9omPe/I4e5xkbgE5RVD+9wYBjwxt0jM05sqWA43zRMP8eXcYxnjlwJj73W/c4z9lyvOYLrMjmBOiWZ+kJ+Qho+FsfWx3xAh34Nud346GXDss6OX68QSdgDtAI9u39XUqXvuODcQUcGbWgTS4yV/qB9xIBCZusdmvwi16OXnWO4wBo6CiZcHASAnP0FL5qnfkDpfQ23eVc2DRarfCwpVYrmuM1vgCNKnMSDGAFaAOGvToRPWNDo4CtwoxfEmzgAFBmP2gRFPQFHNu7PdfBa/Ss/d08yZQu2BYiaLNpyQF7ttKDn+hY03f8kwRLuARF/HZUaFCFl5jhD72RbArEqmdWXmxLUHWkQ3hDbwUEAAMd9b+UJnZtnpbGBRBJiOBDBmSIzuyJTbEvti+BBMpVxMl2TJroEWBPfgLW6CuW0tVc0IZGvkpwYy8agKK6xtfxKWhQkGHL+AlMqIibD56yCf2sGX+8duQreZCLvbSKIWKe+GCefpPECebsp2QATRp50SVbxvjqtfoz0tTnfI/5JU9y4ofG31xPp1Sd6VFbWwANKxHjHOv7nmP94YvkTLHKsxZ4chT4pcOKGarytqKwHYl18gh0SpLoLMCFF3Q9+tfyAM/FF8mZ7YESSkU8CbMEjb8THxUMjTvSEvi16g2LwUDwkD7X0nHten1q9IR9SZYkB/wsLIVmqxx8kbhOjrfypPuM12f4iS83bnEq3weLwoBwgoTSZ+CcruJRPGtrFSDN9ur7eeD3khNivLJ/Wby9q6qvmqAkIAmmskogS9WP8QA0siVNUOKQOIJL41wTiN/dn8NFl3MJn3GboKOHcGTYMiTC4liAXxn4qcovIWtLaDh1DVpUSwkDTyiF5cFAb9UyYM9nxoRPqiYc5ak+r50z13NtvNe8GCwaBSzLb3gD2KQooyOW3Jyq/I59rv2MLxw6A5I1mr8xycbSIxAkiQIKOWfzSq5rx7p2vb67Zs4/54FbgZv8BEwytOxuiYXDWVvpbCx6yRBVdbzaBsC2R1BGy2gBFs7X3ioAg1HjW/cvOV7jGV3AX/rAjgBx4FUDcoA5YEGAJh/6QV8BKkf0yaZl5Kpc7l9rN/iHDwIeOwGsJMd0Dk21aEQv3hlHFYpD9ByBCig9QiM755j5KCAeoFnCrzXX4G1ACxi3qiNo0g96AuRZHjQnvhDNa/rvWvO3R5VuAInsxWfzBizxRSMzgUDlUlVGsJQM8DEAs4q9Vadb9RU95pxfE4RUrIBtNM7l7lpFED4WUCAP1f18H/0WoDzIIuGj36MtNv9bj3gjyNFLhRk6qvINcAObeKIYAQgDGypGdOXW8c7dl4zorXglQRTIraiw9RLJwAz+0B+ARlIoGQWQ8Pcaf079Ti/4DfGWL7ukh+P9Cll4xpbwiz7jF8B3bq63nh/HJTMVZ0UzfBAX215A924d49R9jUtXJUf4bVUUPmA7ZIMGuIV86Ay5sC8Fg1Hn9XFqjGvn+DB4CWDTxEVYSmwG6MQHWAU96QYfl76QEf+gmk/HjNe8ro295vfmR3/FI4lvz14ozgCRwDdfRMcq6ojhaLukd0voML6+s6c+029+mK/nb2EZD2fzNWTHH4uhfLNCzligMe4q8GsSDEA2DahxGIIVI+UQEUGRAGOVI0GJsBBCYLJv92wBfgkZU0Zh97nzjgCecQXrqiAUSgAhGNdwTJSHQvu+VljGdY/7MRhP8MNSlwy/TIQSxw884VhsdxCYBBIZaHNYohRLr9HnvKFXpm1JTjUJbWQU+GX8qsKUa0ua6A4D4mhUwgVqYwLgqlwqjXRk63FHXplP8nLsM/nV6ASwoApp2YXcGJNgfiv4TS8FIlVBBkn+qjw5FPxgvBwboM3545msepzD/HN0OzYn482vG7/3u6OEyJzdD4xITlQk6Ia5k1HghZ6oygAvKmb0nUOqv3GMS5/ZHHuRNAvyAJMAiI5RX/WrOdfRvYAl2dAl+7zQaSkOKLcMCEz3IM8lOtb+hj6gV8VXlQaAysbxhq+xpUQwA3bW8iV6jCMxAK6t0kiU7O3VJxnjB/DJJwN55EGfxmqiIOXhRVUkMnZP/a85uo+MC9i2MtBJckCLvszTZ/qNNwISkMfOgQr6gz8CEp7Zzy7Ak/saWi5di05BkS8FrFV1VfKAmBI3NKnMq1gBeooUpwohl8ZZ8hta8Bw9Yp5kiD8hSzrCpjR6qxWwba1yLTnbgrBGZmRQo/uqZAAV+6JP53RxHEPcokf8kDjApiTBaFky77XXGBtd4jEMYRsPXdkL/BpPA6boswo7TEBPyYGOiod0hj9uKxb7kygBeuMcR96N5y99dg97AnLtidcUFq3O0Bf6yO6tWtMRulFDIxtHj0RqTAxuoeUSnemSuABL8T/sV7FKU7nmC/kCtu969iyJgYEUQendpTGW/GZemjE09PA94oU4qlCjes62JSp4BL8oppGv5IL+jrRcBb8GNKEm5nMVAMEHULFUaXAC38nCAAAgAElEQVTLn5ZIESCYI4LgCIoDAgQpDmeN8CWTPndNQhmPXZsCmCjjR1cBgcDGyi+nxMlw5oIwJQQ21tBHEMAa5QX8OS/ZBj4AD1WEUlpleM4EuOB8Vb9GoTSPPY7kqF/zo7RkgkZyCpxLElTS7E+WxcXPe+khK/JgtAwoo8YXwNcmelVfTsm194536n5z4fAEA3Imd0teZD825yxXAoKMmEMUCO6t/JqX1Q+yZ5x0I900BhBFdzgVCRq90sgrOTiOjf6RJXtEtzmxsyWVPsGZ42rFhj2rbqj6q/igj15wvJZALbWh0RKhpNdYc91F2xr5uX70L+fk1pz9rn/yAbAsvfE3aAz8Cgqcm2tO9XfPOcGJc7ckyUbYT75OhVGVzB44uqP6kc3dMiZdBeTIk39RyWOT9IGdSJqtQtjWwGYFaxU79mS/pkqx1QuJADrwcA0dI8/dh+9jG/tCk2RGwoY3Ks4BCTrE3um8ar2ldfMRkO7hzzg+PRSb6CTwDUQBNMamu8bmd4EKtg9oCJ63rFqM4577zK48TIsfqtASWoku4Ismdu/I/+EN3aXHtq6YB36e63t+nkzIypHdm5cEmy9RXLFv/1JxZdQLSQm9xrv02XYvfmg+7lbf6TlwpbAgmcWPvcAvuwE6ATPJF9DEr/HvxqWzjhJHMjN376/nW0d9HXm2lg/k5B4667MkVtKo6stvSQKsmPDB9IT+8jMwhfN4hH5+v77W0jC/Plsfj64B0ukT4Ksqz9ehiW7QVfpWDECLrV70h1+GhfwuRulrLa2ur7mfDkrqxGpxVPHBw3ABXraUPUky6ZNCLVucz/cq+G3gjiYBMHKmsiDbHuzRERApEGFRGkcgSgP2BHsBk/O+tgQzJ3Lt95SS8wCmBIGWDQQH4JeAOD+O0jUqRZqqJIYS+NJxCV5fHC4jUWlR9ZYxqngkEEYFfKtSqazZqC5wUeACAD4vHXfJdfqLH+NnxkZxKUhLkuhDKx5JYlRn8KH7l4x36Rrjc8LmztFz/MYEWgRrfFMty1Au9XXrb+bCeDgX2SCZe8n7vFnWtWcPgBGo0cng7wW/+CkBkAxmsBxtWT2w4iEZCRFASk4a/Ug3zGFsgjcgaj5AnwQMeKaT1/jE2UoE7M1kz/ghkSUfusp+zZ2s6LRgYJ+2bTpshy+Yj4G2aJ3/ttV3Y/AlHswbwS8ACHSZv4r0KfrupQG/8YouALotqZMjwIAeeiwZETTQeuuYkhPjKRgACIEivo0ftbdVVbeVLfbb/kFFCdtX+DNg7xY6Rp9hDqNcx/7op2qV5y9sv7ClQLC27Q1faoKiiive0L3R1sf+1vLLvYKsqhPbthzLh7ExuutVR+KUJ+PpBn5KYgAh/tv949zWjj+/np2bo0qvVQDVKcBWYiIm4Ed2RWZolHBaUZEUrOVFcqIvKqiSJbGIzQJvVmgAhnOAehwPvSpm4nn6rK89wG/jSlL5IIm3lRs82Qv8skn84SsBukC+MfPz+Tv/2Yy+upa/GfkX7XPZX/p+7h42DqApvkk+rFqIEfwvHVYBlsjYOiqZwSd6Qo8vjbfmNzY8b+gNcMIKgLckQbyC8WwrpevZjqPYQO9s0xLL3D+C4zU0jdfyFZJrKxmKD2SiqguvkBeMR4YBc0k/nSI3MVRf0enz88CvAcZA2w3OmwCHpdrAuZhYr6FguLITwsIcjSJpzgOclnJkThQIU0dCxkme+uxa95y7b/5boAGYFaB68I4iCVoEpOKLOQwb0NMIWGWSQE/RceqcawUXPLEvyHiAL/BAKHiAL6po7UmUCKgOAb4UOPpP9b/VOfLj7PFfoFKNQK/kJFlxypIXAZxjGIPTPXQYU3DCa4aMF5rx6IrgRJeAOPp3z1jjvfjqOxmZu4DHYFW8LX1yJpaLa2jQVK6ACuCC3pIjWtv2INFZGwzoMCfnKXRgJR4IhgyYHDg2vzNytpLdpffmUdDWl+ZabzgAdqJdsGOnp2wsG8cXANkcXW/LCRtQHaO7nAi9QJvG+XI2Kmdt0wHI4nFyy4Emh1M09NuaY+N0j207lvuBGnti0Qpg0F0gDF/wquvn93d+zdFc6LFkCcCTyLLteEWPyVBiAIgBqPeMS1YADfshe34tGgAGK0cCoUBER9EB4AFbQCAQbllf1e/UPJfKxnU1/ZiT72hCHzpVxvDFvjtVVglUfgWP6JCHFNEFoOFjwPMUbUvOxVv90GXVQ0+fowF4Y1PGtv0h20InPronnV0y1qVroqNr2KV92GKkZBHoFwfxgB8RpPN9aCQ/wMJr3+jMyBd9z/tvnPlRcgR0k7vKt3jD3/JzYl7zdt8oz7Efqykqi1XK+UkJNR0cr9vic/MiN4ksObUSKRFQpAJe1vraOW2Ng69Ao1U1Ph8WKNEnk/QUTlCIUKjgH9HHH7tf33jXGOPnzq09AuT0UjGMrMgOXeiR0Etg7O8F+BTrgD/V6/zBqfGi65ycx3v4yRJtuss2fTdfz00oxvCzbCpfJ4YFftl/49AzuqMgyhfBjPpKBuO44+f57743B9ehRbVXgSbMhk/ZFP+X/IyPT64vwZ2PdRH8jsQINKphJqOKSyBAC4UBfGVP7RHK4TFujBJIlaY5aUGJ8mGwiTXBPo8EXvoMMHL+slmBpmbZlqA4WEasCqQyI1NBF5oJzfITp0CYgTC0opOj4oCMj65TDjK60WBMArG9whgBJZkI0M3pAZKqnoxZRYpycSbx2LHPl+Z9y2/1C6hIBgQHyxfmTlnwxtwZPIcg0yWnJZXDa/QYG/8YqSUm2x3wuzHxRlBSZSVLNF7rc83vnCanIpsG3Ohvy0kjwCsg0WeNDDlh2avr7f/CI05IZauHjtbQQpfMz7IvPcR71SnfVRgkRJIhoI1eqfxaskG/JjGwjCOwc0QaQEpf2Z750D9y5Hg47ehLB/qOL2wG7+3va5UCTemvz+SjesieVEvQT3frxxEAkvyRX/TqW4WdUxyvveVztHOgxtA4LvbNF6GxahoQoXIEoNsvK5hI9E7Z8BJayMx17gfYrHgJ0nRCkojn6Q4nbFz+jW1vMfeRxuyILtBj4JuTJzs2xQfza5ba6ZDr0Q8QAeLpkSMeOgJKAl88HscbP+unVr/6BL7prtc0koVYQH/QI3jzsVYS+BzyQBffr4/GVPFKb8QZfgfQiPcjHfPPZILfwIB3cEtajYsGdgxYAnLsRlCmp0v6nY9z7TtZmxPbYLvsBT/wAS3Rg6YqVBI2b1VAmyIMHrAxfNEX0IAXqoFkZQvNCMDmNOEjeUiCgQK+VgVOM5Yl89437KEtcQg/+Gb6apXE+Kq+dIkd8TVo44vG8ZLdeO6Wz8Y1Jz4VzZJJPozc6A3QyX7pzC39dw8bMD8FLzFQ8YOf5If5dfIxJhoUEqxo4w36NPKor3P6Yx7GyJ7O8Wh+P+CLHiuiAD+awirk4PkpukH+ZKVfffCH5pV+hIGyJTaOd64xh+gfj/ryu2cnxH4Pd4sptiBK3LyJRSLN1/Bv+MTf9B7q+kYPcAo3wUJ8IyxFhkvB70hXn9EH69E//gNt+mXj+MSe6LmCDdnxi1ZbrHbx1cA5PuBNfOHz6PkUH/3LOCV2WUVGbDIJz9G+JeABGACaBBkCAmIEAiCTkVGglElQ0DBMBirLslxoKVnW0gRvOVJizkxGim4M1xg/QxKwOULBQYDCJPRqHBLwDtyg1xw8DIFOSy3ACCVDl7mPih+t+INXKoAqqIA9AZhvfAGYNNUowgB8GZQqTBlk/RknfnduiyM6NX1xjngjswS6ChJoBh7IiOFTMkvhFHsrGgAkmRijiEeMiVP2gIXxGOpYqdtibA5JMuRpXg8+AnoCNB0gp4IRmjTfa5Imuq6N4Be9t4Bf80EP/gOWmvmrMNBVCRIecIbsTbLQdgw6bhnHdeyNTrlXgLJlhI7TX7QvAb90kO6qtOgHP+KBo770w36sUAi+nBgnSnfZRD5CYBLs2aIEL3sEPM853TWyzS6ML3AZB2AgT46QHnGE6PZZAGXD9psBRJJT+rdmzPm17gcqre6ojnP+BU8850P4ErqhUoLm7G7e163f0UB/rEQAdOTGnsyZ/OgpwMWW8Mr4+A+MCQT8I9lo+U385Beu0aSvWvIQWKqyWkESQ/gU4A4vvCqRXxRA6VBVmHEsPlRgiy4JXg9oGa+xxnvGz2RrW5KVC3IRpOkCe6XDbB3AZEvG3yKhH8fvM1rJh12xXcvWdCTdoJtoUgzxD5fQhlYyYScCsphIbvoUfySPihCKTvyAYC3usbdTfJEISMys/kg6+AZgwFYlyTDQIlFWiRYfxUpyoa98vdhET/gWtJMpUCTRlLQ01y2PzZOe8GtwBV4BNHQLTRJuQO+ecSVV5A/I8wtAfT5DHCAP9qMYwJeZM3mk80vGloSRI//NR56SkX706eh317FXMgF82Yz5syHxx5ZNKwj0iu2PWIQeSEDFa/qR33X0nd6IfeZ+bgVKf/qAzehMD43BcvSTTQHEvotXeEU30ApLqKrGG7Kkg1bj0M43u5dOL6n8xpf6c+QfgHs+Dwi3qg67wSt8LpvCI/5e0c6WHTgLAJY00PGwYbFUYkMP4Mfn/Yc3QjEoY2bIACuwxMEGDAiIg7PMx7nIWhiWcwhzLaeMWQSJSEcOEsAUxAEtIIJBY9w5ZUlRGKgMX4CRARCC/tHCqbS1AVMoNhootd8BcucELNUR4zMCgAMwQgtm2UROGUcBnPoMpFFyjoXRmBveoEfDB6AET9CcYCkbvjJoyiyr6XPfndNOjbv0XOAEjZRbgJG8yOoZGN6gE0/ICy/NxRLTvLK3dMxT18mEASfLR6qm5MDBAaGqRRRxS8A71yFgUkBlHPQOwB9lRTfwgV6oIFY9JUvX0aWac6onslnBzXLyfLxTPBjP0WEZNb3Uv/E1ckCbpS0OmONAD7spaHp1lc9o9JtgpuKLnz5b0SBHFWHLQoIn+tK9jhyuIGmPNT3Qp7llJ/qxMuDVMWzDEioH4h52ogGVNTSX1Egi9aXZInKrLsVXTpMOy9oFSPSik0zYe/YWHx0bv3lJGthY8x/lceqz6/g/Ngg4GttbbPDVePp1NI4j+8EzlQeOWkAQBGwNEXyA5ubT8dS4586hBwjgrDlwQKa5NW/Bhm4KWGjVyIeeCvSCl3t644HPdJD+CNjGPkVbwdZvPpMHngBigiU/R3fJAy36BIDplgokGoDfmsq4IMXvoo2e4pv72QMbZR8C9xJ5eVsNXRVryMO8BGnysMXiyZMnVxMw9sAHATt8cI0czfkUX5KV31ynkiRAA4t4nR7SDQ19AAObsL0IsANAsyX8sZLBxvAGXySmCirpOiBL/uyh8cejyqD7+HH+Q3LoWv4XwCYLfeOZZAFIFkfRADDZbuV+NmbrEHokOGyYPYxj3fs52aJZYUjCalw2TZ+sohr73nG63/MQ9I1+GYMvNU74gP8XqxUEAE18owf8Ri294MPZuSQNiMInPgaAxFvV6kDhJd2hbwA5OaUvdLj4xK+zMWCS3Wj5XDJTxQcu6RYd0dzPxs2PHdBHRad55T6+SI4lj/jgHvfWV/HPbxpfJ36zV3pC5/FEjNU/nGP+bA8dsB4dw68l4JetoceqpNhldYLM6LMkFo+iiZ37jlZYAgZlOxra4FLvydfIW0OTefBP9MCD7G8DfjN2REDskDOQ2OAGxASMVTnFCJUsZXKgEnP8VkCgVM65x72CNPAly+MgVSBkWQwsg0gw49FvFBJzMRRj9Y0JGKL12SQZEsccmDE2Ojh7lTZZC8WV6coUHCkt8EfZx7FPfSZ0AgpQxVzzZFSyE4pLsQU/fNVPwNfyNpBNaRxrnff9UvZ4iqbxnHuNJWgCaeYok1fJA5zwIj4BLir3DEllJMMd+7v1s6yT45WRSaAYqmRBRsmQJT8cRO3UOJccyKnrO+c+zpWcZdZWLegfXaEPNQZBv1XSyA2NfqNPjMv1eOXod/2gHxhZSxvDZpx0RH9aDofNqNzpPyDu94wXPWjNhtAL8HT0mYwFfXZb9S8aHdmRRBNgZYPRYb76Zi/AFWcCpHhiXLJJj9m4YKmxe981VUj6hNb+jbjP7Oxe8ItfbKI9jOSBX3jBWedX0O8zObmm3x0F/DXgV6BnA2xQgOOE8SIAaW7mi1/GxTP6I8HiP/gpgFkgBUIF98DDJR+X3s6PbJmPBHwksICCeZlr8+YLVfoEAj5S0CMnIAKAYuPxxdF9/KNkSfHBmOnJOD66Oy8mqDbxk7bosGN8SAbo8ZmPFRPsFWV3AB9dAFLpjSNwFX3oRpP7+UxJl7gw0tFntEQPXopNAL+YQy4a0KBPxQwP9Y48H+/1mV82J9Vv8qZrmioecLLEB6uqAWpszp5dwZ988ALfS1QlzezOFizxhx/AF3FQiy+SLHFFBVZf7N+88FRSgK74MR4Dv+7nExQXgHpz44dtLVPM0vguqyd4raIGTAEavtMLCZNnHiwXs4WRh+OYt35ODhJEwFullwzNVewGJI19a//z+9hhK9d81Fve8pbndJfesR/JCQAH2NIFOpA+dOx8K75sDa30mn+wBUjCWwxtnnN68BN+0A+bzZYdswV+Bc5hJ/la49T43Vab8Y3OacUL90uygF90n5Jh4JeuAop8anZUf/kY14gXwKjE1jz1a/VFHJcE2DohjpkH/6Aougb8ihfANHuik3S5lU10jXxCj+9+J7vsh+3ApvGheaBdkYCv5n8kq88Dv5jEaGRAHv6SgVbZ4fA1ysI4ZaOEoVwOWGEU5YWuBWOG73qEcpR+Ay78jkCBSVVQoA4gzhXFd78BZphrLH0wFn066t84zqMNQNC/o2solCOnwClzADIXjkR1UsBS6cF8WcopGpyjzAKCaiqhAyvGMW/jOxI+gM/pC5roRj9HahzjAttAoaaK0pESoc3vDMh9p5T2HH3RCOAI+Pr2dLPAycEwCPThl8bRqRIwYHyheILBpf7X/Ma5GV8wNj55yMpUHjgkjuZSfwWoS9ec+s19+GZ8S7uCC1BH+RkRfdDIi/4A/5wQ/RC8GQqjyRm5zn30l2wZD6dyzrmdosk5vFUloP/JwBh0h34Kdulseuv3GnlxskAuu+MU0WJ+7FRVSdAnd3o66o7PGr2y8mGu5pPtoIHt6Id8BEcBHRBmc4B/jSw1up+NR6/+8E+wv7eqb0kW2BKI+Rs0Ri+ekIs28tJ5skp+kqw14FdAkNyyQ5VD/MQv++8a2/x8NjabohMq0+4DNCRcaBYcVWzYI/mP8jinI/Pzklg2BJwAV/htjiMv+D1BQOIk4ABVZEWX+W5yRqv70E3nW4VDrzFP6fIIfquOmhsQR1f0Re74kT1ZwZAcAl+Cs2DjHF3Bw3TIOZ/ptLlo9FpFy2rjnA/RGA/pMd1UsSOD5GE85yRMAAa/655T8/MbHVMk4HvZjcb/Cux4f+q+aHEkc8WFgjVZ4DOeSFTwWZIBvAJHVrvYFR75Hb1aNtURiNcXueG1FSHgDJg4xRvgV7wGGNiK8eideCauiT2AMFvg51X86GZVaHynX0ALP2LpmH8m93h+aty15/BTw3vJiao3PaWT7JY+SCT57hETnJPDkvFt71BpB5L4BSCPvpGTRn8UZ9g6vRGP2T+5zhs9sb2LbUsSyDc/yEYVu5aAX0mnxFiiRsbRw46yU/LPdoyRbjiXbbuv+/vsu1gnsaEz7OAUn+gGPcD7ALR7ja8vNqX1mU4D3fSkrZy2iVgZpDO9Vtb1+AKv0Vc+9dT44znypaP4oirLj7ELdtC8+Bqt782Tj8uf4EsAPD6ag5jLDtHIbzwP/FJyDs+ynYoH56UzAsm55DgpkiqsTg2GMYgwAOejOiBocGhlsoQnuJuQQK+kbxwMGhV9ZIrPDAWIBNIEbZOiGPaAEIYJ2fsBGDhneV9FQEAwFsaYi2Vce445AwIJXHacA4Y5HX6nSDJ3FTZzz/ETCh7hl8APPDAgSYTqq8xbFU3WJFhKFvBKA0ApC0MADvHPfdE4p+PSdw6bI2Sk+KBvThadlEYrUAE1nA/n33hbOjqbzS05AdbkICFiOBTPko8x8RTNHIaWDpq776p/5FVzzvWXeKAPMgV8OVJ6BwCMjiUwS16WS9BJNhIatHIG5JkBcZg+018VKnut1jpk10t+VMTYhdUSBo4GtkOfgBvBjvPyPf01puq84Il3qhGSMPqo4uizRE4wBrJP0eYcvhrfuOaT4wzYS5Twga2xKfNl867L+eQLnMNTwYM9moPrgRqJMZldktO539ApcNuyorpHJmigu43d576bC1rItebcWvCLfxJbtshO8cm8snN9GtP4PgvWbBfYEGQBEPcWECVd9PzcXC+d5/fIlP3gAd3Ac/MztkA+6jQZ0pta+uM+OsbX8IP8gkqNvbCXkv18AVvifwEBiRaeoKOW78MTfDIunqFHbKAfnaPP6Ta6+HOJJ58HiKmMqojhy6jDIy18gC1q+XfjJnOxhv4CMBInYIT/1XzuOxnzyZb7veUHYCQzc8Mjq1XioLmjpfGTV98rMgBX5pGesAdVO9u92nqS36cv+BH/xiPdIlv6jm/AqFjLFi7pER+Af5JiflYljE+gz2yJn3UEZp2T9OAh0C6ZMWdxQnLuvP5c3zyb9xZH8V7lUCww7mjb4hU7wldgXWFMdR0tyWItDYFfPpQfV+UkJ3qL14501fzplMZWyGve/AZP0F16nB/wGSCmZ/QTjaP+jt/NQ2IhwaBvbDi5o0cb/dqoH/3unhoa6Aqa0MfnqNBaQbF6xXZP8UwsYNOwGD9mDvooFtFRfBrHd51rwi3slz7z++KW6+Ew+udBPjHgUhIZXeRsj7uVALjSfOJB45u7uZKVsTTXRVN0O8+W6ZIVTnKHA/g8PgE+Mu+p8kvABiUURuJHGUNGGpMNjhCdc6aUBTGaSRsIYgcy7Q0TpGXRBuLUgGFBVcWKkQq0HBAGXTIyzLPpXjUVTcYDHo0DhOhfRUKQ4GgIn9PAGDQK9qqP6KkKdGm8BDIe8QaoUPHj5DhLvOB0E44jJRAgGAKgYulYNQ3YATYpjYCgFRwYv+8MgeNSzWPsc+MZ6Tn3mUJzbDJYwqcY+k92juRpbAHbEoOx8Jjsa2P/a3nVve2XLFGgnOZnXx8nq6LFoauyyPiAcM6Zs2Owsn9OklFoEhd72KpWNc6pI+CA92TBWM2b46siiAecnt9UVeiH7J8joMuuD2R0r++AHfCgOrWGL8mS48dziZEKgoohY2cPEjZN9aajACGYq0gxXHaFP+Rljo413+npObrIFn/1yYGbDwej4QVdEWjpKOdBXn6b88J9Gl46uh7vABhOV9BXPUbXKdmM5+JL53w3P/MkP4CfraMhWrM3fsBn58kTPbZFoCmfRc+y+ca4dAQ2VaSANDaJL8YxvrGM4ZzPztEVfONvOFk2B/g4r6GdP7005rnfyFI1RBWVT0OPuRnX/Hyu+T7SowqsKJAuAWH8JVAH9EqegLtzYzufHqEDGJK0ApeCovHifzZlfOeSUwCOLlldiRa6LQa0OiZGiAP2H/MF54I1muiwBNKqWqApfUCTRJdvNoYKOF/asrEj3USHz65RbCA7/jA5k6cqLd9k7pd4BEjytcAvv1AfZG/e4o/4CliIm3QD3WhtyxP6kx95okWVnK9EJ/vn9y4ViegY8Ot64MP9Enr3mYe4wA4ky/yyeA/00ivJmnvEJ77JiuilpOgSP679RqckIGICX8rHmD+dwTN0iAt0AQgH3vg98T//dm2M+e8wAvnQXXxW2DCWz+SlkUnxmJ35nZ1r6bHzPjvnd/qukRkZW+0Bavm9uV8baSILhaEnT55MOmLu2U5+xblRL/yOXmM5srnmQaeAUP5Xsq9fmIis+Y/A+EiDz+ggb7GHr9D4bw1eoc8wCb5Ey2jb8Sx+4CP66FVvtyKz+binvrMjCSucCCOao5ZuxB+YDvZUOBJz8N1ntox+R7TDgnw/vIYXkhLbTMUW8+ZvzoJfCsgpcAQRYOImiBkY3m8IAvoEVUHP3iSGakKWWDgzwV6WqZKDMMssAKsMHKjM0Z5iDAekH0AGTWgQVPRncgSIcfpUdZX9MCoBTMWE4gPaDOhWo0YDxgE9KmJAeArhSDj4Y0xKo5og2FAEBu16wIoTZDjmUCNk9wMkHB7hc/KneHHpHIPDdzy1rQCPyIZy6j86jUd2khEOBl84SDxOXrLuDLjjpbFP/cbAOZ7AL+chOAlI9pFadgNqKaflFxUfwY+ScniCiuotfZLFOloScc+p8cZzjE6lXQAEcM1ZsIkPvpMDealSagIVfjmPVwzZUbDXh4AiWAASdPeSzo60+Ny1DA+vgQ/zBvAEcjYhyGmWZRzpMx3iEPDEfSrhdDGZ+FyjM8bptzkNruMI9a/ikoONJ/SEfZkrPcUL88crvMA/Dtdv7J2+CvCcDZBqzyBZ65+9meuchvn3Oa3oryoFgHBmgmSyQE8OODmhH62cIhtzPT1DH961/3k+9qnv9F6SxbHr17jGowMt2/vMdv2OH64xvrFHnrkPsGBfp8a6do48ARGgRkDi6ON58/O95hz5AX+KEJJMemRJUhWGLVppA4j4ZonQJRrSWXpjDuwTYNW/eeJBdkJH8IMOsSk08XmSAUlBSRx66IiEUyxQ/QLCNYkHgCYenKMLsPCaLvcDAHhvXHQ40k16QC8FbjLDl1q88rvr0ErWqoHNgf6LLWiKB+fooVvAO18GePJxJQN8bL6DruJNuus3+oIutESfo/glbvFdfICVKYWBS0UiVd62PQBC5AMIeVsAX+p3/hitYru4hF7yIU82rEjD9q6Bt3O8WHJe3/yeGIfGgBVdIgf2AjihW/GIflhiJ3Px95o8TtHAV+MFkGccNutI3vRG8518auSUPqRbjuQrTrCzZEZ+gBcsYq8wjDH3ayNdYpNijy0DEo58DRroc/pjLPqr/yGodX0AACAASURBVHQk/eXj6C86yFCllZ1bIRD/q/qzcfY7jt9n/gVYZ0vwSv4iGxWjYR3zjDb0RSM68Qg/8cY8xAVvxeFnJDBL5cWOAFJbKOASY5qreWfD7FmhBdgVb2A9fpFvMXf08y1sRlwlDzovbvIrYh/ZoAnueR749QPGUTiDU05Br8BnohSEUXPG7TWkXICLvbMtu2I6BpexGdxvWoT02yVl0Q/HKLjK1DGcYnASGKHizIDR5DzHgmkMXBUHYGB0Cf3WIzpUQGR4HlgwDv6gh3IwGEeOznktpaEoNTwc+akfyszZCVqC/i004jXHQnlsB0EHmijm3JApKmVSIZIRa6p+AhVDJlfVhEuB6BqNAB5jFBjICg1oQRMdIivGi44MXIWIQ3C94IDOAoKKu7kJBtfGplcSAAbMWekH//Ge8Y5HNGnOqQ6TjWvdQ6fQD4hzKqomKtKMaU7DJR127fx3toZOIBGfBTcO3lHLTtLdpY5kTldjG18fKmfkwp5UwjgUjpS+eiAED6qS00sJGTsD/B3xA5DSh8STv1BhYGdo1q4FgDmN8ca9VmrYuUoZGZANmY06nMwEUADGAy2cJ+Aqy9fGitF8vHPfgU0yZhdoMGdB0/K4VQj+xPKZZInj5XvwRBUi3XWP+1UY8aqEuzmeG3t+nqzcqwoukDSvlu/PHQO3dEnww1OrO/wDH7aUjvE6Oggw0x3j2k/IT/Az5m3++GDO/COgDLCgBSAoLqAFXY5iAN03Drrm8z/13T1kzE+mo/SiFhDOH7Pj4pcj/e6hJzpFd/gH9JOzfiUbaGebp2gYz+GpwE0+bIK/AT7pp3Hy8+gwHl+Gb6pS9IlMrUiOsjU2nol55rtkyd/eZXtWJdGAAcDAnsVw9s2vK8L47Df6ab6KCuyYr79UcR/nfM9n8rbywMf3NH68wZ9iguIVIIWXEmBFEHNcqicjjQo65AMEW/42b/3zLfl6vr+YIG7m8+hFuq2yCiSSl1iQ/fGBkga2Rmfo82g7Iy19JlcxRB/AJ5mZp22bGt8imQHSjJeONCZ98dl5+oI3/C/+8hvXxkeHa9Cbj2CTfUafGMSH0mv0sHNFE/T5PH6n0/axK07xofoKaF6KW9HpGn7BPPgYtoGv5ujYZ3NVCDKGQoWknF+ax0zzoiv6rcV7RysKbwN+u0gwg5r/H3v3/XtdVtUPnH/AaPxZE2OMiSFR0aBiIQIWpKhIkzYUiRQpIkpHpDqodBBFERCHKghIB1GQqnSk9957n4m537x28n6+yz3n3Hva5ykz94edc+4pe6+91nvVve+9Koecf29YZMYytOzroHSySQ4Q80yaUagTqwO7bqx6rPf7c32ZrAouJlNqSiI4YrhUGCi5a+65JmPJHwdUo29MbYkSeU9lVRVbhiJgYzzjiB0ZX/yiyFGmGORklfV5gSD6OQ4O3D5ozqPnwZTPBO6bvKozDF0dBz2hw3XjCrrxjTFMlcS5pIbjp1iAVccmt/p53zkcARnDxXBwSBo60MPoRWYMEdklo0VbEgeBMGNNufBHNWDfuO7hhYCVk8Zb82TUzD004AFZOWquux8+MZD4kmU4iqnBOYdUaQiW67VD58Gi56J7cJnmWs7zTPqcO176d0Q/Z2AJXBKnAoRHHHPmjh/kwfCrdHMaEg9L8CoWgkBVA/xg6BhdtOo/NNbzXBs7mo97DCAnQLcii+DFsTbygheVD8u4lvkYQxU7dHHm+kPX2Lj9dfrNuHJymbMtMZb8VRAkv76kqzKoQmLrkG0rgmHnvuSBTyoQgihFhDl86Olhu9DE0KdCmhWa/ui+OQuaKm6Clf54iK7IBE3oEABz2MZl/zht1RbzxSv6aRuPVTg8RLPGKdNH4+kTbel7iIbQOXSPf0nwy77GN8Xm5jPs1BbcsDuxzeyB5JttEfSyFYo4Vi0EM1NxI1Bg6yRfEiMrlPymcaptYeMkC4oybErFajAbGQuopwQPwYvkQp9WOqy+Wn00P5Vw/jo+kl3ls/gI+BVcqUImyA7PI5/0v9URjthlhRYyocMaWh35gwSmbAC7lJU22Jsqk0ov/MGsAMp3XOilYhmfACOREeygQ9AtGK24Zvdgm81kW+iYPiMvOlpxXccfOmcv6RObAm9W/9hi9kMT+NIxODSeZqw6pvPQoq+5vCHjyJncteheaGbvBKJ0XWLH1sXm5Zzew7REX1IQf0DWdYz0WY/Bm2t4Qr9hmR3LXHOMjtAN9oR+GMs45h7+T+FDWz2uf3KBUC9yjr4wpaxsOcQSDKXVsoQlEFXalqESICOXrCNMzMRzrJOec+59ExR0Mi6yEMqNLtXAVCxdU8niuFRqZLMY5P054+17Vl+UECiBFE8oLEMXw1uPMcAUm1IJ5PBQQ7f3ZeuqmYyQfhnFfTSM3aMAKi4UFW8ocuhiaKLo6Atdrodez2quedfSgert2HiHrgMyIwEjtiDIGCVUnIAxjVPHDx2CYvTZWiMDtzyKFsbL8h+FPDS2+57DD06Nc1aVwvOpjYPAS0oHf1PGPBeegWHBO73N8hu9YsTwJvpOt1y3VOqnhywhCZrpegxcjJc++7aEFxyVqhAHzSkFI8GuI5y4R5esltAfOI3dMa7ztDl0sBdwa56Zs0COzqd/56qxeOc5fAlv8lliAKt4NWf8Q89mToeOh/oZuk9+Q9frNc/wEZyu+Zm36q7mnBzIEB/jjOr7a88FaapRHK/gt1YN2S6fXVdogKFgOTbXUbCrasWPsC2CD9V+FScJFGc7V9/5PgEQW+f7MgJgqwLGj71hfwSnMKKYs6UMjc9O8XlokAzyh8Y2Z37GueKRlRU/n0deaCYrcpki/7Xyw1cFET46NMUXhk+h1/K1gMoKnnkJeJaMj8/4ozrIt9JbhSY0wAIZBReKNJbRJQVW+MgqOu2zJKeX2xKa8g6es8PsCfyRiebcdTrUj9d/Tl8ncYQNtr7Sxi5WvqA3fjlY2oKWfp7189r+T217kBVSFp1jtsiawfeTLPZvqHLIiAFRsxfHHk2GQsBlwsns9RElcqxtKcH69C4FEJTLvgS3aOKc0eRcVse4qLZQboZy6Zhj75kPBeYgjSU4kqFyyMli61GgJzgWyFkOFVAJdNHqiG7LMfm9YzTj6dj4+66THSOON7I0lXFBbA0wBQ8JiGuwW59xXXCBNgq/1InBBD4xsAyeapj9vpbYUwVHX87xzbh4iV8q0LLM7FsTdOiPIQvG9vGDE7YVR5Jmr7YVCjw/1MgGruDfkk/kMWXMffScTffoVHDMsAlwVdSDSzyCI0aCU2UABczwGV2v86l6nvN6f+p5gl8VK5gMVmHCZ/gV4NgSoWLti6XoVuGdOsa+52IDzRPWNPOuwZBnYMKYsM1eOqZ5V+vf2zfu2XBvDr6j21luNHf88Dn2ek5/U+dPHiq/7ELwELvBdmiuq3BavbJSxI7Fd8G1c9sO+BG2QbUK7eTFl7EvU+nJcxU39EmybgxjG5NesT/ZhlfxlD7WHskE/bBpTvQ3vpEPd86f89+SlyorY5+EvPo54RObTGfRE3lUu5PrVpgUvCx1o7Xva+5nY+MPWfMpfgUCX8IbssIfW0EEntFv2I5OxxfMHXvf8+QGc7BtrCSPJ4GRfXSM3YMLNGl4UvkSG4k/S/RmbMyTvn6x4DdOzSRMVAZJkRPlq2ZoshTKY8I9kSepQMYzLppkGmgRnGk5d092p3R+kkZYQGjfDQW1HHLBBRe0jFpWXZvlUBVilccs2aNV9hm6KZpKQM/LJZ/N23YFe28E5ioQsllBRPbIqYykCSTsvdKyHy571fxuIdlTwqVy9R45qICpwkqyLJXiEd7U5pqs25JTln5UUQRftl/oZw4dZAQzqs+qwBI6PA+e9x09x0hL8JbI4Vx5h2wFtlZ7rDpEj4JNcuMwzGeM/9GzLebM7ghaJD8wm/2awaujYEe1hqOSNLIFbNcW46cPc4KfJXPzzpL3MvaZOh7Srdx3zPk+Wk+CB7BIj60ksRNatbfO/eKPVQxfFhUERs9h27mjahUbzPYKOMwDvVPmtW/O3qdPbEfGzdF4Evh97291z5zoRfUzztHFFuLj0qLGGhrxR/AkhoitwZ/QGbvjGL8ouUTr0nGjj1W2qvtse8WEczxDWx941neX0jH3vTMx5lwaz9XnLxb8Eng1WByKa4AXRxADcSYFg4bQhL7QGNqqQOp86vUtzhkQmY/AVVAuyOqboELzjACO4u+jt6drLv34Qm6qGJZoKLSqqyqZZWxLfZp9lZqluLTc86xzy00SoJ6mJZ/hRdbMMQioGJ9+L0/45Do+CuS90/NgCfa8E3wEO2NH8kki2I+9ZO7n0jv4FL5sHVBO4YPg1zYGW67g07YrzTn8WrZV9ZNEWQmCD/KqmDhpmdWxpszpXHnm0LzcP8Tb6Fiey+cteaA4I4hkIyTGsbGOrsUWsx9sdOxtcF3xEjq3oq/yMOO55jxj5bjVmGP9RF7Gy/iVvrH3Tvp66ApNjrkWWvfRue/eXNrruMbesu+5tODD3HdO1/Ph09h4Z5JvYzTtu34q+LW8zJkEjOfaRPZN8qTvMa4aJyzg3NeSTJw0TfonQ4E2Z2Afnipumi9E7GuWklWpLYUL2jmLLWiGL31xXpVPeNc3z+DX2WwQtuDJpb2P3taQuS96WAZVuQtOg0m4tN3Il6okUWciQL+0y+xMz1+Qwo7EhvS2I7aYDTnTtB7Hv8xRBpc58uBs04Nj8LshKHsnfqaFjR5OIpl0gvQpRwGF5/qg93TPMXM407w8jn/6jDe81mSy4lVQk8816D3duDzi4fThYSmvYeKIi7NfTkvle3zvKNs1GDgGvxsGv3MEcTqMcj+GzwmG0ZrzoWOdS71fr5+u834ep2vc4zhnh3EN/o44ODvkca7oxREvw3jBl9rOFXke6RyW55Evy/hyDH43CH7rVpE46rHj6QRqDNwWY2Y+W/SVPtLn0DHPHI/LFPvSwLdjcHPERmycY29HLg06sGSOlWdHHTrq0BIMXRLeuVjwa5k7wdwlYYL75nBU/KPi78PH8d4RH0cMHDFwScPAMfg99zAdmV3SsHgm53MMfjeo/J5JAR7HPvcM2VFmR5kdMXDEwBEDRwxMxcAx+N0eK8fg9xj8Hr+Je8TAEQNHDBwxcMTAEQNnKQaOwe9pCn7tncLsqVnJ2fTcuQCSc5W3Z5OcL8m0nE58nM6xLskyO91zmyK3Kc+cbrov6eOF5zle0ud7nN+2QdlS3NT36vmW8jmpfrekcU5fg5XfKcFvZYTzqa0SZ5z6ecl5xtWXnz7KTyH5fcc017OXeckYQ+9k3CnHod+p9d5Qv2uv9f3Wz1Noxcct5LJ2HpfG9yvfe1m551p9Bo/6z0v5ln3+xqA3+Tkxx+hRve55z2a8ep5rWx31naZP56G3jnGSNNRxzvR5nWf4kmvwEKxUOnO/Xlt7rs86lnNy0SpWKn7YYs8Zu39/LT1n0/vmVlud8+mm09gZv45NFlU2/Xl85tC7tZ+551V3K4+cpy/P5Pykj+ZnvJ6Woc9jvNyKxsqDnJNDlU1scuTnGL3aWlb75hX+7HvmbL63OPg905PqhZy/S/TXhP7e2N9fas79naN/OvPvP6dTqc4kj6qBOZN0HMfetjKwJT+jQzGy+oYbf4iSvw93rI1+af5dy99GM7pb0qSvSk893zfO1Of29XFJu4cnkfFJz63y37+qVfsLP7HFjv563p9ToK2+d9I0nq7+TxfPl8wn/BZM+edOvrHqdz0nK/+g+D3f8z0t+KrjpZ967Vw6P5tl1PPRn1T5u2XyIp/EODknQ/fyz7F5/yRkpM9LSmyxOPhVYfXPXxj/0z/905Ob53/gB36g/SXwGuEEvLIgf5f7e7/3e7uHPvSh7T/d/a97/uv9yU9+cvsr1Lvd7W67m9zkJu3vcgOOuUd0+6tg/xU/Z86Xu9zldv6n3Nz9R7lMbu7Yc57Xv8CEfCjKT/3UT+0uf/nL76XZM+YkSah/CTpn3OOz+wNdeN/XyOwnf/InL4avyM4RjvKvZtGBNXynP9FjOP3VX/3V3T/8wz/sLrjggt1TnvKUdqRPaa45/43f+I0W0Hh3zfhD75oX3OLFz/zMz1wMt/TPfX+BzQ4N9XFJviZw+Ymf+Imm170dosfkyDH623W83AInQ/zUr78R/uEf/uFTdubnf/7nd3/0R3/U7C/bWzEEU7DjX/vgTJIFy0N9n4vX4s9g0tzoKwzzGWz/SSSKc/gkiGU/fu7nfq7p79/8zd80XY9u90d24C//8i/bX9xf5SpX2ZR+fpAO9/il2/j1fd/3fSeGi+gEOYUnY/o0RB8aJQY/9EM/dCJ0og9W6MZlL3vZ3V3vetfdox/96N3jHve4HZ160pOe1JoYx2dyetSjHrW79rWv3Xh3UjiLHSE7fykOS8E4OgXpfNgcTJ7JZxcHvyo/Jvxbv/Vbu1vf+taTm+evcIUrNOaFmUsYkHcFvmj5q7/6q91zn/vc3X/+53+29spXvnKX9rKXvWz38Ic/fHenO92pCWjJeN75hV/4hd0Nb3jDyXMNX251q1u1wPv6179+UxhVj6U0THmPcxTAMrg3utGN2l/F3va2tz1It2cYOQabUbg0BhZT+Lv0mX2Br3sCyZvf/OYXk9NtbnObdo18zjvvvBbcyPLJJ3qwlKbv//7vb4HSda5znd3Nbnaz3Z3vfOfdy1/+8t2rX/3q3Wte85p2jE45uvaqV72q6QEnoIq3dOyx98yJIUdPdChHPPiDP/iD3e/+7u82fUT/Wh6M0XG2XhcY3PjGN25/Rx++OLIzmr+pv8ENbtBWuiTC+HMSPOJk2Qo2g7x+//d/v/3t9OMf//hTthdeNNiBKcdnPOMZO3K80pWu1LAnATtbeT2HLjqMzzB5rWtdq+FUUYbOXv3qV2+VObY5QfKcvtc+a8wf/MEfbHpDTne5y112L33pS3f/9m//dspnVj13/h//8R/Np97vfvdrskX7Wjq8r3KokgkzFb8552NVnLcYa6gPvND4OH6SjySn2NnQMXT0jPbbv/3bDb+SnK34ElpTvJIcsMv06V//9V+bvNjeV7ziFU1u4hufxTcveMELWpAMZ1v4hdBSj7CNb2RD79kgvHBEp0RBQaK+czafDwa/Y2Vtk2d4ZT3XuMY1mnLLPggggabzvrlHmVx/7GMfu7vHPe7R3l8bBBKEgEGV47/+6792n/zkJ3ef+9znTrXPfvazu89//vO7j3/847sXv/jFLXMiNIFDFGCKcPBDRnO7292uVS5e+9rXNoOe4CAG3nUGvm/mDpwya077ile8YlN+ire2Cmwe+KgqLdg1P5n9r/3ar7Xg4TnPeU5TFoYsMho6RmYPe9jDdn/4h3/Yqo9TqzJbONYt+iBL/EhfjnisMqWaILvHH011LOeu596P//iPt6qNzHYog9b/FMyEhvosHHk/+kX2suhUzugUnEY+ZKb9+7//ezu6/qxnPavhUOBAzuhdUyVRvTCuasLzn//83etf//rdl7/85f/Tvva1r+2+8pWvtGvf+MY3mk5xDKp8aJ/Kk8qLsXM8QRN6XvjCF7Z5058E47Ej//Iv/7KzmiMBV+Fc6oDIibMwD3YkOAg2cnQdr+vnPEv3OFJzGpL72FynXg9/8Qatqi3Pfvazm16HL2wQHfaZc/znf/7n5pz7aoy+tqARhgUwgliFhyc+8YltfHS8//3v333hC19o7Utf+lLDjc9sMZv8qU99qgVV973vfXc3velNm92awgtjhsfssVUq8qDLZBF55JrrQy0yzL36PH6R5ZDuT6VRQvjXf/3XDbtkIXBRtZMk/OzP/myjE27Z132yiNynjDv0jDmQUXgjqIQLwRJfRQ78JZnEV5JRmnsf+9jHmu9+6lOf2mzV0DhTrpknHbX1ED0SAph53ete93+SIxh+5jOfubvuda/b/PQ+/kwZt/KQ/rAV7Iug9Rd/8Rd3v/M7v9N48qIXvajht/p25/kcn44+GH/kIx/ZCgW//uu/3vqcQsvUZ/hzBT0r1WKG97znPadiG3oUW0x+2ic+8Yl2ZC8V+X7kR36krYbP5V1vG9DBD9ITK0rk5iiGsbqj2Mg/8Rvo/OM//uN2L3gTvNNRfE/f0eGpvBiag77oP5ut+hx9HjuiHy3eCR3GV8y8zG63273jHe9oFQOExjn3BAIvB6Ei86AHPWj3hCc8YfeGN7yhBZcCTIriSBhpPn/0ox9t193nwJ/+9Kfv7n73u7fApB9jzmcTiXAAhNPmqLWvfvWrrX3961/fMcBvectbmjOVbTJOQ0wdGxs/MO7P/uzPmiEAuMzXnDK/zLk/uv/ud79799///d9t+UI/lE5AtrbqgQcMyq/8yq80ZVG5k1z8+Z//+e7v/u7vdu9617tO0YfmsSZxQLeqn2UUhpKzH+PJ2HX4MSdYoTwMcG2ujzXvkstcBelpwRPX9CUbTRVG5Z+Can/yJ3/SWj7n2h3veMdTy3wCZ32kv36cfZ+DL3Myf5+d60tzDlP0SRVB5eEBD3jA7gMf+EDTI7KoGHPu2v/8z/80QwND5GxO9ntlvH001XuZE+fImDH+dOSDH/zgKd2JDiUYplff/va3m34xfgJwhjZ91f6XnJuDlZxf/uVfbsnse9/73sYD+kPPtPCFPkm8rSSpRKi2LRkTFgU7+lF1pz+qYvDhPPhwbs6OOfcZXugePghM12J3bA4w9L3f+71tmwE64SB8gQ3nH/7whxuPPvShD+3e+ta3tiosRyTIgrexvpdcN0+O39K5hE3xIfKJg4YXyRIbHLvsXONvBGIPechDWqI+FUOeIzMJhyoXOZFXldWQbkeOjvXZ6L136JJqEH2SlM7lC9rwmU6ZG13SyEpSef/737/5PeMneWQD2MvYyNiIuWMPPa8vFTlFGzgVsL397W/fwQfM0O/IIzJyLbJyTvfpoQrxUh3DF75AoUrCbOXmMY95TPOHcPuRj3zklI+i329729va1hiB01y7NsQH4+MxmZINXRfDiEFs68ATCVtsS2xN8Bw7nKPnBOhiILabDIfGXXoNnezJ+eef3+IrSYgYpm+xy+QkIObr2fFf+qVfanERTM2hAZ88T7fpGP6zxewc3XCkL494xCPadjjj4Ql8vPGNb9xJkLLCDuNWGH7zN3/z1P7+KbSQd+hwDsMa+aVJDBRg+S24rrqdc/oc3Ub7LW5xixYsKxTFRk+u/CJIxZSwVaIAgFAwnbIQQBSnKlSylCgSw4hhgiyVyjBE/5l0rh06Yk6U6m//9m9bgBk6jJuGHuNyDsAu4geMqeNhFoADI8X8zne+04KAb33rW7tvfvObreFBeBHjkWPlBzrwTaZkuQBP1yi4OQiiH/zgB7dlkc985jMtC3SUwaOJA0JnpWPoHL0U7NOf/nRLUvCUQ98nh/BQRm1ZDdgBXzWIY/uLv/iL/9PwPw3NgnRHhghABdwB575xD92L4lgCtmxEUWEWX/pmvoJ/SQ1DzFnJ9FVvVAdkmMbLXA+Nnfv2Q9IXCuqoYpdqOuW96lWv2hJI1QXBADqC3xzJiVzIUCMfVRr0OtIl/TBWjETGPnTMXATfcKjSqjqlGpelvRwZMeeSIpXXd77znQ1rDJ3KH4yswTBaLZdJVCSnqttf/OIXT9mT6Bh9i07hD36pdsCY5X7B4aF55775o1ngS06CODYp1RT8hYU0Thqv6/08Y/nYnjwVdP2v5UVozFF/Khz6JwfY5PjgAT9id/AEXr773e82+6Q6ztGrckkq0t8WR1iTgLGH9AouJUbGj1N2jA1232f0otN1vPX+Pe95z0k6D+Psg6D3Xve6V7NR0Vs0RDZwoeWzY67V6/01QaHVBEG9AHgJn9gu/BaEhCdwa87sDno1AUMqdVbb2MQ73OEOLVhdMu7QO4IFe66NBb/Gx3e0aOjjI/gkLbLKM7E95KRCK+gYGmfoWuyLe5JTwabtE1Yi8Rkt0XG0GAue8QpO6CI/vVSXMj6cohtWBW34IVDjDwS3bGhwigZz91nLZ/TBLTuEvgsvvLAlfL5jpIglBhniwdJrinOSBDyPD0cLjKfqrGpOfpEZ3jmHLTaCLZ2i8+ETrLDj3qFfdNIYVgmMq+nbUfxCdsEJ/uCX63Qqz0kozIE+8TPGynhjvMl9clfYvN71rtdwQ0fYeUe7B8iR7Qiuqy5XHaf7CdAlLJIuW8IkF1ZiJld+ORfOKUujJp2JE4SGCbnuSGiAQzjOPYM4TtTST5hgspl4rh06eoexITDZvyUmY6VlfIB1DSMwT0AzJ8DybIJf1bEAzVyBgLApNCPzvve972IN89ESHqBF9duSH54uVXD8wTPBL0W0JBPlrcA0LsV1HGuRWeRlPoCfYG1MFngToPpyEqV52tOe1kAP+H2DnTRBH0fuaBmXbHwRhpMbG2/qdTQxfLe85S1b8KtSSP5kpuFPeOVznACjnEAHP7OXKbyeOr7nOFBVFwrneOUrX7kFeWjDK8taKiqSsjimYDfHYAaGyZCc0MtZOUe3L5+Z6xwc5Vk0mqOgV2YvWIKn2lQPbbHgQAR6jI5qieqW6ocAMv3N4U+e9a5kQAWV4YaHGPbYldiW8MXR/FU4VRzQbwUkfR46GhN20c7I/v3f/32zSTBBp/GX8abTjpFR8BO6fJa4WPpDu3Hn2JZDdLpPtvgPL/e+972b40YnGtgWusruCFI4dDoML2jinDke85wy1tRn0GTlQSCRYIZdR4NVuDQrGe6jE1/RRm6w7Hn89QW4KfhRKFCJskrCAZKLPvEhx+CEXCIjx+h71flci0zRg5arXe1qDY9TeeE5djj+S7DHvusvfZszOugrWgUKAjB+UFNQgkH2c27FboxOdlQiGewaN3N2RB+5wA5eOhfcuIfe+AqYssI7J/it8mQ/YEUwZfXTuOwduowNA8alc8bEJyvE/HTtZ2yeQ9cjC7zkGANOVAAAIABJREFUw9gqS/QKG8YS9CbgN55zDVZhNrrvHKbDF3aHbr3kJS9pVU7bM6YEmUM0jl2DH9VbPA+u8epNb3pTC/oUIyRpSSDIK3rFx7lvC4CC1NgY/XWyVYAw9u1vf/s2DlmZPwzjDT5VDMUGw4rmOfc157DufXGOYJ5dnGobPafyLK6zbUjQr4kd2BwFGHEXmqJj/TH30E7e3tEHP2b7ke2nk4NfJWOlZgFNmI0BAgsOEVGIw7Q3v/nNLdjoGYQgQqPwjDIhBKi9QOZ85sRVf4wLqFFc4zsHEMxSrQKsOQaGAsqKlM99WcP8Erj5rE8ZCgclW9U/xfXFPqV1y10UHigYfZVjWYjlS06JI5kz1/os3qmGWNJCE7mYbwIlhsvSGxAGpHjhGbzp5eOzPig4A61ymsrnkCFyjeIwbnjB6QG9ftCgnzSfM57x8UFzHybgiFMD+jrHoXHr/aFzfPGeoErCRka+bS7YZFT6BtOwwxCTFR6Yh2pMWx6Z8c8/oVcFCGZUVVV/7cO2XIteWFHppgeMqzHD+8jJMdfQk+ZajJB3BdUy9yE+HLomqeMcGD1B4FA/5GHryPOe97yGI3rEcatcqVgJSg6Ns+8+fqWyqZKs6pMgiq6RFWwLdBk4fIFhlUbGnkFTpQ9vjRUZ7BsXRszfcqwVCNUEy/dsGOerWiV4FGxlZYWc4myCb9iFHZWtLWxZTzOZqO5LTlSY6bSgQSJiec/+SRhn/+5zn/s0+wcj5COxYWfnVMX78etnfM0c4ZtzktwJsmxDsdTIqXB2bCG7yJl6BmbwLo1Dco0zmmIDzUH127ffYZEvMc+06Ec9xs45psUOec+z8OQeJ4kWY9RVyTr/Q+f8Cn0wb8kH/MITDLMxjgIZYwc/xmYD6ZXnVaWmBgn76IEbeIFlOhJsx3dZ2WPfFBzgx7PkGJ5Ez/gP79CTfeP194ITWNA3veaHYNevFNhax09KaCQdAsokSQpZ7vV9zv0Mr1Z20G8eMIPXeM5XJW5hh9FEl9hTNh9+fbaSiX4BMfvjfZV9xRr6tXXwKwi1SmgMui7oNZbkWmyhMmwPK91he8iJzMzFao94YE5RDdbYDdskJW3kQxfwKLriPHrmSIclCvgK147oVAgITeEzm6BAMyfmErjDhRVyNpetDz2OmbN5++yYFr32OXrmmf/93/9tz5CzQotte5ODX0ImbMoEpBwPhcU0JWlVCRMVCD3wgQ9s1aEQUA0egcp0Y2CiJHOBXZ+3P1NwQWkoWBiQyWPW0uDXOIwzZmVfoKDGF8MoMMH6ooTnKJtnZd0aQwi0xhaw4AdBqI5abl5bNcO7VH5ltoBCLhIAfGBwVFWNlyUC4ARuPMEfzXk+o5GSo5ejEZiMGWOAtt0BBgQn3tG3MdDimOZzWiogCeI8wylwalkiqfKde44vZEGJBO+CB7+2IUCA0b4xcKqYqoicBDrRyHEzOHPGN67nGV2Y8W1ifZhXvpzmSxeMK6MGs3gHI8leqzwio2DHPTJmjAU4DOGU4GFsDnhFvvpwXj9zoAJfSQn8cB74ItCx9KzycWhrzNi4uW48gTeccXj0SuDgOwUCSgEWeVm2lJDFluCLIBn/3Msqhf7S96EjHaWD2fNrHEEmucO1ajL8MMQSGAbe/MmCHDgHWJH4qz7PGfsQbbkPTxyyvZK2E3EwnJyk2vImZ4hvKiyCN/TgjUBGUKMwMKcKlHGHjmgJPug+J33Na16zBQmwoMoXLMIO3Esi4EfwgW8avWejJA2qnZaOD/GOQ7eESg4SFfYCHsgjtgs22B/X9E+n4qccNb4rNinvo8m1pcFvdB7PzN/eUoWD7D1kX2CLb5S0xO7FzqLfOZu91dYvdPDXAlw6hQbYpk8+26Jm9VWBgJ2yrUlxILx0RKcgkW+ZU/nFh8jTKpctcHSa/sAurNJ5z7AfbKTiifkbEx1rg9+MDzeKHwpOxqcfcKAS7TofB1P115hgGyYV+wTmCidsDXzx3ycZ/OIzneUbJC22o0nC6bo4g1/xJS72XwIZfbKKKkj3TGz5kA7319h+9lxcpzrKxgeX9Ii+mLsjnXJOl+31h6c09s/2MffwSNMP3kqwYhf68fvP7AabpugAd3QUFs1Tf/TbvKPPOdJ1DY0aOcdfeF8ADVu2QUpu2PRJwS8gqZIwPiJnS8JZslbB4jx0qNyupCzY4JQQzBDHYXGglkxlGAyEiQekPRPmfLZJnLKkMos5YRgH5RxjgJ1BnpOFoINxo6wMBQOvMVJASlAEFnoJGT2cJ4cuSDB2KhUEolJlH+gWwS86KIpASOWAwpAPI2s7hKzOMomEQxWCASAHIEpghT+az5EZHqrEqUSYfzXwda4JfskVuDgldKBBRg0nmnO0yRI5cMoLoACNJ2hiGPF0LSa8j16ywGNVQfMQgMJoZFiPnDheWWahwGgScKhcZL5TjuGTZBFmVMgYLJgQbOlDEKyiygmo2ktOyIae4H+VR85jUDyDf/SLU5H4jSUnU+jFq/ArcqYfnBKaBSeSKIYw8uXUBVYM8pqxQx9eMfoMt4BKIgJ7jKbPxlGFEaCYP56gR7WDznNQcc5zsONZuisZkYwHD/RWwMjmwQ8dtxcOfukFmxJ5ML6CX4HTnLEz90NH/LVSINEWuAgiBL74b84SbAkKOyNhwB+2htNkh+HMPA6NM+e+eWoSjvBOkgAv6QfW2Tg0S2phh33BN3pvCZoDtSWIDA7xDkbYeDiQBAiQVKk4uuiI/lWksm+fDeLUY4PIjx2ia7awCewUY/AMnpYGv5mzo3kIuCSlbI1AJUdVcc7XWPQ8skK3c3bHs+xW7Ejte8659/nYYBodORf0Wu2R3MGIQB1fUp1HG7tM3/CMfUriPpWGyNOY7AWfJwClqwJi+uUZOBH8igkEv7DL3qwNfsM/dkyMQj/ELsGAopSEjW1RQKL/dB3v0UW32CH2BV74AziD35MMfrMaxTdISCQvZMeXwBWZkhkdolNw48hvKRbwB5nDFFmxL+Ii7/Pb6VPMQj/CL/jQ6J3YQsGTbOGVPK128BUwBD+pGisUKkxOibnirxM3WYk1Pw3vBeDiDDQlpqDjPudadF1BKQkCLCf4xVOB76zKL5CarEhelReYRPvAw8ETDgPFIFJ8AAGUKDkCMJch9M32fHs0SjJFUGPPYBoagJWCMYoYZmzld8aFk1oa/BqXgaaw5sjhAKmWDe+UzVwoEGUCUJViSs3YER5gAVSW02vQPDa3fdeNRyaWZS2vOwrgUoWXzdrDpsxPXpapVWkpM8OGL1p1HjF8DLE5kKu5JciJUUGXawIDfQpEOBLOBp8ZudrQpFkVkGlSIuAOXygbBQT8Osa++Y/dw5fIA40Uj6wiO3KszXVKDNsqZugiM455afALk3RG344V5+QOJwnqZM+CYDKhJ1UeOadLqTT64ojnVSb0nbmO8WPqdf3gF3zTY4kIx8eI0CeYkLwIBBlkQf3Uvvc9Rz7mgWeMt6qUgE/Cgg62AoYZfPyIPgsEbVngKPDTGOag7Ruv3vMsHYYP89YPbOBD+rLkK9gUMMFF9IZtITMJ5Ulte4AbDs82KnwRSOC/RA6N6LYfWCLk54fwRyLpObaBE19bna/8qudkpm/8g/M4OHxzji42WQUnRQj2BZ4sc9sOYS7hde27PzeWOSuyCJZ8SVbCb6VGYBJ7zxnyARIE9oZDZvtifwS47KQgFL84awmNYsAWwS+6Ixc8gSdN4CJRoLfopedwhG667Vzgzg7NwW/Pp/qZbGLn0AIrwTesw4bgRPEEZugXOsiIv5REsNX8vOdhsdqxOlZ/nuckX2QsAGVfFcroNB55x1wT/Jo/vmwZ/MKhBFoAJsgnY40+KWbhB3uMN+xPeE8O8AFfqp0JCk962wN60eJnxdArUFNgomPuSVwEmqnQwi2/C1dWWcipl8Whz+Ri9Yzvk0zqUxWYfeXD6ZojHZLMWkWQ2MK0bRpiL75IXMdHwHRsJN+maBp576PF/CTQfkNerCImoBv6w38rReIpto4MxTqJMaLfiUttmRCDwjWb7YvAeKbiL/Ad3PMb4Q8R6R7BYLBM0NE1oAGglORtBRDoRqkB2sCYi+A28Ix9lEO0uEbBMFUGK2hi6FQ8ZAcEaPwa/BKwjBKTx/pcch0djDNlEmzKigBHEB4Dx6AAlmqHLBNwMoclY+YdimF5S1M5i8EVMAhQKI+qJkWynCv4VDVk3PCHswQuR3KSXXFWljAoHNlmrBi0+pkBFeQDPqciEBEQM7poSTNfSQH+AK+MWgUTXzgfFWOBFkc/RVFCw9JjxTljLLCwPCtzZEzg17Vsz1k6ztB75kdfVF8EdYyZ6jynGJkkyHPEI3iGJ3yzDMZABENDY8y9FgzbjuGLgoIngWVogmP7siUt7qPBKop59LiYO7bn9ZFGHubHwOKNLUKMHZygA48YNcuRnLfn2CX9kGuV7RRaMm5/zLvwTKdjU4xPJmSDJnKBXfgWvNMb9mArHKOLHuqTzOk87OB/tqWwK4JzNEpE6b1nt6IhvMgRTTmvR8GElRbBA3sroRVgssPsi8SSo1bBZYvZh/r+2Lnx2G14w19NUGV1xjYI+2nhk91ig9gl85e4CMDYFTRZTuWQyVMlkENlCzlIGFuz57enHb3sIP+U/eP4wRcGx2yvRmZ+D14woZ8x/vZj7PusD40+4BefgBb8EKzwB6p5khHygWt45j+TWLJPa/Yhx9YZn44mEUMT2SiUkYWkRbCDN/gg+Z2rx2O8QANZoAE+Nddq/z5LTuiU+IUviJziw+k7rPChgnkVz8xnbOyl1+FGPEXPjSNgo+vsHf2hS2xQkhS/YoD+OqdDY+dZ+qoQI05g822fYP99xitxniOdgh8FMTilf1boxF1iOz5ThTW+C//cR3uNI4boQgsZsAdWkWxRFKdIwBTUVGzpOv9kfFim3xr60GUeEmR0Sej4BzaBTRT80nGrY+gZ/LWHMKQnMNejUDkCFINPSDqUxckOOKeAhnITFgdhj41MrO9/7mfjx7gwooQvS5U11v05pyv4BVbglIlwRAy+bAUYgBQdAkuKzZh4PjycO/f6PMEzIAJv/NAnJ8mwMHBALIti6O1pZdQACiDQFSPsXOZtA7uKjN+i1Fcda+ic/GWpjKRlaklIDEKdH7CqJAOw7Q2qz+REUVTPOEWJC+BTlPru0LhbXINpYwm0ZIyCfo5AkkKZVQfijLYYL30YkyOwRcgqgKQhKwRJRGJAyEcjM6smdEv2n71d6XPtMYbHfkC0wDCjY2zY0Og0x8ioWHomS8Zn7dj9+yrOqWYyVuwGeugTvgQz5OWvPVUu4AtmYqf6Ptd85lQYU8Y8yUnk5JqKmeCLQ4QZRhg9ZDxFh6bSpi9yom8ctIoMulSn4CMVKlUbFbYkw7ELU8eZ+xyeo0tgyraxA6pQlkctP7J7+MYHwJREnA/Apznyik0ITxMYqEQJgCWugpasiHiOw8YvKzicooovfKsae17SDVeSvK2DX/JnhzlkOFWNkvDjA70yruCFXrHN7AB7jv9z+DImL/NniwUugn88kBTBhl+X8H0Q8xfw0m96xQ7jj5UMK4d43Cco4f/YuGPX63swSS78Nlnwl3wSWvDJdr76/Fifc6/rsza41VQc4ZZO2S5oGZ2MkugmhrFyC194KQk9FNTNoQ9d5I43cAs3/KotGoqGvqRIZmKcYIhuSXolV0tX4oJTGMEDesI3sXvoD7/YNMUgSb6YSxHLKgv5sTn8phUeNpE+wRb56is+fR8/jGPuxrHCI27xSx2SI3GlAJ1NE9+kH+/4DKdiDxV+vtyvVZEh/uCVn6ijb9n2QA8utud3SOmAA/GCXEtpJiMzcxTwie5lQwwbQ2zvTvZ8AI2mHG453E9xYF6IX3pEpwqRoA8YMJ/iGJciB7inI/jFG8AhKFWgOMnMPbSgj0BUswgXWAWPS3lQ3wMCnxkqoBVoCg44RPQQvuxHw6PwBW2MDrAy0Jb6gYysA/qKiYxjrLHrlS5gFugzpPZGwkH44YhH8MIRWV6TecMVGoCZjGt/W57r2xi2bQj84UZ2KJCQpJEPw7DlmPrikBhbPBHYqT7hA+eTo3P8gRnOkULTOYaBPuon8nGsslhCLzlZvkILfMCJX+NARxr+wI2jjFqC4J0l4429Yx6ciyCFI2a4LrrookZPr09kxfDTO6sc3l3Lh0qXvvBWpUHFReDCScfQ0xsyir3hGNkiz1qJkVQJCGufS88zNxUOSZDkUaWMQccfNHDUGn0XwFiR4aSXOsVDtKKJ/eKo8V9FhaOiy/gUPUdT8CxIRZN3YG5p8BA7hL8qVKrMljltCbIEanWRvqjy+r6DqhS5wa+mKAHfkR9Zbhn84o2gU5XVfGGDrIxNp31Gr6BXtRq9Egc89+4h3k+5rx94YeMUZchFkoYXdIlc6DodY5fptOcUsSSgW/mm0EpmCTbxhb9BE95Ht+m8LwbC7FJsZLx6xIvYTdfZYH4Jb/gaybbAUvGDXQlm6ZWWREUSriCylV7jib5gRWDH94kNVOUFlrZUwYoEO34cPZImwaUgT9HP1gI+u855znmPOfSYJ3okqoJwhRo8ktQqksFxMATXdImvom98g3hPgjt3vzi6BbSSC4U9fIn8ovdkqd8UAiQGdJ//Ukzjv/Ap/hTv6L/Ktkr66LaHDFCZBywCPEvBnLaIXhDnW6xZQhL4ERIwYwrAGDT74hgX726xlGzymGLyCXyNRZFNOkFwhAIsqiSCqy2VKoJSjQMKQSQaACEGHz34gQ8CQAbZsp93GCe85Qgqv5eeC9YEJBwCZx3DYvy08CY0kpMMidGxtxFg+2x/KT3mpZqhkiwzxB98wSPywhsBur2kMj180WBLFiejWzr22HvwnYTFN+k5IbTgAyeAFlVNwfFWRq7SQt4UV+KoIg8T5JQgM7xxZGAYZEv/jAGjMKSftf+553QJTRJJOlzHR1dtHANdUgGW8QswqlOZO3aez5zMD+8FbxwhmUSPHGPMYBiWJCroIEdzSH9bHOMQ4AD/JZMSfMtxgjs6E33HM7xBs2VJjkJ1loNFS/paSxebx8ALfPGCDrNx9Ch2hp5bzrbfVpVPMryFjHra6RDdFsjAsqVKzhE+oudoip0hP3LleCRxa22e4EwSqeIuWaK3bLDqr2CGr2Hz6Q9+0SU04A+aakOzoJnM+Ll+rks+k72VLEu1bDF8GBNvBA+SblVGAafAV0KwFU7Qqy9BJB2VHOABH4QP8ZV4Abv0GU2+WKnART4nYfvgkNyMYQWQbIxPLmjiy/khtg626DScoSU2wtzq+RzZhL9kgzfkDSeW7s0fDti7ig165hp9l9zSJ/4RXUvpqDSbo/nCgMTfqglfKFGJLhk/fEIPWdoqY2VMBVYldkmQGTqqfXAu8E1lXqynaEmXFBv4SHSRV2xQdIr8VFfFhApp9JOe41N4nzEPHckcb4JDdGmuwZDtaIoMEgU+HD9S6SU/tgd9fIgYg+0We8GeRH2w8jskUIoJKJZmMNzGYZMU4TM4BEW5wxADE5DshOLL+CkWRRTwHZr4ofsYqR8TwXDjxtCasOYzJ0mxCIvwgGSt0e1p059lGk4Ro6M4aDC2FqOnyolnsjXfNpVV4a1MS794P8T/fsyxz0BhuYQzkjFSGHyoDT3hlXPGkNPm4C3bUqKtFBtvLI0DaAIZYxs3/IETVQdBDEwJCG2BsI9YskLWcxVnjD+uUyCG1RIPZcAn+JG1qsxzpDJpBm7LcUMTnhjfUpW5Wi2puMEbcnONoaFblmmCkfSz1RHeBJ2SJgEEWWj4QrfSXHNOpx1l+PbbbkWHfuBX8EgOkiVyiT45hjewwyHYn80gwy6cwe2W9OhLQslu+ca6YCVVRnLDC8EMetBHZrYWqXpYEWOgKz1r9ZtTSoLC4bBvOSappV9wIxBVhVbpMC4sr7EtdR76wm+BgOCOX7BcTRZkRk5p+II217cMftl/FUpL9JyfhISvsS89/knCEgxVGxgs4R062T+2QNXTnOpcl54n+GXDOGaBJxrYO6sVkjyBDgdue8TWq0xkBC/ko7psnpkv+xL7y/6rIJKNfdEqiAIOdnLp3Mfegz/+TnGGXTM2OkIPG6yKh2cKHwoxEj5Yi+6gaymOY8/ppeAObvHGl9us/rEp8VP4BSca+ui5Six+wggbvpSOyh9zU+FUXZW4ZfsmXsRXRpfwSoNXOJdkC07xSlBY+51zXucBtyq+sEmP0EO3jQe70afgB3+c4w8+SjwVSa148Ctz6Nj3LN8gNoFp8xXA4pfVU75JjBcc4Rea4IuPkLRYabCn30qeYsmk4BdTBY02QhtEhyZKmR0FvclMDB7DwpFSKFmAiiKCCXqL4DPGV9VBAMFRmzCwpBLC4DpHEwbIkAhkS6UGGv0BbzJZPKFAmI+G0BEg4x8Q+fISJ6nKyegCir6ioPuAMHaP0RLEELL9dmQErJb4LPXhB3rQEjmRn6BcBUVVhvHbKogwJ4C1L9OYaNDQwBBHcchIQ6sj/giwODbGkkJWBR2b/6Hr+pDxCwjgktGHG/iwBAfjghbVny0Vt9JFRgJZBkKQL2kSrAj2YlzwAIZksuRInpQeTVslJpUmmFPhFADY96b6YquF89pcZwQFfvjFgdd+5p73MmUffClIJUq2Ti54gg/hD/2BE/oFP3iFxi2qiWP0wx8dlRyyhfatWvWybC1QRysbCNtoVkVilDn59NnPNdfnHGEgQTe+aPiCPxreoANvVNUEEoKrLW0eemGQLVXQUDGlq+wIWdAn8onMapVoy+CXA+Og4TGrjsZFBz4EJ/EHsMIGabE/nhf04JPgw+rHmuXjKkvBLP8kkKDDZMXm4YdE3z5O+uYLpIIpds77W+BEP3Q6wS87Y+zY32r/2Rk2iGwEm+jeGi/hC5oEnfxekgG0oI2cHK3mCEjxh17zHWSdohn+LOWReWl0wvcnxDNwymfDbuhwTk7BMJyg03Psomqx7Ztb+Ag8t9UBDtgOY8FqaKmyolsa3ba64x12aYuYKpixIm01wjaCxHhsCrrISIMjdEV2eCXx5A/4e4WjJHNkvlRewY2jRFcB1hj8kMBXghA9j+3BH/SSnRhUnBU+8XFsF55NCn5NhKNWSSD8CCaCyDGOKJ/tj1HFUTK3r4ZyC6TXMgIzNcyVMftZG5M0LsAI9Bw1Rg5TMELVhuPaWrH1p9oqCLefSjXI9g/jGj9gqXxjcOzbwyP7SxlxSwT4sybw9D6Q2PMrswYOMrMHBh3o0apCATUH6stxgizB4RZKDbACPUGJL1IZk9JEPj6TGb7kGPrQRGYyT4FoHENVhiXnsGcpUmXXF7corDEFn4IuWLK53tYcmf0aWYzRh7d0ioxgUtKkoiCASHJJeeGHYjN0gi3705I8bo1h+mS+aPKFBzig845prrvGSaqoaSoPY/Occz02AQ36FzxyguSDLznGWeEN3MCQQI+jFLRshduedv3CBOzAo0o8fviuA+OaRBOW6BuaBWXklrnhcd/v3M+qYPo1Hp7gkSZZ8JnzTFDBDqnaSGrheIvxQy9na0uFAEKgwn7E3pIHGlRiVagk1gmMtwx+LRELRPDC+Aka4n8c4YNMYmOqX3CNnfY+25cvktLNzHPNkS0WfFrdY+vzvQL4YJvJRrJthcueaUGQ8chpC1npQ598Xg1++QF8wBtH8uK3rODyHfxqMLtm/kPvwqECi5Vg40Y2ZBH/BMOKEqrjbLTEhH9EG7rShvo/dI3dRAO7JTaRkMANWmJP0BH8wjD7C7/ue04F0UomvpLxoTEP3YcRPLFtyLjhSWxcMBt/iQa+EW4lBwqLW8kLb1TdbcmBUToUrBif/0ZfZOWea2SmGGLFWR/oCYa3oE0fYkg88oV8+IGR+Em8wpfoPj6yPWJW+3zxl/1WxCAPycbFgl/gCNERmnIzhlBURh3jgUa0XxtD4jPlRgRHJcNlfJWa099aZvTvcwhK4L71KyMQwMgsVYMFmYQGvErf9qFQItlJ6Fl7RA+DIQBWDbEU7Msmlhztc7Z/x5IpA4N3VckABy8ti+ETQylYXEoT4FFIGY6fFWM0zFl1hpEFaqAJHUCDP2hSUVLJsoxiLktpqO/F2ACfbBI//FKArM32D3gReHIOWV6RyAjagZnc7MfCU05Jf73863iHzr0rY7c0k6V1uMUPho6MBF4CDDLDM19c2hIv9EvwINkRSKFHNcRymqBKMkTXVBNjDCmywIGhI1syXsMHfPJ+r+v7+Od5dAv4GBU/T0SOqthz+tk3hn4E+YIBuqBCn2YPuIqNJJPOMMBwq/kSmOdU2raiZR+duUdX7dUzNtsjmZWwxBgLSumhiiKZ0c+8u+QoCLfViyOAy75ZxlVxjlMQANvrJqE13la84RMEEIIqWw4En4I7iYCf7RP0S5Qkkr7IypHSZ7TxJfi2NlEReLMZxqW/1RehJ41+a3QJXzhs2PG8LSrsC3rW6lPkmX7I2hzphy1OAiYJNpvG5iaAQBMeSiJUN8kofaTPJUf9sDF0gt1ge62k8Y+2LsIFmWhoQRMfCl/eW4vVIZrZb/qdXzCQtPIL8Q2KAXyBgDRycrSdhpzgbi2G2TABFJtBV+FCE0wKttk0/luBhL1RnbfPXlyDFjouvlD9nZMo9TLN5/gB9k4SFn5I7M4///yGUYElXSarxA9iG/rE7szlibEzfpWTYpXtmLa0JZFma/loPtHWUd8l4Bcl3eQEN/ingINv+qh9bnFufuRhfOOgiezodWwt3jin93jI9ohj+MuehsnBLwWWQYrqGVf7MimPVs85Z8Eu8MoOEIJplM5S/FwBhWDv1ZbrOaIPgGw9sGdJAKoqIbhhWIAFYwSYtj5wGLWSuJSujB8QJdBjSC1joYdTtGTD+DFuQFwBHAUnSE5C5U0wn77nHM0jtHhPJYzhE+wLJiy/WYYVCKva4Y0mnYe1AAAgAElEQVQkBX8cBZycFOA0cGzwW8xowhdzwvcslVrKEoibt31CQA2sAm/JgiqEgA+OOFirB/i6NvjFF18uEIzLCO3v5bAFvBwox0Q+lFowDMsqTN5Zi5Mqy74vnxllhoMRhF/LWoInCk5GjI1ERqVABtv3Uftfcl6xM/Q+3qOPQSYzSYqqjGrtVrRUGvo+rfLQKcmTxIDusDGaRBfPtvglmaG5H7qGVvuCJbyCClVYRhiWJDOW1FXt8a/O8VC/++7rJ834zvGAA2V36TT9odeSLH31PN3X/757bK7KtyCGvbBCAwsSeDZYQuDoGfcFD+jZMvjlj9gRdtVPd/FF9NkRPWn1Gp0iE0UHeqUQIJlD7775zr3Xy1jyAZsJpAQusb10Gy2cOmdNz+aON/Q8WZOTAI0/kjAloZT88+VwInDBD0GMrWBstIDBu0P9rr3GV5snWrQkcM4tR4sXJAm2sgg4YViiolK7NtEmF3bWMji9TBwDK+Z+3nnntaSNjaWv7L5kDYYURshN8Mtf2a6YSuIcnvTYYBMUV/Ccn8aPyErAxx/SG4XHYIas+G/B+prgV4KjcCepwBdHW7skSfQ5/KFjsWPuK9TQpRQ60UVGbHNWJ7eyNXirL7whH/5H7OCPveiM5Jdc+GwNbsRRbF5o6Hl+MPj1Qhoh6wwQCETnjqoxKhv2YlAoWT/CKBNCLBkwfoLftUqNFpMJTRVwhEgxMF72rJImexHMcJKEI5jxZZX+S3f6q32tPQdm/EKPIJvhE4AK4ARyfdCJvgS/eLo0+O35AsyqTcAtQBE8UmbBOAchs+MI8EYDIAEnAKNjC77og8wolfEF4xIB+yUt98OILFKF2pcG4USwaWlJgI43FM+P0wt+tgh+8QIdlq3M03hwIZgTtMCJLFvQgB8MpeXuKNJafBx6P3yiR/4JywoKBykQFvxaRSHTtfQEL/W4jzbPwZTMX9WefFSRyGQtLXVc49TPOadLKqiSRFUamMUXwa/ggRwZyLH3089JHeGTbYFdlXHOEr4FV1YuyPWkAorMmf6wxYJN+kx/JAqCH/Nea4PDO/KmEyk20CN2RVDD7nHm/AK8ctASAfLaMvhlU9l5iQU/hIZ6dK4JqNwTiJMN+4svcEO/VV3x7CQqneEXubM7ChB4QCb4IYjR2GFOm03y3BxayKJv8JBrdFYATH80OFXdpS+KHYKHBL8CC8EvH3QSWEUXnwQf9EEg7DyfBYCCYLjhv22ZIaca/K7BsPG9LxEhC7jQxDMCOkmQL8Px4eEbX+F7IJba+QR4UaEW/LLDkfG+o3Ejk95eklN8tfgl/EiSIOiU3CneVcyIbdYEv8alqwJ9MYrxzJt/EeDSK3pBj50LyPMcnlhJlziRT/SJz4qdWyOnnpd4B7fsixjUl9Vtx7PywxewsxrdViQKhms/+sjng8EvgVAAAtYCCNecO5qgwMZ9VRkEqSza14kYjlvwK3DWXwavhOTaviNBGY/iGE/THyPR9+U6J0B5CAdgZCgCiXwDWz/7xpt6z9h4IdgNX9Dav49PDI5lgeyBY/Q4bw2dloAY66XBbx2z50m9JwCW9TN6eMPwogGAXbPkTo71nSXnlQ/ONdVoRiPVZzzwM2jAyDDjI8VTvRJAoM32AwEoo4CP++Y2lU79wAnZUXrKQjaWa+1PlqRwRoJghpij9c7U/qc8hx9jczGWpEBV2pIfPghoVNrIj9FaQ49xzR9m6RJ9cL6PbvR6VoVE8GsZzDKpd9zb9+7ce0N84cAZQEu4jB7ZRIfgWFVA1WQNX+bQGfmFVrYIDzkMFWDVIqsJVpssn8I3/m3Nq0oz5ymJtOoloabXdDrB75Zj6wuv4cgxDT1kRZ9gRYWIbSGrLYNf4+N5cIz3aHB0vTb4RhO5sLVoUVF0FJhb6hZ06nNLHlXZOEcH/PoyEUcd24sWwYzKsAQOzvt3xz6bb98yjxzxJe97VuDni0MSfYGl4JeMrIa5JwjF17yz9ZHOoC26U/t3XYDD/kv4+W7L3AJOMkJ/fX7OufHwIrgxx+AktBhfn8YhLzolQDY+n5Dg1/aAqcGvPoPNxFFVJv0cQoMVd6sb/BFewAus0Ou1wa+5wZqCpeKSVWGBa3iCvtCMF2gKXXyxCjjsiPOCH1vS8t2LPNvPbenn8Eu/+G4PrwBcRVwAjh9okSRIivl1Y0WuddxTwa9ImdMHgjpBLwvEOFvBq4oqhqWzEKNT7xrQPhiVDl+wIihgsXdFMDpXmTKO/tFlfEZcIIImAhhSBIzhAGwxoDiAQkiyJNluMpPKjCXnHBmDCqAyRryiKJVH5hCeegZ/shcZYADZkaMS/FKyLYLfofmgg8wkKfYsZQ9RAmDgUfkUdKGj8n+ov7nXjM2ok4HqneVhYzP4skvyhbm69OU+x5S/LA1G546973kBt18ikdmq3Nk/btmHXqiOMz7wu6+P/h7ezeHf0LN4ZCuR4BcfHCVvW2x7oIuyeFUOWTy9guNeR0MXHtEbz0iO7JdjeAQTeQYP6nnPk6mfoy/9867Td9Uxy470iMOmQ4yf1QPbjKpd6vvY8jN6+v7wD45gPMvKgl+rHZwCm9G/s+VnMhW82K5DnwV3AnBV2rXjZL6RsaPmes9zQQpsWDpVXVQMgeEEvxKBIdu9j8aMn2d81iod7uV6PZILW02XBb9J9tHEYXLkaDKPzCnjbHEMneyXwI4O8U1wiwa+Eh0wo4JOx3tdHKODH2RXJcTwJbjK3Pt3XOcfBTqqvOwbnESPXMvK6NTx+zGmfEbH2HPuqf76wptARpIg+OWz1iT95NqPaaxcD00+wwE+4SdcSF6tGihc1eB3qj7jJbyzoWQFi73OVNrQIpbAB4UiQaVExWoOvNBrcvMTZLY97Osr/da5ohtu7MuXpJM73RBXwWh44t3wxfX0JTmyNZEuoSNfqLcVgZ0z39pH3hs7Zoyx+657JnPAS6tOvqeUFWw6hD9iGHxDx1h/o8FviFZiVhGzj8yynaoKo5b7leEmqzTOOVPsVH4Fvyq/ovS5ypRxHAERLaoqKocqpBw3ENUJogm4GBh/HhCwUB7Zk4omRz6F2bXfoXOBGqdi3mhSsRSYA21444h+4wmg/B4pBWLoGBxGGJAt26byKwgcGm/fNWP0rX8eLWjzpSp7efDE2GjQBBMCGpVPc9Ff38eaz5FNgl9fmDIugy9wkWBZcsFLhkZwjEcnHfxSagaO4gsEyQkPGF7LXJw4/M7FTH3eef1c+Th23d43S21wjE+Wd1Rr0LnGCRgPDsiYHgnM7J+E4wQkVfaeF/RKbmFHNdqqiuQyld/Mp76Xa1sc0y8MMXq2WzBy8Bs9kiAxeluMN6WP0FSfxSu/GoCfEij27ySC3yHMoMeXiQQ2sMv24Q/nIPH2ztB7lf56jtdavTZ2XvsVfAne6LXqHTmRkSagySpPsDbWZ3+98ruO1z/Xf/YsHWf3fekswS/exP6pTnOWnvP8nP778WqQ0N/z2ZI7TCh4CH7pdnDM1vFRkvExfxn6wg/Pwhy7wPfx0cbJ/UqDa4IeNk0iEhokkL70Jgg6ycpv5esQfaGbrfEPZ0PB7yH+1vnWc+NplYbwsl7zjs9iC7zi4wWGvgwukRT8Zs+vuKSOMXZOlgJfvoWs+Dl43Pe8ggSb5st5vphpfza8wIoAmOz4B18E7Okf6rfym/3PvPh8vLanGt/RVZ9N37nms3nwSwJfyUmCX0E6DLIBc+SUvofozvj1ngIjW29ngcKmwDfBr0qweaTyW9/L+cWC3xg7ysPZ2wTui0AYLTjDaF8UEvWnUVTBjKA3JWgBA2VClH1v9ncKbCoz9k02BOYZwBHo+pKNAI2xULWUsaiOCc7R5QtTjJvAyX5SQEEHAXFC9irKauca3dBTjwRiOdxeUaBUvWXYzZVzpjSeISS0c0qCW3NAfzJ9QLZp2wZ/wQcn1Qf0dVznKsPkY/kM3ymmeffNt7HTBE0CFfQKXMjG2OhAT4JMy+oC+EM09DRN+QxfFCPBL4djbPvfZHCSE8Yf5uAtDkH1yBKqABWGhpRhyvj7ntGnbFjwq7LIEKj8CjjtL0L3vvf7e6ERhukKgydxIwfNVg+4lVAyJOTpZ1zI0H1HBo/+wLpARjXPCk0MZ8boxz70mT5JbDk/hoLs8dr+fBgUuMCYOXOoaFR1ISN65FkBhHM6UMeLztZrh87rO4xm/lFIUK6Sm1UntMCm35bN/ju00HG/Uyrh3aLCeYjeofvmEHkIRqycWE6EoTXBb3hDd/CGA5Ucsy/wSh84YIEbDOGLvdhsNrlykJZL0TRE975rxoyTgVXf6SAbGIFpdLBtgjlbTmCBvVGporMwEvlI9gXCnoH3OQUIfGU/LTP73gTdYPNUSG0lg1PJ4FiwyN7zaRI4gQK68CZN0EdOqubmq5/Ich9/xu6RCd6gS9Ov1ST2mv7ChZUTQUMqv/RbYCXptnLgPfwfGgNtZO8Zuqn6x1bw1/SUT2Rr0KDBBj5Z2ta/lVlbPcgkvoiPVAzBH0GFvsf4OUTTnGswjX72fChAgW02l6+UOOENf8V3kWONI+aOS76wZ34w7Bw+omfpz3MwJ66w5U7VFb8U9Xypn07Do/fzzr6jYMwKOJtL9nwdPYmtj++mH5pqrq1dKZLRo/hpuJUU2MaJNgWJfWPXe7CDf3RWIY5PgX99wqIYxpdW2RK4jZ7zi5Ii40mcYM07lS54Ni9yxdMx/FZ6nHsOf9DDL+IFG2+Fmhzq8+h3DX3wbEwxDNodFRbFhXwke1nfref/J/jVESIwhqHM8jzQJcsQ6asY2vtC+BQt37ZjZDkhBHieMglAVa8sY8s06uBzztFEEJRcMJCJZtKWg+0/NHF0EKZ7aPCFBktagOQLD4xBdVRz6Miz6KGEjLl9mDEgAiXgYZhV1CiPjfQCKbRTZDThD/o0S1/4KPCZChYVO86Gw6cc+K6Zd84dKaqgPNsrXKuARQfaHfUjm4UD8mecMt+tjhSC81aZ8jNFjEh4EVpCH6XSGD7fduV4GUrg7w3VXPq83/cBF5y630201YAjgDV7W9ckAhTVqgnDp2IQY4Hf8AJDdMpyEUU2/7TwxjtwJqkje7o0FStDvIFfQaQAJcvjsIgmemQcOq5JRiRmqoeRUZIVfLIa0/NyaMyp1zg++1XxX0BCd/EHNlVAnKOZnuMTfEiUbJ3xLn5HvlvSpS/BAL3nECQHwWPmlvFUbOi/L6pwmgl+OdyplSJ9wnqOnKxAk7OkDxynAEcyb+mSw/BFVbwgJzZSgOPXDFRg0R36Qu+hI13lgDg6tl9wRvaSU/Jgt3wZFQ7cg1O2xvjONbjiQxRGJDKwGzoyv0N0kCmHrA/jRz8E+VYhyF4gIvnhJ8gmRwGvLVXsmsBOH3AeLLN/6IQp8qEbU+kK3XTRnDR20z5KVX8roPhEjxQcEshV3vAHsKwQwEdU/qT//ohGtCqysFfseg2MnPPL5AN7aMAnQb+5x+aTDZsjuear2QP2hS2EU+P0Y6/9jLcSFVhAO9xKxCW2ZKZIAOMqiPgFV3Rcom0/MhwvtX30V3FJQKvCLZhWMJNE0Vm4SeIveWX7YF+wqqCHXxofb2sgvZuqzxIfK5n6oaP6CfaCZ3LkwzX4dL3KSqxg/75qpyBRbDHXT5MpPyz4lcj6krdx0BO7wdeYN/zCEPzSc/6aH4AhGIYd+HWNrNhq/MSTuTrkOz4wy+7jg0KLRE0MJZAlGw1O0C6JFOSiA4/Qwt6hEV/gNHZmCLODwS9gCX4YE1XWVAiTfWG8SgLH5Eih3MO8CAsxqqEqrao3qjFLAYtw71IMguCcTTTgccQwoIhiY4jrrtmXwgBgbl99HmLKlGuUiKNlMPJlJGMyYgIav6SgAgxcHKAgCt+y/xhtgIZv+MQoSzamAobDE/xSJn1RFryP4uSYwNcxz3gOuIyfhi5GxvYUWw4YgH1Z0xQeDT1DjoyXZEh2Kws2dvgRY+BzMIUuRlIA6V082gfqoXGnXFONUl2WuZIpLMGOb69Oze6HxhE4S2wElHAgISEDvIcXGKVnkjTzj3wc8QGuNAGopIqRXluRIQeBlAqQfumP+QqYGGdVBTjW4FbA4R6a0WQPp2UyDgRWhua99FqCX3aHk2BYOT62RpVaMAkTocVz+KciAR/BbYKRpXT078EdHLBlAn466HsFxkuQEBvnmVR+a/CrAjfHWQXnxvCuwCC/Fy6oZTcEhQJhNifJFeywkfjGidlStAQzqj0CA0EmnnN0+oUROgInnB7+x7bFpjh6NkkMujmx8Ap/p9o7wS/5sv3wEB1BE72BRYGRoEkALLhxtIKjKoY/vi2PP2hP8YS+abBPDyQzZIiuqbRVnJAX/AoABLv4jzd4xDHjX2ycY3wq/SK/+pNVkX3tP+d4KPhVzeVf2Af8Dl98xvfIiJzwie4a13Oej77Tc9ViVXU8SNVuCQ9C49hRn5IqwaBqtZUKMYLKuICE//HdHKtQ9B/PYEtyYq4C56V0mZeqtgqjZI5tEwCrZKo0+7WHYIdusTfkx0ejA1/JjE8QTyiWTNVnAVm2ALH5+M8n14A38nPNecYjJ+Ojgy4K8FT8BYJjfB67Dt9sAVuiumrrmnGCSxjhl2BXjMd+JdYzPp2OX4Jpz+GlWEjyLSFbIh+yFXSTOb7QGQmGgiWZ0OXos+KZVXSFqWDZe2hRRPLc2PxzfTT45WAFv8BBiQxgwowEIAp4MSiZZIyJo2cAxEQYIxkeg7BPmUPQ2JHAGH/GQdaFJmMAELo0Y4eOOHI0yN4s5ZuPPoyxhhbvJvhldBkO4wKQoyzacoRMiUFxZLDDq0orHjJQjE6ylTEe1Oscr0qoyi+lCB8AOCBGT0Cd6+GV593zGZjRR9GTTTKsS5xlpXHoHO9khZZPOAgVcfwSwCTYAWLnFAvP8IeDpwCCD4q1Rn5jdDEGqhD2dVF4+FKJUcGZauBq36FR8CvQ5/zhkWLDif41/CdDR3Ihq2CErkXfOEcYtqSUICtj1HGnnOMhGVuilj0zGrCILs2Yockxuha6LUeqJtFvzmjKmFOfYSsYeAFB5REspKEJn/CMI+EY8QavBYr4kjZ13LHn0g+eqfgyrJIk+mdfL0eOBzACn8ZXLVUVkkxynpyCZ8lOIDc2Vn898vWOahzHIjAQ9NFXmMhvVUvUVE7YarzBIziGO4njEr1RBGGXVGHoJbvKbjgGF2RQses6+ugwGXKc7JSlfoFVnSOa6uexc/MXwJtjAofIH11WCugtTLKlkk3NuW1hVgskCxIomKJfVdf4E1VPclwb/KpOmatgE5/whj7Rndjf8I/d9RwbZ4XU/s4xHtTrbDP9VQGTEEdPMq+MY2zycDSmoArfNJ/RxX+phquMW0moyUkdc6vz6JEAVBLtex8CTbaXn7ZC5hr68Az9Eha/jkHv4gOW0EM3Ja5woU980a8VJVVG1UT3UlU0dviHFrrFBikawKMAVJ+HaKHHfDZ/p2BFJ/RHl4JDMqmBsOvkarzokuIJnRewK15YJZiqQ6ERviUB/J2CG9kHN4kJHPGGTwiG8AHNwY9z+mQ+Al+rS+IHdGWsOUfFQnaG3ze+2FOSITGhw9FrGPEsfUU7maCFrWH/FFxtoTg09t7g175MxjPBr0kTCFBilgF9jvAQTFgYRliybNmdKkgc0iGCxu4DD8fGOCjFx1kbGy1oM34+hzZBqMBD4GQpiuIYI05lbLxD18eCX+MDawyKTI/hj8FFF/6hNwJDoyVSju3QuLlfg1/9Ze6OwECJkj36rLkX4EaW6CJfWRY6LQ8CzpqlpdA4dqR4fqtVRSlLHQIEjSOoTaZpKUVWbmkMjpY48TFacp1BUEWhVBQZLXCssqniNMXApa8cgzG4pbAMbIKTqj+RBeyQUWTpM9lIDlRBBDkMt/5i8HLMmFOPaKML+VKWZWzjMHAZH10VM85hTbDBiAuc4WUJb/bRKfhlUNETvBo7BjpH+CYj2FVBYsxgi/MORiKDfePtu6ef9OU5GOT02CAOiNO2mpQldlVwQao9m4JxiRMsWXlaEvxGvualXzZMtYMcYMNSubnjl+qebV+RGd4IqowtgK3z2Dfnek/wKyCStAmU8F7yZoxqV3zWYJbzEpgnqGNXVJ852ooVssn86phD54Lfuu0h4xuPHeUPJEBsheDAeJqg1/K5YErAISj3DlyFfs6do7UNyzho0pJgDtHTX8vz5ifxUXChJzBqLHwLlo0f+QkeBO4qeYLBqXs3YTwrAQIDY9HdjGOM3uZnvtEf8hQA8tP4pIopmJ4z754PUz9LEKxcwgnbpqBFTqp2zukMufJP8IRP9I0fiIymjlWfIx/VXUGaGAWfYNuKggp0MKMgALfhleecw52ExftoUSSckizAh+0WAjn6K+jXX/AR/fE5q7Tmj0bJHnzSZUUHQTreCXzxos5vyjn54gNbxiblJ/foQZ1n8Jpj8OMz2uBHQolXkgHFLDa4T3Cn0OQZ+qeCHL3BZzJQgIINGCUfGLHNythsHp6hHUZgmZ2wYnVo3MHgl6C8zOiJxEXUKc8TkmVbzTXf8ANURMhKEIQwS8e+IMFgb1lBVHmxJ8n2B0EKw8FxA5O9K+hlBF33WTbNgJuTxuDGIeZ4iEn9fe8BvCBE9mF5i5LiBYBkqwGhaBdeeOEpngEO0FA49KlUMHr6wic09uMNfRaoqSxZytMXJQHIKA/5oKe2yMs9IGd00K4yJDiz9ISO6qCGxt7imjEor03rFFmmLchM81lTvbHEoVocHEWOa+hQ4aGkEjNGwOoEwyRZYWgYXFml7RmCmzUOQeAi+SJnqwCCFnIiDw1eyIn84BeeYVgTZFk9EJRbrkN3xcgaDOOf/jhrVRf7uhhmy2AZHy1w6rNzxpcBUrlnI04CK4Jf4+FTeBTsxgD7DMeSc8abnrM1FRN4s5Q/6Qevw2+VXYEvu5MEn+2jP37Llk0iL3yU6FgVEnR5lp77qSQBy5xVhIwNQwIGQbXxzZ1dqbYFhvBF0oAuz+ELB0fP8AKO52DZflnbB8yFrRBswwGMwIUWjLD/nJVgW3CgUqNYYXxJ25hTzBzD86EjJ68/KwJ0k87gAZ2Jc3Zk1/go9x1dC4byjs8CCs4S/YIeSYpAxtjBzZSgJrTiKdmqBNJVxQ/OGz18A5vPsfNT+IWXsGL1AC58adwKwlRs4BmbyB8qVsCXyrckKPrKB0ZvI6NUWsnRvCX3EljyUfCIjQ0fMr8tj/hLx/kviSt59FgmKwmCYEZwBcf8/pqqrzmYH34p7EmYFKr6seHK+Br5JeFnm+FP8KW6yVdO1SXyYivZcPggezpEZ8gm9jZxCxnyP2yt4p2ADlZspYIzso9MpuhPnnX0fGQgIIc/CYfEkf6iJ82ctWA39OED2uDWShgfiaaeFuPUsfedKyTQG0kcGWiwweZfdNFFTZed02lHPpRtxUM4sSuAXK2IZNx98jkV/AKhQAPxXtCBmxjCSABAjEsMTIwLRshcOSHOXYVKdqKsTpljRELQPgYcuofBnBzj6ksfsgJKn+az4NtRE9TZZ9YL5dA4++6bBx5RRMZDwMBRUxY8wpcEN64RomsEho+c0wte8IK235VBn7I/padHwCYwsydG5YciJ2Mydt+MjYbQhg4KJ6OSccmGVZ4p6Ja86umun2HDMjBjJJiqjTHWVLhteMfvLfCT8RlfwRvHzvhTGniiSKpDjCJMqbT1QVX6mHpEuyDbOPY1qUBVHSIbn2EIloxrL7QvqNhWYF+WRFR1sRq9qeMPPUfG+Cmoouv2VdEVgUt0KUe00CnOUvVFMC6hxMPqLIfGmXoNPcGdIIBzFqBEn4Ld6BGeCSoYaYm2xGUsuJpKQ/9cjzd2DI/sDU2VTWGAw+CoBDQqSBrdUqkRhKJTYGwVjOPC877vfux8Dk9gSKAj+OWo8CVBXY7hjdUFNllArhojsWMD+z7zed/RewI6lX5fGIaFsQYv7AmbRndjU/gBwQJ7OXXelSY8gHvL8niL5+af4CTzhgl2L47TMcm/593XVIk4WYUamPaTefi0Fj+SEzaZDtFxfpNOs8sqrHBDdvgkoJNwCobYGPYcf+Ir6/yHzvGErfYOGeGNAFFAYk5VRtHjHOMf+Q4BlbHtHV1TUR2icd81gaOVP/aW7Yu/JDNy9VlBh24LitDJ5qyxN3iGv+bL3iVBif7ASvw1Olyn5wIsK5DiG6sKtjL1icK+ueYeefFlij1kJT6RVFZZkR27T0Yw4rsu4jC+kZ/0JWUyZw/S75IjPaRT/K9Cmq0CYjfVVeNXmuo5uug4nNlHT7fhL1vxYq/m0OQd87FVSCFP0kin8Z88tCT5juTkCCOe5TOttLCv9Al/pox/seAXODAmBMm2VHAtcfqZLE7GN2tzdA5MlvviDAE0Ri595fMUosae0Uf6ccQwjgSojJnmWs7XgmSMllwXkPjSC+MZ/uCN4N9eLC28cl8wY/mPE0S3fjKn9DnlSD6aeXKKlqwoFXmMNTSFFg6KIz3J7Q1T5jH2jLmN3dviukqYL1ZIQlQPVcFluKplsnJGx7KW6vQaDPWyZXAYXlhQAXDUspSVFYDg2lzr+H1/W/AifToaK7qTY2hxDO62GHesD3qhSk5XYDk8Cp/wCu+sEgiyVOwY37H+ll7Hjz4YSVHAlxdVdTlQKwUwVLfrSEazVMmhCYps9Zm7TBnZo0OySNdVUtkV/Ki6bgsRvuAJfHs3sl3Dg/ABDTBwqJ0ERozNSUtSFWnYMTwQQCjQZJsFvtdGJoIW+hx+wZWEgM+y8tHLeCmv2FIyVtG05UVwJ2hT/eaY+cf4qujS0rG8Ry6xk47krX8Yo7uRU/Q4x1zfAh9r6GfrVA7pMRzTay2Y9mVxAa+kxLzMdy2eQ6+5q6KSU/x1fGPsDTrQRoZsNjrwsPI+/E+/+46hH97SIosczTPnxkLnvj6X3AtuKi/NA7BelUkAACAASURBVE3GzPj9Mfcd0bU1bQpddEVhMxggCwUjK9z8Mz2XMNkqKrlXGIJ3NJlDndMh3lws+DWhCMlROZvRYbyBxd5UzbngwDmDTPEJ7tCAZ+o+xswB6lQ6zVsAzJiGP/hSW647MogqKRxZBLWWLgEVoytRiXyGjmQYugjekiawhw5zPik+DfEzY9Xx89zQtdzb4gjXnJQlLFUylUZbHlR/OUdfEJLVrs2y6zyc0y/76mDBPkxHTfIiaIlxNcfgInyKbm4x/7l9oL3OJe8PXcu9pUc8gGV4rTzCp9gc56r2KuoqxXRga1r0FxlkLvCg+sJJw47kKZVfOFL91VSCGWjJlEq5YFRlsMo3fe47xsE4MvCCNUlr7HHw44hXVgjwhE1Ov+aQfnJt6hEP5vI178x9bx9N6LdSowLGdtEXPFBBU/URAON5Ku/1aBsKXccjdpENHlq27mW9j56he5ywVSL6TUZkzqHTa5/dzxg51n7wa+h6faY/z/P1OEXW9fn06dqUd/P82qPgSiXUyie5xDc5wjI/mSV+2DdeMJXjUhq8b7sXuRgPntBQ9Sk2mQzJtI9vltDgnX3v9ffIJO/k6Frkt3T+Q+/1Yw89U69tTQOfbLWIfkcWjhIkq9Oq5PTc6omtZlY7+InQHb5MpWtv8GuiKl8AKFBSYWGANAbWZy2Z5tRBKwOnnmeCU5/vn6PUW9EXWhwFseYvAMYTmWrfct3R8lKcYAxN+utpnvLZuxwqGVl+6Meunxl8n8kvxt8YW/FlCr1Dz0yZ/9Y0kgPjZouOIMYSk8BXRZwxZJRVamJ0h+iecm1obmRFDlWH0EN+MDH0ztbzD+1DY+Xe6Tr2NOC5qlxvZ9ia8M3RM/nSx5b6nXmjK7Q5GgNtKkCSI4GXwMo3ku39V52wTJvGQPuVB5UjWKqJVPrNWGPH2Ajy9w4HzH7AS+xvjnjCgYQntc+p49V3TuJ8KY7xAf/IPHNnw6x2cYyWbMmBDBw1S9SaZFZxAJ/iv1Qdq25vwR92WBImGRMEkwOdRrMWWVa+LuWHPtCsz2Aj/c7pc4t5Z9w5R+OiE6/EFuQSuZITHEvg+Nat+RY62WF+O7iIPaZHGnrcJzu0DNGRvpYeD8nq0P2l4+a9reSPzqV95T2JPSwk1iQPOq7Y4PtI/DM9d7TClQJe3s+cph5PBb/2KPmCEYMQhdKJjg91nmf641QiTvK5Q7Sf5NhT+l4Dmin9H5+5zKkKWOVF9htb1VBhUFFyTtlU8+dW6Grfh87HMNnrTz4f6u+SfH+MV5lz7ueY6yd5NJbtDyp72a+uOlT3rFsJgiv76NfuGZ86F3SdTj5MpesknxNc+tJOdLjKIDIRWNUgop5vRVt4n+NW/V6a+wkvc9ySF+nTcct+j30N+9u1fGFv2VKVen5aYLx2ta/9ssput2sb9IeC3yVEB1hL3t36nbMd3GcTr7bm/dnen0SPAqkCOaosjVUazva5HOn7/0uiJ80LwZMGK3AjWeobTGkwdZKJ1EnP9WzvXyVcIovXVQaqSCqvrpNT5nESgW/6Ph5PJvDZmq8wcLbHBVvP+VzuTzGWDaXf7CmdpvdrY6dj8HuZM6uwWyjhUZmXy5BiaVGkk3SOW8j6XDZiJ0376eJvsCJ5cg4/zrNq5jMcpZ30vPv+z9S4PR2n4zP+m2/0uMog8nH/dNByHGO5HT6dvIv+ns4xj2Otx0Z0u+pzPZ/L4xMJfucScTY9v4aZU+ZB8aY8d3xmvbIceXjk4REDRwwcMXDEwBEDRwz0GDgGv13lV/B7DFCPitIryvHzERNHDBwxcMTAEQNHDJz9GJgSw13qg1+ldPtH/OyKpbOTBrbg2v4VY2onXWk+6fkc+z/7DcFRRkcZHTFwxMARA0cMXFowIPjNNgnx1lCcdakPfn0pIj9F4+eIThocvnzh513ycy7GF3if9LjH/o+G74iBIwaOGDhi4IiBIwYu6RgQ+PolGD9Xl58d7Od8qQ9+/QyOn9DQ/H6m6u+UknnPyKmf/Uaon+nww95+/Fzg7RuMU98/Pnc0XEcMHDFwxMARA0cMHDFwxMAwBhQU82czfgrR7zX3W1pPBb/veMc72t9G9sGfF4ZKxlOZ7l1RuJ+e8Rekfq9NU/08UxVPwa3mJ3L8dbO/BfVD6P5dBJ1j8xWk+mFs8/CzG37maA4fVH39FbJ/G/Lj9/6ezz/K+AH2qf1s+dxQkG/uQ9e3HPds7wsPyBZGYZXMYQWO19Ie3hoD/mGq9uv+GP5chyH4857z+u5a2rZ4P/Pboq/0Yd6WrsjD3CWQ5NHzyWf8sJ2IzPwwvUZX+2fT96HjofmM3Xc97dAYW9/PuHhh7uFb+LP1eEv6Qwsds/KFPselMloyfn0Hv+L36DvMwI9zP6u0hZ+qW+oinzM13zr3ofPIJTzAB63KaA3t3s0KKNnv87lD9Lm2ZvyxPmu/dAcfzFtRTMMP9gcf9vVxuu7hIXzGzqEVjZpVbPRPpYUM8m76mxLjGEfDE3YXtuuY/ed6b+m5Pnv5ZxzXyU7F1x9h3POe92x/l+yf4viMPGfsU39ykeAXw5SJ/Xi7vw/1Q+5rfqSd0xJ1+ys6f/X5hje8Yfe6171u97SnPa0t/S9lwNL3GCHz8Y8h97nPfXbvete7dh//+Md3L3rRi1oADOSpxIbBmAlo/m/6Wc961u61r31t+2ewG9/4xpN/w5MBBTCBr38o+da3vrX7xje+scN3/0pEqTyTMZfOL+8HBOZCQTKn2q9nbL+40pWu1P5OEhi2MvZ1nEPnodX84Q9IE9zBz6H3990nO0rJMPjnmB/7sR9rf0ZAwSksZYhCmLssUUJ0t7vdrf1Vqv8Tf9WrXrUja7zKs/vG3HfP+4K3m9/85g1/j3nMY9p/l/unKv84h17v44mWc0eZ6gMf+MD29463uMUt2t+0wuu+8ba+Rx7mQD6MpX9CksDhm2UmemJMz6zhVd61MmKVRHL6spe9rP295T/90z+1f1iL/DJH/Lr61a++u+1tb9tk5z/g3/rWt+5uectbNgOdPnPMe/uO7EVk4QhL5q4Fq3m/79e7sCy59bfDaGOErfj4a1W8jIzTx9jRc/oyZ3/o4H38H3ofhtiam970pu2fzvwFswb/nh96Z2zcra6HN/RPkQH+Ydk/sPlr8Qc/+MFtFWyr8eb2Qxb0y98iv/71r9/Re39X7W+s/VnGWp6Zf/6Mwzicc3Qdre7zAVYFr3nNa+6udrWrtQYvftSfHsyd09zn0YMPbJ+/kPU33fig8dv3vve9G+7n9lufx0d64V80n/zkJzceP+QhD2nYTHCCF8GLZxMo0yPxyBZ+stI0dG7861znOi1WYUe0V7/61bvnPe957e/K0TX03um85l9I/dOk2IWMxFUan3K7292u2YlD9JgnuT/84Q/fPeMZz2g29o1vfONOg4EHPOAB7d/38Lzvi/3zT4rPf/7z218P02F2+nKXu1zrc63O9OPhebW9cAGvngtmfP7RH/3RVlgUX33729/efepTn2o+3B8PsZnBlrjnMv7kIsGvaN9fC1I6Dpmh8vdyPSFTPzPWiLnrXe/aAPTpT39694lPfGL3yle+sgUiU/vZ6jkMFMTc+ta3bn9D+rGPfWz30Y9+tAXmDLKgiFCNF+EBB8W8//3vv3vNa17Tnn/iE5/YgmEB0xTagAdvgVXV95vf/GYLfo0NZIIzjjVjTulz6Jm8j2bgSBan//55NElyzNsfnNzgBjdoQQI6+mdP8jOa4UQVQDAnWQJS18hijaGhLPqBacZCgHnd6163/ZMb3ug7yiAo9Q8y/uLYX9N+8IMf3H3mM5/ZfehDH9rd5ja3aTgOf5fyw/v+Rc5f4z7hCU9owZy/xpWISRAr9vqxYAfuGDj6dO1rX3uVbi6ZA/rgBu84aoZOsClAwGP6EEO0pP+8E5kIrq91rWvtHvSgB+3e+973Njv18pe/vNkmmM5z3mP42Kz73e9+u/e///27z372s7svfelLrQJAtuFnjhlr3xE+PK/RKRiVPGt4oOpRaUhfaMErOGZkOaPb3/72LRC//vWv3woL9PMQttO352BZgCQ4EkDZsjX0vn49d/e7373hy793vv3tb2+JSuYSOk/XMTxXUDF/eBf8kOVHPvKR3WMf+9imF6eLnn4csrre9a63e9/73tf80yc/+cndu9/97sZDyVf//NzP5MT5XuMa12j2lp2RoJAv3rgvORHoCrhhRaNbEqfLXvayq2k4RDPM0u1HPepRLZhi//hrvOCzBTdoPtTPvvvmyg/CgEQDv9lBel5tR3DPF9ExNpMcrnCFK5wKePaNs/YeedzqVrdq8+YDtA984AMtMXrkIx/5fxKXtWMtfV9sJrF/29ve1gI8sQRf5S+A2Ru+/VDf+Gyu/Iok9J3vfGebK9spoKajMElmfV/skYIm+yI5EDyLbRRDyE2//TtrPrNrbD6765j4QJ/RIxiWYPOpF1544e6iiy5qPuBNb3pTs5mSyGDrVPCbvzdmrFUW7nznO+8e9rCHtYCIY6sBUQzZlIlQaIMADGUS9H35y1/eIUb1Ykofc55Bm8ml9e9SbvMjpFe84hXNQb7lLW9pwY5qMOdmrv0cCdo7+CSjUIV66EMf2oI1gXE/Tv2MFkAgLFXF888/f/fVr3619fO5z32uZZOcKdrqe0vOM2/0AgiDoaLrbz8DxswNmFSjOJ4nPelJLVsir6kB/RL68k7ozFFWTy5XvvKVW4AKc5ImfAm9ns37h46eNV9G035ulRRB/r3uda8mN3LggPApfRmLc1KReslLXrL72te+1jLHL37xi7s73elOLdCcQ0P6rUcBFAP+7Gc/uxlSxl+lSfb8iEc84hQ95hx5ed+4EjZVaAaOg7rjHe/Yqoj69Oxa2iqdGTN9OjIsMAwjV7nKVVrwzTk/9alPbc6MzBhJ9Hg/cuv7nfMZbq24PPOZz9yRg2QVvyQK8F37Qt897nGPZsjZmO985ztNfoJAep251Hf2nXveHBw184IlgSec0ivBPz3Kc+kPrvDJNifBDHlbNaJn9P9mN7tZCyTCq7zXH8ND4+OtQoTKnGQVfj1fx3aOHlV4Do29+sIXvtASdslJ3//az+GNfpznmPO+f8mJ7V6qVXyAgEKApVqF5v750/EZz/i9+973vs1RZlXOqoEg4vKXv/wpTC+lxxgqiXe5y112j3/845v8BXzkj1fuC3DZKdVFeIF5qxyWb2Fu6dj9e8Yausb/0JMXvvCFDS/s33e/+91mBz//+c+3hHuJb8h4juYraabT+CuwtgoskdN3bB6eOCcXfkCgx9bc5CY3aTZyDF/9vOZ+zrhokaB9/etfb3YEJqwQK9pJrtGWec0d49DzaBiaX645GluxCmbpDzmxj2IsS/38GD4fGst9dhPe3vzmNzf7aq4aW6vYB5NDwS8evfSlLz2VLEqwrZbAqyQJjVvySGFMPCOevOIVr9j0hc2o/IJhe33pjeBX5VcBBG1stuA3NDWdqn9v7KbJKmdb9uBMMHJp8MtAM/SyAuAR9ClDYxJlj0CnCGnfM/qhWJiuEYxsPhPNu+6pnDz96U9vjkGGI/CQZWOs+/rp3+PMbFdQIRf8ynQYJ9VEmciheehPBqtaJ4hmWCQCgt/nPve5LcjbIvgNmDlejlmApAkW0n8MDHpUNC1pAQc+cJCuh18ndUQDpSMjyYPtIGjk2C2vwQyQM3x5FgbN4RCv0ewZ7wnIbnjDGzaD9bjHPa4FtVnCc53sMkfGAg0CFNk05SFrMhLAWLacMnb6q0e0aIJHY6hiMlpf+cpXmnJyAnTCfe/Bi+fTh8/2pgtm6I+M21IVAziUrOW9NUdzrfPFe/YBrsgIjvFK5Y4zU1XnrMh1zbh519hWoCyLqkLQGckCu2RJX3UzzzoK+iQQEpcseTnCFLrCzzqn+n5/Xp9zbv74HYwKZNAhYOjnzFCrvKjWSw7YGdUj9uM5z3lOqyh6j63px62fQwMZS85UYWwVUAnHb7jQ8o7n6S+9kaDDCh5wZHGG6TPvbHnEh7E5GVdiKYBQSRRQcdgCYHhSnd+Slr4v42fuOXoGb/GGwwxuOEz2UEFEwjE2p36M+rmO4X14+cd//Memw1aW+BvXPYdv7J1lY8kKvLAJ5OZZgXPte+tzNOADneLb2Dz+SRCEjve85z2tMu6ZuWMHn/SPjgo6zMnqjGBN5Ze/4gfyrDGcixFUEiV7tgcKSNnI6PJcWvY9r09+nl7Cg+philSOfCSM8E2erfLd1+/ae/044SNeSHDhRZDHDqve4hf6+dYpY7NrEnNbHfRBBzT98lNsHtvT9yVWevGLX9z8GH1hn+k0OcUmVnn278/5jAewwA8L7umSFVwFs/TjGfhy7SlPeUrz3zCMJpgWMFtVzvOn9vym8su5CQ6Vu70gs7DsWEF/aEIRFsX2LicZhQJ2jowBV5XT16H+Quy+I/pUgmSIqlJXvepV22RlLKEHaAQwsnkgYVgE5JYJGB77sPQzRBOlULGRrcoGvYtn9oJiovv75gFgshTVOwFDgl9GjjMELs/sm+OUe+bKkJChgF7fsjr8ToUanYytKpbAwjw4JIaZTIB6ylhLnjE2XJgvp2Ip0ArAn/7pnzal4bA5Hdm1wEFyQW54Z79X6MtcxmjAB+9RXHNUMbWkw5Az7HhijCwdex49tjxccMEFbcmTQRGcClLvcIc7rAp+4cOcJYMqP+Sub1jiYOBBJYzRCP7Qn/mhD20CP0EUo2TvOSci0MLTPLv2aFzj1X5coxuyalVzdNBpwai52IPMmW/tmCz5WjXieDggestZut7jFH1WMWAZPxlw7zCWnHr4OaSn5jt0vV7TPyxZrsV7S/awQqaSqPDNO3ANe7a3qKigg9wkXvRfkAMTlcdD5xnf2AmobZOyKsfGuV9l5bPgl6OAeQ6MA/jwhz/clpaNkT6Hxpt7rY5N9nSUHe37wRv2mewkAHBPRuiT9NF1jqt/76Q/o4ttsR0DHXhlxcDKwaMf/ehWua9bZubQE96QHb2WmMEMG2T1wkoUOyZIwRsBHnxJutEAv5IECYOAZs7Yh57tMeAzOtgoeJWUsE/8I12XwFlOjg4d6n/ovncVpW50oxu1Ps3NXnQFNuPiRXjmfXxXoJAYwQ2ds9oK31vaO2NqZGRVjl6dd955bTw40Ng4ei/gzIrL/2Pvvlqt6bKyj/e38BvokYgngqeCHuiReGCjcosBc7ZFxBywTaggJhAUM2obaLMi5pwx55xz1m7ZL7/i/d/Mp7rWWpXWfu5u90FRK1TVHHOEa1xjzLn2XprjmZ+xSbKNeqFDWzcV+fERviK/acjhOGuJL3nxDvfhZVYVxaXDa51fvrfUEIO/7KfAhm+vf/3rJ79FPOGt555lJ74D8zUKxanVCdtQNc3SE/zgR6985SunlSXdcLaTo6ymaBywcTa6SH4RIcpASgwggLtpHjh9Pj+bOOfVRWYYAYVoqRZ0LoC5SR0JqMYUOIiRvUQ6a8gKYtoYrmMMy5CCTYADIdXnq1/96okIZjDXzucoUbnOFomqIsAgMFXllH5tHuSzzKVrhHgBFs85m/yS3RYCRMkeLftDOYvOOxnSl+BgfERMl5PzA176Gq/r+rPOfIIukVoJR/XmbGx64R9ATqHB7wJcc1K5cWC6XgrGUUZgwR72RKmOkUUVYIGNIElGCG9dO6Bhnxeg90NI5Nf1bHSE/JKFvABLJ1PgioVk8RrBRuxc53r+N/cn/kxH/BaR4rvAxxzm14662POaTsQ8X3AGLEBXJ93So3jWJUBeyMOObOO6eezsGZ8OyKCIQ/D5qJixXM5XFLnkGZ9tbNfyd7pFZICfmKPX5Oo83ttrejQuPx2vIw9yh7jyUbFfF9pKmU6L+9zjLGHwmTpc5KAvtkdc2VIMem5jL52zK+zi9wpWsUwHfGl+j/EV/ApKPh75NTb8cf04r/n9R94rumGKlQExzh49z5jwGc6IRfpQhNqn6DM/Amyu3XPWmQ93kGlMyN4rFKzIKUz4jUSOmClc6MxcbtlpLmtj8AW+pyCIwJm3PKIR4tns5Xvbc+Bxy850JMatqtDPfIwt75M/ucR0R89BZjS/FOHGpgsEyLYEuaQ/F9X1W8/sK2aRfKSNHsSTXIWU8PHRNxUEOn1iSNzDHNu96Gu8bqsc8+vJRS9sYN+37RVsr9sNc+gCPmvK2A4Kb+fPuMd7+uCfjuKJH7ODVSU+JH7YSTGJqOq6mod71srER2EK/9ec5P8O8zdnvseH589jy8gvHbXNQP6MR5jD/L4979lIIxU3gLvmbquUBoPn8Qf+K8fCXbxH/pbzXauZqzAf54FPTD94k1wkfqApuVGGm1Q6EpBASeg1jucaB5BHpAEeR9KJ1HHTaeVwXVdwNsbWs+CxDGgPimU01QgFSBY5D6egGN1FbXoGE1jIF8VxgqVxycn5EDLAIKkirpyOIRQJfhWJoI33j3OSuOxf1LVxj3sdAEA1w1lGRxnvHZ+59Dp7uMccdOZUOgg+smS7BqAdkwtgEeB+1MHp7Wm1/3fLuEuyzD8j2/hMSxKWjfiB7ge/0NlTLdqDjVgolsxBMi2IkSurEObhGUB6fO58XO/pApDRObJSV8fZ2IIHuc7uQE0M6OaRS+XIZ9mI3wieW2MuyeEz9yqSgLfn8T8Eli8qBHUCkZlkKS56HtvpJopH/q0zZB6CW0UsPkf7dt/a8+hD4sRyviKRbdiDHsmvGLZ9pOTIh5EsHXQxsna8W9eZqyQJhyzH0ZWYRhCQzaWxxJhkKgm4nm/zKeCdXo3bXOcy0J9rFdD8LZ0CeeTWipEE3BIfHVgBkhB1jPgqHOFHyClSBy/4EH+SwK3GiLP2397yp74nv+4yYnmL/AL4yC9fg1XkNAdz7pnz+e95bzuJolHX3zKxuOLTsEXjQ0OBHuGNRMUmEis9SpJygYLqiO82pznWKC7gP4xHPMWeVYDsiajDIoTBL/nFktjXaYUD8LwC5ZLPpLP5996bsy6U4gvWsIFC2uG3BzBBQaBoVOjTHTJDP2Ichos314SDjbfmnJ3p1jyQJuPAGjlBXOukKiTJYIsHnFPM0oUGAB+Ww5Gtnrdm7Pk15VDYomEkHpArhMb85tfzd38Rgg7wEDLJDbp9/Huu7/n9196715HPiQu5GbZalVD4wJpytDhHfhWu4tccrj3/6HfwQzzZ1oa0OfilJg4uZcsbXBPXsMgKD9yznYS/I8hbbMU2toFGfs3bnI3BTz0vfacz7+VgqwL8GcbJR+5lW5xRo3HcZrBHL+M8FCZ8wHjiw2q2FUfPdR270JvmKv9lQ7zWyr7r4FDzcM/zPb+RXxWwKk8gqgL2dH4JQknInM4bw1VF2VvC+SWLhB4nuEdB7kEeBS/CK1A4BkeWRBFjnUYkAeCqplXXqiXGlYg4wKWxzYUDAGpE17MBFAfRtTMekEBeUm7nnilxkQXRtQTpfuOfQX4bwxnIWbKxRMOmEhLiotgYr0MUdLJV9mzNTpMznJwcG5M+EBbJR/JGRnWl6EHwquiAnK6dhCShAnz38Q8AzC+RdMkS2erZl84A9BL5FegSkr2R2R4I6kLwkTPJL5tEHC1VBabiC5ghW5ILImGuxUPn5gfYkD/FE/LLhz3LnvyR3HX9ljMfL2ZhAIBFCCRA2xuQOfusAI45sBuAYUekgm3n8m4Z37XNXWdHMSnxmSsQE2e6RXyUncg6jzE/aOBL4ltMIp66VoqoUZZrciLW9sjzG8QNwCOclmrFLuAt9hFsYyCzOoTk4ZdwSBHuOx1X10ucihzdBqQHSSbTfA6jnOnEeSS/EtW1zu+9ye9oJ5gHO9gLoRXTYkehqoBFACVARYXtb0gE34U5CJhGy7jvfj7/re/JJu/wR7ZArsjFJ/ixQlgHn43IrOguoZIdAeL/Yu2IT8sXdCO+EQS5SKzyBX4DD2y3cA3MsQolL5DBdXwH+SEnsr5VD11PH+bLP41pz6rixDailrUVmfzbliEFGhnlDn6msINNbHQtbhpv6czHzYE9xJfnimsxMZK1nu96ORn3cJ2igaxsRR8jGVsab81njeVaW27kFXqh+7gBQueAPWTgO2w1x5M14926hjwOOU88KcD4pWIIljnIAG+Rcz5EVtiI+OIxdLxHN8bUJNNkoGe8xLxhGMwvP5oDGWGvnKZpKNZrBiC+7uXD5uD7Cu5b87/0PV8wppjWkKETc1ZEK95wBffCR8UqLJa3+LAmCH/Hh2B4z2qsNyC/7UlFVgHVHvLr4QQWdIJHl0+ipxzk1zMx9IQ446xawu4lSAmKEQQwwinwVbyWUICuedXV8yOiW85sLqoG1wIyikWAq5AQWHu5GAJgNv9xXoiNvUJIBQfrGe6lnyOd33EcpFYgIwEADqjSS8VG17pOJxvgKhgAYOS3a846czoHPQMwQSa4Chb6UMlJUKo2JEbB4p5k0EUiL2KC/Fre6LtL52vk15zt6esHdZ4BcOlBwJxJfs1F98eSprmzPb3rzCNEChPzGTv/S3PiP0COnur8AuZWZoDS0n1rPqMr9/Nf8cl32tZATh1gv9J/7WtfO3UIxBdABkbi6sjYycfenqPwEScIQ2SAvwA1NkLuxGT3dVYgifmSBbKDfKwhV43t9wJ+BGo/pk4CX9NxYCfFWXFLHokIHuiakYkc9kTrEJODXysQYIUEpWtkpQEZzNZL82g+zn0/J786dojTeK3X5nFP8ps8xkJmdAphDAyTkMW0WBanOopwTwJEMBQiEiXflZgkeIRMnpjP48h7e0XJJq5goWQpJ4hp+KKo0f3UlFF0ywfkdo2iR0e4YmavHMYQF3BG7vPs8I7fKAzkLL7Cloiga/gVwuO9lRdzQGj2yoG4sIEuHAzil0iUuGILce5zeRrZoSP+qglhew7fpwsF6Wj7LfKQgU/yfVsSrRQhtXKBWJ9jBzJm39HCawAAIABJREFU3r5nG/bDRxRP4lHszO/ZIk/XkguJk9d1BxX6xTd88xrBJIMCygqCTr5c3TPOOpsTWeRlhS0yCjvIgYzrqrKL9/zIQS56gU1y/F6dsI2GBixHrJu7z/xJzZH8mi9ZxSxORQY+Gx9yr/fiCJbKr0d1ZHxFtHjin+JEDrRiA6c9X95CtnEwHI8MtmTwYXIoNOdyvAH5FQgSHIdj+CPkl2NzKlUsYCSQpOaZOgFzYY68RwBUyoBXUHMcSgDAlKITUTBRnrkhIMBbd2dp7DHYGUDVacmXAZAOzzCWs0QNxDzLtRE3SQtw0AVSxyBIBWdxkPNM8gtgdDSBHDkFbI5ojs0JIRA0EjRCJlmpygXQ3NmXdLP2M88T1IJFVUZP9D8GMv0JInrhe7oB9GYMenToxujKKM4UNEtLZXOZPMPcl7Y9mDNbSgoCR9VsXHpwPd1VIClQ9m57ABRsr+iTaIELMLOCYLXA8jqAkCyzzXwe3tOjDoyEGPn1HH5Ir0dtlp75LxuIV77p+fwTUUEkxbLxfe+176a9U//ft8Y5rAXj7jGHOmYqe2Pwk5KQhCCW2LX4SjfuhV38WWJHMJBVS4aRX+M01lzHfc4W/IuuYQfCClespMBESYdcsEOhza6SYf5KF+IKgeE3rjcHhQOiB8TFQ+PN5Zi/7zrPNw8dDCQSqC/9CIpe7kl+yUcmfo0I6OIhsuIFFvIXfmGuChUy24Kh+0KHcgC/FQv0BFPJ2zzn81/7nq8hTTrqcFaXCImwylQ+4LeWcu3x5c9ekzsbSf7uRdaX/vLELRnJQC98FEmTb8T7mCfMHxmmD7EPA+gCISWHQ0FFPgR53Ja1VhfjdfwGViL0cgH7kAFJEd8KRAU1bJUv+TiihfjYYmDrAWwyr1vzH8cdX4tN+oS1SDY907tOc6SE33q+AwG0z1kOE/viCDG16gVL98oxyuS1eSH2iiC/t4AbdOMcR6jAVzQhmHBB/M6fdeQ9v4EhiiExrfBoexDsEC+RX/4RAaZDPmzlUHMrTKSftdjLNjqmyD1M4xPGoHcNPeQ3bGuO4ozuNBtcS2fkTDavNRBsQz1Kfs2FvmGyrUuwVzwrnpBfNjFv+lNIKsTFOfnlK51rzYkKyNF3npNfQK7rJRCqQg0iKAShCZv8eHPKmJ8JQ/kCl2MRRtBRjgTmmSXM+b1b3zMMwENyJCLGAzacViXrbzTqkAg0xiQHoDFf3VHLPZfI71wW3Wr6AVYBPSUzPtIt0XJg83foFgN/pMovSAGyBAAQ6YKT1PkV8ABmPuba98Zzre0dOpoqenrXxbTVQKIan0Uu4AaI6YJNONJ8X8x4z57XHNfcBBgCae50ZzM63RUw7IYwIF78xnz4muA0LhsKKJ0I36+xGd8QEG2zoG9dJ2MiRj4XoJ6l8yoR0wn/J0t/7YFsqs5su0UP9Gnuuh3AKkIEbHUD+ZQO463uF13wI1uG2AwYIud0adsD35mD1Bo5R5Ckc7JIgp6bbwMdBattCHxKbPEZ2wD4mmV8Y63BhmsykQVxAKp1p8hAFsCs+xyIeU4+4jM+Zhkd6XW9s471SH5vjW18z2FnSRaBs6VDMSSeJESJEfBKOvAGqY0o8VXdEEVVyVOiIo+kj1i5Niy9Jk/fpVPProOHcCLkMKXrOqfD+Z5f+kNGXdczu2fNebyH/GIGriBqClrxYp78G3HSuZOQrHrohtveAG/FnhjUxUd+6ZjN18iQvcdrk8szyMQXFcjihH/C6nxIYeS9YlE+8JpekAtysSly4zlrZUoWsqV7+GR/M93QSYSTHF4rfHWeFbL0gHjUQfM9zIbFii86bIy1ZzpJL2zFn/kKv5EbYYf5ylmwTsHPluKFf7OP3EmHCILixNx65lo5xuvyA2TEfGGh2BJv43X8XNfeKp8YJguZdDj9/VjflRPo3DHef+v1eD076Qq2RZBukCux7jB+XMEPv+hQIREGjfq49PqWPH3P79oCY2zxBDvkLPbCMdhsPCsOYLJYW1qpYLOef+nsGvudW6WiA+MaxzYQuCW3ZH/zlGfEh5gmU2Scf3vtbM+8govvjWOP+h8/v/aavule45AviCkYLC/hrL63qqzBqTEgpl0jH4gj3y3lRvJNP3hbIr8UUOd3JGbzCYyG9533lIWtIzOSpaCmlMivbuy1Cc+/awzn8UAagJUkxxkQFQCM3FhmRjyQGh1nTkUpQE+FoJJEKNYCnXHsG0ZakDjjcE4GB16Mo8qgK6SnZVMBryvMWALffXRxD/JLRqAFYDm0hENeP0AZHQDoIHqciLNI8JaVkOIzK1uOJ7iQb445JgKBU/BwamDDXyTLAC5fktT4jM6XbsEtssgP2UFRFPllp8gvcOEHlkURYPJZpVDh8xM+G+gcIb90ySf4ZqspnmscBAYAm8stoKIH2x7YEflFzJFf+mzP7zwu5zG09N5zfe7MZ+lZ1yEQM3ekU6JWPEoOxhRvsMEyE0Ln/p61NM6az4yvM4oYGEeMwCC2Uiw8e/Zssmnymi/gE2c6H2Ic6XSPVQTdfdW/Z94aP9nJINm7R3woWmCjePdcSZsfK4YUsxoDxYsVBP4kmdIb+emR/FamkE8+ucVOXSt2xSb/tyf90p5fcVPnl87oUYyJ8fbf9cxbOrn0PX0j8mK1Ysh84Zm4QWp0fOiDzBI7P4n88lvdYr85UMxWPFwar8+zUe+dzYXN4DzywCb0g7zBWhgI8yV18QfvrIyxK/LHX5JbIQMXEcbwZxzr2mtymIfupoSrAPJ8uo9Q8Af60RDy+wXknHzhgut8r0ngR71wbkuhlHxjLPJj5EhBQOflK3jLP8xZ51CTQM4U266Ry8Q8gnC080uuyK9Ooi4uMqtwHn8QRW5+DoPs5ySLwoQPK7CQX02KPf7bPY1hHJhPHngn97CVrjTMkKv5Nvv4fYgcwia4Qn7YOb0bY/5Z3107wwTxgY/wG1gjnsjjCIud+Qg/8rkmBV+SL/meHDLKsEYWehDLfDC8gnMOMYS7uMazPN8Bc9kT+c2fyNP9XmtUea4mwrW5r/nOqiwf5a/JJo51fm2jIQ9s5U8KTv4CcysgL9nsKvk1GQkOwBuAEjzIhICNQ/IGdJaSEEmJSxcRkVKVcB5OTCGqTEbW9R2dfo0CXMOw5ACoxpTwVKzADGgwhISn86AK0NUNDDm3gJe8LP+QAYivcZBRPkancBV7SxPIjDkinAJUJa3qAMKqJ4kYOTa+6xiQbsmLCFs6BrqCYBxrz2uJQOeM4yJJxjO2QEYeBDBb6TjSG9kkAAGuM6Cy5mx7xl66B/HjuECWQwpg8+YPnX0WWXGdjgdCynYAGBD6oYHkRv/meIssRmL4IqLJ/vQOTBtXUkR0BYyl2rp1ZHNtZ0C0p/PLX+mSzqtGPZeuLXlaGuXP7C62xkPy7TAXBJm/C2hxxN8BoUOnCABKUrf0ko3ye2cdRR0e+6cUhfRCF2RG2v1oUizTIWDRDbHFAHGRWMWj5/bMxthyltTMT8fM/AJ5Y4o1BFy89kxjORA9uMPnkR0gLsYVFuJQJ5Zeu+/WGWETA3yQb5CDzcSueEdM2I1dERP2Yyev4aKlbjri0w73kV/HaIscycmH2BSpQqD5IZxRTPdXPpBvHRZYLLY1HRREyE6JwN7TUX89f+2ZDPyLL8M2+GJuxYm5wjR4ZtlW40ExqfC2tK9w4k9iSuEmkbXnd23zYS4r+8NNepeIYYcCiP+mf6/9iAuOwAJ+IXbgIh+XRBX+8hwfnI+x5j39K0rglQSsgxp5gTUwh574NZ34MZAmEF35nCxkUjQpKj0LzvGptfE8ylls8DcrlYoUmMNexuHH7GcftoZCP/yjD/LAQ4WfXA0XrCYiF3v8N7mQM3wBCRcP4hR50/nntzAQzsEipITNyEtn8hSSqvgXn+E/ecSe+TbOpbPxFX8IGezCT8QEUm0chFOuNm/+zX9hD5LOn/3Ql5+RM1w2Pll053VezU/Bwh/W2E1sszEuohEDv8hBHjlbgWaFwoqE2BHLYgwmuQZR5s98ymuNEXkSJnr2JV3MP1ds2P4iP/PJYtmYdIRkygHG8FphIOeIafIUa3zdwYfITGc6x7AyfWyRi5zuo1u8Cq6L51Ys+Cc8krfgIf2xGf14bdVfHPGPpXGfk19JTquaYyBjAbgK0IR1ExFNihZIBBFEDopDOh0EkxwZkaAOjt6eGYnFNoU1Djs3kvcCQALIccnJEYCqSQtgAQ7UVJg5DSdnLHv4JC8OstUgFOjg7HTFIRja2AE/5RufTD5DjHMO1/Wak3jN2XQAgPgILkvGWtLH/DP3IQM6UEi+4GULespWkifnYCcysptN/34ZLbDTy/zZe94rcoA5kFMM0A0bmTfQT0c+E3xsRh7dNvIixWTXTRLYdA+ALukn2SV6vgJUjEnfkq5ExCbj4Tvvswk7Obx33kt+6Wskv3zFvCU+sSSggYPDHjcHuzl6zS4AGcgh6HTCx/gX/XkmWyoWEKzmfyu+6M81Ej7bWNaDAUDXM8VSBMF4XtOFIoptJAqH5MQue3yje8SiLoyCVSeDjvhtf1fTkpfEY26KgA4xoyCCB8gxO8MFBKJiQHJpnFtnfiU5wjp/VohvOuhCDJmrBDPah+10R9gI0SM7v1H08z0dI3MbY/uWHOP3bCQmzRN2IQLiFjko4SF9bEdncA8213SAx+RSNJHhUtyMYy69pnu+YssALK+QhWHmO8YO/8mHeu1Ml/xWvqBHTRXFMQKxNOatzyQ2+pCjxAW9wBF+yl58CZHxV3rYs20QZA4PEU72Y/dbMXNJHnLYG4tA0w28mOO89+JIQwLGkZNOyOFzNkNSzcVhXsi6xI5Q8c1L41/6XCFE18biw2ykoDNnDQWdRjEHb9tK5TpxRB5y1hzQGEEgL41163O+h7hamaRvBQJMMQYibq58wryRbzpEkhXDfh+EfIt3hEYBChed/RZkTYwj+sZtayRfzCfpnxyKNHnG+PgC7sKPIsCKtfAa5sBvcS/G4Q58htvyHXtd8yffiUX5QeEeh+En5KKbCnn2IAvb8O1kx23EIbvKbYpdZFmOLA/csgs5NTCM4bmeT4ZxHOMan1wdXdv13dN9OKRGCp6kGNiLO2yuiQHvyEFPOAFsxW/kRb4rb5GB3rznR5oy17DlDcivgSzrARITRXQFNLYPQDgqZzFJ35eoBAsn4USAyPuCzrNUCoBTZbcnkHMWIGPJiGMwwEguvXeQy5kyHJQGBIAfRwMKIwG/5qSj83Qdh9W5Uz1yCmPlBCWC3nPKEoNzcvUZ/dX5HRPkXmchI6KgKwfcdFgAGJtkG4nRuOlJZatzottlvnvHHnXVa4lB5abTLBEBFb4hcPkRZ6ULQYxYkZMfOY8HJ7eFwbMEE0LQGOM52SVqHbC6MPzEcmsE2PYHh/cdEWDyZD/nveSXLUbyyw/p3cqEzkKVtNeSkbNCs8NnqmfgWickX2M7z3PsIb9kc+gYqqABJ5sEcsbpoIN0wneMx478yTKhRDTaYOtrIKUjhMBK/MZlN3qwZcn+Vd1BNlc86+Cwr24ocsCvJGdEgi/Tq++3gq740131YzIxCTvIQseSoKTIRhoAZGMfB1xkI8v69OSgH3MxJ3FF1/TSea2O+LN5KwAkXMlNrMAzZNwSrc6lpEBeY5M5m4kpicC8svnasUd5JVMFJTkUb55rLDHjaEXFZ+Qw/pL/iHly26tHL0jNpVi+Jackb0WiDn1jOkuQ8oR8hqAgfJb1+S/5+IpCgb9o+Nj7GXbcGnf+PVJYR5E8clP6SD/pxTk56UeORDzoE1bXWNKo4dP2RdMRX56Pe+u94l9RBL/ghXFhqjnzV75spcLYZKAX8T/KB5/FOPw5Qn75HjvDQzFrfmLK/OGIxkjbVchDBnIqHOUOGKBDDA+QHrgoFhSiSPUtXVgFzg/gvX/IQP/mzCf5Am4jlugMFmYf/EXBjxeF0zCG/hBmfgXX6dAKA4Ie6boW7/yNPuReNjJn8hiXvfhOOTr7uabPvOZPNXR0W22HstVlC/n1Q3d2Nl5+6tkd5HH0noyuy5fHe3znoCf8Q2OFLvbGlm2TCqO27PBPehbzYg3Gkj39wEH5SVGnqZIdlvzjDcivJX2G9QAAwTFVNAJTJeY9RfhXdpyI80oKDs4qsXMi74E0YQGOiooTM/ZeRUhOSKeOqwkbn+FzFgqgeEZiSOTGmQySBWUJPHvQLOEFutccdFRaclvqVEnalM9pcwyyRKTI4PMcpGsk0l675mzyS0bdVrpG9AGKZMMmDglasAp4spAfsJmPjrH5Ns9x7ntfKzIUPJZWVOrG4htk4EsqNvrwXjWXH0lWOotk5lN0rfNlCY5TX6r2k12iZmc+C2T5RiDBR/hFwZ6NfO71+J5sdIR4IIo9f60+JC1yRCwFp3gCVOYoZhzmbZlrfO8an9EL8CWXOTibj4N8kpPkbc6B3i2f7nuFkpgwRjKKl57PR4sp/sJvxLNrHRKVJcmtehn1p7Oli4JEwhl20UlBagEUAGRvHV9dIJ8529KgSyuB059YcpYUL/3IYRx3/pruxIGla6Bq7vRAH/yUj0ra2c1YjpG0sA09AWvEVId//MXzVj2RCU4p+uv80ruOriTNbvwJ7rzuda97fkjuZGEf87FFgs2z+3zul94nrzOySfeSvm7hiGP5CV/pc+fwrs8VBe6XcJGZLV2quYwKIbrX6THX4oIsPuOXtiLwI/GDEMtXvheHfNk8kCLbRIqd+Ti33vNLW3Zs+dPkofOwxNnBp8WuAtyRPvgWv4VRdKPwJ6P82yoGPa0heHM5/dbCvOXKbEIH/AYuwhr+EwklE3+nR/7kTE9yJ5JnnvMxtrznQ+JYjOnKky3SKF4cZMM72Mj8NTysSCouxIDOqxwCG8WoAodct2yHYOrcile8gA34pnHENq5CHvqAb+Ul82cPeiOf2JdDnT1LsYIc069rkHF5tPxU/CzpiczyI9nMmS+QycEOcQl2KY5GXOZTrvEZOVtR1HC6pY/k0Yjk+55BL3yUTozpPB7m6CjWvHZdedS1vvOZfG17D7uRZSvuJB8cty2Hno1DD+ZK1z6DyT4zdnqAh/I1rrmJ/OoQtHyDXQtkVVHdOO8ZG3B4DXwsV7gHQ3cQ1h4MwUww92Pigjhh9ijDZBAoFZig4Swckzyc19l4lJDxnClLUHFYlRljWyLeCig5MkKjArXc6NkUzxGcR2cYDSVhARlEitxdT3771M7a9sBpyMdpkC5OYN8X+7CTToKqrD9rQyYdBuSpX2busU3OOj/TmeStc2f/GD/QWVOI8B1AQydIuooeQJHTkT85s5sOo/1Rls4Q4PlY3mcj3+sQWrEAWnzVXB35Lx/22pF9+BWbspFAZifvj5BfYKjjAlA91xjs7mzu43ufA8Lx6Lr8i1858iHbWCKJgd4tG/a9rpK/oWx1B5AgDTpXYqhxApWIr2voU4IGNEhZz1uyya3PdGn5hSVJCQgII/3sbouSWFWs6v7o5PEDSQZpcY/kTB7ymoflNvdU3N4av+9dj1BbZeCfAbmYpmskIltkJ+870hkfQ+TFnWJdMjLGHh25h00tTVpC1Nnhq+ZqXPGDCOfb+beza2Cvzi/MI8PWRFQ8kUNMsYHlY51DckhCDvg7nslmfDrpoD/2QmhgDdJSPsgG185z/XmGHCWuwmBjspV85Uc39G/bB30YP5mKJXNQLGkUbPWXZIW3invbOCJY2YQexLxxJW9HuYmcXvc+3PGerHSq+LeMjiQ13toz/BfTMIYNzNlzjZP/OpPPQR6H68jpM/NA6MWnea4de7wuH3Jmb6Rct932JNhrTDKGhfkL/sB3xbmYdw9Z3MOeFVL8cu4b4/he60AqRBFm4yF5+Yp50gtbwV36yVfSjc98BxuTtTN53ctWxoGpreI297k85PUdDmKV1mqoWGZz43h2NiNv9umz/AMmw2ONJNjAj/GkW/pIHvawIk8Xkd98wNlhzF7zTdfShzn7fMRJr8mmELQVbyz8G3PLWa6XB3AFYxmbPMbgu2RIPjqiOw0K22Ho4Joe5MyX/HvjfuxhH5/KGcFzYPJ+netAbpEoXRfsHsnQdSKo10iuJS2dOwJL/BIBpxiFGV/fUghnQhAtd6jWTRjYAmGkieERKA5EAZw7pThTFCcRcObW3uNb4y59r/MLVG17YARzBBgM79x7sqheJVPyIZ1IeE7jOnKdTX7pFZALLHaxVQDBQAgkL5W0rhTCIDnqjLCb6wXk3iSwpKs+k3QBeH/5QeWv88AmHFsxoVutE0lOcrMRub22NG/vnpUJ21aQ+549nvMpcwCK/m6iJMhX+axDguLPc59mJ/tMLblLqKpqNhLoe8kvv6V/y2kSEXDjJw4+2lGVv/R+9CvyAAB+5uB/Oml0Mlb86WHUzfg6ULblwPYQHRUFh/jW2Qh881E6seIiEdGf6yRES1sKkvHZa18nI1zwPFsNxAcQltgkOkUbootgwx1y6HS7DsGRCMUQeckqWQJeumiOW+RR/ItrMRkpoWevs1mv2Swy02eSGOIsCdIrH64gWSvHeF068mMa+35tD0H2+aS5I/uINps4+LdumK0ZiAsdwUcx37PG5996nezu1c1y8DXdu+KJ7RzeiymdZr4On9nEQV4J2vKzudQZM/5WO7mePAgnX2gL3GgvcQZv6YGvFC9kYUfXijUkSvzAlwjLLZ3MvyeP+ch/MExOFCdw1aqbLqscSAaxSwavyTEeZHLIV+akaBdzSP6erYJiG9mTDxGDiIPxG8v45cnk8p3XdEMGDSe+t1c/6cv9dKURAuPFmueTTxwll7ODz/BhfsOGzuwK8/i+bjTZ1jSx/DBKzhYbfMbcGseZDhz0lD7K7d6zl+vohs74DpwiN/l1gdkd1o/yzGMu3+2MS9gmgeDBX/Gjoyk3k8W4xs9eZCK7poOYc7174TAyB2/K38ZI95fO/MoqjLHMK9s318ZPJ97jDOLbnMM/n3vtGRoYinW5XNPi0thrPrcqSC9iKHuNspDX+/TCT+QJv/nw/Gs6eE5+VdBIIcMhmQisitPyoiWd+YHcIjKYfQBpIIq3N8jEBT7hKEsSk+QyDMHmjrGkjK5xHyKEnAgIYCLJ2DtmSU9w+nMtnEKApBROaonDmYKQEH99YNz2sDTutc84rGpNd5vBLTEKBGdBKXGrPoAqw3EunVXEjcOQj7M4JG2f0ScCml5GPV2T5dZ3bOMAPGxrn6TqkB50PXTvJE1OdtaYo0zsxy86+JVOo8LI2PbvSN4Ant+QwT3J3dnyCXCRxPtV7TjO/HXjmZdkrYNIx/mz9/ODTemC3ypcWlJCrnQcyei587GuvTcfSUjxIxEh+5an+YpjXKoeP295tPP//u//Tn6lYOBfJTQ+jRza6sK+W+Vzj0JCLCOxugBizHMDGWQLodHZokNYUPzbVyiRbR03nbmP3yNO9uSbmznraABRfiKWkDyFpAQOYDtKXJEK3SFyjuSqsa6d+ZyDfyCYiL3tNnThYDsHgu5s5YSP0BOsEcvOfrTkRy/wD47qlnnutbHXfAev+L1f5/Ml2KejyS/5LXs4+LT41inja2JMZ1NHmxx77TTKqLOkIJ3HD7+Q9OCw5WPkl10UkgiHVRjFt/t73hbdJHtnZBN2IvhwGAaLWVivwaBJ4iBDB5/2Pb8R15KlmKcfWJNce866aPZbwjjxlC4QFE0XMUsOfsJvjM2X2NLBz/iPQ+GHQFsSDxfXykSnDpjPV1r5EjNiq9wTwSmW6JBukExkwzK6HGe7gUJji61uyUo2uIPAaVqJJ4SP3ZKDrNk0uzqbj/xlBYHPrZGLr/hxJQKsycEetk/AUzmYDophPhL2kcWYZHGmM/mbjeQJNrNyamVSbjUvfrRGJjriy7YFIsCKZcUTUo8AR8T5iqIaDsNCcY/Ex8nci6vt+T0VWfkq3dNDhJsu+IL5Gx+vMTY/VZDxK79n4Mt04vrsBqthFXnkl1u+cO17PgKLxTF5jKcowhvoBBc0vrgyB40beGg71bXn+u4NyK9kTSEqAq87fDYeXRcQeVgG1+FDVDkHpyIU8ishuC+hur73S+eucZ8Ez3ElIEFjMzynVkkiJs+ePZsAhWIoijEpDRADSc7OSS0HAapR9qWxL33mXmRWN5CyAYUxnHUaVGE6I5ID0AD2CBDH1lEaOyKM5j39CEzzdYx6uiTH0ueX5uRzRFCxQEbFDjCush87ZZeesTTe1s8svyI6iHcAI5AB/LVxJRUkib3XLpfmO85AiU/zYePQ73j4jq0UgLrSEirAE1iCbS/5pR8ECOFnYysV+Qp/oX+Hz5x9tnT4TieJb0mYfJxsgIlO8+fmvNUuyKKijo5toxA7yAESqrPAdwEZPdJb5zBh63jj9bolfMC8FLUS3khWALK5AlexgtD1F0vI6HvXs5kVhPauj2Pces0n6I6fKdLtLVcMAMgO7xVhfoGusNX9qIPEDkiDDqL76TN/3muTUWZ69kzYKskiwQoPMd2eRz7MLsgv4iS+6QT57QdvyTQ+e+/rMX68JqOEZ/82OyIyZIA1yIrClXx7x5vf51mKHb9Rge+IjO0yCijEP7/hO/IQ/3EoWiRoq4i6RFaH5I/58/e+p2OyOeQaxZiVFb7LTxAF8WuVgj+xpcJFjDm8R4Q0liRxut3iQ67ter5r1QRZse0P4UYY2AWRIIuDjhAcekPW7ZX240bESkycVcSNOuUvYhV+8VEYB2/4DZ+xIjhipNc+s/3HPXBj7VYMOhQ/5qIraF6aZooLRTff0TiDJ3RBJzCFH1ttQkb5GIyyksJe7AQTkFC4CYObX/rv/aVz8chXyGg+yKU9zfmvsW0VVFTjFciqho57Rp52aYxbnyuszQ2ZVKiKEbhm3hoOCK8GFZ2bsy46u2ki8mN6oi/5Eu9SzCj86ZuNb41/7Xv2kpMVzrgWvSj8UOknAAAgAElEQVQ4jIHHKBT4MbnxOzGl+KSbWzZYJL+EuXXjNYEjv4SJ/EqgR8gvJXouhesscFzVhUn6jlFU8IJX8BgX2OhYIR3AB1kFdAjUEaMYEzAhwIDe9hCkBLEmH1l0wyQlzsnBLcEjwwINyAQ4CCBAlEw9q+5dQXFNz1u/k5TpQtXKuY2ruufU4z6hI7qZy8SPzKXDfkFjshGQcbYloe7GpXnTI2AAMEBiPs6l93M/7vnJ09n9wFR3GfkFejqz7IMIHiG/ZAe2CEhbMCRtB78Zj2uf8y3kiv7Yjw8BSCsLfHKug/nc59973zWAir8iVEDQsqsCRRISa4q3pfvP+EwX0QqJwkAC0mGJrHjNDkCVTIDYX1oQ1/CFHoCf6xXbYkzhvVcueuRn4kHM8ktnBbYzYH327NlkAyRcsnbQE7+RFBQRe8dfcx/52IqMEaPs6H5LwRID/2DLsfO75vnXroENjVXsdHafIlpjgq2Mr/GBdEneiOC1Z9/6zjjza5BHWylgZ4dEjQTDFjIUwxIk7IXBiISCVOwgLuzcvOZjrHk/6qDr+QwCiazRibFhLn/lL2SQ3PmV3OZ6B9t6LyaX5tzzL53No7loGMEepMkKERIB/xVFkTwysZd4EoNk1ghAvMkiJvKzS2Nu+bxnkdEYiL5teMgWMkVPYlxeHQ846b0upxinn+bZ+ZYcrhM/DqQPJ2EfKyV+K4CAGx8JRupgrR/r6z7CZrGlSZW92M4B4z1bfLDZWnnm17pfMYeMs4vGi+07re7Y1oAjXMKYteOOevIs+jemgh6HsuKm2WK7qm1kigSFtjgxPj/lV/wokq5pgThbtaDbPb47yuU1jFNg9Df/xQw/lo/t4dYFF09yFXk199Z0fT17kfwyQATDBLZOgnKQvzPJL6MKQsQSidD9kJDJ6rBcq2KSDDkthQBepFenxj2ukdwZxj1zRa99716OINGp6h26Gvb5Sb4CinMICM90PadRIQLecVsGAHLoCKu4Wyq95NxrZaSv7JYNkV8FguULwS2wOCqdslmBc0Q3c/ka29lzdX39MMDYug+clo2Ayfze8T3Z3D/Oa/z+6GvPlQSRXzpBfm1DKHHuIb+jPiUTviex8BPJyMFvxmPpc/5lWdYyKhAcyS89SuCKgrndGn9JN+N3XiMtlpj8SAH4S0KIk64DkJMslp6Tjy19t/YzxaikhrTo7ER8AanXwFVytuynsldIS0YVkpFff/UBOUUo1o69dB3s6xDDXtOtZMuGEiAfhi/koiedE91rOuzedNx5aawtn5Ghg1xLBY/nSRDIA/3Zcob88qGz5Lgms86vPdOIJ7vY7qBTo8MqBpbuXSvX6Gvdw966pbBdHCjkEU2rgzCODPKBbm8rBlYP6UP3DoaHuePzl+Tc+hniKWkr7BAa5JsvO/i5bXCSewV9fpNt98pDN+lH3Iov3Tq6ETu6Zsg3bJN7yIXwaMDoENseQCdkG32sZ27Vw7XrkWv4AtNsc0oWv++wijMecBIOijGEk76uPXv8Ll2aQzhJ7ziEJhZ+oKlGDis4Clp2Yjeklx35DPzWefUM47OV58x1M38/yjK+Tq4+89w6v7AFV0BAETUNN/pyrbGN4f75M3rW2rMxFafynsJIhxV+2P6l4WLOYowvma/rYaF4trKOpPOlmhaeAwdct1YPl2SlW1ul5D4/YmMDPiEPyhm2r8A5OMNOvsO1Lj1v/Pw5+bVUhDWPzj5euOU1IoVo2TMneUkSezu/jZsSGTrD+4y8glTVr0VfwpS8LZPoNvjePXNHOeI0o+ORwZFcyezcGBIyWQAPENaRcFR961JzJJ09QLXWgONYt15b2kM+kV8Eh110XXXebt179Hu6UXRYNpKIJEc+B2wkIIFydIwj9xtfR0EHQCFiabA9XpKopcNxf/vWsTyfLzjTxZbDffk5H7LsJlkhvkBH4g+Utsrles9WmPlHCDpDyAIfBYK6mbcKkz1jjvcAONW9P7km6dnSoPhwIJa2hABUqzZiQ4EJT3SKyApjHD4TZ543Pv/o62IYjkgSbQuRHNnA8jkiY+Wga4+OeeR+SUFHRLcc+dUFjvyeKd/8WXxa4Y8wWC2BMYoVhSP7nm2XUUcSM3xB2sQqPxa34gO2kkNRoPBU5EYwi8vyy/jMPa97DpKikNaB1h2Tj8J6Pu07JG7PGFvuIY+DbcSxVQv7eMWU/MOHER4+AgN0VOmkeWwZa+2147PZDPFEXjSukE5dR4R0CSNhFb+b+97ascfreo4zf0DYdDjlJFyCfnQZNYcUMq7LX8bnnPna/JBfxTQMZhf+GvE8c6yexR5ym61e8otDHMM7emGH9O3a7Od724c0scRZnV85gy7FO301zt5zdiJLjVW/8cKl5AA+rEmjOMJxyLtmrLuTX2QUkThKfpcmwwiUIeGpWO1nAvhABujrODAqh1q6/6zPyJFzXHomMmufjiUUSysCS8IOEIEjZ9dVUmUBhUvP2vu5INKBAS4IKGCWtI92ym7JQzcqRV0aczdXVa1KX7eOjW49497f8yNdT10r+4ok7nxpJL+37HxNTvcGHM5bDiDCjwEUAsa/EQzk7yj5BSqAAEnRMVPJ8w1/UlA3E4iNsl+b457vgJV9eMit4k/XwY9IjG8Z1rKfIs01QFmxZAVDh0YcwRi2co24MZ89cnRPdul9YArsydZSH8BnA8WITgTi1T0v51kjAPmjE0SLfLp+5nXEf5fmND6P7pFc+3vFj+4iIo5wwr70uPSco59ZuYAjEjefRejYhn/AGcTXqooldomZ3B1Hxx7vp2PvkSWrE3RQFxHWiy34okuteznee8/X5ILzrbBUOMJhZMuWPQ0rpP3eBM880xOZ2EWhKydpiCjcNCJcMx7Zq8/26quxRzn4puVyWyA0aKwy8R1bJf0Ils+M9+0d+9Z9MB7h1aBSoMC0/LV77yGH2OWzCjKr2uxSvKb39NX4CLmtZvcmv82bPLBds06ukKvCYj+YVERpQKzle3cnvwA48iu4UmiKbGJbzwzAKLZXWKaRCHVhEGDgIjlKSAzUWBlt61hnXG9slbc9apb5AaLgsiwniSIxKl/O7te199hjafkC2QQwKm2Ad+9ulXmzOeKgs4dIspNKTZKUlFrKSc8vh50sDVo2kawkzbqJ7CK4LYmpKvlccj7m2bj0ooCR3BVKur/2aJUotsg26tgWG5U0fxA7/NAYiKguq3l69hlV/JLOyALUxKrtQpIQAAbG7IJUIjeua7uR/XkSt/iRNCVzS3T87Cw5+a1x7bOz3cEeUSCreOMXfJkdnj179vwHKOY36nZpvvf+DNHVsdLxJN+9yS/b0ZNf3ytY2AUe+zGK32Uo/NmEXu6hG3bSMEBUbPGwVAxjHOYvduEp3xi7z8nS+Sy7kEdiHZscsF5BqVtlafbeqylLfmibh9VQBRGM0zFjJ3nSispoo7N1Muq2+NQQsY2hH0DDXvkJGb6FZWfJ5znG0vyw/cIKk8aC2IYpcjHewnfGOdzrNd8Rrxp3VpQUk9mSrGfNe4/887H58GOSX3aSq3AWPqI7Dmuc/eUJeVCumMt5aa7PyS8yZNsD5XPOW8536YE+l8Q4jH1xyK/ldfuedG1y/Gv33/quyWH4EiWnpQTBrFoCMJZwdYhuPeuxv0eggJ/KUndEN4COdK9sBdAtUNVI/GfINuqbTlSUkiKb6DIjE0dsfUtGNhIkihQb1NlJMcRGQI8TH+3U3ZJh6ft8yHfmr5qke8DXEo5tD0iORCGxst1439Jz7/GZmOy55ETSxRZb+qECctb3a8/jPBACIK9j6MdJujC2f+hOPWZXnh34K5/hEx3epwP+qrtnBUWCYisEx+8LJAr3eM44v7U6mV/nWTohuoWINYBFHOAMP0aEdYmMi6SPsTZ/1mO9N3e4ZwkQmdAZkUzFGZ2Q8QzdmI9nIbaSkSLJdgddVt1NOOxHiewlYZ015lyPnss/7An0gyi4gmjCVX7hB5KW0OUkupnff+b75shv/EMfuvBjTdhOJrHqB8fs07Vnjj9/1hgHdKQzxifsqxU3fBhB15CRm+f33/s9wukH0IokzSBEXNeXve499vh8ekJuFVBwRPHEhxE7+1p1RY/+Bmcc79JrOCxXIr3IrwYErHsMX7kk07XPyQr/4LB46689tOc3LL72jK3f8Rlbc/zo0A/0FLh+K2KrEx+GR2v1dVfy255fCUPQ61qdkSCanICWdGxAR1AQFctdukICyHLBVuXe+3oOw0j+cYgumyCry8iJFAnI71lLqAE+ndk4D/zoSbesjkj6vMfcIyucFcjpOttTqwsMdPnEPcdfMyfjCyhkHDFnj/YvSRICDPlFBF8OWccxddhsz1CoOhRSAXO2XjvnrkMMrAogvAi1LQc6web7mEuzyTOfh/mnA0Uh8iDGdeTZxiqCHz6cTdSBN/9UGCjcEDrE16GLZ4uMZVJdxbaGNIeX40xHdEdHGgKIDUKBhCI+ox7PkA+W2w9pnyRs0SlTwFs5sDVHR/zMTvySzGRgJzEhx9iviWzyC2Q8+yzde/Zn+Sh55B8Npde//vXPSYHVSH+G7qzGxi35szcbGNNqAMKLiMsB9q7zDT6ONPCdeezdGuPI9/KzwkwRKX8ruhE/hcyR5269l57oSBEL/xQHdEQW+RrPOIO3XJMLzspBCLgf8iK/fEXx/Zg2uSbj/Ds6w/HEPH3l67r3tk3ARLqb37f3PTvJdZo9insdX5wJDvuLRIjxFl3dhfxazmDIfnGrAlaV6xCc4USBjIlyGs/1C17dIITOHjME80zF7zXYpfvsgbOMynAAwHKdhCFJ+XXjfCvApees/ZzO7Pe1VG6pGMnzZ7e2LBOsGWt0PrbWNZMcgazlYsWJ5XUdzLp5a55772uQSsnaHlP+KoELanqytcC+2rMKkiNzYUc6pltHsbD1md0H3Pmb7Tb2iUqIVgR8vvWZj3G9lR7bnPxoR4fG6omEJfYVwmRobkflQWLoRkz6CwJiB+HWHbclxHcSQDY5Ot5Z98MO2w38GMUKE2yM/J41hufAeRgCu3TM6EaM+8GLbSL32Lo1l18MwHmdVl1EnUPkRddXYaj4nt9z7/e27tjapsGgI0YviJ3VA9sLJPARJ+8pj3EQKMWQGCELAmxFwJYzHXs6DFPuKcv82fAUwfTnDXV+bVmUC1vqn19/r/fmjjjZ22ulwKooPcGYe405Ptf4mg1WZv25LsWABpGuMwwar32RXsM+HI+f8ylNAc08Nu23F2fmeDgLc+CKjriVSk0QP+Ydt9Suxf+7kF/BjfzqxgAhDF3V6TOBdtSAJteRMuxbAi6qRns/VLpnjHVU1vn95CaXwGdAAI0E+1uVuqP+hJvvzGt+7573OYKzX9IDYdUSgifYVGiCb8+zr93jmZISe/gj1X4ohKjoKvKFx+p+XJNx/A746dbo/gIegGzFwh45VThbCfbxnhft9RY75hfIpGSjS2ae/MLfdYzUvWhzJK8Y0UUjq5UM9vJnAs/2KYnHjzQVPsaTFG2L8QM8HU9xWoEdgXgR9MV2unkKOUSdT+vss3l2P0NOGOUHs4r217zmNRO2IDBwRnfmMXyIz0uw7KFoQ55gnD8lZs7w7Yy5rn0Gefgo4uTPOCJ1OsByoDiTpPnMmXa4Jhu/VAAoRhRwZLH6ZuVCQTRud3jsfMk2miJkEcetpvirE9fmdPZ3bAb/NWpsm1Ew8iH/KKax7qkbOOPPsVp547+2tOFO8aXH8pXmuvZMZ4pNzSErTJoDmkW2h1lJ4Odn6o0ePBOuwBfdXpzPSqBVhMZaq6+XkF9A5gGcYe0DlhTlGYCRUAZQUQl6nx199tJ4PqMUINjzj8h/aYyzPyejg8zj0ednjkc3OrC6QJKVzpXKMoc5cyzPMgc2B26qadWsZWM/xtExO7MiPEt2y/860vxWR0Q3CRB7/yLKe2Te7ON+idr2E+ROB8/f+pQUX4Rl/KX5SRQ6a3wXmWAjSYtPwYDuaX6933P2vIiD2FEgAHY/0mk5VNzuefY97yE3+ehFp1EX+B5bwMxdV1GBgFzBeiS0/c+PpRu2tgKI8FsVsAXCj7t0iB6rc5a/wVNFmL9upANmf74mA9x7jH3HS37VXlIxIl7YqA70y4lr5PLXa8hDLjzBiijitDSPe31W7uVD/BiuaNrw63uNOT6XzxhLntGhpwdy8Jf8arz+RXlNb5pC4j6d0Rub8qt7xD99ZC96M85eHd2F/DIOwQAw0NUCZ0ifEXSvsNeM7tn3UPa1Me/53dk6oh/7iVSYtoXojm/ZHL51rmwBbC1L6Pb68QDygBBbln05QXdpLvSNNCjQVJZkBIa2Q7yI8i7NYctn+Ze5AV6rDgoiBTDfoIsXMZ5GG/FfhznAGj6eDs6Q3fPYXwdGQqIf8aPzLHH7Pj027otyNv/0wp/p7WzZzN0qX/FCV2Lmnk2OS3Mw32SRb8jxcmAMORRnlmL7XYN48mPZYuqxfYYeFAE6deKFbvgGWR2XdHrvz9NV9iLTyBPuPX7PJ4dYZp9040xfXXPvM981nnFhGR96bD/ZM0cy6+DjeeI/rkf2e8nvuWzWeY/c7rkb+fVwzsSZA8O9Qq65jzIca679v3gN3UjiKn5grDvDce+pM0tq9vf6G8yWc+zJEyCA+J7j7rUvmRyAUMLgvyUsn+197ot8H9DVqVLB63Yjef4yh/m+iDaiy+zDj5BQNmKvEWzH13v1b/6wC2GwzOaHtTozYididcY4e+W7dR/90M09fZeOIld0ZUw6eTn0kizJ8XL5r/F1v8QTDLS6ghy8XPLkJ/yAbGKGnfr8sc+jb/DP7OU1ue7pr5fmSibjGt8Rrly6/uzPG5Muyj1nj3GP59FT/tQc2PEeY82feRRn7kZ+lwJ9dPr5RJ7ev+LuDsNJEV4FScn7bL2Pdkd0/eUKf2ZJtxnxNq5rxuvOlmHP8+byAML5Z577pubD5sgmuncOHYfHAq89dnLPkl32PmvpPs/PznThkJToRuy8qPpJ5qU5Xftu6fo1n93bDmtkGK8xx6V5Ln023nf2a3qBs+IJ5sKSZOh89pjXnndpzNHPr91/j+8uyXSPsbY+k2wd7n05/fxF1tOoVzp6Of1plGXt65eQ37P+zu/awZ+uuz/hfbl0LGgFQ8s5ksGLShro6I0FZF4uez6N+6Ybq0+2fbLtkw88+cD/NR94Ir+veHL6ezl91XPne41zxnOfyO9THJzhR0/PePKjJx948oEnH3jxfeCJ/D6R31O3W7yxLX0EUk/k98UHq2z1dH6y1ZMPPPnAkw88+cARH3giv0/k99HI74tMMF9k2Y4E+NO9TwniyQeefODJB5584MkHXuoDz8mvP3xtz28/9JmTgTY0d06Rdfrm1/t+/M734+H7pXt67v+Fc7q8pKeXUwdzW72cstxj7ObXs3ufLfq8c7bq/Rnnuf977y8L+GW4v1nqPxf6KwP+usBj/LescU7pw2fN3b5tcvjrEGTz10McXvsTPfZ3w4/xOU+vXwq4b0r6yH/Z3A+7/FUD/sBn8wt/BsmfsPL9m9Lcj8yl2BJX43N6XwyJN3jgh8N+aDlee+/XZCRPNjZe8i3JP17n2q5ZOl+Tfbx+Pv61+458N5e9Z42y9DoddM1jnRt/HI8sydP3zuM1W17P7/Xe8+UjMT0e/iKQz7vGX3rgp3JD15Uj5AY/GN4iy2Nc629Lv+Lh4WH6ry/XyO8lYQQqcHP4NbTD36nrb9X12fzse8FNeXOlXxrr6fMXI5G+qdvrsebXOADGX1xAHv1xc3+P2X/+e5d3eZfpL2X4Tzb+iLgE2D2PFQvGE6vi2z9LIJv/hEc2Mjr8d0V/nB5JR3IeW8bH0sXTOG+IP+wtubH927/9209/1cXfjM4//Lkvf/bL9/76wb3+yswbq23kT8RgzJf0qcgUb/Tnz+spJh5rjn6YzK4ITX/pRK4mV7mevGSPfN1TtnviCfnHv3RjXh1zzjK+pw92o597ypdejXFrHDYjO7nWXN+zl85sSy8ILR/0j4/8xSbHO7/zO09/x9qffqQTvuqfQ8ld/smF710nL8ACflzz5tYclmS512ebyS/wYnCHZA3U/EFvSdCk/Vkr/wHJ4XPv54fPHf6zCyU3uRdJMcl077P5jzpNt873Hrvn0zsZkqNzsvSd82OAXXI95tm8gD17mPc45/TR/F1z1Ffd7/As3R3/Sczf2v2cz/mc6T+tfd/3fd/DD/7gDz44+ych/kGI/wAE2B7DBoAUwAMt/yZWbPs7zf6179d93dc9/MAP/MD0bzidf/iHf3j6g/7+q1ZJke0eQ87H9JGnsV5Kfvmuf94Ax/3zj6//+q+f/IJP+He+fNd/xPukT/qkh/d93/edMN+KBgJ1NH7e2G0BSxSzOmjiXuEgxsqh/qHKx33cx03/jdNZDD7GnMUsmyIsOnf+TrE/UYkoyOOKGv+tznvyw8x7yTXHDz5Db8Z0eM0H944P4/xTBv8RUIMhXtJ5ibfgNXSgCeCf3eA/5Ngrw9b7yhnm3WEeuBg/eod3eIfJfmJsq2663lkH17YA5FUM+y+t8pF/l/493/M9D9/5nd85/QMrpPjd3/3dH97v/d5vyl1f/dVfPV3XtTAACeZD7Pkixf1q8kshWL5/Z6kKFSAq+nd8x3ecErP/8fxVX/VVD1/xFV/x/PCvUv2Lx/EYP/uUT/mUKYAek+htdbZ7Xk+nlgXpVFKYH4KKs9zLYTyXQ7Jry5QAzzHKAqBVdgiaSvBNzV7ZwZzpwX+hG+fvNZ1YzrG0qwOCGM7BeYuvBASAi279NzwrL7/4i7/48Du/8zsP//qv//rwb//2b9P5r//6r6fPgK6lJvI21tm+Qa66Tip5YOq/9H3lV37lww/90A9N/8P9j//4j5/L9x//8R+TnB/xER8x/U1nvpReRjmT9+n8UgL5xqyPN3uzN3t45StfOf0L3y/7si97+KM/+qPnPvtf//Vfk4/8+q//+sOP/diPPbzmNa+Z8sC7vuu7TsSq+Dnbf98Y9FmM+c+KmkYf9mEfNhEH+dMh1r7pm75piref+ZmfmT7z77XvPTc2Eb9sinyzldcf9VEfNf37c7ldnvcv6z/t0z5twkLdwXvL5flyjiaBXDTiMR8Mb7bKoVCH6f61O4wzN/ykY+QtXvucDhA8jYD3eI/3mLryMHzr2HuvR3IRU3ooZ7/5m7/59G+9P/IjP/Lhcz/3c6dCCT9z7Z5xcBJ/n/8zP/MzJ9/75V/+5Ye//du/ffj3f//3B3j/z//8zw//8A//8PBLv/RLkz6+4Ru+4eHbv/3bp9wlN/zLv/zLw5//+Z9PePDbv/3b07/3VizIBy9STngD8ls1xaEAU4ekrzpSxX/+53/+w+d93udN/7Xrm7/5m6fJ/ud//uekGAoqcVOU975zTnmA8Z/+6Z8evvVbv3UKNgp5TBDkrBI80smJOgsEREQ1tzeglpxtnJuxkSdjcVCg5v+/f9ZnfdYEgM6f/dmf/fAZn/EZDwL7XpU1nZMDAKt0gZlx2XU8/Hc2x6d/+qc/fMzHfMx0Ld2dqZ8lnfVZ4whk4Mc+7OV8RDdsArg95y3e4i2myhVwdJiz1+mCzwMDBNWyP7J6ZPzmp0K3ZUBsfc3XfM3zGEJ8gYwzMPn7v//7hw//8A+fgC+d9IwzzoGS8zu90ztNcwf2kjCgi+SSRXw7/vEf/3ECxZ/+6Z9+eLu3e7upS1TBRqbR78+Qcf4Mz5+PQX7dcTEsOTjEmsJN4cDn5/fMn3vme7biZ2QIX8QPux+149Z5wPAR7/i+9+TZWtDCMR0fGP6zP/uzD7/1W7/13F/5Bn9xwP5yg/e6RnBEZ3Fvcj7TPuOz+A6/CWO8hjlnkBtY4bkV1x/4gR84ES4dtZ/7uZ+byMKoJ3HvEPdf+7Vf+/Bu7/Zuu4hM82NfXU4+WEywvYNcCn6ER6fve7/3e6fO/fd///dPnXwk5/d///en/A0LEBodQF1hz2yMI2ddZH4oTsmUnF6TTZeVbJ/4iZ845SN4/OpXv3rC461+xJ6I/lu+5VtOzTu/d/rLv/zLSd9xlPAuOzjn0//93/89rWp84Rd+4STT2QVAcW1e5GxlUJ6Sez72Yz92ysdyk5VCxP3Lv/zLH371V3/14U/+5E8ePvRDP3TaqrBFLv7JBjDSKg6yr5iF9w656M/+7M8efvd3f/fhD//wDx/+9E//dMJ/ehHvvv+Lv/iLyU9+7dd+beKGOMOrXvWq51vizKs8c8RXxnvZMh8eMbbX+RGfh39wt069FauX7PkdyW+DUIyu05d+6ZdOgfobv/EbUweIIijI5DkNReQ8nVMOBXqN9Aog9/rXtxQuCRxNBMl662w8TqSqff/3f//JOComx0d/9Ec/fNAHfdBUqUig47OOygd8PFOVZl8Mp0B6JY+f/MmfnACFTnT9JBLVlqDfGtijzPPX4xxUveQwb50G4/3mb/7mw+/93u9NBxkcgM6B4Lz2ta99+IRP+IQJ9ArQ+Rh733tez8w5CxZn4GdpkH10ItiKY+8Zz/MUFrYRWK4xJ0mZ/s0f0Jtz86eXP/iDP5jABchYwrUkxJf2jO+ebKHTYgUF4UR+xZJYESfIpeQH0CQgXVjBm54675VhvI88DrpHToxnzsYmT3IBOcff/M3fTPqSuC3L6kYc0ccoy7XXS3NOdsCqMKLP93mf95m6M+Yi1tjZkqV/30zn18bY8l1jj2dylEyslOh6kIHP6vIhjYAXcB9NBo0befWe/PTUa2djKdzIUfx0hoXs1zNuzd915qULJmYQh7/7u7+bfISfzH2Fv/gM/ssXtvDYRyipe1Zy3hr37O+N20FfCqMP+IAPmGyk0LSaIc734EzPFU91GOEG+8N9xFIehTVIg1gvR9KX+Bf7f/VXfzV1GnUZ98yfHPwdkVdgw3tdy+LCmR8gVLBNF0/Ms5MunpuOf+QAACAASURBVNdWnuRsOf1XfuVXppylOYAoHc1P5KMj+G7LB3znow6ysoPXVoltt1JohdO/8Au/MPkSP/KcNfoRb8gS7KcHJNo86T8b5KuR3c7816FIsZx/L/IrJnAF+Z+cihKdePqwBeEnfuInJjuUo3EGeUt3Fi5/yId8yMPbvM3bTMT5lk7CU/GMF+EEmh5WID2PLvgjH1AU1f1XtOnu0hkfkSNthfA9W8lVZNBcQ8LnfOqWXEvfJ6vvvOY3YhPZh635jdfjQW8OuAuLa4CsIr8c3ADf9V3fNTF+QEfJgtPrkuPcaXwvuClGoEcmvP6RH/mRh/d8z/d8NPIrOMyDspAoCVsA28Noyc4h+Dm0Dt+8alobXEtG8yzgY2ytdo5sLE6GPAg+eqQvoENPgvxs8ptsAYCu8xd/8RdPezYBMBmAbuDrNds6ECEkXXcYge9ZZ53pNx1L1ABbJ0BS1g1ADhUrqlxFmENg7Rlf4LCHQGBry12qZvoXzIC+AwBI7nz453/+5yd9IRE6naryPeO7p7lKjDq/tg8Bd0AryWQHeucLgMW+qTHZjGCwV47u8ywyIbBWH6rsi21noE8//IQ+LGd/27d921RI8vGjRC5ZtpzpA3ArZviJH2HQpTmIbQeypUMisSLA/GrLGFuulYj5LBJuq4wVAsSFDA7+i/xY7qZrAL7l+fNrJUrxoqtRrPBLh66cJUx6IQsdkCGsc/YeCfC958yfv/Se3K5XMEqA/IFfwH9+y3ck5ArnkjNsgzPf+I3fOJFKsq0dc0mOI5+ln/yG/sShbppl/S/5ki+ZYt0Pd3Spt44lnhwSLbJlCxGfhLe6araDwBtYi1BFsKyKyq0IBUIDl77oi75oaj5tlcH1YlrBrPM15p1io/wnFyHkMJ5ccK+cFBbBJXs5ETBkwnPPsJ8YtqfZM5HRYkWOhPPeawz86I/+6JQfyQWf6cjvIcTcWt2IF3lDB9Xcv+M7vmPySXbgw2wxNu4ivM5s43jd6143dcTpQeEIw9eOf+s69lI4w1OFuv3VVglszeA7GlBygqKInRz0wUYOdlMwvO3bvu2q/FQOgR1v/dZvPfmZuMbbsru4VfTQl0aRjruGmTjXBZYX7fEnn4amrTJ0bEUBBplT49ya/5rvPUuuoXcy1/ke/YbvdIR3ZLPKLdbJ5EfkNzu/BhG4Kq0CNsVwGI4TYZIkcyDg114viiMcQTg0Y77VW73Vc/CXBM5U0KhEz5bwbDOw+VplImgs3SCf9lU5kAz7GiV0oDU+48hr4woSZJPz0IFOKqeJ+NKZ5EGe7/7u754AkkOqmM7Ui8CSdGzyBzQIjGACJvPiBSAjPA5AQz8KBhVi+jhLNs/hkA7zFvg6AZb7HLZlqCoVTQDagQwmx5azsRQWNut/y7d8y2R7SZnvmrMzAHQAGTayz0swARYdFBU5XW4Zd+laCcTyG5CzvMkPjO8QU0AFOUfS6WUc8yzdkyvdAyuJpqo/vyQLmYCiZULgpxDSHQN0Ed8zZVrSl+c7jCfxIia6FUgtP5FAxbdELpYc/FbhbhuLDjBQXnr2ns/IMR78FmGydCjeFUqSZHLAF0Tjgz/4g6cCb7TnnvERUeQfmdbZoAMJQfdb98WKnc/e673ea0rYcA72dCYXW/LBtcUcwihx6A6VePNZhSJcLRE5ixuxywbiCfZqAsDkMzpCW/XGb+Qe+oEx9AafdX3Z56d+6qcmHSFbuqK61FvH4KNsyw6IlkYPn9S144/0FN6WLyNdmkM6i35AKFco+vnVVhlczzfhPWJvyyK7yzv5o3OfGReZiUiV18Mi3T9FAT3BQHnV84vJPfKxvz28CsJ+LJVs9EQ2B+5RniIPXZHHyukW8ssm/noGgib3KeIVG54pBzpnl3Jf5woU2x7YEunCJ+aNsj166B76rGCCEbYOiE+c4Md//MenxhgONsrJTsnsuy3bHtjO2IojOKprzD/oFrejG3PF36xcaCzwRwRYUWuvLz3Ypvns2bMppvADeQ02ibXGMM74ujlvPdORIkYBLn7ZkY/wm/w5v3GGd3xJHlVIuM8zVv2dX8b9gi/4ggd7OSiZ45UMvWcIhyCmNIfPXf+pn/qpU8KhGIfqUyfELynv2YGRzCmV8pEGLXjVpcpeF00wMR7jVkk6q7SB917ym3E7M5IqTOIFHJYLGMNYdGgfjcpKYJMH8eBIjESGrUWB8SIyc6fyLGDD+BxYhScZsZuAdrAj2ZBBpM8BEG2LkLwEY52QdDwf59r79OKa8X7OyFYSuY6s+bOVatJhbImj7pGqUwIdn3dt3L5zPR1JJkCcLdigxPM///M/Dw66EPz8QRJ0rSRp1QDx1cX3nJ6796yw1B2UIPmH2AHCbOKQED75kz95GvveRIENdCzNt2II4EuG5NKJEhv2AQNCwA8wAd1oy726GO9jp5452pgOxAUChnQDP4RXcaRDpnuum2NpVFeS3OwIi3xnxUfhM46157UkWme1riufEFdWj/JbSQOhUkyQQ5zrniHolo33kl86cfAf4xYrGgv8lG10OuC2TiYCCl+QLgfckyjJxaYtk/KBW/qgPwRfLEaQnPkM3LB0rpsskcJ6B/InYSLMCB1MpD/jZedb49763nMct+Yg0SM/CJcCjq0kcCQD3qUfBb8mDR9f89zkaz6SvwLbioOmgfjhk57v2fQHWzuM7XP5SZdeYUlvkrT9tT1/yxmm6jybAx9gH3Znf3LAf4c44QsOWOjQ5YRBznCAvJaTFT5yQPPcIs/8WnFsfmITFo/6Jx9sTmfihxzwGb+gN/fBn1s2b1zxxvf4JEKkmKcPz5b7nI3HDmLVGObdQT46tHohFyq62bnn7zmLY/LLz+7nn+KRvXR6yQnP6EKMsYf8VK4qX9EJO8IgKw1rt3exoxxkLh//8R8/jQXz6cLz/AiT3TWbNPJsw7B9B25o5imudVTlRbIrotfaY6++rBb46xbkwAXIyS4O/jzndeYCh+0Zt3Itd7/BD94ITRljwvGZCQNY4MVZOAplAz3vOYxOLwAB+Kp7r1VZKjMOQikOr++ZyMmOsKt4VSrIpIRtzwrlCGhBJMA5syUoexx1EwEhUAQaewzTPWTwDAmOgQSPYKYnQWU8FZaukETx3u/93lOniNOrhOksG3Tu2dfO47VeAwYAg9QglhIO4mdcYGPuCF6HoPadjgcCSq5nz549d3BdEM+8JsOa7/iAOQJmzmjefEyQ+RElP2MrTsvH+Fo2Q86BknvG+a4Z1zW6IFYy+ITA4ct82DN1NS3xABydF3tHFWr8VsDxW4EjJvaMPZfRs9iEHnTjrZSoZHUb+CdiRy8VHPP7z3pvPvwVoRQTdE73QBCYqKARKwlZl4ztgOsZBcC1OdC7IlnBpqOgw6mzoZi0fOzPrOlYSVbkDZfEuPdAkY+3XIuIHOn8mq9iGqmxXxI5QjCRJ6ROXCMQdc9KImQkh8JCgUuPSPwR/cFpGKdrC3vNVWxYHTFf26fYzmd0kU95LZHqeol7BELi4ttrCI2kAx/EJD3TucNczd3YyBvf5U+2XZgrH0c6bRlSMKwd75p/zL8Tkw7+zE6wlN/owCIE/hwfjGcHxUAYk53gAaLBXopt2KwYN86WeFeU8FUrS/IKXdO7g634jQISvo4HvFEIw0S5o1wZMZrP99Z7cYq0aDohK+wEV9jNOUwd7Sj++Q7fgMPw0FkXHw7B/3n+3qKbdMl3+YgCn975Dp9KLv6K6Dn73DViSHcPkeFjsGhLAckv+CO/lN8UzYoSudkYimTzZB+Fx3jIg1ZznG3D40vI4F7bjLYTd+YhR4stBTTOgMTRi9f8lS1gjENDyuEzB52IZXkRZm6xieJK/oGt7A5LimfddasG4hevoj85lH8rvH0mN8554zi/s14bx/himf3kgHAo31EgsGl6Sj84KS6meCergvAl2x44xzgJrwkOpE1UwKpMBTODUJLXWuMqFYoXIJzLQVhG6DmeNX/+FiNdUiK5yQgskAnVKeXo8FY9tmTLYZAcZ101HWEAIQEwMNC5NM7az4EO4i9YJGgOjPgCQ9WH8SxPSgKchw7O0EP6Bb72tQrUtgxYijU/+yKRTN1MnUzJzMGhBAHnIpNgpNfxWDv/rmNr9wMIz0M8JCKdI0HOeSUiCYKz5lNshowC4ZyXvSxJCkZbNpCvPTqzZFfyE+CAX0JS3PEFPkxG/s5/x7mcZaeek27pif/qJiDdAF9i4p8AXtHh2mS5xxn5RRQkAAAiUdfRYxcFAeImMfAtQC3eyDLG9x7ZjM1nxS69I7sOfsJ/dRMlbz6AnCB1+QjbSYr8BHCLbbIqdnUtkAn2RIT49hE9Ak4Jgr8i3JKm2HYmkwRlfAeZHLaujBijy0J/5rxHV+7h+4pavioRIyxsJgEguw5ykYmckgGZJEhLlRoC4kACh9fi3XPX6IYudZc8D6YiJelBPuA36UK317W6LORVzIxj7InfJZ3xvw4+xI91dWGFOdtG4KywpA+kl/94LX+xE4KnKEZA6cY84SVdk3mUe0mGPoNzfkwjJyIvY3FAV+LHc2GLmHfAR893bh6ed0Q/7qVvBE0TCK7kI/ykApefOMjqUFjKFciBHCYv1NVLB52b89YzcqYQ4kP8BQ6TjU3GPA2L5HC6tFrCLuQxJ88In7fgT7LLvbrAMIUfIN0KR1uE2I9dFFDwSF508Ctn2Mcv5kXAVj1kY7FBx/AOholnemEn2Mt27NJKgLhlGzyi3M1fFU1bcYXu+In5wFx4C2vZQlNIbMvDfhSpEVPxQz/pvXy2Z/5r74FR/NhuAivBiiC+Uo6KL8B9q062NuFY9EpX+KgmYDlr1baHhDNpVTvg1CEEKJxGMkImJChVMgNwLNcDgjMqo2SYn1M6g5uUahKwUBJjkU9gq+QlrPZu2oOmk4VYAH9OLpgk4L0OnSOQhQ4sBQhY4FqRoEvEgemHrGQ+AnBzfXjvmZK8oJB8dDgBv/2OAlkAq9rqMJDF9Q4dmpxj6dlbPzM3QUInni14LMvyIXtwyIUwSM6CnK0UCUBRAErUbOVQkdeZt5dyr18BUF0dfisxIZn8A/EUKIiJAogvAMrsunXue64HPKp35Jds5m0lwtISu9xLFvPk9/zD/jLkQEIig3NkRiEn9q0eSECIhnke8WH3ij3Aq4tpK4O45CfIP//VeeYnfERiAMzeI5a65ZID/7DqZE+tLRC6FfZoJyc8AqD8cY9t3ANQFa9imk4kKIRBfFvRAcrJwHZeS1oIrziDM3R2NMYkYIQSEbeVg14kquRhP3qiI74ujuiFLHyMP0kGdC4uIwRr9GJp0x51zxO/kpB4Nf86qQpKOmE7XSydboU2/efDxjziN6Osnsl/4YyuFB/iF2RjKwQKuVVg0wu88Z4/I8jyAmzRrJDj2As+k1cOG8e69Lq5kMFcFeoSM3wRR8idfGQ7CrLTs+e67znp6dJ4az6HkXzFnKzEIlPJw1f4MELu4EMw0eoIsqBYRBb4LN9FkNaMueYavsdv6YOOHEgWfxVDxQ4f01SLkLuP7pBPek5XndeM3TWeoamgUCYHn+XPuuR4DN35Xs6SL5F124kQVE0cZHH0jT0yJIs5aUrhBnxTHoS7bATrNBzhW7aBk2zivuxTzuqZW88KCVhgjvSu8CAHGfiH8TU/8QS+u/X5e66n0+IAVllt89sYq9b0hCvQEx0pbOGcJpYcL6d00BXcldN73qptD4TmCMCFolVFqmMVLEJZYhTsHERlRlDBcsQh1ijL8x0miXAKWvIherqDAlrVgph7bwlbRQuckD+dnCo4wWSeKWfN+PNr3A80BQzSYglfF0ZS4EyW0SwvcDSBMwe++fO2vk8XgheQq4J0xICaTi/H1ZVGCAQwJ2ZXR52II/Ofy+u5xjMWv5AIJUQJWWJSrfEfCYmtJFB+1N5nwa5rxl4OtgNIgn+vb0V+AS3QBXoSocBC/i4lpfnczn5vPpFfMkmY4ssPMC2rIx2I2955r5HX3BVMVdXABamqkyhJ6JSorO0R03ng82uefe0asasSR8p0a80ZeUFO+C8/MbauiGTlxx/2wylYxDqyLK74iNjzLN0RlT/Aozdy7ok3+na4H2YoYMmTXvgsuSz3W8ZVeJODPK6HRzDG/eLhaNyTRWGN3EuK/qMaWfiyRABnbKnSxfK9mLPcRyayiB/xD5/Js7UYMBe+KC4VAvYUK9jIIa7FFaJHJsSTvfy+QFJSeCtCjJkejvqz+/mt3ISwIRA6uHX02IZsDjZSVPvtBYLlumfPnk2+DFtqhJhjPpN8nS/5cd+TReGmIBDDOooIRCRC3tSxh2HypMTMR/f65yV5fM7fYRq7IzR8hDzO4kkxoIAUZ/Sj8HUtmcwjf81e18Za+515yk9W/ZCrCmxYg8DI0wgYnOZj4sj1fJZd+E26Sudrxx6vwxkU8a0Ok4MeNFb4AmIpJ4gfhAsmKZQU/1ZbWrmlYznzSN6Ul+GVseVC8RP5pSPNGfGsQPMjVsUMsps+cBc2coxz3PKaLulV4QdTzVVe5LcKfA1O2McWusxHC/g1spEpvbIJHgfbkF3FNYxhNxis0SB/kh3XwGf4r2OJb60mvwlKEEEBJFRDBRRjcV77cCRGxAsRZRz3HnHSxl46e65DwvGjAlUjoOXELZEDG84qUatsKMIB/DlLyl16/tbPgAYnthHcFgeJWxcPeeDUOgz0w3Ey7Jnjc15OImABGSdRUSOW7GX+5hSAND8yZKPOfXfkDLAEqi0oQENiJBN9CCogLFkrEgCM/caIjOSAEAEFyTKbOQt08u+VC6gilWQhgwAyvm4R/RwBkL0ydV/bHnRoHAJc4aSA8yMNhVX26dy9Z5wBub+5iSwhBrouEiQZyMNebEd/dCbmdNr2kMrkNQ8dVf5ptQZp4LPmbqyW3SQfP8iwR1JSlKThkO4UvYhnceUAeM58xTj5t7H26M3zkBXdD4WBZADzyCcpIVISV8vkcA9OJkPjN+cjZ8/11z8UtnQjOfJhZ6QcIZUAxB0dsafiU+yYR0U+rEgXa/XiOrYWI+YmvpEAXStEHw7zm1a7IjYKXD6MsMsNEijbwctstFcn5mHFBuHUTVQY2QpDN4p+XUP47687OJApepEPJHqkGcaYz6iTUZ41+nENOyOb/ATOmb9CVtwgM3yG/yjcNAHY0fYvTSP5kk48Zxz7yGvywFAFj1iu8wv35EorKxWN/MVRd2yc85ky8R1+ohBJN+Tiv+wmb9mWh5yIJx1asX3JNlv101xseVBsI5b8k31gnSJNEetA/iyt4zZhkmuRMH6lSyxPkW+rHOP14lPBrkFlLH7TwWdgIX+yPceKuw4nn7a6K6bDF+fxuXte0zO9axTCW/nZ+DCPrvg2konnpMs946y5x/Obk/ysUKEftiqm+A7btJKDR9BjBeUo4/gaT7q653dJQMoRUG62r4ogDs5r+dFnANjyAHDLMOPAS8/d85lnOjgxMEFoHIJI5a9SkixLABEnczhCoOaySgierbOhI4bEqahVJCptDsxAAAfBAbZHCMN8/N6bl66Q4OQobGJc+tAR0/oHPnOCx0Y5Wc8646xCFES2f6jYkAVOC3wBH8fVLQIk9vIoDCTT9pRK9GQ1L8dc7j0yjuSXXYCZHyvZJ268e+hhrZzIgc6neAJ+6YqMlriLJ8+7l5xiG7Ba4kJG+THgtVzKl8kmIVh6UuDR29r5LV1nHip13R644dn8lq8UN7p3tinp0knWSFc/4gRyEkCkLP/2Ph0dxR5+gdwprBEqstGDhGCp1F/qgEEtx+avnZfmvfcz85WAFPf0UwFXnCPh7Kc7i4jpcCG+9DLqZNRNr2/JNNejVR0+yRb9uMweX7LBPnZ00BP5NEvEOV0hoIgD2ebPvSXH+L15ITKwA+42rpiRA8gDl8nX0XK+7hnbwu4lbKGXtbK5jn6N4cc1xodx4gbO8RfxbAlZcYBoyVlyFJIhX077EF9x3r/AJj/7INY69JFxfiN26Uz32YHw8Jmjxchom6XXnm/bjLiBJ3TTj9oQG3qx0qUgsM1BLuBn2Yee1/rr0vhs5BkIuPmP2wzYxaojAkxf5FFYRrTYkO4UWFamkECFhRhrrGv+4rv54T5zVBDyVfgnXsQN0mk844pzMaSI1CDQUKJHXALOeK65JceRs5iAyQpKc6UHcjjbf23Log70kTHW3GtObO3QFEPE6YbfVByUkzT42M/qgW2VfOaaPp53fj0UaLrYQAa9JhxHVDHrwCBWkiNjee1ZHBgAqLQZVnK69cxr4137jryYvn2B/uwHsLGkI2kj6IBOwOX0PSt5Ovvc6/F91147ux6pBDAqVokQoePEnJc+EHIycVx6ATZA/9pz93zHLkgEYClwjasDbTkQ8ROskmIgt3W+W+QSQDo99mDmtBJCICygLVeQSQcRAPOVLWNsvZbPsg/QA2y6ZXxf95D+7qmPa7Ia148tFEd8R7fVr539UXU+LUHSD3/3nHvJ6blInLEkH91dhRQADnDYkD3Fu1UONgPAe+QyXj/2sB/SMxvHmLBFbJu/f3Fq+R6mzItXz0kn6eiavtd81/NgnS1LZInIkJH/imlLxgAXmRrHHmVaM96aayzH6rxbSaqARMaBP7KnaJHYdTIbv3n0fs04W68xbweiqYhB0G0vkCzZD+kTaxKUbRL2Y7OlLnnybR3TffzAcxARhEQylAfYyrYPPlxcu56M47mxx3Ov18jj2RU5XvNNhRrcjbTAGUdEJkIsxhVTGgPygiZAXcQtMlyS0zPEMpsoOuSjiiWFnGV95EkucO3ou5eeufXz9N198rDCR5GfPGRKV4oGORM5V/AjPXgEYn6JR2zRFXn4DH0gcXhL45NHrlZsO1e88CnXOBBhthR/8gj8k78885IcPne4ho84j7qWe6wsiVt64QtW1jSx5G6+BG/pqJgXV3In0qzgSr9nneEHnqIho9MMY4xdkc3H8Z45r9o7PtvyQwf9lE88j66Qbd1dcU0WR3HFLmRzsKeVf/pMvnQ92mdq2jw8PEzOhgAYMAJ8axKu04VgfEZAuAhEEInBayAnwCxjqybGZ46CjJ9fe50TORufvJwJ+bX8aPIARmXEcSSta887+h05GI3z6zpI3MDdPjfLE+Zv36qOeITYso7lrUDuqAzj/XTBSXSYBS8bCGhEmExksHwsOSHr9yDgozwIlOBE6gQr3xDA/IOtvLb0N3bC2XV8xtmvFQCqwzpEbKZb3jgFSu8f68yXdDQVbHxEoOuIIMD0ZQ+5riz5XHuGXGMMARwH8PG5cfiT7gIAJJNlNwSG7SJ/Cl3+b+nO9VtlM45iDEb4E2L2lSH/QLZEA/wRBBhjuR/mWLaGP+lh67jdt+Ys8VrRQlZK0vmxMxCWsOmKDtc8c8s1dJRNxJSx6AfWGVucA33yhT1+sa+zqgPCplvGO3qtbqOErCNrJcwKAuzhM4gpMkyfCnXy7R3PvGxV8hsUXWVJT3Hi76BKkhogVgv4it936NDxUePR6d5x3Sf3IAhsbrsAko3EyHM6uLYA2tdqSwyiYHXJ4b38xGZ8h7zIlfeKF885EwP5oxxlW5Fl67p4iiXxhIiy1ZnxQ7fl5p7bme7YweqE/b10olDqLG/LXXwbRtsmooixgquwOKIb9yoerUjCEfqmf34Ja7IFezjElKINGbZtD1mGg/0g2T1w2hYJROuST5k7jINvco1VWMQy/OKT+IBChZ/6kaJcoGjR4bWVyAqBv2EOfxUIfAcBp0MF7xFfXrqXzA4kUgc4m9CR4s17NrHlCc7ws9HGS89c+sx9YgYW6PZrcGhQmTsf8kx6lR/8HkVzsVgSVw48S5FAH/yGb2uWaLzJTZ41t820yrKX/JoIwRjTHkHLBKpYoAyQOQaQs8/VhDj8XIAlZaz5DFkCsJKSZIBgIjSRXwRU18ES+j2B3/wRSBvn7amq+yJQOKzKVQJgMN0h+kFM70l+VY9+2asYECgSoiBmD2edKlU1x6C7I2Byy1YAwVwtMeggIpqITAWSsyQo6Dn6reed8T391DkTKIiW5EkG/jn6KPs6zhj31jPYgU/bx6Xqt60AyErkAMd+xjPJL8AVkxKKOALGDj7BboAZIIshOrN33l5Fy2CAlz85i3fxrXuLDIz6uzXnvkeAJAfdf89SOCJLAJb/spMEBfT5j+ViwEtu8beHdDf2mrPVI51fy/mICz9uZSVdiDXL+WcXlPwPqVLIs7/kqGvHPyReCdzYgJ9+6ArxE1eIGZ3y7TXzPOsaMvNnfiTxsGndI8Uc2eGjz2H53nGROnPTYEEM6EIOkJxhnSIBaRDfyJZEnS6OxLZ7ja3TrzC0fG47jviRbxSCtnsh3g779eGtgyx0gdjBP3EU+ZIf7H8v6e/Vy9J9SK4cyXflZ/pB6my3sEJ3xpjZnW74KyzxepTHNXAFYTJ2eqEje2hf9apXTRjDjggofGFXq6ow4ki+ghNIpS1MuAl9h2NsAGcb19hyJbxDyK1UaLLJY23T4GeeYe807Da3ca699jkSpumk2aN4J4OiA16mN6/ZwUFWhyYVjmXl1r1shpCTV2NLYw02NdbZZ/lBl1QRwhbwjo74jxVdjS1kXi7Zw7XgpZj0OyUckn4Vy8b0vPKJ2FLA8ZfiqTPb4DRyBlyWM9hMYUBvGko9J/0cJr8exMkBHGNK2pSkwmScAIhz+HHBka4I4SmDsoA6wqsb5s/oqI5U+RwZ+FsisKxtD809u7+c1pwkYaBmszUDSoKcFggiEcivXxlL5sgvfd2j8wsYgIqk4t8j6jKomnXNAK2DfjgxAAY+ElQOcfZZ8CJE5qoIkPAQF8kZ0ER+kR/XXgKPM+WyhKYLrUAyPgDRNVJt6gpIxhE/MgGiM8e/9izjI5t0hCAgCvcgvyVowAU4VdTIkm4VgKYL++TFDtupzHVLrA5ZXm7pif7Ih3y0p5wPBgrwNQAAIABJREFUbrGja/kIvTuAraVOY9n7h+hJ2Dpj4hvwInp0BAx1SZCQa3rd8h186cj2/MEPPPyQDDBLOOMPZegB3uhcmMuW8a5d61mIr+fCsoppgO49DAT8Vt7oSZzTj0MnRBHsOgXVtXHO+m5ud77ApnyaX0na/IVv8zXdaUlz7/i6vgiRJKzj3VYzvoLgSdQKAo0AWyJ0jOQO9t07pvvMk08YG6HkD/IQjIvssZ1rwhIx5DWsk7QVkuSLdMFDPnQWEW1++bBcJM7laGRSLIlj23X4iMLKFpQ5Seg5t850AlfMEVFBFGGLTjadjM/lF94X93RjbLrRpW/7CpIZh0CKjzZryKeDiGRrVHk2/WcHZ77jc/6joQXbFDLmJM+LPaRXjNEhgoyHIL/jHOf6kpP5ISxDYJE8+Os+HKJcM38GmWEAzgAH+JtiF+bI41YX/GhyPt5Z79mGDXXnrawYk474qxyq6LRaZ0UV99g6LrtrLsB0xJU+YZnmhtyTPuIS/Ivf+C7/UUS4XnEAl+M4GhXk5ovFQfLtJr8c3UEwyhE4yK2N4oCgXyJzIBUuBq7qBjruS4AtZ8JTkk4isgs8kTtjmrg/zcFpOaXJ6xCpsAS9cVLiljHn1156BgdmfN0xwaIQECgMq6pBrpBzoCNp+44x588/4z1ZBDh5zF/nA+BJPIJV4NKPLhaCjHCdMe78GdmZztjOnHVIOCNZBI8DIaaje+ljLpdtGGxg/ogvHxXAAoTedMoc/EziBkzAev6cs9/TE9shCvZ86U4jvw56ArCIoevS7V4ZkAbk1g8RESdVs+0wCiJjSw669WxWohLjumdIKdCTOOnPMrYkh1QgoXOQuSRjc6DfukS6msZBIiwlI3YSkE6wLRcRBTYTT2ShL3rreZfGW/O5eCULzPBMQMsvHZKfuNbJs/wpgQFrCRPuIJuWNSWrNWNduiaMoUey8ENxLFkiL0DbQT/2uio62JGeLMmKcTJJkH5Rj3Tq+jXeGXpKxp7p7LnzZ/MdSQpJ1ByAyQgNHNQkgAdsbq7ze8dn9/w+a3y+YsXB3CVme9M1X9gC6RU3fEZCFO/8yCol28pFa321cTuTla/wCdt+JGs2aA+z68jo+Q6vO/i72LK3E4kgn5xFVuSdP++VK/mc02e6QizZQN6Un/msJpECSUEL+5Acvt494/PWvKZTGMBnPVPu0cGD7+aUTJ5ljLCl18bGI+CzzivsIycSo/OL/K6R49I1dK8QVFzr2MKvdE//cEUBwl+sqogdpJWPyZNxj/Io2XQb+RSCemlcn9s6wD/5pdiUk60a0DsOla+MOup5CkTNB7iswBVHNfjiP0v3df+tM/1fuh/BhIcamJp7VlNwOvqSx83fSrf8aQWcTS89a0kOORY+6NYi9Oam247Qp9Oe19lzkllhxTb0ax83+fAbNvIsHWA8x/Xj+LvJ7/gQgwssQATMkBkJVZfTZCRJgW7ptD8lNU5ifNal1wQXWIBBC1sAS9KqZ4nIxAVxBM/EOZlulqrg0nO3fk4OBwMXuJ4BCFWsOkO6voJFR1UwC1iyAl8HIiyp+W7r+Guur/K2fKazAjToi1MI1ipWAY60kGXNc7dcQ0ejjb2mD/t6yCL4BY/jsckv8APKiELkxRIYYkFflpgcup+SG7nZesv8914riPlO5BdRuAf5RaIlYF0D23HMH2kAzroTOoyKJ0uEzUWMW82wh7MuG8DaS357LnKEiCuOJUqvgSFSBDP4r/30Era4LlnpHtpr137jnnfkjBSJGwlJB449IsCSuv1v9tTDMwSuDrizjgxAPUpcihvPMR68UzBKMDAOwZKE2cah2wL/JCf2RKiAv1hnJxjIlkf0snSvGCdjOOj90nVwru61pMmnFU+2wyEXcNM1zXvpGfPPulaRqiCRb2xzE9OaL4o5JEb+MZ44R3aQYmSBziTdvYWK8SO/iBlcR+Z15sTWXN7xvXv5GJ9+DPLb2EiM4lVs0xedIH9WIuUkhBDmIWJb7dEYYhlRg2Ewlh2QRzhKX56bvyxhqs8QcPh3L/Lr+fQgfnV/wxNncazpABPFm6YaTNIEYFf450e5ChbywT+Fjz238DE9LJ3FqDHZXPdUsSau6R25lGforzjKx+nE6pYCFt7xYXLiOl6T58y/vGB8Y3YoGMQvXfgxNhymI/PAsXSyNSJ8ZyUOT1ua/6XP+AX9wis65ZMKSsUkfDO+e+kjnYzP4lOwWVNC8xGvEfdyhW4yX8JL02v3Hia/hAGAEoTEYUlA5xOhIQQBVCiUozKQ1Ex2LkgCXTq7HnG238PzgZyEzRASkYnY4IzgGQ+pYhzbDSwXXHru1s/N11w5KpDofgaQKCVNyRsAAJv/x95dxlxzlH0A5yPJSwju7sE1DRrcrZAgJSkOwSEQgkuLuzspbsWtuIZCixWXoMHdXfbNb5N/M+xzZGX2PHd774fJ7Dlnd+aaS//XNXPOcY+zYNZPUX3BgPNlKJQrz9fs8YoC4hcnq0LEATFmikq58IfzoyypjNegAX+smZxV6emG9zTrVdEjP4HoYIFfdNmidFBegKSjnKBEyrmjHAFgzIIBsGwdNfizaQw84mQAHrLiYOYCvwIAoO+Hy/PlMo6MbrArOyv0Nolj5CdRUoHID6ADM8C5owBDK794YVy2AFDbAuSkVDIFAXoEpNBf28S+Cc+2yQtf2DqbB+JD5yb+bvuM3VibLU4VFlVlwBM444QFIPrrfRVyAA7P+BnJnEDvvlp2bRxAV0ItIQGwBFrHdvgWNo5HmqDsCBPbCiBHmwqKbW3j4PU2Hmz73Bj4JCCxIwmKwKXwkSBVjuH+VGYUBdg94CAoARjAvIDp2aH0oUPQB+b8PJU4AFDSIVvkts5Vpeioih7dwRMxg06hH+9KevteoxV4tnZFHrpAJ+ijnSXxYNNY+MX30p25Kr/d+fkw9sSugSh6IkkSl/gBcckOAyCxjf7u2HktNlqbCqCdJMkXf2pHhI6aX1xaJ2vvuyfg1xEZoKhW5ZdNAbF8ujnEZXEI6OJX0OtojO1z1ULAV6JJVyTnABadTeyizwCs9bHJVevKe36nVvwHWumh2MM+7eiwaTzjf9h16UP4XMkrP2CHw3P8NHxlJ4P9SNQjg6k9+Vgvf6fxzzCbIgM/LZm2407n6a61oIW9ScD5wKy5Dy0Bv2yBvI3JZhU1rRuWKvlRjmken7mHH5BwkQm9lpjQG/IkN/eVdI0GvwbhsAjGwJyuow1x0jIcTCm3BG3bUqQxwA/hQBqDwmhZmqAt21YZUlH0hSDVK04OA5W8ZQ8cFHo5y5JxQ689z+EB4M64WA+DACQYvTmAFwFBQObsKYNqmkyPUDgYyjqVlk204xVHV87hPdmuLQAKQS7kgx5AddN4Qz4LkHHOmKxku4IBI+JQyQnvBL84kF1WfsMTSYFM1taWLBEtjoOEJvrl/fxtN8c2hA9j7iUzQIuTBAzYEJrmqPzSBU5MAsTxWzed4IBUgTg6gJI88Yz+aByj4AFoABbOZ6EP2BgDfvFJVUgAcPRE8OH0VHwFBA0YTsDm9Nk2vkjkBOsa4DfrU/Gnn2jhRwQaIJsNa64B3fAKqLINqdpIn8bIvftMHLTezoyxyQc95uJr8UTDH8AWYGdr5IA+cnQvvkp8AYruPGNe4xPASDfYN57QVQBg1Ry2u1VngVTbvIISu8I3uoe/QCDfkHWvoyu2m57fYp+On4gD4pDiAztCI77gCX0GoMyrSe74oQCxdfNteh+tYoGYJFCTDzsCbOwA8PFigjHii9GtWStQlSo9fU71ceqxB4kGnrNRcwBU+I9OVW7yA67EKAksfWZLGh4B8sDL2Iq4sXPsQSLCjoAQsY+c7NY4xw8swgIwRGzPNdDFjwCJ+GlXia6I+fR+6rGHyJQc4ALxmxwkT2wFIAKk6I97xHP84C8lTTAF2ydvukyXnLvHT+vwTOYo++iLXQoJEp2k+8YAuskdj8iDzUu+2bf7FfD4RffjBX0xv+KIz2CwbbZT0lJe5zlyM45CoWTZboAjU35FwXcd+H3rc79rtgffhB94Yh38M39FtvTAuOV8q66TMNEVMUUyxo7YKv8iTuGHGKCwSLdTIcdv2IK9+U4VHnkOfxQjPMsG0GLurNf1AeA3AixvCsERrAVhkqqIg/KCtEllkoSDCQSEIYIj5wgoInxddpQ51vXoUlnm5DgXc1hkFIZhMRDvMRpzUyQM46SMG/rXzdHnfYbhfA+hmFO2I9vAfMBFVQiYA/7wRSCi2KoCAgRllhn3mavvPVkXhbDdJMPWM0gOhbNlzIK6c5NAL/kIpt6r5VDoDGehSifwcnq+WMbQbc1YOwUnJ0YvQOONKmyUue+ap9yHToFPVok21TQ6KpAyPMAcbXRIdis7Z2BjA0KXVvOvsi/3SeQEBzLCI/ak52Q4ALsLkXf67vh9XqtgOk+bnYDYqzWTj2qNygcwCAhzIJ5RLab/7iFf97M5236SHI6MrfahwT3WAEgBQGwE/4Ei+qNx+jmOQRacmmZOclENYXc1di/YiaAsibeFDhDwJWkBCeant+an34IZPgke1rROtn15kufxBpi1CyDBIKMAAbzhgzTXkji842/pi3v55Gz5AYV95992Hxk7l2k+oI1uKnqoCtFPzwN8bFpiAoAKqOjES/xTDPA8uwMexugyUGIMybyjVMAvm6arkif+lnzoqjnxhc6yMX6KvLetdd3nZAQEAFB2jeiG3YgAAEA/1U72w3bS8ATYEhuiW+SFj8AhXzOGH2hFE1kDJgAkwCZmAlTAMLCHPyrfgAH+mxt/ABc6g69A9Lq1b3qf7eOruANcoAMuMH4a+xbD0QXgoQmP7LKpSAMtaKFb7iU/ciRf8Xcsb1bRzaeLk+KBOIju3IeX9MhRFoU1/offwS/gzGsJhB0XgCzPberFYdhJLIQbgmXogfXyp2yYTrNtdm0uiUnsmo5pdMiOm13oTXP2+YysJO/OzJobNjC3M75siu7SK7ICbIFf/k4RRAIgaUIfGaOVrMi0iy1WyY6vwHdHWvFSXFJZllTihx5uwQ9Hpdgv26LHaHJumr9mP+gWO9HuSJWYSb6rbH0w+EU8BycTUmYWqBk/Z2bRGuXQEG6rTiWHEWBYiOA8VjFinaDibFR6BEnghCKal4Fwaq4xnyMyN/DrnIyyunETVNbN0ed9a2egFN+6ZV8AnQqzRMC2OUDMKVNawqAcgrsD3La00VODlpJeTgeopnToAEA5FpU74J+icshoxjt84mBku7Ltcqyx19YkqAh2QEuUkAOmzJQWYOD0GQpa8IZucLa1ebJpHdbMcIALshE8bY84+uC8EV2iw0COoM2Qk0RtGnfqZ4CUoI0/dJis8AlNbI48w6f0Y+ZUDaIjgCWnEYfKpoB/OwRsGz22kQFevaMgghaayBcYY3uq1RIuchxi1+4Ffm0zsmsJpbVLavFez7G6FkRTITM3u1PVFKyT2Y/hRZ5hQ5wqm1DVTEAypxbwi0cqFLY/2bvgKOGspR+RK94ALQCsueNTyQc/2JHA4FoDXMiS3qCXD6JLdqrIO+uc2gO/drvoJLr4EdeSJdu2xncPf+/4DOAriPKZ4SW6VZYET1XrMTSRuyAHHKlQsWPVQXQABbaE8YCu4ImePqn6AiEC7pBEraSRjIAjwd1a6Ape0F02y88BTI76oUesTOMHgU4+Jvxgf/gjEVfkKecaco3vfJUjRGxbMyZdBSrQotjA74nLPg8NYpW1TAG/aMUbugskAdwS7PiXgCMyY7/kJPlBF3751Q62FZAJiAHx6AdE2dgQ/7KJd+ikA+SoWi4uA2KxPyAVfQAhO2Jv1mEN6AdcVV4lEuLeprnyGf9IvuxRQZCfTTw2LlnQC9iBrpIHvU08MD8/gD/0nQ+nyxl/bA83AIviNF8CxwHhjpfSV/IhJ/bMR8JVMAXe8NtwED+APs+mGGJXD03hafqSTphQU8Cgu2IJQAsbWLf4gh/ockxFnKYr9Bk9fIv58c3ceOYLk3AIDAQXrbLzjeAXoRQtykZwgozzMgwIEcrjjIYAU6WKoLyWGQGGmJUtVAs35ipGlEwpr92rasyoZUwMqnT+FiwgBwgLEBgC4KhAZM5yzDHXFJcyCDSEIjATEmYzEI7Ga4orEKED6BSAbOcAXfg4Zu51z+ANpwB8yOYZpModZ8sBMWJnghgrBSEfRkahBKZalWh0cCLALB4wBjJSAefsZW0cPH1hvHjkfdX5Milat86a79NFoItMfOEAzQAe56vKQK4CJp0SQDleVYchOtult3yWk6UH6JC5a3hHfgI5/phfjxbBVNZt16UcpztH39eAiUoL58aRmyfginwEIJ9xzr4co0Kup8t0nENm35wdWxDkVKzK4NGHFn6AgwR+BUPg15jGpz9o4dD4F3orQOAL+6fnKihsskYAwFc8EVRUVYBtNqyxFa/5F05YNdZuhmoJueBnLbuOfPFG0MF78olfxQ/8wRPXeKThF5ngER4CDYKTyo0KZR959Lknld+AX3OyZWey8S+2ZSfA1jdeCVpsCW1AokoO3eJ/+GjzZt19aHAPkMY2yUPlmW4CdM5F8jU+Izd6zVcL5mKCADsF+IZWPpc/59/wn4zIRK/wIiiLkegBKtLQmCQPbZGXJBtPUqzpy4fch3/swPrsQKZAI0GgC/RIjGLHtvolB2VCgnb+eir4DT38pYoqXxJgwnbpJrkA3uSEJo3NqeDxR+ELv0d/+Afr4v+CRzLP2N444o7qL2xBr+EbvpgMHClCH5nAOew/dImlklLFAXG3b+LLP8IjfJZdNPrPFtgQvdHi9/Es8Tq27zPN+2Rs932q38GHAF++na2Yg72K4/SGDpOR78lIMFVU4Qo4EI/Ecb7Rc9YCKKON/Mmnj23jv1jAn/rumCJi/Jwx+Td2ZS5HK+gwmuzYipF4pEmYFDAc13C8kT9aNf9G8ItoiJmCUAgAljOVhXEinAmFoMwRmmvASibMOQoOwDICCD6KOkaBPSPIWBRUD1ASAkbpzQUc62UyMggZmecsfhX6Dz19e+Op4ALbHB5mEwpF4YQZtcAMQFEYxpEvVwA3AXl95+tzHweMF87vcsTZNlF1p5iUhAFTTnIiH3LjhNFG6frMs+0ePOY8yEPlt+RPQAMHm2AkOAkQnG3GHqMXeXZITxc5PfSSKUdNtwRslXPVTYGAfNFuez1nx4fMs+peeigp4Vw5dQAB6AbmyIwzTEBk/LZ7ZNe21ro6vMqoV83Zfc/a7WKwI0dfBOPoBwdmXjoieQNu8UJPz71Pj9g6WbJz66Hf5hlCE3kH/Foj/QWOjI0OzXVAE8csOOIX/pGdtZS+pbvWvq/jXwRZIC7+hW+Jn+FfVFuAbtVP1YpUjKK7NWhBs/FyBtw3wzl4QSB8xxP8T0Bm196js+4VgAQSyS1QFLmk78uX7n0Bv+zXnOY3Jz2QwNBjAVPwost0h9zQTp6OcAA+/BV+JvkeShe/IdDxucanm/wyPyxhia9BG90CzlWKyGvoXF0eeJ6cgSa6kd0C+muNAZKSArJgO2no4xvDOzJjT4K63Zbo0RgagTA+zC4N26Ur4hPbzvx4hC7voSN6lKrZWPAbevWaWIc/KnTAI/3gV9CkuSYzdOEJeskRL9CkAcOOIamgx/+GP12ZDH2NRmPxIbbG7SLhP0DF/yvcRZ/0iZ14BgM46ugoJ55vsvnwJfR5zWeJ28CZeOm8quSHb41exLbxKjxxLb4DqWgWvzLu2J6cYAEJJHBpLnPTYSCbrpAPO6bLYjt84xnHOx3VSVErNPM9fGQf8EsGeKLhI/sUi2E4O7F0QkzAFz6E3tIb9JALGr2PbraOPhhQkqGtk82J4JcTEfQDdjESMQIuJjMoFU+LFijjXKIQCNNMHuJkmM5lEBBhjxVOaNFbTCoLKk0MVV8276GZchFsLWPBG0GEs1MVE5BktTIPTTao52htoxMABbA9UCtAd3lIRoKw7WiKgv+cL4fHkABxxkJpvU9enA6QxYDxqQuounMMeU3WqqQMwxzmYkTooqCCA+Xk6GXOkqkaBjyERvfSCc3aGYfGUcvI6SywS74CAuNSgVMpxu+hc+X+6KFMXbVZ5VBlA0/YH7sSyM2XbVTOiIMRAOh9xqrRWzPnTZ85eiDb3IIOW04A4tASsOKI9WQqYKnMdCufWesmOvES/wFIzhIId96Pb7F+LT6FAxQc2J3KOMfIztlV5poim9CpssRe+b1NvkWyJOilghgaMk6tnm1ILPgTMhJo8CLy0WuREbvnh1RB6TE68WhqdahcDx/Mb9DdBEo0oAuQocuCoWv0BPSGVu+hT9XIl9IUVvrwrxvE+Hc8EbTpDN2Nr9GzJ5UrdszPSFrwpFzLlGu6K74AMICTLzcD//wu+yAT/Elgdq2xG7bFH6MbnyQDqmqOI4SmMfpsC1+Rir9im5knvj92iwa0eJ9cnFf2GpgQS6fGa2sgU2tQAcR/hRigrQRK4UdoQR96AEy+T1IBPJfnycOfsX3iHdokcvgFyNotFZvoDZ9MLtlZoU94BYTRM/JW8ZXw8wFjaGGTgJ74bcfPzgD9QQNfZ07yoz9kKZGkz/yt7xWhnZyynjE0eMbzfC/cQg/NZ974FK+16A77FacUIeALdu+96JLn6F8JfofSBmexK3pjh8I8aIgPob/ooTfRIcmVoqwdBIWRbT7lAPArwDqXqiTvvBmwSxHKjM0iMzHjxTTVRQHaj2j78gcnUxrvNkKGMudg3289adapeU2RdrlW8wrSziFLNgQCW4y2uTTn6mTdgo3kRQbN0MkY2JuDj+GLio5veQNXtmjyU3eC56751F1nZNZ9XzADfCR7ziPSbw1/8dlz3WeGvDa+c0iOyQBy5MPGyEr271rjBCUQdjlURmsD35JmoAKwt2YJm/klcXRJAx40eiXZQysw5pgIXaq1c0BvgE87RZwnQKyChSbnnVNhpTulHMrrcl1Dro1h/iljTXl2G61kJCAAs47q5PwoPmkqmqr4drsCyreNOeVzMgBqJN18PxDqbL+ktmzxPSrBvq9BnpJjwNV6uoB2KE18GMAn0EqI+Bh6yeewV3MMHXPs/fTTVjD5CNrWHhuKP9YL5o7WOBfpyJdz0tk1GTt3ngOG+F1j+pMJoCnxOskkAJfkUi+2q6LZSlaN52vGArrQoY9NJR7yfQAf0GhXhS5o9FdPp8mOLgOXdKQcr/a1ddpZATZVEoEouCYNAASyAGCVT1VoRy7R6Kw3v8cOatBlHLagp0fGl6zhDUzlWBmQLBnGR/fib435jWNcVVo7RfQyYFwl3NlkiR19Fq/EAS12ntiQOAF85igY25zKHzYOr9AZuiEuJDbkGl6VkJNpeLNt3gPAL+fqm32Aku0riiFTYyCQt4xMk/0ABdA2RjkHgmm2DBle91t+2wiZ+jkBalPH6ft8AF4M29wJnum9RzlDW+7tO0ef+4ytcubMar4sZdsmjbFyaM5dAzfO16kkkXOUpIYBhdZyjZyDb4Vzds4c+1IQYzBv7tdbQ/l6F9eRSeYK3cCXAAbUMW66bieDE2JcU2kVnGypkwsZ5TxVzgNKYDTgktNRheGYalRistb05VoEXyCbjtjy69KDVsd4AB297WoghmzRVo6V8Yf0kQfdUHnlPOmqXgUAkCl5kPuHzNH33tiv+zNP+ozRfZ335+rRJOgJBPSTj+ZrwyNBnCx8kQZwiT7PRSefQTcFaEUSx3foLX2mI9Efei4+qGgChegWZMuqVWgdwzs8YbN0l57gA53xzXEVZZ+X4+JH+XrKdaknxsF3W+j8K/+hmoYfsXF2oznm5FvtfCK6c3RnCi15lv3grTElQ+Kzypx4zZeJ43qVOr2mgmdHQYwQw9lZl28Zf0wf+SbeoM2OE/0VE9LosvfIjx4DgeV8NWVnXLFIoq2amqMoqq3AroZXMI5tf/wRR+2OA02eBeSztpLOMdelneJ9Kp94Qpcd+eCjFY7GjL/tGWuxJoUfeulLvHZmAG+7M/kJSGfYgy0Sq/T0Ou/7kmAKNsbdNnc+X8dL/IBX2DddoR/6+D88ok/s3Xx99eQA8Gvb10+xyBqdx6QYtkNtZTESWwK2I7z2vi1ZDPKNXc95HvrmkCzKgmqCqzCq7Psutnxm6rU5rW2dwMrx+9xT3j/kGh0UQ5nf2SEVSomLYKPZMrKFzxFSDgbEsIYo5RB6ynvJXRVKY1hlVjYnT0oahl4DF4xMtZF+S/hsY6pc58zZ0DFzvzXjuypV5ERWZOQIij5yE4RUzckLTRmjdh85xOGqtqjAADSapDY0odV7aOc4BCiBLGOMoY3+du1X8LXuNLqzywqe9UxZ0xg+9H0mNhVbxiPXeAQsAD4Zq8vXvF+jxx9z2ZkA9FRaVcQEzOg0fVaZUZG1ba1yRV/I0jrC4yl0GgOoYlfWjw9pSQLmjj/4GT1GB75I+lWp2I+GJ2n4JFFJnEyV1VrCk7EyCj+MCRyoMovVtswdfxO7xXGvFbW8Z8fJ+WyJjApj1jOWhnXPk5PP0EZG0d30kvy8r+eTrCf6UV5PoS3PikvkYAfOET3YJrzR45UY4HgP/iiA8N2KTXxUwHzGm9JnbVmrsdCHN/rgqTl1Gb/FGryXFEhW6QMgy9fTZzqceCBmaaV+ey1u0W22EJn34Q0e5D58yLPed82+8YOe6DXzaD4jk/CxHCfX3f5/wK8Ab+Eyc85KdcdCLThGnF4QZMRlgLZYRCOgXEh30uX1KU4Ucg1e4DWl7Tp/sqQYep9FMUoDqzH/tjHMF73Y9dzbaCs/xx9OJudgbeNwiLYuVUTxsrx/7DVZcWibmgAqy981v/AAXdGdOJf0+Yyj4Yjnos+4aWjSxvL75PhcwGN4pD8YfOLz6Sn/Uuoz/RGc4nvcI7iGzjlkUvIi13PMs21McwvW+BH/2+UNXmwbZ+znWTueK3ok0RYrdcLNAAAgAElEQVSzA1zEca81oDdnaj0zdt4hz6Ex/iP0dvsh4425lx92RATugWXstOFHMA5eOY6hEKG4B/SKD2SL1jFzDnmm5MeQ56bcmzklKPhjvfxKmbDEtqPTXue92Hv4U9Nvh7ZVvXkyZ9/1HwB+LRaytnWjtCyzd35X8O82W1iy+Tmzkb4L2c/3lUJPAEy/n/kydO34SP9t5zqa4DdcfQnFtq0vdPls6Jjl/ZFJDHWVEee98rldXHdpK1+X16Gl1Lm8t/R1k9q9zk96UdIY3S11I7pTvldel8/Xvt7VPNvoxgO0pOX+uejLPOa1iyWGi92qeL7clea1Jtl3rEgiE3mF5tB6cuxTTcxRmfAnOAefbLE7BuCoURKDgPaTI0/KNdEjPPKeazrhWp9ENu+XelOOsZevDwC/EL6qk6105z+c3V3XZEK2sfbyAhfa9mZAZjR7UTYqmjn35Msztrps6apixRFMpXuvrr3PuuLk+ty73LM3bW8XcqHjaXQm1+Y+Kev/UN4dDHspee3nDMVvybtjW/o0r21pu4d/SxEr8hq61pPa/fgE7+TXXcKf4B18gnHEAzin9P/7QYdLPSLb6LI+urJK5t3nVt2zF947Efw636L8T8AWZoFjCQxz9GFE3hs75vLc/g2kB0P2bKBsB4OGzMl2NK9Lp+s67+feGn05h/HiD7rv15ir1hho20v07TV6avF5GWfxw7vQgU1+bb/ZVtev8cclEN+FPPb6HNGJMlZuo3kW8Ltq0q4AV92zH96LcCgwnmwy8v3Aj2WNey+YnlR1cvExe0+XFvteZDJWBxIr0x9s+y7nT+wu3xu7zm3PrZsjxRnPu2fdfdvG36+fzwJ+u5WiRTCLA9yvBlZj3bGnVWPN4fC6Ywo+3kuPDtel811F2358D0+6/NuPfFjWvPj8KTrAv6x6nm3t0u+YL/acfhVdc77XnTe+15wlfXPSsBfHxodST/Ci+94mumcBvxHKpqC9iag5P4uypJ9zrnJsvLBVYV7XPktf3rdcL0GjqwPR1eiOvnvPnK8zb3SYHpdOZ865N42NnrJtundXn4VH6fcKr3a1/mWe6f6rtPf9yE/rD4hZ1ePJLnxgfFxJT/yNz3ZBQ9ZqrrTwJK/dg679pivWjxe+fBdsFX714cUs4Ne3Iv3khcP0foPS7zrulSAQhUnfh0k17vGFAl8swBN/luAnVvLt0RrjL2NMDzolD+Ng0pefHaxrP5vkd7T9xEzt35lctaY4F7bsSx++EJKGBr9+MedPNq2iKe/5okr4wa78Qs1eCAC+GJMvGOn9bjJehe6lr2unJ0d+JjbpT47r27amfAnNv06WjT2xLz552xi1Podb8tOU5he/taG/YTuFnugD/4YWX9ALLb6Ut1+xBF6ITfCU+ARP0Z2++nEA+MVgD481PAQIRH4U2V/O+fcNASA/QDxFCYY+aw19GTF07HX3r+Obn4275jWv2f5TCr74ORW/pzw3eCjpWQUOys93zSs8LOdfx9OD9T5+aKv4tkuaQoe/eKRDfpYowHNOmZEN529eP/12q1vdqv3nn1vf+tbtT//4RZj8+cScdITX5Rzm9RNN6NL8oH+SyfArz83Vd3WXM/bzj/jk71n9Brq/ZfaPl3PQYP7IaNX4JX3l9ap753yvlNuc83THPljzdukY+zoy0+d67Fjlc+FLep+V4+e6/Lx8fq7rzCdZFB/Zj+bf8NiU3yL2s2MADr80Fx3GDS1s2m9YS/r9o6XfTfabvxJudMxJQ+hAS4AvLOUPrfzjGt7o/VSbn5x1f81YFT1YtUafbfp81TNT34tMjCP5wAt/xuHf6MQAr/1SWV+6qoBfhAC3ekrqf6D9xaW/CvSXgJRWoCyJn8qIdc9n4RGOf3DxKxb++lfzDyT+kUhGiVHrxpn6PsOwZr+z6J9RPvCBD7T/lufvEv1t4qte9apWaGiYmy/hiUoZ8OQ/sv3wuR/z9neN/pkv1fmp6+77PCMF/KM3dAfPahpvX1rK+0IXWgBM9Glo3TVt5uN8VTs4tze+8Y3tXy779znZP/oi23INNa5jP+agJ5/4xCdavfVXqT/60Y/af+7yO5iqIHPRsGoddJiTk0C+6U1var7whS+0/zf/3Oc+t31/1TNzvWfd9ELw4ff4l4985CPtX6L+8Ic/bL7zne80n/vc59o/CZqDhvBdnyoIefiJPn9M5Af7/Ui/oJ3giI65/A19NTZ95WP9s6Q/DsifB+gVQ1K9C/1z8KYck4zM6x+r/Atm/shA769YH/rQh7Y/aSipnIs3JT3WbR4yEx9ucIMbtDEKfx72sIe14Iq86Poc9MTH+Rc6QA4PzE1n6IviVUnvnNdo0fhYu8T+yhcN/nHNXzCLlXDEb3/72/Zf6R7/+Me3cZtM56CLbKKXADZwiS/+utc/4qHH3x2LmfwQ2uegw5ihgx7wtYoOT33qU9u/rOZb/AUzPHHUUUe1uKZ8phZN/D9g6Sc/6YlYwNdd4xrXaJOCWvP0GQev8UQfH/P0pz+9/etu/8J3k5vcpK0Ch2/bxpwMfinI9a53vTYjwqD3vOc97f9gU5C///3vjaDEwJTm+xK1jeg+nzMODPJ/5QLQT37yk7Z961vfav+DHghEk7FqOpisURVK9VumSDCU1NyvfOUrm2c/+9nNYYcd1v6JCOXqs54p92R9/rzhEY94RPO2t72tdSQ/+MEPWkPyv9wqVhKCKfP0eZa+cPrm8qPiQEz+Q5yj8X7o7TNerXvIzRaKCr1kDYAQHCUJ/qbV+46u1Jqvzzh45X/VgYgjjzyy/avN1772tW0Cg1afz8GrckxJAKfizz4Aun/84x/NX//611ZmHCCdsha09FnTlHvMwWEB/+985zubX/7ylw0wDpjT4djzruihM5I2gOrlL395+9eoaPrzn//c/OEPf2jp8/exgMWUdW97VjAAGvgUOuuva7/3ve+1je9TgAD84pu2jTf2c3Sw7UMPPbQ55phjmhNOOKHhY77//e+3TdIk2aYzpe6W+jZ27lXPmUMcwBv6+453vKONTej57ne/29LEL6PruOOOa21tF3pMDqqb/ir3RS96UavL/kYXHfT5BS94QSsvW9pz0ENGkucnPelJrZzMq4lP9EUSAIzOJZdSVuzHfP5NVhKCH5/5zGdasMuG/vSnPzV//OMfWyBMfv4q2zO7oE1VUaz87Gc/2+oxOv75z3+2dn3ta1+7/Q1gOl+up/a1dYpHz3/+85u3vvWtLQD//e9/3/IEPfzNa17zmtbH1LZvvl8iRE+OP/74FsOwHYU7OAL4r73eTePhBXuQDChqHnHEEW1R8Xe/+13ra8QpyX9f3TgA/BqcQPsMgNkMCfomgPe9732tUwE0f/azn7VZ0lOe8pS28rAr8Ism9HMutmvf9a53tU4OPQyccT/nOc9pMynnJzG7z1q3CaX83HiAkn/W8d/2/iJXEBCkBUpA05mdISX6cvyh13iCJlUGgfBDH/pQC2R+85vftMbjv939xaV/8jP2VH5soo/j8sPhQC9n94Y3vKEFdZwMXZHhzpXVb6KLs7c9fec737lN2N7//ve3iYGg+KlPfaqtlpPZpjFqfUZ/0SOBUgl6xSte0doW/WHwgsUcQXEV/XTHVqOM/ytf+Urzl7/8pQV397nPfdrkJQmT+1Y9X+O9jM0ZC34SaoFaYJRks3G6YyuyxnzlGJk773mN9/wL/wHI+RtUgenHP/5xw6ZUZNg7EOqvsVWy8nytPnSxFX4EqPRPhOxJQAwdfr8dv4DfWnN3xwktEnnn71TnBElATsVO5U4TrBVI2BlZdseZ+jp+i3z4GfogQOONHQKAl4zQgkdiguoieX3xi1+cHfzik2YbXWxi21/60pdautBBZvglkQJ4BPIadh754C8Z0Vu+nm5++9vfboApQFNV8+tf/3qr03PIZ5V8gStJAP/Pz5qfXNCDH/iiygl8AVyOOpXrWTXmlPeMzf/SHzGRf8EXcgGy0CWhdSwDppmDT2hIQ4vkWYzmf+kqGsiMD2Tfimnsaipf8nx6uiLmvfSlL231JLb8lre8pXnsYx+784ImueI3vtvNojNkgS47BWxmSMI4GvxyNAgR/ARlRkRJVD0oCQfD4djyt+UEDMY5TVHOdc9GYGgSDFRdnbvDHA6Pc/voRz/aVgD8V7fPVc+Ml2fXjb3t/e7zDMffQwN4timAbk6OsADinJPMuN3n837NnhN1RsjWOVrIB3hQxcMbAdr2Rs05V40lIHEcQPjb3/72NpP929/+1vZvfvObWwU+GOAXXc6WvexlLztxy02VE48YF4BDpnPqcPhFVoI2HT366KPbhE0AUE3rbkvuQnckJJydwERWAHDAL7CD7jnpyNiSAUcL6A0fo7HpZzzjGW2lXkUgPJyjRwf5A752Auxopeprd4dNBfiqUr361a9uCwMc9Vz0AA+SIXorYVNt5YPpbXwwW7O1PgcNGRNvJAKOOyiCALpoSI8m9mQXZS7wixbySWWTP7PzJniTC1rQoSnQAMPsSv/JT36yBWHARtY0Ry+pdUyG/dBjQIYPZlfRn+c973ntWXHnTGvTA1ADvvyIBA2IMj+bxhOxQUxHZ+xuDj5kTPSQEZAJ7JINelyjD6ixy2NnhzzZXp6t3Vuv2CM5UaABKukMetAlYbJToHjk747RUiM5WbcOsgdA7QQAueRDTuyK7+Nf7GjAM84BT41NXXkDmQCiuANDmZe+KDaoBotR3WfWraXW+7CTmAPbSd4kR2j74Ac/2Po4cuvLh0ngF3h05IFQKGsCErAA8FEemZqzPLWNuMtMC9YsXoXTOV9OBGNsKal+OO/L8aKHg5yDJsbgm4eAlKAjY8Mbx0HQgDZ8ozTmn1t5zAGMW7MgAMBIUsiKYWscDH45CoKvfZWnK4M+r20lSYhsbXEk6OBYAHBb+oACx9tnrBr3WKv56LEtN9k1nUEXp8fYOT1BW3CfW14AnuM69MdxEEmlSojAaHfF4f7yTN7c9NAdZ96cWU9wwhPBUxIj064hhz5jWDcbcq4WaFBdVO10XMY22FyBiI6EzwKjbXTHUABctoMONoUvwBRH7Fw9wOneuQI2XSEDOmF3ic+lq7FruqMize/ZbQqPa9o3nrMf/kUQpqPiQWIB0El3xQSB+773ve/s4FdQdqQKLccee2y7yxV69HgkWSE/xQAgQqwiq8g5vKrV45MmyX7Uox7V+jvgroybXvM/bOuQQw5p760RoyJvve16R7kUYsxNZ+kL+UicAB001ph3G+/wA2jDD0eq6Ap6NLxgR4985CNbvVLV28XuMd+L987X2iXGFzqDVwpp+KMSC5TSlbn0Be/Yt0Tk9a9/fXuEKbaNJjEBeFOQkfQrLtakxViSNL6DbFJtNrek7XGPe9zOjz3gCb5LmMTHj33sY63fJSfYRlJnVyP6vk3/RoNfiktRVD8whGPTKLAmk1MtAwQBTcyc26BkbcC2c5K23jg3W28yNQHcWTQB1H1oqaksYbSxCecOd7hDm5XZysEflRnn8VRpwo88M2dPTirhkgIAXIBkyBxeKjMChDNXAgZa5uBL1ihY44MKg6yNY+HsJCiCkOx+F+A3uminADgRuN/73ve2gZu80JWgANgAvzLOOXmDRxyZrSbAV0UTEMcf9AB++AOAhZ9z0JMx9ZyNL7ACeRwgnaE/ttlUhFWnQsvcPb6ohNMVtAhGgqOzx+xqrvk50/CEc5WgObvvLKCztQF3/J73fMaWfKFori/60l8Bz24Oe4pd0116iz9ooTMqa2ipzR98oR/owH+7AwKSuTU6CwgL1AL3LsCvNTpSALygJfJBSxpgBfQ6ruc7Ib7IIyGX3NbmUcYjL75GPFQUYdf0hm3jld4xGYkdoOcLb7V2S6O7erpr90RMNGca+QCbvqhuXnEjtM/Vi4PijspmEia6iyaVTsUIFT4gRVwHBueixbhiN7Bp98IxL3oS28YfBRv8cba+L8CaQq9YYKcY4FYoQkuqr2wKT2AweoX2KXN1n7U+v6DjqIm1k4n5xUJfNBYTnBvvPjf3a/5GzOH3VH7RI26jx04p3Y2+b6NlFPjFGJPY+sMcCqt6RzC2kDhdDJozIHUXFsV1joqCyqABXxm+LSa0UJTuc7VfA0jO1zlXzPmqvjg3qqoqABFe7TnL8WKUekpgm4CyAJ3AZgAdh+u1JEWFBICQRZZj1bxGjyoiEGk+2SRa6IzmG6ucMoM2b18FHktjxicvP0dl+xyoY+TZelP5RRtQk8pv+Dt23jyX+dPnfbT4gpujRKp5wAxHJ1lQ4aTDAe55pkbfpQPABvTohDNe9AQvVDYFAfqMdyp+tXjSXUdo0mu+YS0IkBP9AYQltEBLTdvOevA512gTZJwJB5xCB/nwM0DWu9/97vZ8Kd6wc/fPISu0GJ8/AeBsQwJ2dJdNCVb8DnsSwFTM4nfwsVxTl+fbXndlojqkCqPQAbCwFb6FfOiJiioQg2d2nYBMwK7kS3m9bf4+nwO+5hUY8YXe0hkyU90E0hVIbF3TcTtx9L0m4AufSnolRHYEBGtywie+RvPacRFxg5+szRMyN6ZdAlW7JLNo4Gf4P7qNL+5bRX+5linXaFHgUGl3pCGVRXKiw5LaJzzhCa18AGT3zk0T2dMFft7xOzGb7gDlQLAzxwCx88kKaNag4dNcvGJbvsvAvyRWkhcf7JgO8Nk9QjlFLuWzfBdMYIeL7eCD5Ehi7wy9Xa25drRKOspr/EaXIohYKFGEYegKWukKOUY26TMGOXkvr3uD3whYb9Em84UllU0Oj4Jwfs985jNbBUJcbQMO0at6gdj5O1UhtGAKR5efhULLLugBfJ/4xCe2dOALA1J94WB3UdHEm8iKIjhmIEsSnDgWDoazZVAcjwBp60lWXdP5d2UkObGdRD7AXAK1Ho/ICUAvq5pZS9bTHXPsa+MJMJwYh+8LZfiSYCTDtZUt47ZtrDm/bYu/Ji3lWK7Zle1IjhZP0COJA25UgX1ePhP+jOVD97mMTVYcg0CtMsaW0CIgqFrZusY/+qLlue54NV7TBzspdMPcKpwSbAkuBwx8JzBybGipRY9xrA/fOVx2ZJeEXdNbwFdzJMTxC3bEOWs11r5uDOv0JURByLEqFcPoriAJhPPDgrk1lA5/3Zhj3mcP9MOX7MQBNGjs21lESZwAbdcJvX5BhRwlKrVkFLr5L0m+4y85GiNoo0diYlfJ9y/sWATo1qYhtOjxnO6o/KsmAnoKQvhUVvAAP9+NcV4bbb6xXo5T8xp/+BH+BMDkY9iTZMAXScklMWpO3hibTQOaZMP3SkwUzfhaxwokJvhXc/3rxkIP4EQ37Y4msUWXBA4Y9kVjPiC+Zt1YU9+nN+TkeCQ+mJ+cJLO299EHd0li3DsHPcZV9IANxCM6Qjb8n4TbTjIf576p6x3yPDnRUUVXvk8CB+vxK4pm6HGP1mfc3uA3C7VowgEaHEL323cMGHMIRsA0KOVFgOfybB+Cxt6jwsERYwbn65uQBAdwCdRjxx3ynHXaMhF4gBZKq8neVF58TjC74Ae6ZYWSENuiZBXwa/uRMaHLGTCVoRhRX8UZwhf3Wr8tLIYkIHEsAjX+CAa2ZsmQYQ0de+j91mjNDEbWKKP1hRP0CJgya1V7+uT4gcRB1RGYmEN2xoxdOftsSxR/yAuQedazntUGxl0FAzKQjOCN6iq+oEXwdjzE0Qv6oqFpDrBHRsZX1TWfs2cyfRVoIFxgUEGk43RL8GLnWgL4UL3o3m9tklaJNTsBHKK/4Qnd9e18x5x2df4ZX1Rb+RkgBk3oYdd628gSFLtz+JKKSHd9Y1+TjaaS6WeP7FKgQ1LNtl3nTLj76LcEgr2xO/SMnbv7nPG95zgBenxDXxWTnvAt9FbCAljaJfDl63VjdN+f+poeAuOSIvbU/dKSCr0Knu86qMY6l524OXXu7vNkADSoOisK0Rm+TjVezAb8duVf0Abc+dKUIgydURRRVXQERWGtW9Gcw++GR7FzVW+6gya6wwfbsUCnwhpfkGfm6tk2Ohyt4FfYkuIDG3P2V0wSi+Y4xhRbUvywe2WHVjxSbJDg+74UO87a0ZrrXfTm88dg7FixgR7bEXX0VjK1jp6sq0vjIPDLmGWxHK9qGeRNUWybAJoya8SpxqQylGBEwdYR0SVqzGugM9uRALCKCAY5NxPDST9m/G3PWBuDFXQoqaSAg+FcZLh4t04428Ye8rk1AiMADFnJWAEYgEFw5PDITPaPZwy6K5fu6yHzr7rXutHj+IlglCDJuaBH5cNZNA7RfQEx1sEQa/PNFzoYjC1YRi0RABo4GU5Ypu/MuEBJnwVtFSx0rVrfmPfIybqsj44a31k/AZGc6A7H58spkgaJgWdqyya0hx69uWxVq0apKgoEeMTx5iyrc5Xu40CcSyudYsac0gd0qkgBnRIU29gAsPPzth+BO8DU9iC6gAwAgh7VoAdQM4/EzG4OP0dPNKBXhUiS68ui5iyTgDllpcrJt+V8LZvS2DXfp5IH7EkayAcAS3CgP2gbK5usi+76GUfn7vDAvEAM/VW9I4fyKMo6vZ1CizV4Xmyxw6UC5NgAOyYjFXpFEPwAKtl9jn+MXf+Q5+hwftJRvGRHGvtGG59Mr+gPwMMPzHWulbzslOAHn0tfgHFHmlSlfUnQPXhJj/VTZbOOV8YGcFXj2RGeoIPOKlbNxYN19Fg7HyJO23XLzmSO6ajGSxzsGATP0CPX4dW6sYe+b0wJgN2L0KIYk+8MAb61k9nQGHnDKvSWftJTcUhMzHGP0oess+uMWbOnn5I0/LEry+fwP/nlLrHUfPTLGtKsaxWdJ4LfOHEPmiSMKIkHTAQ6mZCMFVNixBRZOZ6TjZIAg4IQJxBFKcebep1FoVnGnx++l6lwwOjBgHKeVesqPx97bVzBUlCSPQqMHI1zXECm9ePr2PGHPGce220CgqqCygda8usFnJ4fzSZL/FmlGEPm23YvpaQTEgMBEvgFfDk+gYrjA6RyhjQ64xmtK8Nt8237XCC0paNCBuySFbrojcoI/VYNAUglcoI4OmJc28bv+zmdoReSFM5VlVlgspXOHgFzx2iAF7zpO+6U+zhz21t2cWTWdnUAGomuII0WW2KSB1tPquKqsIAo/2DuGvrElgQd4EBiLcPna1Qa2bUqhB0ooMH2OjokLBIsjpvPmSovTlVFVwJJRzlbsgEcBEj+T0VGVVgA7eNb3NPnvk0yZB/smnwAKbbkTJ6EW8Ckv87q6X0HAj/oV0DFVPl4np6wIVux+AJ4012BWrIiDqCzxno38QItCYrAi+8OAFN8Hb21bWyLmA2ztam8X0dLxk0vJvEfALlz2fl5Pr6P/kjkvMfPSFLIB40BGOvmGfI+WkpZ8yXiAL6Qle/D0BE7FmSFZsDKNVvmd7tjDJk/95Y0eM88fl2HXbMn9Pi2vrPavpvDbrvPZKwavTVFTsbzxV02ggaxkZ8RmySX/IvElj7zcRrfIi7E5+EZe6hBm7XDEAp5di/wRixQWOTnFB3wr8Zcq8bAd+shC77E/JIAugpTmLvkXTlGZJa+/KzGtXklTXYkHR/id3xx03GU+Da+AI2wp2SSLvtsVSyQSJyiaZoTKxgeNEB3gd4XpAU8qFtQpCQcL8YQmEARhTC54AFgqaAhEFPDGH2uxzImz6NXYJYFOKupkuhnzmxVbFLK7hrH0uE58wBVMiRVMs7NURBnE4HQ0FrOUYMH5Xi55uSzVSs4O1dFif3Opl7iAiygF+9W0ZaxavQUjzMVnASmBAAOhoH7pibdcjbQdo6fLKE3ALGqK0dTg46Mwdk5pyhJybeMBSSVPQ7QFqUziuim9/rafKJ7xgWaUl2kK/hDRirzvrRDRpwO/pETeqwjulPKrrzOWvv26PE8ZyEgcngADRt3DAOvBHJAz5YYe7ctJuFEa6rjoavvvOvu4zskA459qD4Dm2zbER6g2BEUc/oSiu1SdAA6dl0ECs/zRWMqfVmDygBe2DkBvukrPdHwR3KiQuNoBn+3bi1T5LJqTGtnw5w//4sewJeM+B9Ve0mCyo2KOT3iHwGLGkk4XbFeCXQCNDBFX/hg3+DHe/odXmYdtXnBLvleOkk3Xve617WJrGNMdk/oBZ/Cbrq0hKYafdaVnr3yY5I3OskPJ/Hn/9AGqAMZdr34APerfI7R2VVryHqtHZCVBIhN/IuigwKR3a+AA+AbEOZ7JZdiNn9QM06iEz2+2Au4AL+KDmIAGeacuvvCy3VrW/X+mPccMbCrpUhELnwwm+JXJNho4qfFBLwhJxVIvWJAzaM8bMZ5eXZLRugAwvNrVeSTGJC1Rs7p8/6Y3hhwmr8w5j/oSsDvrn4Cbx3d1i1R5M8k/uKSYhWQ67P4AoUqR+LIB/YUQ8nQuKVO9Qa/jBlDKGwAjKoDQxYUEcVgNFuQKkMAhoqR7VPnSykZ4+aEZU/rFjnkfYKSLTv/BrwA5s632gK1YNl3mND9lnFNo8Z8wRh/AAaOTnbiSzpAXc25tvGH8yRw2+gUN/QAvwwKj1QcaoPKVXTRG04UkKW0dAdvABq8AlQ4GDKyvQx84pusUyBVcbP1zXnjcam8q+bb9h4DcR4RmAGmOBd6zMhVIoAE24CCt7HIzbzbxh36uXWQEz1VGfKzfBJKYFxF0TlfFVXVGoHClqXmWpBIJcJ6hs696n7rNJakiR0JSoCV5hptquTsWQO86FLkaQucMxEsa9BkG1KGL5HNNqQgAGhywoIQYMFBA12AKb2SdAKCPlMpwa8xOwfkg/f0kR6iAS/Ix5yqz2SnElOulw9QLfIsUMMv4ktXh8boMZDH0ZuX7lozGdi5EDBVXOkNngEUfDP5COiqR/SJLQqwq3Sg73v0lv6xU+MnDgDkzmaznfi7MevsS4f78N56VIRshwb8/v3vf2/XLQbtws+V60SPOMd3kQOdoZeOYsOFPRAAACAASURBVMSm+B1VWAUS9kSnEisdtQr/hvBi1b3GAWolABI5+kIvJCsSJLs8bFaMcsRKnFbNd77fjoeYHV+zavyh75GX+A/M0ckkKCrf7Lq0E6Ac6HSeWxyvxZPQbK4k+xIBMiKX2Ax+OeKpqEe3AC0JduRF3yU2eMiuMu6Yns7ARNarmAjc8Wd0hpwUAhRlJP78iliQnj+AufBvqm2TD0zlqJ1kAE8CfuGpUgZeq+Dzb/SdDgGeY9a/7Rl04Q0+4A+74vftUMIYfJIio9jo+2gKSWyKzBx7IiO0l3baG/xSREcLMIRQGBCn5xqQMhBw6QtWAqEfrnavbTBbCYI756waKzgwqG0L7vO5YIDplJczAWAAYdU9oFgQBc4pMGWZSziUDvOdSUwgZiSCEaExtCgOARCmVgqjz3r73EN5OTsCBwSAX0atGhLwSw6UF11z0BA6zYEvKhyCAccCaNpyY9TOeXHOqhJ+Nk+iRLEFdyBQcPBbrpyUqtVUWq1X1VIFhPGgh4MBIHzBwGF6iQMeZg362rKiC2yKvajU0RsAS2Mzqo3oUZFgS3igF5BU7Tk7QXJTxbGkf9u19QFXbJizExzxhX1naxLgtYugoZOeB/xwSuyaPRpr23zbPudMBR9JigwfPRyZyodAIyjbGqQnaOjSKSgJ5HwR57htvlWfk42zmnTVevGDbpKNoIhXbDvrTdAAjMkpssObqcm+OdiA9dt9wxPr1vN7Eij+1dlAPGHngJZ7XHsPP1P9XbXevu/RW+MASXjCrzhmIDlhz6vWym7j//rO0+c+9iy5sSPhiAedoAtoIiu7E0lk+4w39p7SL7Ej8Qc/8J6dlMkknmmABbmgk21pvmBk1yI6NZaePGccoMjWvVjEjvAGTY4qKmhJKBUnHAMDLNCk+MCG+J3s3GbMMX2AB1mpmjqbbd2SarsV4hU5kafx3c/OnR3nC8QQ+l+LL+TFXgFrFXi7JnhCLnjEB4oTfIjdHbzii+L/yIrd2f2Bi+xcjuFLnuGj2Da8ghbxif2ixxx2WeAax5n4FYBOc+34kSOFEu+xvi504G/8WBf84hWcQ4buUSQSkyS8vghNrvhQS0ahSW9MdoEHkg56w36AXzHH7qijKxI4RbacAuCjnAKwG8UuSx+0EvyWN4QAjp5zyc/qEAqDBiBMiPm2IAE+ikGBcsbUva5l45QHUxkaZlLC0nFkvj49OgFfhsvJYAhFprAAr8qPKqfPgBsGbWtMlgk0YEafeVbdE5rRYBzGy1FYO6DJgdgO9h4ASHiUxhaJSqeKkC0n54FVPTkoQlw115D3OA9VMd8eFqQFbcGADFIJIgMGhVflWSKKay3Wht5VejCEFvcyEMkRBaSsGoUEDjgNQBNoIhvywzv0anSGo0arZGmqYaOHA6WjSQgyl7lVolX60Eo/7SDoOT9BgoxrAHB0ODcrGRNgVEDoJ6BCTprE0vq1f/3rX80///nPlheq9+So6iawczoJGENlk/s9z7HYKVAxxRtyosuSJ0Ecf2LH5he4gHR6zkmrjKiyqrJNoYfOcWRkwIGZ1xy2jSVIAKkkSXUzduYzfGTzztijmc2rngBD7C9r7duTMycqcUcD2Vg33XGumP9gJ5JpSaaqKt1xv/vI7N///nfb8I0vAiIAxyH8wQ8NeCEfvpa+8L3WqEqvwsFGUvGlO2QS3Y5O2UqV9DrOMYYn4Z21iwfmjq7SS35F8spuJHRlE7z5XlvHfDY+xNdk3DE9OfGdxpYc8S3WLSkAXvhX+gSs8zUasMfXenaOQG1dfBo58V8aPpGJRj8iH1Vh+sWexEy67tkAvcSZMbzxDFqsV4WOv8Abumw+NkbHHQ1h4+YXo9FHnvwA2+JjgLKxNHgOn8kcoBWbHJfBA1hA4gYL0CtNjFTB43sBHcmnL7Cr6nuPDgGK4ukYmsJTOsxnKbIoyOANPMN/oAsILX0vfvCJ/B4bY4P0jd+hX9Y4Vp/YBDBmVxINsVk8Igv+nz/573//65Rq25NV4gHaAXTP80ljYzfeBPyKMdZsvXwx38PPiYeKAuKl+fGBvZGVAhe7V+xSoMHj8HusrDxvPcaUcJhPXKSvikYSbom/z9CLJjZHRu5hh3aAxG92FTrsFh1w5rfLOJMDaJyJCQiGAcmUKDH0T6EZE8Vh0AgkOAEqgIZR+QyAVqkFAkvGlNchcFNP0RgBsIf5srWXvOQlLaADOtGLHrQIFITIMds6EKTHGg+aQisalNwBcGNjPoYLggIyhTEXR8vhAoPopaQCAmUCAoEPa9m03j6fWZMtV4Zgi8bayYtxxOEydHKzjU2BKY5tFDIGMI1BB7LGPvOuu8d6rY/BkBFHz5AkSkADp+FzsiMjukK39JSXEgM0eMMxrpun7/vGYNR0F080/PFatq3SDIgDFPij5whl15xTgpL5pvBHNUM2yrHjiSTFukuaYj9xhHpG7320CgjoGgKmVvGJ/qpUqZLSWTrDAdMRANK5W9fmNzc6OX188rn3a4FfawFQAmLxhc8RoFUW8IyfEbzpCxlxbEC7KpEAT2boBwatZyjQo/sCtWeNQzeij8Zm02w5gVql1xfQfEbH8YOvo7+a1+QUUAOQrJLDqvfQwsdk7Y6CkD0/w5daPx3i5wRmPDEfevmh6Lf30GfXgN1N+QIlH7EK/Jo7uzXsqGySBj4JGOUTVPno3ViwEF4J1IADX8/fmd+a6QcfK+GQ1AP8ztWqEAt6Yo8KNV+nmkXvptgzevK8MclacgCgdMEvnYhtA7tiBXtKwunIIJ2NH85ax/T4I+jb0RJz8Yb90iHxStUVz+gOuw8wRzd5Ahe221Vex8zvGTqMx/gtzim4iMX0U3EqBSKgTaJCPxw/Y/PkiEd8QBI9MlQ8YKPhefo+NObeHLUztpjIZvhisgDkyIXdkBW+sW1AyudkiI903E7MVPBrB0l84YNz7ti85o8fSTFET04+00dmfCb/YMd7bEzAmy74pRt8vcSDf+Vv7FCQIb7QG/wjK9gOf2DCww8/vLW7KTaOHo0O2W2DE8xl7fQHLXYR6ApfHR0Or9zHT8I5fAHeREd6VX4xUsXFNqzs3oAmYawCjMxN1cORAwrCaChGhOd+TNILZpiEGA44ioig8joEbuoFEWMI3OjCdIywvQfQCYqhx7yqa8rklBWYYjybxu/zGcEah0N1Tsoa8YWzdw7P+RNGL1hyuPjoCAY6Gb5tSlVQmfnU7Bq9AorzOtbJqaEn/I884gAFdY4FuBHQVWhVUQS3obIoeZVn9dbECIBfRo0mFXEOVYBQ0WXwDIzziaOhP4ya4aMv1aJynjHXwCvHFmAQvcQj7zEswEKj43ryFChknoJSwAuDHEODZ1Q2bBdxvOY1l/Vr1o4OdsRw8U2PjoB2+sz2nCkXWMbS4TkgTgWEwxLs0BDwa6uPUxUs8cr85naMSTClw+itBX4liYAeUG3N+CDoAU4Cnh0mDhgNPqdL2elxLlDVgXzZvcDkXjo9hD/8nUBM7+gFncQT+igISNwEaeP6joPzZd4nn8iy1CvXigOSbn4AqOlLDx1Dj4CvwsFvsBXz8GfWquob3SCL6FDeo1vuJ0vbpKq/wGtfGrr38Q8AFSCAJwKNags+ZS7zlY0u84l2D4E7ds8WyXtsoEYX38uX8y/o4c/ITLLG71gnH8QP22kDiFUyFSuAYnIU7LXYdXe9fV/HHxiHP8dvvOmCXzyLvwEWVFf5a3IFvtDqSNOUCl5oxmPrJ3OVf7qhicGSO/rjdXRcH7/LvuiWZ32xK2MO7cVIOo/XCj/ionhNP+0+2hWRDImTqtRiJJtmv/GL/A7d5o+TQI2NU+QkNtlJ8SVsumLc8AU24fPII/aEDr5ahdxn4pL7JZTonwp+VbvhGDrKd/EZqV6Sh0Y29MZn6GFT+BIfxb7EKTFqbEzAly74pQf01K6O9XqNX3yza7GCPyZP7+GZYgBc43s8U+wKPRqZ2X1Fh7nxAw8k/4AvW/Nai+9NkuA9BSxxhc82Hh3uBX4FRwoLuEQZKC/ULRsQgAwuQJqIUrhPQ0gMyvuIV/lzdgMKz8KGGhRmCCSqnBRYliYgq8LIJNHEGQKkAKZArVJG0Z01BVYpnHnjtIbS4H6OmwPHSODfmhmJRAHItV1pfM7Q9ggFwgNOmpIDNhRHULOdOoaG8hlOhpJwdGRUyoAsohgMJobEgBi6AK4qxFlyvEOCdEmDa3LleDlyjoxsGCsZ+EkqAYtRmIP8GBA9QR96BE4KToFrg998Ucd8dDJ8iJ5GZ8M79wCazsw5MkPvrHFsRstpA752KfA96+U4BD+Bydk7wA2YY2N6VRp2xvjZGVDIjugfeobocRwARyfQogeIk9HHfs2BB+jCEw6G/rIpWbiKPSBIh1UUpx57oA98AoAbP8LnOL4DXAOaeCZgm1MQol8qRbZN6RI/BUzgI0ftG9vOlHf1c9NrfKT/gD3diBMV8FQX+RhVI8mQIxjmoq9ooluCEF3HOzolKKhkAVxD7QotAhn/gS92i+iM8flbfg2ASNAxp/lUZfhZfhFI9h75OScIzKiuD9GXkl/WAPzSPwE6QRqv2CxdQUfZyBOP2DkfAITaFlW8mAJ+0WIrnY3QFcEYz/FIYmgeNsIne4+MskOoGi/xlvTze8Yp1zn0Ovy00wfEiDX4oeENujTXbAwtAKjESGLDtukSAMOW0DPWx4R2RQO2ygebL7SYnx8hk9Dls1zr6Q0bwB/nSTPm0N4aAFtfDlVkAWrJCX5QAJG08kMSIrGLvdNX9NEh/NKzPz1ZOfrAjw6lxf2xKRVo9hMAaWw2wg+m0EdvNbFagiJ5ZIeSPfTwMTWOPYiHdiboKxuxZs0cWmTDttg2HjpiAKjjlXv4HUVIAI9NxccP4ZFnAn7Jx9h0BY/4GDJxDbPwheyOj3W8zP2wDd1xr2KkuAUHjAXA6NHIjG6UlV/zkA16tOguel3jmc89I2ZJhNESfhxw7IGiZjI3ee0BysCYGQvFZRQWThkEa8yIMREeR+M+AkREgoOAzgHL7qYYtoAvc+c4KIFAYIGCsOqCbIBwnBMETGX7Dou7j8NRSREww4ixvTVQFpU84Nd6zWFrVtZjm4eRAnyqVz7jVPCSo6PMBCSABfxGBmNowheVX/IxR5QgcoiCeJ1GWTSKDoQDo7a5ZON0YQgduV9v7fRGsBOEOReVBICBU2YQgpeKI+eS4IhHeBMlDvhV1c74Q2gq76XLjNRceG8OfNCjz/t0GT0SFDrtPkZN3wEYY4yhgwF7TtLlfCKgmezdfIzUOTN65AtdzoUDdhIoTTLFubErzgX4sOuCjwm85Vo3XaODngmwAi1gzaGiI3zBEy2v2Zfg5YsFgo8KHnuTZAERwIwgN5SW0GkdqkMANZsgD3xynpO92rqW0PItesmI4yPmBHzpB/CLh+TlWcAnyUrm2dYLHPSSDfFdAgsdcU1mtth9W10SDWDSEU212nxkxAfiG+AsWEkok+xvm7/7OfALJPjinAon/4E/dICNW2v0mH3TI0GRb7QGAZ1O4xkf6OiIKvoYHUabYohAYly8scYkCOYXiABR88XP8S1sC51oESzpEh0nP+OOoQctdJjcs05zmIt9SJT05EOfNNd4JKGV8PMHQJDK0BgaIi/P0h07fACBNeMH3tCF+FvvoZEu0WGJ5+GHH96CX7rtPUCo/DJl5hjao0WSRi/x3dyhY11PpnjEZztnC2xKdobOXd4vlgC/bJm+8hnGloT5TM++6bjqKluL38Er195DMzCvEj228osuvkYiKbbgiYY/bJg+0Av2xc74aMkTuxYbYQnHQvDJfeWxh7G+T3KBz5J885XrdR1/KIFR2AIqgfD85TsdkzwpDqj8TsEQfCkfjw902Pz4HjmIP3QDxoET4Ct4jr8Ru0Ir+5dIxD+PsS3PaPgK15iXXCIztIWu6HM+Y+viGZpgQj4dX6KXB1R+w7QI0euAXyCXUVBeB+UpgkAV1G0ySsIJCaQcH8K8T2iCEuESMmUPEWN6IM8YlEC1xVwcKoXgVBmWTI1wZJbOtHIyaHccws+DcC5j5i6fwZ8u+MUDisGhAQkAjEo0njB6zhgvKAfeaJwlfho7vC/n6XtNcW3n4AXnHiOiEJxHFCOKonePhg7b3oycg8HfMQqLVnyxds7FeoFZ4wf82t5ipIweQKakAAOeABQJWOidA/zS2dJwGCwanJ2UQatwopXOMzZ6MxX8xpAlbWQDxHB0dMJrMrNrQX85d4GLwWocCKcLgHI+7AmdwAxwNFRn3I8eVV8VXAFH0sG+w5c4FT06HSXi5JytBZgDxgAdZwoB9LEJClrYESAjOSYfa+Q8JQKqvpwVWQA2gpTKHfrpvCapcD8dBnzZIJtCU1/7cd868EsX2TYZ8C/ACxkKmnigWs8f8o1khI8CJKClwolG4w+1qS74TWJILvQWP8wVG8/agVyJPr+TgEVfHDkCZobSER6W4JdPEXhVf9m3echGkQMgjR9WiADs0IxOgVrgVoWe4ofJVhGDbgIi4Q1a6BC9dU0Omrn5PHquuUePZgnGWJ6EN+yKrMWeLogxr/k1cyoKKARIHNm2KqI4xv75RaBwqF2HjvQl+A0YL33/qmt8oucSJ4DGdrxiRcYc0wf8iv9sReNP0afqKVayHVVvssCjrh/Ke7XBr/Wai48nN3hCHGJX5MTGVTEdpwR0yYu+033b7t7jh4KdhvLHc2K2hBogT2wyPrrEJb5ZbGI37EoSYQcKv/gfcpTwKoYoIIzRmzzD//Hz5C/+ocH4kQcAKj7adZOAiOPiucqsM8exQffBNbXAr/HJqAS/0d/QWL6GJ9CAX/yMdZX2PQj8ppqLKQImBlGITMgRq8KqYlo0A6KwiLCVAbnnjFUYPVRRcr/MjcIBThRTdQV4EIRVYZ2vYyS2PIGHbClgBlqSWWe8sf0q8CvY4YGKJjDum5EcIT4AvQKCxsgYGL7lt/zQYcwp9ADbgL4sEIAQcBgSI9enkRv5pFEgn5GzAI6HpbIMoYl8VeUYCX4wYOsEsgQqW2mMB0BhvObkSJwVUoV0jWee8RqwkfCMpSe0p/LLqeFLDBoAlRTZfqRDKlKqmkCpgF4D/KIB/YKj8ayPY+XQgBTzWiPdpgOuORZVNtvs7I5j4ZDoPaCMTrweqjPo8BwQxDHQRTygjwkycSjoBF44fTbPriQGbIlcgSuAHm+zxvC7T48W66S3eJAjS3wIhwf4qprSJ+vn/CRHdlPwRaLAnv1QvsTJsQeg13t414eG8p4S/LKZsnJHZ9gNQIU/AIVdJkk4xw/0mV8Ai83RfwE+Mkpfzrnpugt+2TSdpDt6ukxmqUbxyYCvyjyfCEyQIbCuAmI3jA6S/xh7CvgFEPACj2wD0wc+x46XYKjiTnaq9gACH8cHxsfwBXwjfdq0/k2f4Q1gBTwaC+/RZA7yoSsBW3ogAv/co+Eb+um++GS8TfNt+0wCp8qfHYHYkHnQlEZvgBVgx7E89i9e8nt4xgeQz7b5tn0OXJK3ajIdMD9aug0v0Eq/6bsEin9RjQVe2MS2uTZ9HvALtAFx4jUfJmH2qzd0lFzYVWws9MRPey1WOOrIb42t/OKrRBQoAnbNyY5UCMVNO7TitHnNRzf4OLrtGfEILXSZDotl/B9bGmrbeObcujiI52wKsCaD6DBMBdTyL3baJY0q+SlGopNf5A/5Z3Fjkyy2fYY//IMkjP8wPn2hI+IxnkmKJJ30Ik3hgs9VMXYvOeNlLfBrB4Mv5e/wxhxadDmvozd2fcxPPnYdrLv0d73Br4pKzqlavEyNs5C9hTGUSFUE8OPokgHoVRMZEuewjfl9PidgW3ccRyqq5naOg0EJiIKlgGxOQgFEgY6A3zmOPVAUQgekgDwKCbRwwowb7/BHgFepwDOtC35LIfXhR+6huJynM2eOMOA9hSUjTl6LA47ilK8FMY6AUxY8x9CBBs/5dqW1U1iOAm8APbqQ4ykMm7KikxyBBzyKknPY+OUck4Awhp7wRr8O/AqMHBDn4WiDLVBVCs4IDbXALxqcbTMenQAeAUv6opqa9XGIEjeAUDIHBAqMDF+ypzpanikf43TRwobYMvDLvktHF2ciAHAkzqNxJHQLkEK7++kxxwcUGTNrcN2n0Rc8UWEC2sxlrRIwOzSAo0BHn8gD6MM/+i0QugddwA8dAoC8Zv/o6kNDec868EtP2ZHghDfRWw5WcHIcQtUZbWw6tub1GDpCUxf84ruATGf1bAtdAqYeLRIVBQrV6Ogw3gjudBy/8V3LPH37VeDXTzHRS/6OHOkunQQKJCiq92IF34JGOgXwsHVnJvvO3b2PrNi0bVo+S1IWXvB7dEUwBlI0ugVk0lsyJCP3030VcT6mO0ff12gB8gRV9sRWjU9fzBE/61pyhF8AFx8JbAGEfAHZ9J1z233AL96U4Dd0pEcPXuCJRo/EJ/7PLg95j9GT0MYflOCXb6e3fL3xJT/WzmbCK7alhaZckxN7tys5BfzCDwG/En56AtSqvipM8SH8M9/P3tAsyfXdFYmNz4BPsuObI7MxfpivFxMlQ2w6vxBCPtbNvwC9dgkU1CQNkiU0+ByN+CemOnoWHZ4iM8UIcQFd+GMejU3hA3rcExnrvYbx8Ic+7QL8oon+Rofjl73vOyFiurgqhpS0uu4FflVOgUyKJ2MFYPy0kMaZmJjiYpJAyIA53Bg4B6zK5/jB1Mw6Cwj4BYwESooIQAALvnAQwes5Yg5AZYhyUXIGlC+8Zcyxva03gRmjBSLN+m1LU2hNVQSdDEs25R78YlSCQMDMWBryHEcDuAnEHCt5xdFHSeL0uj2F4awB0SjNGCCDFnwHwlXvBB3rRwenZ72Cg57TQZegaMsPqBIY8YasKLDKpEx9jGMJX9ILlObO1hJjMRcnBiyoWDkqw6EJAByMezlD316VWLGHrDHj9u3xk6OkH9ZJD6zZ/JIz56RlqapldJajI0fBEY9UotEhuaO/Am7fubv3kZEgAiiyadV3zq10IHRCEKen6FCdIE/27j6yo9+2rsdWHNDhiIwKFedOJ8jIFj07JQ884VgluECcRBJ44FsEJPwhJ45Xoq76JrkVILvr7vNawpxKpfVbK/21br25yM8RL7bCD+Gh4M2u8CX3A19kNdSW0Ik3ZJwvvAGQ+EMG5JHz9OgLkOODvU+nBCB6Q67OCwOmqjoBDsbvw4/ynoBf1XfrTJXKOoFrFV/8A3gUSFThFQIAU/4If/CPTlmH4zNseyx/xBTFDT8byb+iSRIPFDhKwK78QoCGHlvFbB4d4Rk7Fz9S5UTPUN7wC3YagHm8IX9ySVKCLo1NZW76ggavyQ0NxsGLMfwo5eSar1GJl0jSV8AqdKQ3t2u0avy/HTi7YOwSOBvKi5IO6xCTHeUAqMUCsmHHeOW4g4SEDNgX/tBXPXr03vcc2QEydGwKlgAQgV/+jD0Zm7/nX/hjcSrzhy9k5Zo90TM8xSMFhCT+5br7XrMVPsQuKXstfQga2IgikSYeojf6S3aAr3vEDHzuO++m+8hM0sof0+PoivXzt2JQiZ/IQuziw8UodFuLBIesxIYx+uwZjf6JyeTEH1t3WnTXnJEZ/VEE8EVjCeCqOCme/M/v/MYJRdm95hCU/DGZglIOTljjXEyOQRoQCiSnOoFRMnLnfGUGq4jYJIR1nwFDAjdQzmmYF6gM+M1zhKL6oFplu8C2FwXPt0xz35QeLUCRYC0oc+wcCAcoKJtPQgAMC1iMzD0MGqhS/fBlN1u+U+jwLHnZRpItmtM85EIposBRmrKPk3EPw2fYxhmqsNEbvWMpKg50gIzQAuwBWeZgxJygORmzwIhvrjkY/AIqVD4z7lT+BPyaI4bCmCREjAvQUhmzPcyI3YdGMhLY/aSNYDCWDvwUkIAmNmLNDJrzspUkS1XNtI2LBoACHYIDHef8VKgSAMYE6dCOpxy35EISSybWGz2J06en5KGCyaGhA+/ci35fFnIsIRWHjN+3Rwe7BUycY5MEAbYCgrWyCzzxuaBDr81Lf9CksWv6pSIikcQfIGJMgMRTMgYWrdc8CcqxpaxdAqfiTD/4x/DOfXwlwCHAOu5V8qOvXeHNKvDrSy+AEoCLBvJgz+ZnQ2jBE/PTX/wCDvnMAIexNoU39EYcMGeOW0juVX5z5IHfpcNAhsAumRWUgD1+QLJgFw44s8a+PCn5aA1kzEcE/NJbAMKaJVG2SwVmwFQSxc7oCl7FB5IvX61QQo/H2JU4KQ4A+2w6uhKAHd1AXzk32bmXTMXU2NEYfpS8cS3wS+r5YbqAL6Ejfew8r/kmuyqSYgUM4GwKLZ7lH4Bfxx6Mj//001a+xIjv8R4+oEdPJno6Q5YSWzLGZwWnsfqLLyX4ZS/kZdeGDvBv5otc0OAaPWIFusV6wFeMzK5kl/d9X+MvfvPtMEOSSXwwL1v2PjtHJ7+CJ/kcP30vRhUdb/rOu+0+4zn6EluJnvB1jlbRLbZHFua1YwpsRvf1fGMt8Mv/8/VkEPvRo0tPPmnkp9ipgKQwswp3bgW/HrIwYApo4fSBW0GZY6G0pZJEYfVAj7NewETO6FDYKYYUgckkODOVRUpBQQRGzg2zYxiCDuANRKk8AByChkrK1EP8ocVcGMzJUsQoJd4AFYybYQFzQKCqX7I7ZwVttVA0Dnoqb8jLOdBUohhugmKcWxx+2UexOQJ0+jKRLZSssW8fvrtf5UfFXxWaLlDaOBG9+UvdcS1Q6PFI1qgqZMeg7/zb7gv45TzMowEHkjuGK0kiL8GaAeEL4weE6LHMegygKulSkeSsVD7MIWECDMzJWZAdUKCiSn6qWP5pCFgALgRYDkeANu5YnSErNuT4BEDZBXnmjuPXk41GdwEe8gRUbcetqsz3pQsdkgrVO6AfLWxHYshW+R4VcBVdAVDFkFxstaOHfOgtW3M0Q0AaW4WOnMiYXRF1EAAAIABJREFUXWY+/oy+hif0J4EQvZITr/N5ALwKLFsS4DL2EJnhDZsuK7/0BfC0XkmCYB371Scw4I1rcqVr7LlLR0lT32u8Ffj4CfMJ1noySHJGlsATnRa4gV38ozv/+c9/WgChWAFECJp0ua++lHTiDVn5CUK/two8ilHRCwEYYLIbluNMiiAABJrZf/wiGSrQRJdLX1bOue5a9U/SJYkmFzpjfLSUvjbzxf+ghUz5IFvXset18wx5n+/kt1Tw6CQ6Mn96dIQX9FpMkpCo+oqfU/0desVkNu5YE5uwZvbiWuLPD5o79qMXq8V2WAPgsgY7F/gzlUcl+JXYwzR8sB5tZJcYgTcaOYoV/BJbkhjw5VNpYU98KN/PpmO3+sydnswCjvk9esMv8jHwDN0doh+r7qX31gRLqczzL+ZFD10hL0VHPsmONxDJ56rge1+SlXgGJNtlQtcY+/aMhiZ2xUbJJTxCF96gKzSyf9hUwcQOaVmsKmk4APxyJl2jF2gpnuBLKQU+AVlzXTZKQyCMX8UG2PB8FrGK2WPeQydho4sTNSewwOGqninZc3jAtzMqAgBjwzyHxWPYY+buPoNfjEmlQ6BOhYOhUBygW7bIyPAPHZRcoMAjTqE75tjX+CIw+XUL1WQBitOjkDEmiuK6dMiuASzVB0DPdjNHPpaOPKcKxEgcnlcZMg/jjcPFD8rqfXrkM8DHtlv+EnYqkAkteoCcHnNw5mY45MGgVeQZDR0hO8akR48Mkr5NcXR51nqAbDsiqcawJcDA+rXYmOANPKALD23nl8Zcrm3MtaSNveA3gISe0p5dA5lo0wI0VRzpusoNAD1m7vIZwAEt1seB4n3oCE/0HJ9AKckUhCQRjiewaWcHjTG1+hH/x38ATsZmqwEP6MKL0Ff2+Cdg80sqQzV+2UbgYI/krxpuDnrLZvApzWt0sW093aXrtoqdAY7eRA9L/ve9xhvPG0tlhU0DDPTCvORjTmCFfLzP1kObxEVsALDYgIptDXmxawCYDogDZBV/J5F2PMYOnIbm2D7eoQ3ddFpyO4U/4oCqOFCXhKnra73WzC0uoBfwUbSw8xRZlIE67w3pPS/ZYZ/ONwJJ1hl5oIFNsW86rLglqaL3+GAtU2kIvXweGSmC+c1hc5kzGIK+anntMzbOjuz+AFd2zKLDGXdsL05KqPE+c+q10II/7IwOo1cBSzIOaOJN/MRYGvIcHgP1Kpt2F+mEmEgu+XtldHmtp1foydELsnWUqZasQpdqvUILn8OW6Qp+wFJsSkHLjinbgnHISwIsaQHm7SjyW1OSp6yJTeKRGC0+02H0RFb0BV/EBjuRQLuYQs5ZT7fvBX45X87TYi0uDg0BGkeSXobPuQCcsgLPTnEmXYLz2piyWgAPWAMyAQRleme8VLMYjSxftZUyMXxgkEGpstY6H4Om0GP7gvMHxikBuhwNoawEIyCpUgMbwA+Bdg+OZ41je+viRJ1xo5z4Yvs2Dp8Cc7yRX2RHmQQH/JE81KBLZqyqLSkBVABN85kfPWRCNqHNNSNy7IIzIKdNCjyUR7LQMiibF00ACzkJzuSGDsZE3xm6ZMKWaIxx6Lzuj7O0HmejbL9ydOwJHyIXvHGtodVRGQBPYJeQcLzGm0JLnrUmVQw2pErHseBJ2cgLLzSfA8nAiyo0v+DsV9Y2hi+e4SfoLeAgOOJJeFD2khZgC1BRKVOlZ/Mqvr7glirDWDpKvqoa8COqcb74wa7j+8KfkjbX9AdtHL/KA0A21c+QtwRSYFTZFHzoCHstG5q8n0ZW7F+w9lNKCULpx/CInDXyUsVj0/wrnwZEanyehI1u40mAnmtgg49Bk8SAn1IcGUNLnqHLAp1jVnRZUqYaT2/NmWKM97QkMehK45ftIqpQTolXbFvC76gLXY2cMo8ej9DFx+Cdozpsib7V2o2MHpMTH2xsVTj+zLzm19Cn53/YNbodjQnwjZ8Ir8f2+AK4+uKnL0uxE/JJo7v8S+zKtV0Xu3F8r2IVMDZFd0vajcOWgKnwQo+e0IAnEk3FD0fP+ADJPtu2nlq8QRe/J+kQF2AU9hT9DY/Qhzb2L0mxa+KIjeQGb8r11bhml+TlnDabEifJha2wcTyhv2hJ3MQz13yDo6XA85TYEB6zSb6Cz+eH8cBc6MEfOk23HYsQy+gMGW3iQy/wiwAVXM5FliELSzOJltcyedtLBDJl0ZuI9hmaLE5gAYJlGg6Ec66yEEYsCDEgVT1ZkgPQ6AfqKH+cXC06jSc75Whs++GJnwuz7ST4uBbEKDma0S4jrmXQJc/QYmyO2PYFmQDbsleVl25TiRbIyI8hUvxtylPOt+7aGMbKl0FU4v2zDkcrOAYMS1KADL8wATCootO52rzBF4bJ6eGFyipDEpASCOIEOSCJgG+q16o4hE+CLF2hJ3RChkxfACaNTanIAv8cUP61h67GIWSsKT1+CJAqpuaim7Hl9OhAD7o4DE6I7loDHZsyf/dZQVcVI3OXvsV7eOUXXegoGugV4NMFUDV4RPfI3fiCi3PJqnP4gRb8CJ3pJbNoS4LSXd+Y12RuXEAc0FdVZL9sSMKW5j2FB8GT/5MsoUVllZzHzL3uGfzFc+PTB3oDqEiKAEy0lfQJWBJ+CQowFpnhcQ1ZoROfNDtfdEQ11RlOPCkbPuEZ+vK+xI9sp/Ap62AXjg2QgfGBhMhIDzCgAW0SYNu5KqLWkDHSr+P/mPfFPbsRfK1CFjmJlQAUeuk34Jux0VCTjowF4IvD8Stsx3Ve51rMUi3mY6bIJetJjw7jAWYKM+YraXDN79AH/llCRcf5YMl1TdsOTXp0sQdAn72ji48JP3Lti20Ki3xTbf9b0pNrMoD9JC2OItJhOg306uOL4n8UJJJEWlPsMuON7clM8Ycs2LdYkDjpGnYhT0d14A7zRudWzdkL/HqQwDksBiQYc2BpKj+a10Cda4s3+apJa71nYQI3J+y8LXCbrS2OlqC81svYGDnH6JlSILXoRI9tJsEGDwAKLXzSe004lFYjpBogMzyNsI3JkMgMiFThUx2TOTkmYvsmvNI7Z4p/khYyjvJk3Cl9aAFU/Le7c8C2ShgR4Cl7U62XIDgCQnfmcjL4Q+l9AcT2umMeKs2ySNmjyp4eKBe47B5wRLUdnvE4r+hEqS/RGz2e0Sk6SwY1g4DxYgd0Ec+BvHL+XNMJQQud9Bv9oWmKbnSftT50ZF69edP4F7Sggd2jQ4sNZT153R1/6Gv0aOYQBEIXuXX9oPcSINle5opN5vWYXkIteXYUKGfCJfu2+NJizxJ9W5WeQXPJixq0hH5jkZU5+BfBR5WIb1FxRp/e+XX+2DEJPKPP5FRTl9ESP258fkR1WbUOX/AIPZqdFK8BQDuU3gPaAfMpNIW3bEkyoAJlbjyIjPRex+cCowBWjphl/owVXk/pMxa6JNkKEACKuOjLiN4DfON3cz9+5nrK/JFLxuI32DBbYjPxgfEvsTFxkt3l+Sk0dJ81puSZvZqPX4uPCU18Db3mE/kb/COfOegp6TMfusKX8InthEdo52OiL+Xzta7Jy1r5WXywewsAs+XSpmLr0XFFLHHLs8ZIq0GXmMnf4E+wZvgTeSUu8Xub+LMR/JZCziB6ConxWibwvtc+w6zcX2PBfcaA+G3B2j7SCEnVTnNuzzdeZXKctfFKgZTr7DPXqnuMUY4THuFPeKUv71k1Tu33rNOYetsQFNPPlPhGfNl8K9sZPA5H8KhJB13Iujl5dAg2KvMqr7aWVLWATA44sskzNWkxtuoGXRGonftSSXMeO83RHVvrqQYJpGQXPo6lJ7Ion6cnWvREr3G0jLj7zBw8QY9xzRU7LnU2a49Oh/7QUtPWQ4e1my988Fozl9blS2iq0Rs7ayvH8354gCfo6fIpz5Fh+ezUa9VwiaOdEbbKv2kAZVpe83lAlYCOxpJX5fUYmrI+z3bHUlhw1Ao9KtToiI9xLXhKxqMvNeUYvQhd/JiCiC/h2B5GExrSvA5tjtm4j52HtowzhEfhDb7YuVJs4WvFo8hIT07m5n8c/UiSYq5yjCFzb7o3a0KXuYBdhRB0+FKnqjMwam4tci2vN42/7bPYQuhwv/fYTnp2pbnH+3ldjh26yvfGXmet5kODPnOWNm383Ltq/lXvDaXJGCWvw5fwRq/F34Tecp6St+X7Na7Rxw8Di4cffnhr2/SXLrNzu+7siq5rvh+D1hpzrxsDTeFLya+Sj+uezfsHgF9MHDJABjrYPboxnJBWNZ9R7oNN58Gc3/rxRnKCH/q08CeGPhedxjcXEMzp2lJS0ZLVAr4+m2vuclwGgxeyRlWPbCllq8nWl20xyZJ7y2eX635/XrHwqR6f2A0fx+HHZru9pNV7erq9a/6jMUG6S5vXc/pfwVDLml0nKHZp6cYHn3uvfD7jjO1LPmR7upzXnHxd/O2c4KVcgzWaFy2JB+Xny3U9mz258ZJOsyn6o8Wu4m/olPfcd1JY+8kG/K5j9q6cyrr599L7HF8auuJ4y35uehMgAV3bF0Cvc8lAJoPahbyyXnMxXNtMKjXdZmsFTe4PX2oGyIy59EvA2aYDdFUTWKKP0eP05Wfbxpvz89BT9rEb7801d+Yoxzdf+BJ6ys/nvjbnKp9W0lJez01Pxi95VV7n86VffFJXB+iJFl8UvfXatc/0q/S9O9ZeeH2yA78RSPq9wOS9QMNecXAxElUHWaSqiDPJpQHtklbzAri2YwFwfa5lsV3Z7ZK27tzL6yUgbdIBtrXp87k/O6nYRmJD+rn5YvzMpd/Ep02fTaXT3FPHWJ5ffNDJRQdOBL/OXvq2riw5QOTksshlHYvBLjqw6MCiA4sOLDqw6MCiA4sO0IEF/J5iUYTFGSw6sOjAogOLDiw6sOjAogP7RQcW8LuA32UrbNGBRQcWHVh0YNGBRQcWHdg3OrCA30XZ942y75eMdlnnUr1ZdGDRgUUHFh1YdGC9DizgdwG/C/hddGDRgUUHFh1YdGDRgUUH9o0OLOB3UfZ9o+xLFrw+C154s/Bm0YFFBxYdWHRgv+jAAn4X8LuA30UHFh1YdGDRgUUHFh1YdGDf6MACfhdl3zfKvl8y2mWdS/Vm0YFFBxYdWHRg0YH1OnAi+P3KV75S7Xd+/VB32n5gftbap98P/CjX2Icn7imfWa7XG2wt3vSVyyKbzbJYx8dacqo1TpfOWuMOGSc0DHnmpHrvNrvZ9vlJdd1T6S7/iCM82m96k/WW/Sa+hk+b7lk+O9CPzwJ+S0aXAjw5CalcV7nevX6N7vzb0F5aQ0mL673Ox13SF97scs5yrsy/ri/vXa4PdLJ7gSe7tqmuruwFHsxJQ/gb3+pfI/1D5ClPecq2d102/26ZZ+aka6+P7Q+1/Nsn3vir+fDMtbYf/nSLHlhndKJrO15Hr7r9okPb/e06Hs0Ofve68e1X+tYpxH7lx7Lu7U5kHY845HWfLe+P52tN3i32Pq8cYgPAnL9Jv851rtPc5ja3aW5729s2hx12WHOrW93qxHaLW9yiOd/5ztf+rXpNGZ8Ux/LX9he4wAWam93sZs0tb3nL5ta3vnXLJ/31rne95rznPW9zhjOcoQXCJ8X19aEZ+D/VqU7V6g1+9G307P/+7/8W3zvy6Oos4FcGkyajKVsfZdjr93B05Zqy1j695zjIg7FGdJsbDWgt1zAXPX140qUFXXPRc1IeN7LTl63vmspn+spllWxKvXGdwN+XjpPTfZv4GD7tBeCJhpLWuWWQtZd9OT9dpDd7gTc1eWG9ZzrTmZoHP/jBzfOf//zmxS9+cfOSl7yk7V1rz3ve85pDDz20Ode5zrUn/RzZlLKypjls3ByXucxlGsnAs571rJZfL3zhCxvtBS94QfPEJz6xufa1r91c/OIXb8561rNWi5vxg3RvL+jfGc94xuaKV7xic+UrX3lQu/SlL91c6EIXaqvl5JNWU59PymPF99Cz6HAp7wPA71CnVA6GUbYqZDGyFxnb6U53urYnYO8bPwztGlR3rNzXt+8+333dHWfb593789rWzGlOc5rmtKc9bXOWs5ylXaN1rmunP/3pGw0/PIM3GWuXva0480cu6CUXveyTkoyhZxUfjVXOhV94sI5H3ve5Z2SzpZ6U12Po6/PMKl20rrTu533GrHUPwyUfvMEn8sNPjb2hzT3d+dDus9BO/qoFkYFxogvR0W7vczqi5Vpf3mdcc6/Sgy5NQ1/vQvZdmvqsw5pPfepTtzLBi1J/85qdk8+u1hA5d9cTWtFFh+iA7fjadJV8M0d0NHobvtAfvGHn8TnraO+uZa++ztrx9GxnO1vztKc9rXn3u9/dfPSjH20+9alPNccee2xz3HHHNZ/97Gfb1894xjOa61//+q08woO51oamIbKm1wB8KS8yM0ZNOZH/He94x5ZXH//4x1seffrTn25c49mHP/zh5n73u19z05vetLn85S//P1XOMXR4hh+ll3TStff6jhUZk5NnytdDZRd5sM1LXvKSzaMe9ajmMY95TPP4xz++efSjH91eH3HEEc2mdq973autlEuirAkuWRUHhtKW+6esL2Pssu/Kko/hl8kaf7zm90LTVa961eYUTdM0+cJbFLy7cK/T3OPaZITH2M9+9rM35zjHOZo73elOzUMe8pBWaDLc5zznOW2TBd/tbndrZCvuJai+Shdi+/ShMb3gA6CiUUOjxrgxo8+Y5T2cumyUkj71qU9ts/jnPve5TZ+GH5yeqsBFLnKRViDl2DWvIx98DuC5/e1v32bTkQuaXT/84Q9vrnKVqzQXvehFB/OjpNmcHCenefOb37xdZ+YwT3md1+Gb19rTn/701uFd61rXOnHLi8JGnuV8U68zJodBF1QXosvRl/R01rW1WWNoqkVDDJesGGvmO/e5z91c9rKXbfDjKU95SvPsZz+7rZColHCWtgc3ObzYmLVe6lKXau5///u3uhu7NJ6x8lrvvcij7Mkq97lHgH/Sk57UblmGl1P5UT6fMdNbC3vm0PCH04989N4jQ/Yu0Rbc4s/KcYdem984dMQ85znPeZob3/jGrZ978pOffCJPwhu+TgC7xz3u0dzwhjdsdWbonH3vD2/ogFb6Y/y58IUv3NzoRjdqHvCAB7QyPfLII5sHPvCBzQ1ucIPWB5bBoO+cuQ9oi2/hT895znO2TaVOYBa46Q+9iU65xh/B3nGAa1zjGs2Zz3zmSX4HPXQDPfwdWvj4Ujfi99PTlTTv5Ro/s77YTl736ekJ+6Ufd7nLXdr1v+ENb2je//73Nz/96U+bX/3qV83vf//75uc//3lzzDHHtF8yd0Ti/Oc/fyu/cv4+8429J3pjjewJzxzFoC90l7zIivzY+EMf+tD/AZ9j581z5nSsAdj99a9/3fziF79ovvzlLzdvf/vb26rvJz7xieYvf/lL8653vav1T/e+971bu8vzQ/sUD+jmXe961+YRj3hEOz88ggdDZR3+RV7ph9BlTgmAWPnDH/6w5cMf/vCHJo2epP3ud79ruu173/tec8IJJ7RyeuQjH9lc4QpXaHVvCA2b7kUffdb4FX6Vf2Ur8bexm7LnB3zOrsl50xxTPgt9fJC4HLrY88UudrFWxmJUYhiZO4akWs7vXf3qV+8PfjlXSqRhhkBkgYCTEjJQyLG95z3vabM3gPprX/ta8/Wvf71tRx11VLvFYasDU9YpnHkwfN3n6xjm/tBocWgkCFsK6NM4Ww0NzhMNnYNj49Q++clPNscff3y7rm984xvNpmb9+fwLX/hC8453vKO57nWv2zq8dWsZ+771aNbOsCjCBS94wRb42EqSUUcmeg09lOJqV7vaYEWN0evxHFi73OUu1zz2sY9txy3XXl7jR/RC/81vfrN9/fnPf74RLB70oAe1wAHw45jJVct8Y/mT54xDx9DMeC5xiUu0ABPIpMf6spHXNa95zfY+oIL+oifjDe3LdRhH4EYLw1QJQIOgCKTc7na3a0Hr5z73uRP59KUvfakNqALVpspR9FuPftuuAnFsk/zLa6+N/cUvfrGhq/pck01e69GjmsXx1pRNeIlma6PLfA5/g/dkxXFZDz6lsWvZ/JWudKVW71WrgOCMN7SnH9ZlbgkP2fB1dMGa3/a2t7WVPDz76le/2rbo8gc/+MF2u/s+97lP65SHzt33fvTFF6PRmm2fxtc5Sym5ff3rX9/a10c+8pHmjW98Y3PPe96zBROe6TuX+6K3ZEMeABN5CLx4TybOt77qVa9qq57snG3jUWze9fve9762EIA/U5JudCQ4WwtfEVqiF7El9pRWfhZeod+ajDeEJ9176YtADGgpOCgGPfOZz2zt6dvf/nYLfIEa13yyxIROzVUQwqPITe81Gvkb9sHfHHLIIa2vUWX90Ic+1OoyuX3rW99qY8Zb3/rWqsUaegPQGv+3v/1tO9873/nO5glPeEJz97vfvTn66KP/n717d73mqv4H7r8jWIutjY3YGSt9FCyMgoqXIIhoExVFEBsRjMH7JSgiSoqAYGERbKysjMZbUCIWmphEDXx+vObH+2FlOzNnz8ye83nyNcUw5zJn9tprvdda77X2PufcPPvssxOP+MY3vjEV+ogqvLf67nlOt7iKHIfUG0sTyr5sOvD+JbvTm7HokP74ncPn8l6PLLnGfeCNz4jBf/jDHyZsmPczzzxz8/zzz989nnvuuZv2QIYVDmKxmK7gQlBz/yNncwpG5EdxRcyVE/kQmeNL7dk1roUpTb49ulmT3f2SF+jfnnE+z6cjn/3jdCKH8TNYFpP5oWuQZfniJZ1f4Iox4zAEySCWatzYniWESWBFAg0iGTKg6hagGZEBX3jhhenx008/ffPwww9Pzm4ZY2mCHMMBrCZZ5Wg/E8UieqoSCtDpEIDf/OY3T0nqscceu5u0VZoqTA4lAWiHt/dce05pOidPPvnkzd/+9rdpXuanSnUEoHnuXPXg+T/+8Y8pMeraAf/a/NZkmXuPvhBe4LOXSncQ4RG8/vSnP02VJBk5F1nYSnWtQyVYu+dWeVwveCgmBDTV++9+97sJA8aITpzpCib+/e9/39UZ/dAJmTzWBfj1r3894crSoYoNCdZxS7DZI2Ow4rO6eIoCeJag4AG5C6GDaYdlSq/BzOOPPz51Id7xjndMBIPt5myw9JrxI7fHSZKvfe1rJ9xKPGyFnCCV5HFw3CeeeGLSDX3SIewhEbqNaz5SxxOMPvKRj0wFqs/qPtF5sOCs62Ce3/72t2++9rWv3ShY6QaZ8djx1a9+dfL33/zmN1M3yzIlX92qj8g2py9+plMtUAnqsCzuSI7kYZuQcrEnB1vxd8upPquTNXf/S6+xj0QCdwK9AoRtxA9jZO5IDOyyC+zSIXxL6nwOSeaPl8Zr36ebqp/6OIkJ2VPEh3BadXvf+953g+CyIezArQ7Rn//858kPyc1e4rYYe2n1K+PmTE4NAIRV/LL6BRsKaGPSjURuPMmZLvg9HdFPfF3c4eOaCB/84Ad3kxpyKHbe9KY33fBLhEZHlZ3iz7Yc8GNH/NqZj5HZ4+CGj8gj8klrkz3P2Yi+FG3iDP+zB1ghIEfybVsj+NSrX/3qU1YJEvfIj5QjJHzjvvvum/yErytGUvTCNDzHdn/84x8nHSFAe3TQfgbHML4mGU5AFx/96EenAkAOcSjqxTw4gV+Y1XQSZ2ocbe+99ByBM3fd5m9+85tTvBAD3ReO+ZDi1uf5V8V77inOKhjkoXyBEfGTR9g5120921Jm/hqH8h1CCxt8hg+xh7jsucPzvMafnnrqqSneIPJbYk3VI5uYs8Njc0QOs4KB8+jG85PgxOPE3XpO3oIpq5WKi7Uc1asvconJmms4no654l4OxDn4N58ml444HYrH4g88e4yXIMBy7ir5rUIBji6UYG5p2vK9drIAXw2V4JZEykjVaCo6ZEbAqvevj3VXXve6103BgNLqe/UxkAosqn3LRjoelmcefPDBSSGWc4EJIQcespCVIuwnQgy3OrSOHyAI3AK8e1Oo6sLhdUee54xoVLL8gx/8YAqGgDHnaHWevY+RKYGbIz/wwAPTsrQAIxFwdHPnKEgweTwnu4IEGNjYWDVY9o5tHoK3ji8Qsn8IAUzkcc7ezwEfHgcnzmQjowCowyZA6eCnQu/V2dx1go1uBzzDgGSESBkzS0vtY3NAyhFT+9AE0SMBj61gV9fp/vvvn4IfIiHARJYEvMhCLzBMVwKkbmPI75KdMn9nZEfQQAwVPCHW6fCkM6cbpfuCTLlW0nF4nOc6JwKexIQ8CJZbye+czOREPJA6hBNJs+wqYPFnxIbckiZ9xF45S5aIpxjg82LJ3DiXXhNbECtL8/xdrONH9M4GjtiHHIkvXodxHWCxjvzxq0tjtu9X2yXx0g38WtGytGeO5KMbhYkOL/+OnEmekUtsQrYkWyTjEoZrLKAT/qdIlngsjSs02CMdPFh10AefiV9HX14nk2tsA0DObY9I8m11MPecXvgPQqMossWC73z5y1+++f73vz8VJmKHccRcR9VD/MhrOcijMEBqFF1HO2ixHf3Rm0MhpTnDl37+859Pclnupj9xGlb56Nyc97xGBkdkUOiIN0iSPCmHK+gUK/JAbEM/DvZzkBH2Ry1ha2AgVYinmCrmaaYhn2KIuCjOiIOIC18XaxRJcL9HF5X8Kp7d233ZPFsRFVDyp0PxzWYZC97wDD4jv8K+mKTYolM+mWtj+zy/dKYPJE4ewK34hFiMOzjzk2C4xhk+xb/4u8/IkbYbXBov75sfMo8DwbvCwlm8MkdzE3th5Fvf+tbEHcgR/zF+9SvP4+fOOIcGigajOW7RS7DrjFuQ0dxwPNiQt/m8bQ06uuIP2cS94NjZQV56+te//jUVU1/5ylfurhwudn6jJM6jraxqlXwku1TMJmiAOIpJZzDnCBAhkD77vUwi969nY3FOQc0yFNDV9/OrQUVUAAAgAElEQVTYdRKBQIwUAa6uow6E4C6gkBGABDYJiSORgxJcg6gBdO7Zc2YEyYaygU4Qs0xkXAdSkCOvOed6RvjPf/4zVSrvfOc7pwC+BRRLMtKH4EavltGQNMFFslO5CzLAoSKiG6TSa+QCIE6dbod7LY0z97rrARRZoNMELXOtBzwEJ3mc94MT+GGnJCUyI2eKLp18c+S0e3WGRKgcBQoFgqSjUmRLY+cgD1nJ4oAZjiW50q+OsYA6p4+l16rMEomCTcCTtFWusCTRpEtnXPpxhl86c+jIkEXSEoTXCsSM6SwISR6KFHs/dUBg09gOvumwN99Stg6RzqnrHR5LUF7/0pe+NCUt+BIPbHc5Qn5hyGEusIh06hog6ZKjit5hPAUcfLBP8OPsObspSHVR2AlJQ6yWbLL2uqSGmNGTWAIjxmWLjBe8OHvN+86SFqwo9PeS3yobQqCrQ/8aA/AHw0gvks2ndWTaeEwWmAme+bvCH/lRsFzCcNUd+0ryErUYrshFHthDLMlYOcennaMn+vHYOV0/WDROb9zh/0g7PCpyJFjbuehA0eG+7g8PxjJ/MnmeI74UWT1HMuyJt2oGg1X/Ix4jVLCAXMM1GcVmMvN9WEWQR4xV76FgETf5rRyJNPB3mBar2U88CU6qbugn5BcG6333PmZn5Jdfi3VikJgcAklezQU52gqh/C1v2QrHBxLTtozfkl9k2tzkl5/97Gc3jzzyyOQTuoG2RrADvItHzniC3Ar7SDi9wb/P4Ss6+5Fnq3yIIR6DcFodcE86gRF2go/sF49PxYecFS70Q45L5JdsibVyNrKL24l1jmxtwHE0NuNX4gpdGY/enPmSXBSfyhl+PJa3rQrJdUj2Vr2Qk27EKfggn+9RaM4gvFZ0YFgDRrFLN3zK2fhk9Ji8zlkx1SRg567OLwJqUAbhCLorABlFeC4xCIRAxRASM4MZ1EEhkjiDSihr+0uRHJXgGvkFShUasCBGCITEjdRRRBxYIkSAOTg5KQKRAXhybO38CmAqD/tJ3MPYAspb3/rWmzt37tw93va2t93k8Lrr6YVxXnzxxQlYZAfAraCIk9WzgIGg+AIOMp5uN92zlYSADKvi6EoCBBqglnxUfSk0tsrjesEVYUJYVKFsDWz0nYMsupUJHM7w4vDY5zgMJ2M/+IqT+fkbHROOtIX8ko3jsZs52h+karTMqJCDZ/ohI1LDadhIMhdU6I08ChbXITSCH/LBdtUGPY85tIBj2Q8+dOrgwljGia+Yf2SKXAku5GM3drY82Ns1cx3dsbNAws9gMDiFYaRTIHZNCInP1M/Sp+0HCgc2kwSOdH7ZVMcLsdPNtJ1Kd0Zwoxd+a87BQ3QDY9GJc3DG/xV/sKiDTd4e2+QamGEn21B0CRAT9zQeGcQYBZMD4TJ/GBZn2I8scCwejSC/ZLFNDDkyH/NKN8bY5KEf+HQmp6SUrUXkCWEno20RyC+Cd6nzy/b0QgYEACkQY/iOsYJRMZW/R0dyAV+nFxhBuvlSbEifXhOTFCk9Pk0Gsoj98KbrbdsEcgAj/IdM5kuOyCMP8TG2cijWkjBD+mDKY8W7Rsre7TLB0NLZHMQiBAdWjCl3wgtfvnPnzl2sbo3D7ZjGQhbtlbXSqtCWf+HZ/OHFEczGrzxnV8/pVGzW0LmElXb8pediCd9iO3nKtgv+n+JZ7LGdAE7FXZjBJ+ydZvel+669XskvQsZ3zRFuFNTuL5/zK6tpbIFwKVRshUHWfcndKuGjjz56VzfIF5+09WFt/LX32Il8iKscjsRWPoEAkxFO2MZBJ+wD67ZgipW2LqaAWBoPphBK44nzVgJhXrPAXmgHcim282H4hAHj0Re/wl8cIb5iSz28TjaY1jjADdj0Ep7FABjQpKELOoVdupCzrb7lexZ0QbZg2HhkiN+TIRiOvmDJY7lF/kX0Vzu/BCK8ClvQAJYo3oBuJrgIZAKxaoGAthswimvq4T3AWluOtPkf+IGP0uYMmQ6R5TtMnkMDtEoyhgIMBuS8Kuw4OiXt3fYANJIQJ7BdwL4piiSrCiqHZJXDlgIkh4wMBjj0gHi4H/DPzXHLa8ivxCSQSDbIG9vEwc2fvJYy6F8hIxFKUIDFaejUmJdAOieXwKjzCycSDN3HOTx2wAG9c2bkJJ1GhNLhde+naGJHB0Aj7DqSEkdPooyM5qTAQarox7KjL9TpOpi7hFzxydERYsGGHpOwJVLY12VDfm2Z2JMM4Jkc5iLokIOfVDliN7ajN+d6kFGwk0BtwZBM1myW95zzWNfZ1g/YDE6dyaZICPGNHmHUZ+neHPwGZ8ivjuyezq/7uS/SKxDp9kiK8KnjwAZwnHhDBx7Tj4Pd8rg+hx94sqKhaN9DfsmGBOkqSnBsj+CJL+IcMsCH2MBYdEEP5CCnZApnErYiPXrsOdMJPcOusxUZekESLdFKvkijeJziIMmHrwQzVT/BD51K8uImwnEJw4lN5ECkdKckNDHV/eOj7k8Gr7EZYkMn8gGizJ4pyH1GPCK/98VB97+km2CXPfmzlUjEn02Mmzk6e04eutCFR/qMJeY4s086npkDQh7yq0t6SZ6978undIio82Xys6MCn41z38w3z7ee+bBVAjkKqbZMz25yNRvRk7knL5In+I0OyabL9tBDD025aqsMc9ezdTq/bCA31uIZAVKYi3HiLh0pXnR+xZm5e156TZ7VdRdjkB85ynyRKCsm7g8TGgq28vBdRbjvGSiy2EV+4ncaD+SiK/ex7eYI+WVnMZUvym8IHz4hHrOfGATD8pIxHeyWszzFxzQLfX5NF/wZ/sQkPMtKB38wL4fYICcl9xkjvuWcMeNf4o3H9Qiu6InsyCyfvYRneNUIYWN5SIMJDjQp2cNKAPzKl2wXHQS3npPDc+cqq8fiN6xrfM12fgGTggjqsYoRCBC3mojcHHAlBgmYcwE0AsR4OrucJk5kcMHOUrNAvrSsZFwgEPARuiVDql5USYAMvCbOSQQwcnJaTo4YM24cXkAkE5ALdJcqpbnxGZMjqU4uEY98XuCRDJAcHRkyjdz2IFEiNMgtAmpuSK3OkyUM1amlGaBHNARalRmHB65s/0iyi9y9Z+O7h0pS5YhYIwxJxM4OXSt4ghMgtwxPLolYwrHdJVV5nAh2LO9LknQffK7JBkeusyXGl4AQFJ0ETg0rghdnIBNMcAoyCyJk1M3X1RcUkSlOrnARqOFd4BBQ12TIe2QRcNgHoUKadF74Txw0Dgsf8KubZZ9d9mu7nj4UFBK+zp3AjDjWcfJ45DmYEA/gB/FA/uhG0ubXbNj6az63JIv3dc8lFgHX/ZAzeg6Rop9gh91gykFHbMbnE/wS+BS88A8vlirpf0mGtdd1RqxAKVT4kRUShY8EKn6ZMwyzKTKp4GcjNlSE2hogeF8imFU+91X4+/KWxGQ8+4YlZMnE3GFRDIEFOqEHWOLPkjHSz6clHr4kWdCTz8G4AhNxNFYvhsU518OcuI68irHkMlfbYOjHuEiKGMOf6dB8+AxCzEZsK5+Q075yelyzQ/senOnGaUCYOywoSOhfYlM8ORIDxRvxha3MAZmhA37ks2xGLs/lJjJbnYH3duwRzxEdmBKP2A9+HVYHbWMJHnLeOqbP8S3FrXnKfeIHv4KZ5EBYggs+Zv456MMBUwiHWCifX/LnXjnlCl1KOOLvbAYDcj6cWZ3TqCGf/OQ6KzDIkDi6Rw5xRs52D3hVqJqf+OqL7w7+iuQj3TiFXIFsecy3yBN70RXs4D9+Oo3MvfPvvQ5hlCfFWj5sPLbKQXfipgJfM6anyKcHvmDlz/5i8sODrqic6IARsQIG4NK4KdAQZJ1xe4GtACHlMEQfidM+S1f0xrYhv2vzhllcTKywQsH+4rjD+O5NLmfzh2VxNnzPYzoiD24lDpoXWSKb4huW2Fou/q9tDy35tSSq3c/4BkyioQyTAxbL3W4GXM4CE2MwTBzK5xAQyQQ5Prp/iKEFV04h8JHPeCYnIDvrrgqQXkdgyAC8qj1LHwghw6wZZe29XidkWIDx7UdGCvm1faJ15hrwEsR6grBrJTKBWzdPxehQQbEPkuQ+rkEIkF9BUfdT0jpKfo2vIBEEJG6dDcmO3jmCJAW0OrjeZ//My2clBLKpXtkzjhR7IR+wE335zJptvM8+9kVayuEUMMsZ3DsB3v3JJhgqpCRvyyzIra6dz7EZB6cv9+IT+fLdJRm8Txakkd4VfwgIxyRHzvzEOJKVJChAW4LzGIHxGTKTFXGwPcEqwyVitSbflvfYKsEY+ZMUEF/21YmEH/av97xkI/aR8OhckDN/c4xO6Ie94CY44Nd0okjRpWAfREyAdA0fR2IQsBTjVaYtj8UG8az6FF+ykpC5Sdb2ASJyAi47ii8644gd0gDba+MmjrhnijXBX7xAPviROcGvOdKPeSYGS9Y6mzDDr2FXYBe3JSu65YMwLNnpVkswOrn03yMb+yv2zUchLyEr5hWIkj9SLN6I/b6sSHc+w18lcISTvdiSfhSROmZIcpa71+So78EZOygA4QEWLInyVwUPGRzkoU9dRTpGusQYzQC5C3b5E8zJbfKGnCIJIwmxSx17xGNy0JciONhmT34ER8FWzlvH9Dmywz9CkDgDN/BpTKTBlhQEymt04HWH54ihOCy/Ku5acrdXNnOBC3bJF+aRzsQP/qSpZYWN7/MBhZVizeve32MXGGNX42qkKJSy+mAlFxmEGY9t6RJ7FSf1gDXP6YX+5AM2ZMu9X8Rbs60CTGyBVfiMbWInzQJ6ku/58tq98h5cKwI1NcUH8+EDFSMewwD/UHDzCz6Gv4lrGlzigFUgKzpiC5l8LvGbbGISksznxMA1zHhPU0VMsLolVoSMB5/wG1+Fa4VL/B/Hg2e2wUlTaPts8omcxa5Wf8Un8r9k2wNgAhdhOKnug+4pZ4jSTVbSEQB1JiRgSjVJgVcXWIBRORHWIVAjosAHKD1VSgw2dxYA7cviQBKEhCgoC8bp0uiA+paiLprgQg4JVqdKZ0CV33ar5sZaeo2O1gyaz9En0kRG44f8CtSWmOmNc0pE9Ohck1LPGMYSGNxLwkEuHYycTjo5vIeE6c6OJL/Gd39jCSJArIsBcAKsJRsBw3YHmDJvWIsOYY1siBX7xJFgDkFHSMlNT8Fn9Dt3dl/XKTAAHl4lXSQJluGRPAIgYgHjZNapIwNs2AdFboFH5wQxhWvEQjFxidRELrIgDqpa3ajoInIIMmQTaAReHXsFCfwakw7JSBfkUFjwM8mg4iTj9Zyj97nz3OddZyz+i3iTh9x0qMPIdmw499ml19yTPc0XRuhAbGEj966H9wQ2+ouPIwoIg+QgGAp0bMXf052vnfElOZZeNx/y8Ul+5DDPanePFXMKJ50FiUSholsmSSBpcL40htfpwRleBWYJRvBHWs0bThBXxNcc4cDr/AKR5cuIoN/MFVMkN2QFliSnYJh8GgL8Er4tMda5zMkY2ckonpgPUm88HWnECMlEcN2PfugpWEA4LOHar4+Im4PEKPEiGrqTW3OBe+vgWs5HnMR789bVU+zHTs5kdn/zEBs1aNgqOqVLyVE8EKPNQW6hl9hlTi9HXnN/q34SN304ziC/SBn/dG+4lHvgBq50VBEnPuV9uHImCx9SyHmfnRGlkeSOXvmlokmRKubCDb2wrQIErnX6EC4EyrVsFz/Zqn/35sc4g9VROYHNNc0UZjAMq+Sy+sg+sOUQn/AFZ7gVf/m4JgTMIIKXthv0yhvMOZsvXxPb2AV/if97jrgany/05gF6UGjwVz5JD/JOG3PhBJnE8cybj8l9MKUhoJljXHHKZ+NH5JO72c0XKzUYjZlcv6QH85VXfYbtxXTFTyW8xpGv8RYFv0JfjmQbXWz60MTyebiuHAKmrfazp2YG/1Z4v4T8IlAEFYgBUcXlZpxHa5wBGJ7SBX03yoQYgJJ0VRE9jsdIhFY9AJTlDUHI/fO5PWdy6sD4aRptbABWAdl7w3lMTEDUNZM4KJIsqgUKc60kkeC+R4aez+T+9CVRC0AMSqfkk4TIbg6Sl6Tt8FzgvpScemSo1wgAHF3CBHoJlD6yz9O1R2zDLnBAtzqT5qEjA6A6fIIYcsl2ro2zCzwSKx3AFx3lUNXBGQK5VTaBW6cW6AUuB2cmC3KATEniSIcxOCASnP1xcM9xkAaERnUqeJjjFlkUBciqQC/pIdZkIQOiSyaJQPIWTMmrsEN2kUAyCIKCkeCsK6Bwo8Nq3zMeZwx+xX5khmP+jVgho1sJDDnZ3ufYQjBjZx0GAZA+2AZunD2HJTpE7ARelTvs8iuFtsArMApySJlEBldn6MQ92Z9/6qLaS2p8yRRp8J0GskqKwXiPHJaDUzQqBBAAh9hrm47HsID4W0XQ3VOQ0InuDx8RX3U7Lf+loy45icESHqyLw1vkir0QSknZ0qkkyBdgO/av96QfeIZ58pJF/iCHVRwyI5v1M2s6ir85w74YIt4nGbuX+JZ75Hr3h+Hsp2Qjfp1ELc5YxdC0CdZzj9FnsogdkrUCkj7YRm5KA2fUmOI8v0iBD5fxKUTGcrk8RAZEgU7IoZnEx20X0cjgQ1WvVb5e29XPeIxbIFBw6P6xlffgwh5PeLdCQGY5Mr5cr23ve+k5kq0olZOQX77Ej8QLJA2u5EK+BONkyQFreIM4pLOI59i+Yh5HZGplplO8wZ5fXWqxNjiBFUWK2CDu+nIc/2vvsfTcfc1TjBCfxFB8g44dYnG2L9kuyHfjY2IKn/N5TQFfBlRE4Vfkij/Bkm1guJmGVTjQGlb4nfwqB/BPOGR/3V/3Q2pxFjLCrjgmxiLxChp5G1YU1hpdchOZ6I6MutDs5vtZwZvPrJJfAlmqJpBqgMMSUKKmuOyNEvyARuKSoJFMwEJ8dXVU24iea1xLEWvKWDJeXqcsBrRcYWmAklWnJuZskmSnCMYBGNU+ZwdYwPb5PTL4DLAH8M55jVwOc3RwNglCKx7poRNE3OZ5oEO0gJhhVWF07UCOONVI8guE7CX5WVZlUxW+goXeyE2/mVd0vfXsPoKlAJJN6wKpjiHiKyF6P07h/pK2QAvccAbwDk4AuMiOYmCrLCmEbH/QPXYIGOTx2FkHCal1LYzSh+ArWSfQKF50qkIuBO8tskh4SIOizD4otlf8OJBzwR2OJQMkXABiI8SXA0tMKnE4sTUk3bXYbIssW681Bnzr4AlqcEomduLbEsnWe7rePQVSBbblQ6sCVoeQSXahk+DG2VYq/gQ7fNf2KXix/C7oCXZWDfi4eAB/WxLD1jnAALta/RLzjM9G5mDpX7Ig55b7mqOEZz7iFruLoXSNxOjeKloFcl0YCcg48GCuxhNvvC7e+Jx7SJ4IOnzrtkpiW+SKveLbGQ9ZoIfEDDbNfcU/8xGHYZ4s8CxJic98if5y/ZYzOXyWHMEEWZbipWsV5PxPwSauiC+ILx/XBOB/1/AnNoIR+oAZduZP7KOY26KHtWuRG9sGdMGQNYSbHyElYplC1lYZMtAF8gInXoMv5EBhwd/Ycm6sau+5971Wr/GYnRQq/JNN4MBz8V0ekgcUbmyTzq/GmevdL1hbGm/tdbq3Amf1ERbpXrzXUCCXeyN25syfgi8YIyN9iEu6jPK0+K2oOiJTKy8Mw6vcyW9whtgHbvkz8osA4mBbchE55V2fwS+QR8VAjbXytMPryD670IMz3cCC53K5+M9/4MZBTs/hx/saWtFNxUE7Z36HCymMxVBxTnHCR3BOOGAzcophsCnusQm+x6/FfUQ3K3D0pmHEB2w7zUpccsIq+aUkAUFwtyyMEDCGjc6WXSVqhgIUiV2lIoFxtijFkq3EINlTNMVFCTm3iuh5TqEMyCFUJkideztzesvduncSB7BQgsSoyycxRgE9Y61dYw4O8mQ+Ejqnzr8v6XLQgeqFLACigECo7KmS+HW+vE9G+/IsJyB8HHJt/C3vsZNuLKchD3InQQosgB2Q5rzl3vVauKEL9qAH9lGdOTxno9ZhAVlCzHKUwMeZBCiFAPnotY7T8zjOERlgQ0eQLMius/cUZSpJgZCjwa3AaHxYhqfgd49+OLfAYf46LjAoMCC6iLd7C6wCKZl0fZF+gURykpjgRFDhdykcgrkeXRy9hs/r4EnSgjDf4lcq8b1ywIFiRAEoztAzUstG7OPsYCO6i59JDjqefMjyo44vPYk/Cge+45o9turRk/nyTXFPp5b/shFZdE8EZAmih0xlTsaVMNxPUSp4W/6TaG3fymEPpFgLL8YgR3zOGfGVIBBo92ArulGA83/kuPW/3jmbN3kjs+d5rd7D/eHUsjmiRy/0Q0/0A/PiUXBcP9v7OONWWXw2MuU+nsOS+KKwQjTjU/xLE0A8pBv3yudGnsmQ+5m3pXNyIDGKGqtdvmiLkOa6o2exz8qJPZS20vAzviQGakDwOYUjfLCN3AQvillNJf7Gh6LnOXnqvObez2uuc8AF30RAYVTH1eGxQ64UH3Wfkyfhnk+zT7Ce+249y0niPByI7ebu3nQTbhJ8w2bFFtmRc4UDkiYvaaqwZ68eeuRF0MUV2zPwABhlH4fHDrjRxJIreu45d418aix2hgn3ciQvysliBT1EF/SBNMtb6Z5HvhBg+TJEU2EzN3b7mvuyPc4mTonjimSc07Y6OcYqLjnJRYZggSwKOlwGUSYPWeQE+tOQtUsB7hT9xjI+wrzY+XUBxUjSlmIxZWeOI0mnytZFdSP7OxBfCVHbGXO3L4NDE5CwAUkEaJWw5bl7uU8O5MIyoPEojiwIjKVjlaTETXZV3FE58nkB3rKI+SEwEg/nQih1pVSHlnIBQhUDwJzaY3sTVSlIBCd0uA7xkvAYi0Nu0cnctZEVYHS9yaRC0gn3WHVXieUI20QOY3McJEDwiK0yRmQjgw4owpcgrGtPd6o9n821uXfP2TjVcePI7kemkBNOISCqEjkNGdjKCoYtD2xcddQzdnuNsfkM0iKpeBw5PCaL4COo+UIG/MIKOfiSYKOgit+5/x6dtHJdek4uPkM//EiRRi74Qc50Py7dY+l99oFz3UhzRxphPpjxfnRkrpKP68WhJAedPESCTBK65CTWBGNLYx95nXx0Ip7Yy4rAIFSWli2fS4jk3jqGAK8TrvvmvhoNOiLIiI6/GIz0i3Vz96cjXRvbZiR32BFX4BkRSsNiq1yuv4Q1OnEdvSO3EpI5iDVZYhYT4Rsxi+/tkaXnM+R1iHuKRrpkH4mRXhAIxJeuFV57uuE9crTXwIYl8xTX8oBmiEYTPLXX731Ov3I3vLivpoOmj5wuXyO+Ot5w69AM4c86r/J7j32WMFF9T7zi12KowlYcMX9xVSFtFVS8c9jCJPfZhsJOYoyVDltCxJmQsb06IYvYYTUi2zIVBnKMmLx2X3ZDvnzW1irk17YAr699but77ERP9CO2sQ0fpg+P4RbJI4t4uOX+c/ZiK7Z25sPtkft73XhwanuiAoUfOchmRdu2LIST/7v2kk5zb2exCVbxJ4WqWAen7KVoc68qp8+I83xbc1beZtMUCIom8UbchHnyB5f0IKZO5JcTIGy5IEpyscPzKCfv5TX71HR2LckCrcEZS+BTAQg+7pvP1Qkfeex+uScCDogA40segq3gwnHIZfkNoI4SGPLSg+CgQlJVU7JA4kDeOIbODYCSAziA1lkSAmgAUT2qVhAuJM9nJS3dLx0gCW6k3uhIlZv92Ei3hAAYR+yw5bPVZh7TperQHjPVHgCzG/3pGMGkgJcxYu88P3IOrjkUB9GFVyjBLiIFO5KiipQdjox16bNkQfrYX/dbIlIg0QN7KSIFAM5+6V6j39cdEJB0xHWoYNrSlMQF/+QaPebc/ehIPFEE8DX7GelIguRrfMlSoaQw9/kRrwUzMCt4KrQVsCkG/GybJL93LKTQ53V26VyhhJTBaGLzEhYldp1gRT5bSUjpyiDCEokEMtKH5uYpNtoeg9QYNyQT4dEkqAlxpCzu5WCjKpeGiJwgtsCKOGx1TffVNgNkXDepfmbk48yRXGyn0EP02EYu0OyAZ0TVCtTosWGHDIo1hZECUUcNURBrFW4aDXzZ0nK1z15ZglHj0j896+iJGQi23MMOYm1yY3iD1zyGHd/ZkR91/xRTR/WjYKRnBbKiwxi+e2E7iHzbzpfNHGKzxgOiRR652wrNGeQXAdQIYpM0YehIjOHT8pJVQIVMi/VW/i3Pq83q54Jf+MFLFJBWcPg1GzqLgfSpWWR13Upt7lfvtfY4ul46k6MebCmekKUWCbAjf1pRkAtwPj5g7MzF44vkd01Y7wGMb2NSiI4QZ2IgBzKn4kzCrgNfum/P+5RkYpKztrY9Hwm2QGMJh9OoIBgucvTce+0aSUZlYkO4zoHgwZkFEwdy4LluVJa2ODSdeM/+K45M+TqelnNy1tVC9kZXk3SF/CKZHJd8CINukCWWtfmOfC/Azj0FFXtus8+H3ehIBwDJsTw2ym4ZMzjkPPBr64wlR7bkyA5FnGAt4NWAm8/mXiPO5JBwkEg+xHFTKOlKIFj0AHdbA8oI+ehHZwRhIJdD0ZRf4CD/GXohe+4LN4I9n0Oi2IccyAy5JHPEGPE6m+DBrO5HvsQq5klO/EkS3bOlqs6TPmFebIu9zX/Jlj6LNCPKYootBhKnJEA2MUmh4H33XrvX0hhbXtfB14lB6tjJmc0QjrNtQ07zoz9YcCAs5MgWkMQ9yVGRMZpERFfsErt6je4VMhpFZGAfhFyTCBGXyGuhn/scOdfxfQEO6RZj6EOshQ+vaTRoAMgRwVz97F4ZkA7NJ9v5zNmqcHI0XCItDrI45Eh+zVaaSLrE7IQQHu36moM5ZVuB7UOaZbbmaHC05Dd+Qh9wSz++eMuXNCRCfr23Vz/t52BEToYHORrhdeio6qzSj+1M/CuErr3HnudijbiGd+BKzsGBM3/i10Ib1DMAACAASURBVOyRxh5Z4EdDxMqFPeVylS1qI2Wbm4/7K/QVrrBMDrgRh+FKTuDba53xbvLbOoLnkrHlDJ1Pk0ceCIHoOSyR2gbQgmpuMltfA0wKUGFIzqo3FYCAEiUAj06n7Qgx5NZx5q43b51ky5PZXA0I5iwZey1HnBuhIpv3/XwVR5KMECtO7WAooKtJb278Pa+xlw6vChz5RdhVaZZU1wCyZ6y1z1QceWy+tmLY7kFHdChIcm4FjS9ZCQhr99z7HmenEx025InNFCvG5zzsC99nJWwYhiU6kKQ5q0Ai8MOwZGCvE6KFhO+d59HPKWAVIip7Qdh+bN0jHR1dlCSJo+O0n4eP4AUG2Mr+LaskfNs3gQU+y6QSWX42y7X5XHvPo8/FHGTJTxDprkrqMCvosp0voY0u1i7JTP9iiX3kOkY6Q8GyM/KpUyTGuPYs3Yix9CO2GU8+4EvijCVi8o2Mw1Uv5pW5JS9oKuh264RLiCF78KIDKjfxbz54lk4iYwiEpV25Sh6waqFQse1CU0L3GfHIZ0aczcvYdKNhI66xiVhLJ8go2/BvGBpdCPBFX9wNYbKy5lDgp6uLO/Bn+THkl26sxCE3igJ2Eq9H2IlM5mlVjy3kGTiBg6rzYNUZh4FrxFTnGvm1P5W/jyS/sJsfDcCl0u3NWazRKNKYiXxV5r2P6cN2C6tO/CbbDNyPXhTXihDNGAUb/iBHsRk/xylgCC9CSuFtryxrn4uPswe88mPFFL0kZ9rFoBGKhCt0lu7XTX7rDQjg4KgUpXJNwGUwiYBSkGJt57OSAaMIJoKYPb6MAiSSMxkQT8QKOa7yH33MebT//URKgqpxBVdA4Bw5VGn2vMW5JSNAQWaQTrpxcCCHe58FHORBMWB5WKJG+HzJAPk6qpO9nwdOBI8zwYxDZ0IysIStEzEi4M3JZ2zE19YKhRMbCbr22tKNJS0YZ5MzZGBnToyU6PhboYDZkClE3Jc/vM6R5+ZwxmvkMl9nAda2Jt0bsuVf8WA/vzV8hgzuGRmcFYRijWVTSZOv8TmJXOcKwaFD8o5MCu3cJCf2sjxs+ZO/J97xc/50RrHfyhH9OJuvrp5EIDnzJdixgqJLZfuBTn2IzRlYjnzs5MtDSBY5FEzIpoR+ZgFX54QkIUtIjX3hViAVlDBDL4iDvdW2rkQnkX/UeS6GG4sf6xjKG2KwvIWA+RIygkH2UTK4T/RCHsWqfCTG0QUCjkj55SY205UW60aNb0zzUZjaH8pvFWIO21DwA51UW7rElpA9JMbKhY4s/qBBJFbDeeZzRMbIJa5ZgUVqjdPeOzb0unnwMdt5QtpDfkf6uzn6tRexRS4M6dX1xWvo5gzyK6bZp6vYsFKCxOIn4h3di622M9iaCD/8SJ5iMz4uBtsHLJ/iZXTX6vOIzepn6YivGAt2FXJisIOfy+V8ypzagqbe5yXkV8vaZN08hq8Xe+x13VaVEmKpPc+RGEXVRhDVJAH8fMgZ5IF8qmSkwCT9jBpjmDxyiYhzNk4n2Iw2BqMikjp1vpVvfF0g3UrLAkiTQyKkAw5mT5fAo+oVjC0hjHSa1k5zzwV8y1ucV6GAdNryQJ9z15/1mgCL1OoaWk5XRQMt++kAI77wNToYZz7wi7jp3iG59CFR60DYwmPPNV1x+nxmxDk+BT8OuNTZFjSQE4FFUkRadDd1PhR2nFjiHCHDlnuIBYK+DjgyI/jyM0kbpu2hP3vLjCCHNCF2OmR0IykIujqKOhG2Gghka4Fuy7zXrkWqbNOBWXoQ7+gECWYv+qC3tXuMfM+cdVqQXt0OGJYwJUu4ttJjSVdyHzluvVfih1jPb+QE9pEXEG/+fI0tD/ROF/DgFyUSb8khUSN7iJe4PZpkVn3kMR+HB6SCHyuYbK/iSxoQOmW+XBaCl8+NPGusyJW2DSBVCny5mg8pSuBGc+jM+MI3rV7BgAMeNTasBCBZ9CAvkk0O4OO2K9IZbLFrYuZI3WSpXz4Khuv9E6+95n0kHL4RdvaT+8WCEc0jMoh1eAUuoVPOTmIuXuUsR+qY+8UtzYfIWuXMa71nenWtuAaLOtk4jC+ZyZPkYqds8WSb4IdP2e7K1xRvVt7kqt6xe6+r88MJ+O+dO3emFQW+FN4pJuNg/L+nWdRNfqMkZ0u0BhBYORAlODiUZUhBV9DjcJwvn+2d7KXrAJFjkAHx9OUx4wu4Oh060faYqVR0huM8l+675f0A1f4tX1JCmoyncrJMjNQAg8cOiVtBALyqpNsgvwINOSwLIJm+nOPLiBVcW3Sw91pBx1YUy3CIlSSFRDg8RsoRK0GFbHOBae/YPsfRdXsFMWRB4FXN+rmjdFot/3D8I+Osfda9zc9e3hRwHFmCVjxyYkFFdwqp4Edr9zvjPcTKaoQtDoKxfyYkG/+28iHAiAVnjM3uxtdxsJdXF4itUiQpchWUuhQ6AL58OjrOzM3LUpuin63IIOYoWHR9JUMJ4xpykM04sIG8KPQlZP5ja4pDbBaf6MeS5tx8jrzWzhM5YCv79dmJXuBY95Wv8/uzYo0YQReIHqyI/+yjMGEjS6MKFDrJCsGRufd8lo/DJfKgEWJ7AbKgU6bjq9tKFrbJ0nmr055x1q6Rp6yYIJyKIzGWPpAYJEu8g9kzC0exVDx3yNuKWQUB3cjhcidbkQ2x0gX25TufM7fROom+YKY3t8AtfJFffhpNfhVjcEAvGh8aeJX8KmgVB3J39tZmHkf0k8/iAeYmHylQNKbkJw06z60YZ8UAEce3+DhZ5FLcAnGno8g1+swGco7tF7iWFXQ8Bp7xKs0HOZ2/IcmXxt9EfgGFkvy2nc3oQIp1c2Ztet9S52QGZ0TCUm4UfEmYnvfdC1BUPsZMMkR6BRRBBvE0eaT3jGBLhsyNzHEi42UOdd6utWxsr69lWsnh2uSXPDowQAK8go1qjsOdoaPooT3TFcIEQ0iVQoWTI30cnp4EvTNl0vFF5pBenQbOI+DoQpOtDYh0187jyHNEVrCQeBSJAprOs4BiOdDSPh9CtI6Mc+SzZIQN++3sS8yWEJ1yOBLkJMyz7JQvlBqPreBDcY1kij26aCmQ4uej7TSnP3FNgI29JCWy2SqjCPaZs3QSecwTkUQ2/bykBJSOHt/OVgOx2AqLrp7r8/lR58yTv0iSiIzVC51WviU5STD82SoKuVvfOiqL+yGZWUWygoLY8SW+LWHb5mAlTrdRQ+bomHOfjy685zF96KTp9MKwYikdM8WjPyeon5m759HX6AVWdcR0vPmPFVGdQz/X5UvWGgHGuYbvZD7mjVjxcXvmycWPxGHNMwUC2XL9bZ9hDOfg+1YFxezR5NcKAV/RdYVZ2KUTh+82wA6ip4BRPNQO61HbVZ+s90I05UT5iW0UJ/xaEw+Xse1D4XSmfSKPLRhIuPnb9sHHxRmxV/wjJx3CVa883eTXDSUZCrFMy4EJwDj2t/rWpMAjuCB2OlatEJlI+/qW5+4BiLoJyK+gzyh+QUGg0RKnBNdsue+Ia+v8PM5zZ10hDnOb5FeFDbxsJsggvxJo5Byhg0v34Gghv8gCYhV5EAirCQosWDtDLglBtxnR5jiCiu6QhCA5ch7BuSamUXK4j/tamkVa+Iule91UOFZI+qKQAkCgpYdL+jzrfZ0oHUWFJMIp+NmHZ3+ewvMMMlXnIskIrvzaFh3jS5I6d7p6lufIVwvO+vmzHluitlSseESwYFeyksQVc8Y9WyY4Et+saulyWiIOgSCPAgrhQiD4NyIG99HJSDy7JyxITjpiChOJG1byhWcyBC+jdeN+ijBE05d3NWBghQzsQw77AuHYapPOcPQw8lwJhMcKR4TbyiTMIp91eVaequPXeFNfP/KYzu0vFlfFGIWRxou4YxsCXYhFxsj4dR5Hxr6EMcWQPciaVvQiDlspQGzkymv9fGKdYytzntMJH4Ihq6Vi0mjyK5bZ6hfym9jCn/MXv7iD4lKHtq64xXZ1Llsex+b1PuZu5ZpPaXKyjxwFxzBtpUkBFZ4VXW0Zt/daPg4P+Aq+AMv8W8xTEFiJs01D7nZtryx3ya8Elz2/VQlVQAHUEoqkhDwgDYAr2ArAgoxlHA4FLEv3qffc+tg9BTsgRLgRXxWAQEsJt7U/cm0ejGHJK+RXl1ESvcZSdmzgbHndPkVfWkJ+AfvanV/glAx1iXQQbVmBISD2WFFTHXtNrz3vVUfwGKmDXw4Ev7Cji2dZRyfxLNxWORAF1Sr86sRbvXCQx5+OIFeIzdlVddVflc/rZBRwdKgUTIKxwANDiKmAGWzV+xx97J7ih3FsD9LFzLd56UhX3A+Xi0PpJmbMdg55fdTZ/fmtbhryK/g6PKabdH6TTEaNO3cfOFUg+SIZPUlOEoK9vjpnXocheBe3z7AVfYjF7KUpAtM6nHxKQ0THVef5zK0gCJ7xdRF9GQk5YBMxRVGCqOiAKyR1wLO9YE6nI1/jO/ayatDkZ76QcrGGj1vVGWmTYL/6pbkqgsR6sQVGbHujJytLMFSLopHzX7sXWeUA2z74N1vBrpisMy0HIINr97j2e3K17UN8H2GXw23NsOd3BKY07HyHyWqgpgx90EvIr+fiMPu15He0LuRo84URMQ12+JRmp+LWa4ivrW/XiHUINt37i2IFgCKJL5HLqqAcpZATC04jv4KHahZJyXYDxhFodbIw6VQCDBKHHGkc96Rwyc8ma4RStQiIXqtj1scjZdh6L/KqZi0DIjuWoXTHr0F+IytdIHjAI0Ha/6aDLwhdU0/2Bemw+vkbtkN6ObnAJ0n4ApNAELlHnCUZRZGEY2yFHvwqnBRuqlikJt2pkUkp8tOx+0o4tl3oSHFih0LSUpKulYBjq8E1gkpka89wSU+6EFZT0knzRSa/7evb0T5zhp4QWt/CttSGvLAT4i34Ilb5eTUyCnSt7KOft3PUDUG+EV4kTzdEt97+bHpprx8tT/Su0+GnmpBunXE64kcOqyeWAaOfYG+0LIivbpVfVaATfiUhSdKIsK1NfOpMLEt8ijF7iyVmpBvJQzL9DjPZKvk+0z7Rs/gFD/waPuDEoXCjF7ZDOkfH3dyPvundKix9GJtOrNbChS9tZU/kmfpYw5vimiyaMWRDesUaZFIhFeyu3eNa79ERgsu/NWzkLB10tsSHxPSjsijOEDycRqdVvMOt6Ea+5t/8SnFn28PIBlFkhx96z5YzX45nF2PLATiDXOk7TArrEfPO2Etn2+vkA/wpcU5OoCMrKn7lh232xJjuzi+l2MqA5GLbHEqg1ZJX4QKtiuRMZ4pzGwORoRRBDxDzsyhVibm+vnYbj8kLNIoGVTgSrDNwDfJb7SEgAxDHshSGhAlC19QT0i8p+nKZL+eocuFIshKoJSwEeZSdzF9BZlzJAKEzlm6iYKIzAr/ZamHcqrNRctAxB1VAGg95ElCQ33xJU1dB4Odn17RJO0fLR7oyH/vYx6btIPCi80BXvtzgS52j9YRICWKIgxgT/cCGsenJ6o7uPFvtCXbtPHue13HYRAK0cqALIjEhN7bMWEXh064/23bG8KUPiRjhTLIUk5FPpNgXz3rmd+QaBEtX1TYi8Y0cZEAOdBfhhKxn+FPktv2FP8kByB0yFZ+yL1w37eyGTGSRI/kOcqBQJAfi4ouivoCo42t1VKF9pk74kjjjF1nYQpHv0HRRrPiiGTnJfTZWo5t6NqZmhN+kjny2Mul6IoByUr3+th+zldikaMnqKV3aUiKXRZdH5DRnW2EUBHI0PxZfHLAjDvIvqzq2X5yhI3ZRlJmTGMen5GhkU57GXxS59vD7ImWNjUfmvvZZJF/Dxfe55Gy5AJbpiI/5Qi+/24PjTeQXgfAtO10ZQthDZAld4PcFHok7E9kjTD67dK73ZHwgII92OCJny4XPug5g6/VL97zG62TR1QMeSR35FYCuQX4DULpAfnUcAZnzShyWDK+hg4yhc4ZA+ea+bi/H4thkUlnqCFsqzfVHz5yZoyItCjSdZc7DDsi2VQsBR8cxCekM3OSexrH3WnBTUUuQ9lHBhE48Z6+yHJ3/ns9LnDoQqmpdzRBQP9GHUPjiAVwJOnvuP/cZycUqhC8uCbD0Y1yBH/lWqPipJsuh9BN9zt1r5GvBhHuas72SvlWcrRjktEcbhiR019TPjJQl9zKG4sT+a8U0DNERX1LY6XYiEbn+rDPye+fOnQnPOlIKAZjmx4hMVuLO1Ie4z4etCiBSVgskRv4kvtnnOxKna7oUzxWuChNdaIWA5tCLL744HQgFvzpzSZ+u+a8x7M2HB0W2Ys3v6vIvMrKduVzLj1q98XXYUawgdVYrfFkdxxAL2utv8zl/Q3AVDgpOMlfyKx4dlU+HEydQtFrJZjccKzFQF1jO8gsd9vLbrnh0zPbz5qlwsn1Uo0MxKUeLL3zL1laNCc2Ha9lITBVLbO2CY3FO7KUj+UlO34vhbvKLQNgT7A8IGCUJSXLUrQGOawWZajTkRmXPaIxX37tXHjMO0me5yTKdM/BcQ1/0olCQBHQYOZXEYKnwzCC8pHs/FG5PlwTJsbO0I4kj5gJ0OmhL9+h5nc4lAtiUjHSU/TSWcZEE31ZVuevC1M5Qz723XkMWTqyy58i6dUgCskAmSUrgjz32OvNWuZaut0ysm6cbY4VA90Ghy+ftYUT2FE0j8MtGOv328CNz7i/IKRRtZVL124Ih4Evq19ZNJW7IjX2sin/2ow+H7TrZElKvX9Lv0dfp3QqGPeN8SHcxCcGKilWxa+wX5zeKIUlRMQsnSJYC07JoCNbR+S59HgGwdcq+UT4tSStG+LXi4BrNhSobfdhOYC+2rreGkMNWnTSHxIERflPHzWOEUmNBMaBDSBdivi8oWRmtzal85rbOsOGXJjQlrMjxbfn72v7dM/+QX9sBEC6kkJ6Rp1pI9Nxr6Rpxw0EvmnnIHsKp6LfSLjZaiRML6eoMDLknn7FylC2JCLetVfYa21d7dq5s9QPTVkvkSVs2xV65wUqTL7keKTw2kV+sn+FVtDp12LdEqGo5Yw9Tq4i555zlXnWaKq+gyFF0p5EcMjvqNWc8BlaVmn1CwIP82qxvyemM6vHSHAAW2ZOwEAgJ0xmu7C/SHbGsclQ3cCGY6CSYqwQgQdtzjWjrVNm4z6Fh95LcR99HwjmblQqdKQRPl0olL5BKAOnC33YCQJzYyHJ+vsDERg5BUeBJsjqqFzayTCyp+Akhgd44iiDf7lUo6ojQn8Rwm7rhS/CpIGA/coqFijY+ZQWMPs6WUZLSnYEd5BsB5tfksjVEMREsHbXP2ufpA/m19cz+OwSUbymcrrEsap7wyaf5EjsoLG2D8HulId8wtjaPUe+xiyYQgqsAcYhlinlnfoVcnCUPH1FE2qupMwmjiknFiC4ruUbN9eh9xHfEhQ0VSrB0BqE7KqfPk5VdxW+FhQag7T4aWuYwMn/QgRxhpdjqAaJnr7iGkdUlnXu6Opof5/TinnxGY8zqllgvZyK+4rMmmmvg94zx52QyptUSW4bEGHiWG6xi08WRAncT+fUNfZ0FRMV+EBWKqvbsYD+nlLMCyNxYI14DFsAm9zX1xVGQX1tE2E2ykKwsXUtQI+a25R5IuMQNxOSx9cC+Is799re/farmyLzlnnPX0jFdW/pEWIylikUWdEX8855lWR34a9hD4cPZdGD8vBmioqL2pQl71xG8JOtryDOns7ymmGUjgR6ZUuTampEukn1vkkECYT635yxxGCtf3NLBRGYkF115stBL/P3ausl4zmTwDWfbVnxBEW7pRoJARH0DOnLu0UXvZ8iis6nxENv44qbiQYcI1tin9357r2MXWyx8UUmChBG/2+3f+Nj1LF2YvwOpzJ5nNqAPxNsql6R51vhr+gpOxHqP+Uj8JO/5vMdr99nzHvLr5+b8shDCxB4Ka7Hfe/cKuczckxOrXHlvz/zP+gyZ5CSrluK3/OExncK5eYwaG2bFPStduuK6zbYwaeLw6xG58ZKsth3KjfKVlWqNGXm7xuFL9xj1vjE1DCOPfdcaIlZX6IJt9vp5N/nFsF3sSzmWlbTgkRVJOxPdK0Q+v+WcsZyr82y5x//CtbY96DjoQiCByJZuDec6smSwV3eAbOkGgSCP7QiCNSf3ZSbLHLHt3jF8Lk4h+Fu+t4SkS6fTnJ81GzXWJTnJouvCYRED/qNwVE2TT2BRoNwrOBbQLdPa5qQ7zk7kRS50hPn9iA4WvQhuOnVWAnTvLJv7eSpVveKMLK6LjuvjvHbmmU0yJlxKQogn27GjQ5EgHtLZyES4NC/ySAI6zXzHN6H5E1zrlts3fo1vYpur5X0Yhguy+A3Zs/cbswMdsAXc6HpbFrVXnH+1K5Gx35I+R7y+NWZtvb5HRv7i1wcUYX5zms9aaRPn+Nk19NAjJ59eug6m7hU5q4z0p9jyZTBf5rSFBM7YcYTPm3MwIS9bKZYzEGxn/kxvuabKNvqx8WHJuIpIjx2jx+m5H91qUIlpcBy9ZGXriO7/i/y6GQW3AMSyGV/H0DKyL35g4KqRnkm8cs2rbkVPbImoAI0ujeSge4WErgWhs+wFwEiuzisc2dNpOUe3xnaQ0UlbYraEY6uBPbY6i8a05SMOdNZc3TfBig1ssVDBsoG5W0lBYiz9JZCeKUvvvQV6v9ziCx78PDYisy41mUcQdTFGcaZbZy+XAsWXSWy3YB86OxLceue7dh0Z68GPdH3YzlIy7EqI9pXb093GzbV7H3lPd0hXBpYUI+Rhqze84Q2TDwV3R8a49FkYUNDpUFkBJIfCACm99Nkj72duOlRWdOzj142DI3KkI3RkjJfjZ3X7xRdbPnyHgC3EeT52G7H+5ajDVmb+DG/ikNzFx3EgvAdJDBbbz+197n7sJQbDcY6999vzOX5Nhoyd8557Hf0M/Z8lTzf5JQQGrhqQmDBx+/4o6egEX/n8ucSY7eK8OoyqOcTC69fWPbzUSg6eHByMjKNlsuSHFOiS2cjvkDSvVUUnOHJgc0RyzVcgddaVz9xz7bVt0o7HBgI72WAlsvJ7zxUNZHXdUXvRi982Zh8dK18I1E28V5M1jCIZ9OCILT2G61aXZz03FvuwCZ9mI92Z2Oascdv7KlblgXSK6ENsaa8b+Tx+YkwFPczYJoP42T96FJMjZb3mvYJNuJCf2UK8ja+SJbq7plwv97Hgid4Q0nRl6TU4y/nlPs//Nfk3kd9WOQDxijOdS1xbnW99vuSY97LdlmTeOve568+899x49TXJqfpMZPGa91zrtdu2TWSpskfWvNY+z+tbz1UfVQ+5z5wsee82zq1t6vP6+FqyGTPHtcbMOBk357x+zTMcwsgoPF5T9pFjxQb0kMNrI8d45V73dq5/xT7b7HOX/Fp2tEQskHCaUcGk3qc+PstQcfy1++eaa8jTI8faNUffq3Os887j9v5Lr7fXvdyfZ57Bep7nfGl+vdddus+l95cSmPEvfXbv++29M9el142Ta+qY7fX1vS2P630yTs7tfby+pLP22r3PqzxL94h8Pdcu3WPp9d57Vhl6P7M05tzr9Z5n63xu/D2vVZn3fL73M3Wc+jif91o96ut5fPY548+NU2Vur6vvzX32yGvtWO291nC29l57n7XnmV/Oc9deknPuMz2v1THr457Pnn1N5pxzxrvX5CRXj0ynk98oqJ5b5dX3rvG4RzHXkMMYHDbHtca8NM6oIHJpnNt8P0XeCBluE0+3OXaru7ZLey3Z6jjVl+rrrayvPN/WJenRV+JGbDB3XrJJPtszzpFrlsY/cs+5z15rPnNj/6+8Rsdn23MOw2fb1pzOntcWjFR57iW5tsxh7tqrkd+AKIq8LSW2wI08c8oZ+Zq9jdlnSgaP7Zezb82XaOwlsvfTmNfUTcYiUx6PnPf/lXvdhm5arNLl3Gv3go6vgZ8lG0Qn9pra72jfqz15/CnvjdbRkix5/Wx9GCdj9c7tLF1kfDHOfmj7TZcO8a79otDWeWS8njMcwANc2G9vf/KZ47UyGWtN73Q2shBvx5973jv/Vva1ecyNc9ZrMMaesMS2/JwejTdKRnOHFbm5xbLXYMm++/a7Cb26PUs3t3FfOs9h/GvrYK/Nr0Z+b8Mo9+qYwOEb/n4SyDfo/Yizb277hv29KvMrcv13p+zaTn4tG7xc5+VH5/3qgW+5+/KTb7pLjmfpre10Z5yXq/4i/5Zz1YEv/Ylp/nLYFrp65DVnvyLiWsS0fn603hATX4ATY30xDi78KkeI0pZ5br1271z2JvKt8u29fu+89o439zm50q8F+bUVv7Til4Lyq1Mj9Ac3CO9b3vKWKTcHx7DrDyD8LrlfvfH7t/K4Mc/C8Yj5zOlwz2u9svRet0eGkZ85nfxKPn6rzk/iSE45/GxaOp2jJgSAqjXA9Tt8fiu0PRBMv6sqMfqGdAXtKDna+5DJ/MniJ4r82oCfTOFMfqPz4Ycfnr6xLDC3nz36HBA5syo1us+ZPH52zG8Aq2RV1EfHe7l9Xvdd4IxOcm5xI1mr+AU7NoQj17bdxVHJwV9/8hFjvOY1r7l79jNS8J1xch6pd/c0hp+e40fRibN/qso/FCIvuq1kgm9nvzwAa/xqlGzuBZ/0XmXxmJ3YwlmS4k/+FtlPPfnnOLFnpG5yL50nftPihCySsff5/egYZ3zkze+rZ+7GnDtaXaVLNcou7iOGIphwgRD4sxrxzM/V1cMf63ju7B+sXOu3xmE7xGWUXLERbIpvfn/Yzx1+4QtfuPnEJz7xX926XD/ybC46k+zEN6p9ql1ghZ+LK/xptA6W5uSXC/gr/bcYJh9s+yURGI5Mcrmfa8xK5dK9j7xuPLEvvj0nm9/Z9dva/gWNr/t5P9cZ9yjxSsEEm37D2193V+zCtr8yf/DBB2/e//73T8WUmBffOjL3+lkxj74Tf1s9eC53jYyzdXyPY3fxRhyreY9ftTLBcoqB9l5nPMdX1OBsJgAAIABJREFU6B5Wqn95DNttbm5leAn59aP2JkqhW0AUJbm5xMihCOAHtv2EkaDjn+H8C48fsH/sscemYMSRWoH2PieD4KHzoPvjL1h/+tOfTuMZ1z8POTx2ALAfRRecRncC3E+AQHIlYD/h5B/N/FWhs7/qM7bfpvTD/n/9618nB/MD9eZP/3v10H6OThAHoPQXv/5CmA0csQc53vve904/kO769h6jn9MPcgArEoMK2m+n1gN2HHlNMHLo6HEyxcsRuTiGpOt3UgVS/zAWbDjDDl35S0V4Fez8kYFgyIb+UctfiNLrXoLT+pgA6s8+/I6kf+piF3aCW/J5/MMf/nAKugIRQl6xW/1wq26COffgE34z1R+QPPLIIxNuYZcc/lrSH6X4OTL/nnf//fdPf+1LJ3zKKobikn2PyBP53QOJ8NvC9BE/zpmtyObwpd38Q5ykSDa/eVp1lPv2nusc2EvCYXM+jcz5W+PI4kwOf7jgfQTcT+0hGr3jrV1nHrDGD/zzHoxm7hW7eew9GHb+8Y9/PBHVYM65zm1t3KX3zMvvHPvjI0TEb+4++eST098+//3vf5/O/gLaY/+sKM75y11/gexavuVf6d7znvdMOopsS+NteR2e5aB3vetd059g+Ce4xN41PNAJOfbKEp0ijsgRvZsnm/i7WvaAE889hhW2RM7hxW/nKx63zLXn2sjFl+CXX9B9ZEtOcPYPlAoGfEC8RcJsVeFP/lZWzBSbe8Zdu6bqWL7UENJZRTATjyNXxfTvf//7CUt+t93fod93332TT6yNdek9mKB3RFqs/853vjP94Q7c+nMkOA6W/VHSU089dfPEE09M9sM3FNnukTh6aby19/mVIuCNb3zjzUMPPTTZgx7knOiF7+ePNtbudfQ988FhdNh/8pOfTNj175YwTCZ2iVzeJy8cy01iZYqCauu9MrknWcQ/eZJvy93GJ0v8Srwji/yEDyrMkeR23Ne//vU3r7q5uZkSxxbya1KYt98SVPkjsqpFJAp4EF5ki3NJSiF5gp/HjCiBEyiO2Qq39TnQ+JclhNv/UkuExgNeIHZ47j/oBWl/MesfcTj31rGWrieDytWPrQt+iAKjcNSnn356OvsPegGGXsj0zDPPTP9C5p/X3HcEUDhiEjXjq9IEWYknOqEHuvEPSRKDBCZon/U7newML5yWgyBK/pkKoUKc6gE7Obyex/633j9ZweqSDS69Tg6Y5UAIjAAaXdDHX/7yl0lP/j3KX+36W+Rf/OIXk838EQNcsae/ZoZ7Nr80Zvs+GdgZmRH4FQKCv7kqFI3929/+9i5uBV6yCboIF8dGMhU27b33PI8P8mvLiRIzwmDudJODPvytr7/zTWL3r2xw5T/vkWYFiznlnnvkoReJGh7N07I1f4kcc2e4DtESlP3lroJF4t4jg8/EFzMXhb1lT4WPP+RIjCEP+zjDBn/ShRYPkY294+dzfFKxplhUOPNZY8EqTPjraX91XA9//oAosA/cSho6+ukY5d57z2xkfhIeYmf+Ytlzzz138/zzz988++yzE0kJUYAnsT9xGLbYVDdWko2O98qTz9EVnfsrWn/zS0fw+qlPfWoiVzAu5otFdOpafozAjJDBXJBGfizm0wvijyyxSWKw99iGHvwJj/isMQJjWT3JnEaczU0x5k9rFLYwRIbkRnI62I3s/nlRkauLZj6PPvroFIcVdrYeHJWJnsIf/E6zuK6451d82RHZnMnmNbHQmT7ZVefPffbKw8fFCMUSn3388cene8PyP//5z+mA6RzBNnnkBcWbnOY+5rRXjnxO7satFJbiMHzADD8SW2DJYzldnM3nRp/hhRz4lFgKq8ZubeI5m3if7djQlhHEk15GyEUWvwevqSFns7sCQC4KTpzZRFwUl3/0ox9NsenDH/7wxPP4VOI5mXaTX2ARMHRkEBngNWEVrECI3HFoRuNgBJOYHAyHqXMqQlSBjihK1xL55ZwUY1yOrFIzLgM5YjzO79pRQY/slgEZ3dKMLqEqxDgZlxyCsSRADzGcpZV0fo/qAxlDihA8/+ZmOwWSr8sAFGTh2PQS3SBbgptutarziB3mPgu8AoOlBjjRQUBkYUVC4DT1gJ0cXvfYWcdIB1CBNTdOz2v0q7tJDvZhB3ahE/aAWUlZAkBw2c81Do7l8Bp9qigr+d1iO0EO9nS+/eWzzgoSI6gnyJErNoq9kAgBF3mHt545915jLggssgSnGZ/PeJzAyx7kRK7giW4EIkvauleq9N4x565DTgR3nRhk/JOf/OTdsYyXI4GXbEmOXlNgKjp1sI4kCLglX5KaOCdBuj/9GDP2gR9yiTnBj6XTEV0yRYCuh6Ia/tnBnMU4WPSablU9NADYKSQZ6UEUxO0jBUHshWQq2MU5xYa50wX9O/Ml/sMOEpHrfvnLX07J3LViEd9HehDyLb4TGXKOnTxPYSthKwYkZX/1q1Mk/iC/igiP5Qs2VUzyQXM6Iofx3V9eRIxCmJzFLrqADTpysCE98XfxzWf8KY8GiuIi8xtxNi9kFhlgD+MaP/glDzzDsc6Zv0gmixzi3/tgHr7kqRHkl80RGh1O8Vwx/atf/WrCKxmCI4/5VM6wjxDCN+yIgXRVMbBFX0iROAwH8pHGGHtEH3Ti8NwRnHtNA00stnWFfo9iJ/jhn/aqaxLCML+hf7zBuGIPXz4S2y7pSMzTgFA0wqV5OxJrnT2nk7zGNnCsI4s08yl5LmPttRFZ8Bj2EVOSe/g2/IbnwQhZyCSHaWxZvdQwgBO+GVm6yW+MSniCCKCc4tOf/vRUsaqwLaMwFPIQIwm8FTQCNaLFuQAmgow4C1wcSTcCqQFgDi7IMojD+BIGhTlTio6bjojPV0NtlYmOLCfZ9ya4IAPRA+M4yJPE4Aw85JAkazcz+u6RIdeSnXHTRZQodXO/+93vTh0QgQU4I0sFDRKj4tUZEAhyz71gbeUmWxyJPMaSBNiDM5MFcD12JMhU56InyRLOLLW2Y/Q8z3x0V5AqTs0mIbRkss3hi1/84rSHVJVpmcc15IMperSigSSqjOkq+lqToV7jcwgiG+l8GU/wN8fIg1DCrDkLfJ7TB//K8iMfMqd67zUZ1t5zHz5gtUJQiV0STILX2CR+7XV6gXfdIuSXPx2RyWqFPbz0IrZIAnTDTs50IQHQVeSAYZ1pPuesAFdU7iXi0WuIrwQr3inca1wz/xx0w7/EHMRT50bXek3va+/RoUOMsrxLvxKh8WGDXnShFbeInPiD4Dj8myEsww55vv71r0+Y955up1hxxEb08cADD0w61myAE3rg0+YODwpc+Eae/A2yFUH6Yzs2hO3Pf/7z06qhrTK1kNwTi82JT9GTIjFYkYx10qwiIF18/zOf+cwku1jtsNVI0cXeNUmu2ae+l9hiDsihQvaFF16YfBZOEXCEEibpiK6CXWfX8COEDinUzdwjR5Upj9mZfMisnCc/xnf4DcInL9MZ21mNcx0Cg/xYeYM58VCe8qXF9t553nvWoBFDNczkA1iAC3qJn5PRAVvir4OcMPTxj398wjwdHdETUmQPK1mQ6uQgcUQ+MB4fyiH+sis5kV9NCx1OuEms6NXB3HX8SgOKz7CTfInAacZYXROb+Q7yK7bFh4O/uXvueY3/Idd8lg7oxbhWJBFLedDr8JK4y344Bnt+73vfm5ohiou99jEnhzkqUMUU84cHh3irO88WiT9eS47iT2SkO80DeSm66Ca/VbGUwtgCrmVaAOHoHEeQBVaKAlRCREiPBW4dM5VeFSQCHTlL3Nn2EPLLiQA0m+MZROWQwCPoCUj2tCQw1rn2ysM4gKLzBax0ASiCmvnTRcaMPjynK/qTIKcN2K/6/78qEED3jF8dztYTwUnCQagRAPM1RpXH2AkmHksSAC0pCLySwF7AtjLTJ4e27KpaB2BBRgLgKOTQGbGcVHUVGZEJeiQj7EgOElk7Ts/z2LYlv+Rxb9swrAbYd4tw0KFqk1wO+NVl+9znPjd1JZOg2Sv3XpKj2hT50PE1HtIrmAsi8RcBBjGXtCUhZBfB4PgCDEL42c9+dvrWs3ErBpbGv/S6+wimlq3om10EFvOOLYKZvOZ1MpNJDLDiYeWDLxyRyRIkAsMmCmqVvrEkJEkS4XNI2l6HEfpB8Pi0RKXTJonvXRJt7SmIiyP8yZwd4lyWRunGa+SBa5gig2L8ku6X3o9txQbFAMIGJ/CCNCCfCEq+NKVjqHh1WNkQ7/gb30fEXW+PojhxxD7k5dMf+tCHJjkUg+Zu3opT8V1ctT9U9x65sEqiu2bJXTzi/3SkEaIbKXbDnzjOV6q/rOmHjlyrW8avxAfLool3ZOKvIb+IhY61LqaONayIffxcThL34tdL4869Hrwgv1ZlzBEu+QaigMwoTsRYOYkPeT8+5Qw7VhY0lnSwR8Vg+iFfyC/8IAb8CbFlE2TSNiEH3+PL4hN/kkfYSxzyZUWd8+igx065tp4VO+Ir7NRuK72wiW0gsCsWsiFd0Q8CbiVIV1GRXO+557Fmka1a5ibHGN8BG2JvDpgWc+X3M8kv/MAonLCTGMg+SKjCCZmjEzlMQ2nPnHs+w67uD4/8A47tr1XEaQLwM7qRozQp5HY4ZyNk2CoHmc3FnOIfPWPnGp9xkEU8S0ELC7GT+Is/1DjMl3KNOEAWTZm6UtpNfiOMs8oZMVDxmDClIL0O4HFI0ognAWuisBeO8rD4+uWqPYqpMnk8R345leU2S34IDYDrlkQmRgUwSU1S4JBVrnaMpeeCpQRkqU1yFFhSQdIDHdELspuxnb0m6CY5uD9Dbwm+NfhYblMlmqPEK2CRxTjkCWAScAHVgeyQUeCjJ3vhJLel+fa+LsECv2QML+wBJ5ElpJZePHZEJrJGTp9BgCR/AVyh0itDvS44s6QuGUlCxkaoBDZdMRW17R/2pAs6SBVHIjP8cnxfzJCccm82qHbI6/Vc39dht6zF9jp4ui9sZP7wIvBKSjos5uogCx2QQwAkiyRFx0eIDJ3APPKgOkZiYwtjkU8w4yt1Vcc1wZP3+ZF97vmSTJ371sf0I7jqICBIkh9/sYxFZ4KtRMBubCP4CdLsgkiJS/ZGu25vgghWIjsc82/6IAvcONI5c+Zr8MuGgq5gTZ7cY+uZXcUCZOrd7373RBYkPgkYgaMnRITt+KtDohGjdYpT7IvHsG5Vyk9+IQ0Vj1vlcr2xPvCBD0zkV7OBjejGXluFrpjmi6lIry6f68VIcQBWYAnmfUZSFXu8r3BybY98rmEn1/NZerJ9i3/AJzsZRzPAz2MhDBIg8oR0uQ4BFCdhBvmmvy3xN7oLXvgSOSIDeyk8+IXixJar4Eg8dJCRrLDsC1+WeK2unkF+6YK+xXv+Y9ne1kUxhv8jCfwI2VNkmwdsy2sKCLGTTdt553nv2T3kZkUC7CQn8B1YtQJFbwgVWemGf8GPQom9852H6L537HqdOK7hI7eIZ8ZBpDT2+BedOGxf0tFX8IX8yrG204zq/JpHyC8/lQfEPJxJB17uMSafkeuNy1/gFncRo47kgqoXPiB2IrBwwkcUjApYeUmehBnFLe4k1ooDcja/Vrgo0MnFP/fYyGcc/Fw8k5tgIORW/K0+5HFyKTs6XKORpIFg+1jm2E1+E4hMwrftBQ/BgkJMVILSkUAUBB/dMUYzOEElBEJZWuJslBYhRp2RX0teOneMIOBb9tN50dn1RRVdhgQawSaJylwkF4HRfbbKJEgJrOafKtXcObROGkdSwSEJjMHJjM3xEW/graQ7+u6Vw/VswxEBhAxs4zE76J4BgLNgIjELMrGPx6pt20aAWvJ0zz2ArTLrMAGZfWIcmT4kJbKxg06qZU/dBdsL2Cy6oR9BSOBDdHTV4SY22uPkmY8ArttOH2QS2MkoOQmqZEam6ErygmF2U1ggeBwe4cj9Muf2eV53ru9xRMQBmQ2BNAbnjSywLBCyg66j7pWgR17BCLZ11/YmyGDM5xEVwRbB5hfpsCqiFKq6PQ6ESxBOAcNG5FE46EzSq4DpnnW+VQ89jxEFXSe6gAnjeIy8OXwxKAlcMIQn9kO2YE732TK75FX9qmfsXEN+R4iQrSo6iuIYDJNLIhI36M6KC1IHJ/wPvpF37+eeW8/Gh3PzUawhJPyULhAonVWJKLZ0f76rA2rLAf8nJ/+WQCV5+IanzGurTLlevEEE+CbfFl8kZ2Mv2V4RDCfiMz2Siy4VL+Rld6QI7pfukfGdzdu1iIC8Ar+wKyfJR+xj3zfygkxKfuzB78UVMvAjX6RBWOnEuO5bdVrHXHocecUFzRa+CgfIo7wDm3KLMcyTP/GtO3fuTHpUKLlertCAOIv86vDGd4yJSCr0kSjYoEOFo7whHtElH/M629L3nthb9WYsnbxs4REDzV1eEtvEXXiSL8Ua79GnwoBefD4yOEf3dYzex+wCP+JrSFWKabFDLEOyfUfJah0+YZXStXQ0kvyS2ZgpXi3Xwyk92fIgntARm+ATuuNWtxS55BcDkc3oplcHc9fRqRVg3V3+zRZW1sRVOjOGwoFONKTEFzxKrBYDYUuXXj4QK+bGuPQaGRx8MZ1fWMRb5ClxUDxBjOVLRaOVMI0hNnK4ThxQuOjyByvTSvuWX3sQNE1WEggpAErOpEq0F1PHRrXgfYowuCDjMxxdZSkIbQ0ua4oyIU4poCAnqnpKAprsmaEQSZI8nC2dAcQdeFS7DLUnWXIQiV9Q56xRPBD4NrRqVWfD8pH3AxDFgHGBI4Ddoxfj6yjoFrq/wM9ZdJ0kZb8prAAAFDaiCzYhB11IqF7TeaGDNV1veQ9Z1S2wvEXPiBLn1b3jGLpEnElQU+VLXGRyXWykCwDU9GueW8afuxZWdMuQX05hHEUIIqm6t+SImCIO0Y8z7KhkBTuOxBfm7t/zGsIS8guPOfgMAmW+iky44Cu2AUjSyAL7ksOypGXU4CX46RnfNfkcvCNXikZFK1nYAUGQBG0byLX0g3DRBRvRi46wYgHpZJ8El1455q5DVpBf3QPBX6JRKCAGfBUmJADJObHHHMwFuRALyBy558a49Fqdh8fIL5ymo2d8jyUcW8D4sedk5VuW2tiJXJfGWno/8ivK6J4PizFwYAwxl28J6hIVGVNwKiZhxQHfCjadoaWxtr6OyNlXjPzCLP+lizoGH0EcFPchvq6HGfrje3BERgUUnFt1SgzO/Jdk4x/urSBCMBEmcR1+FUhZyULuNCcsb0vQ4rLrxD1JW2I9WgxERv5qhTE+QveKe8SSfWCJrxqPzbwuHiA2sA7jutReHxHvyEWPxkVSxH8+Q+dinFhjJVfc0yASpxN7Q95dz8d75am+E73kTBYcQu4LBuQEudoWsPy8Fxm8T490iHynQMm9RpyR6Up+5W7kF07FYLFIgaCw8xrSmRwFb4quEdsvMhf6oWerJ5qMMJE8BLP0IkZ77EjRIBaQkT/E3rnnnjMbwihOZbUAz5MvFeB+qUnDRA7SvBOT8Q3XaFiJTTDDZuLBXt8ig8N8EFxklz5CfuVLXef4injDl3BN3Xmy0JEiBX7FlmDTdZt+6ozzIq+SpIEJgWjpEKlCJCyVNmUIMA7OJDBK9giM4CA57THI0mcoxz3tAxKAdWCRX4cODBk4WAADQA4BAFEWEJIc9hgKWM3NPHVaOA/Fmz8CIRiqzBjB+wn4OmmSWiUu5uJYmmv7OmMaX0BJ5wkIJT/FBqImqeiYcnRglpQRB/YTXDiO7geic4TUtbIJHJb3JRgJif6NJ8CrKAVcXRAVLrJFN65hG/ojH/0h5SraLXppZclz+qIPnTTFCBvBsgralx7YSpCjH0QmMsM4Z4cxhcbeapYcqk5FGhIAC8YQ0FTXxtH5QdDTcTAmm7rWZyR7S5Uq8DqvPN5yhj1BXtff3OmD3xhPcIdPSRohgTGYSiFDPwgqcuGajJsAk+dbzzq2gqzx4YZuzJ1N+LOAz3cVUXCLuIekj8AIec3BvXKIL/bMKhIl5chgj6sEoCuSZK575XUYF5i3zj/XZ2xYQx6RN7HX2PRhHBhGYJBsJEaxSU7EBq4lJdgW+M2hxpqMs+fsXuKXWIKQS4xWS5DMkDu4UtxaKlV4WzYVA+EL5h2KGv4vTiD5cNRLshBwelEAuK/5wopYz4fFdZ06Bav84znsijOIr4LS1iGJ8ahegnn5TXc18U5BhNTBQV0tcr09xoiTGM1O5BIbdYST0PfYpv2MuRmPHcgmTxgLqdQEEG/4G5zAluKKDsmueWRfp/yRObb3b5+vXQfLYo09++K8sfi5VTWrgPzZc+8ZX9eRXAo/tuYTR21V5dXN5jvmKJ4ld5NPcWfFUf4KvugFxsRJNtPYUnDWe454LFdbpRDnyBTCRy+OxER5E4eBYzkNxkaMHxvqeMMHnod4KurxO+N5LB/Fp8Q/comRihu+x0fZbI9MZMhn+YRcA7eKAeM4xDo5ii+xA1+XQxUxOIQ4KTYhu3wz89pFftvOL5ZvmUIQ5uQmjngRLEFGNactDbyMMxK8UaqAiUxReMiv4CrQJlkBjdcozyGZ6kCq/C33M1SUk/v2nBGDkF8ACXHjIMBp64OKUaAnCxmQQJW2z9UxjL9VBuMrSnQP6J1NJD/AABrgUIEhCAKtJUag5eyWJ3Rd6I1t0nWpMu19HPJrJSDJgKPY66UrI+kg4+SWuARCYKW32EhitLySrsleWfI5upWgdTAlAfgQ0GBWAEZaOLWgAy9kkSi9h1ikkNhTJEWGkF8EExbYzHyRX3LAo8qaQ8Ol4AMvruNriLP9yZw599x7FlzcxziIbfDJXgKeJX1Bhf7JbRWhkl9dWIna+2TYit05ua0Y6DaIKeSgG7Ygm4MesgxHF8ifok1ciV32+FGVxefpxpHHErB4Ia4ltiT56HTACjn5FNKgWNKVrffd8jiBX2xDPhQFVnfg1VjOCDAdsJ3uCAKBZPJvWNGUsKrBPiPjbkt+ySHGWY0QQyzd6phZeUKsdM3ZU8wlOxvydXFK/JFXFLjZctWjJ/EaYUa6dYUURsGJHMBnkWA2s01EHBaf4ZefIZq2KLQxuGfs9prg3hzEdbKYHxvoSvOhEBN2YFtdOuRC40UMFHNCfl3fWwS0srTPM544EvJrLDi1OmipGGZgmH4cchXiaSWXz5M9vtDev30eXeR14+c1fionKZhgANmGG3t8FYu4grHpTjMJ3hXlclhiTO474oz8KtA0p8SZEE1EC2YUm1YLxBu5IoWnxzCkqBP/Mr8RMrmHnMd3+Dg+IVfTV2Ih/ZABSbfKgfvoFh9pylTZMx9zk6PlAn7rDKsIsLwIKymYxEQ5XMcXn1DkiAW5V71/z2OfSwwU4xUg4RH0QCd4BCKriMSBFE/kYkfv01PIry1VkWUz+RWYKNjEKcGNM2GG4FCM5bGBXaNzpzrSpaKITKZn8luuEYwpyD40TkMGCkqgDXA8l0DJivzoXjCwLtve5CBI6X7pJDCOKg1gjWksrxnP2A7OrWq0XGrT+pZ5zl1Lr8iS4oM9gNF4ulESj2pIJSkRS066NXFm9hGMJJ/RtkEUEQbJzXhkQ+IkIa8heTr1EgVdSVzOroMt1wqGQAt7Ae6cDra8xt4cE9FFEoIJdkJsYIcMsMxWgqBuK/IhuYVgbRmzXqvTYLlM50WwMJa5m6/lP+8JZkhg9rGThWyIOaLDXshxve/ex3AvsShW2ILvkgt2JSU21FW03CV5koXOyC1hCtSIiPFH2EjHEGbhJCsCFRt8S4CTLNkReTGuYxSGc7+czY2PIeUKNfiMjviaJOA1OhMHdCORIAXnXrsY22fZR0fUCggyouCAW+MZF3FBAHWv0qGCW77NXshVJSB75amfk2R13HV4kAM+I95L2HxEvJGYkF4YgRm6oTPX0hkijBiK22mKbLGfmCCmSXjmTSfiB71kDD6Vg397T9FpK4KVSgW4+FLntudxsCcPIQuKAf6he+l7MGyXLSHmSH9eU1DyK2SLfs4gv8Zz8BWdTPaiE7IhTpoh9Oc1ciC99KPjmS8Yt3aJXyydqw4zvrNiBTGCYViQF/wjK7nYA5lL7DW+wg5p50fxh5zrGHsfp/POX/EFscUZTuCFTsRd8Q62yAxn4jRiLHdWUrVXjvZzSDneZHx8QkwWA+mGDPybregMAec/sDdSN2Qih/jBt5Oj4ZRuyJEjMZBcOtCI6NGiwFyCO36aXwAxFlnoxaqb+cOITnm2hXmPvtgN17K1Zfe2B4IgWRIT4mIQAS0KARiPGckZiFRtkpjq1mdbAx99HkMjI6popAEYODICCChkAWRnB+Oo2ELKR8gmsajUdRgSxIxJ+fRBN4xhfDrj7KrpkLqjejB/wHdPhIrBgVIHGGjJpAuFxCCbSIUELinpDqcjf1SO9vN0Yp+W5SNdHzqhC8HD2PQFvIKL16Mr4NYRUmQhf3GA9v57nofowYtErQudwJIg48zBLat7X2GTL9olkO8ZO5/RZbWvT8dDkhRIEtjg1rg6Vr5BSweWtcgoWeni6VyT/ygJjzzmpIBDWFT17MR/6QFBgR+v8yvdIn5FP7AlecKxz1c71ccZp/eMGLingKbrgzwYLzqypIX8SpiCYhtkj4y9JiOSb2+vAkRSQjz5NOw6+LZAKxgjGuw0Iu7BLFvTMRkkRWSXDtgnRDIFJuKnaOTvCtBKwEfpho10mtlAMU0f5JAbjGubgeXrrOjAEvspruQO5MpyNgKt8bCm96X36JYfIEhyjaYHm4SosEk6QMaOreBWDLRH0pcAfYFqaYwtrydHWpURh5Nv4EWxmv3MSLs8qlHDx/k3fNOReWiKIGWj/DtzUHTLEezFVuKuHAFD4g7cKCjz6w/iN8I+h2FzXToyXs4wB8MKZA0PuVd+4i8aUPKhRgRCnMaNuEePYu8Z5DKy2XaXn20NPpzFW/ZwdlTSqbMpn8I/2XKvEWe6csgRikd4ju/XPhbBAAAgAElEQVTAs+f8nH8rxG2Py/d0wof2yjH3eTlBw4zP8CGxlxx0wn5elxustChk/WqGGKUAxkn2ytJ+TvFv2458ID8am53EF/nJwefiR2SEMbrSFNTYqX4ub3Tt+U3A5Iy6TcAicGgnJ6g4G9BZ8iSErqOqwaC5RzupI8/Jw6EAQPdA1UwxAnHIJ3kAxlIXeZEZBNByrqQ5ao+ryktgEcwE/XQzgSS68ZpAZzkQqObAtlUf9R62NNgmoCp1IPqIlaAGoN5T9SMwyKWunn2EElm9z1YZlq7nABzBaoEqPuRXciIT4kdOz+kJfsjLhrZKqCBHBxeyCuYChvvrTNXgwqHYi1PpmtlQL3DTTz2W5tzzOn8Q1BEEXTvJET6DFY8RGwc5gl9dEV1fxYoEOsqnMi8kRFBNAEGA6SJyCSZ8C8GTwCRR+5EFOTrqmXvPNeblflZFJGJf/JCk2cZBLoFOcoB5fuy+Z2C4ysvHdZkFeP7ETtEP7Iovth3YEw63bFQ/f+SxuUUvOoZiiI6dAipkjyxsBDfim67oSBmq/OxjNU+Hx3YgPivewIZkA9NwxF78i34kIqRGk4JdkRskr953y2P6gL0Uk0hwtt1ZMUgMTBOELLAsYesi+eWSEeS34k5sMS8xFvEW85BLRFcxpyCSiMmK+Clo+Te56Amx4lPi5kifci9k1nKvrQ78CdGEGfohoy0aCLKCQqE1eny51jYTsQNWEHA5AGZggzzwK0fCLzlGxJbEt9jJWUGoGLHlw4pJ9hnTB5zAqzPfIidyZS+p1VRbMBQv2YO8BbNr15JLLpY3bcvzxS22gQ2yeAwvSCY7KmzhLXkg81sbo/c9csiRVibkHPahG5h20I8VLnxHIaCoseJhtZJMuFnk6h1z7Tr34hOaafYbwwwOkdjiTE90xOfkB/aS332XJ1jKGN3kN0p1liAtyfqmvg4qJQQwwMuRBReGUxkBSZZEM/DRM0UwDmfOtyJVzBxJRUABDolax1GgQ3otXVvG8TmGzbyOypPPM7zOEELDmdLRBFyHzhnCwOkEl3xuxNlczMsXGJAqAU53yN5DpIkTs4+zwKdQAFaVPX2O1oU5uS9H4My+0IIcWHIU4BJ0k7gBVpDh2BKFalNydY8R+sk9zFMXVwJCVCzxpTvEecjl4FyKPMkqnz16jo5TtGWfreABo3SQIBcn5k9wrBMsUNt+cGSLztwcIhdMWlaHW8GEXpzJ5My/dO2sFsC57uYZ+/DECzZCbM0ZyePXsQ1Z4MhSpaCrezMyUc/pyGv0ZL6WqSVwhYn4BzdsZxlUckeSR/t3lUnsQ2zJoQnBn8hBL3xcYcu3NSpgrX525GO+ba6WRnWAkRay0IWDbyPA8Is86PDRT5oOtTO0x899JjHGXBFpBS3MiH+KIwmaDPwJfuhIfvIlX0XVCPJbdQqHCCRiayyFGnzAC+JkZdL+UnKxVeTy2IqYQsJqJB/fo5Mqi8d0DLNyDkzQD7LHn+iFr8OxnIV40yPsJia099v6PH7pDC+2jmk+iWcpHulAjGEfDSKEBbmTm3xulCxkF1sQIXqw6mAFwiokIsVODnZzphs2YUtflrTiIubRD9tkblt1snS9edK/ot+KqCI2/Ipu6CkcQgwYgY/IUu+ly6oppvEjR1qhrQUa3fBtpBIXlMfkeLodGW+q3fmDcfAC+ME92ScrlPTkgGkrCOwlDrAXzLWY7ia/FEQQh2rHcrFAhl3HOMAryPnigepbF1QwosgoeNSZUwCIMUxSsFeZmHjIg+CL+XN0idoys6Ci63ZGYuLYuiBkQiyRbgGGfoDWoVvk1zCyTDFCHwEt2yQp0ruiA+FErFRnSZCAq8oXhFWOox14bk7k4kz0IpAALechC/2QDSEXhOwHQ/B8Ccvn6v2OykpH7iuwIg6IL10Ym0xJjuThXLpTI/ZkZw7G99jZAccwSTccGn7JkETgLEHoYCHiigGJ7Az8kkvwsn9SEcI2SdxkcrCPItJKC1kkEZ8LBjPPo2c20nGwcqRTaP7IAaw4JCc2s5Khe2drVd0TeHT8pc/DnzmzFeyIOcEw+aykID5wexSrSzJ4PXIgSuIf8gInVk1Comw1QuysMNXu72hbkQduNDqQf3EudiIX0isfiHvIF38SKzM/fjBCV+blvkieDpGVFRgik8RNLhiG6bPIb/ybT5uvAo1d+LVcINYgNF73PImbbDp6CLLP8vHaOct9o7MtZ7aXs63AKhY1Q+Sm6EPutGTNh8S7Ebao8oUMBXeKJU0ieQnRjT/zIzLxa9+x0MSRx+TKNg/U+/c8pj8xky7ELsRHs8E2mayM8htjI8HJTZ6LPRp5sAtTden8iF3m5KYjzRa2EmsT8+CWfuQDtsO9os+5+xx5zX1hUANKrNfwgFt45UeRxWOr7Va4dPSjizPk4g84gRUjRbbVSf6C49GJfABHZBOTFQ4wJkfJCz4f+aKbu+TXEg1CC6jAvzQBwQV4ECfL5xTCKAYlhCpJUtDd1Fkz6NK9IsSWs3uZhKVH+z8EGCA2fhRADk6EwEiOCKCKgSMJ0j7fKmKLDO21uZfKJ1W1YC+o0E+M4qwwUPECzIjlnFYWz9mP3nWGVD7IgUqaPsjAXoIOgPiWa7ovmUfOc/fe+xrc6Pbo4NXlULZyCEB0A9Q2piM/ZxA8+LakaAVAl0MSRHp1MwUVpC/OLegpmOB977yXPpcEY44Ch/lKPCGdZGCrbA2RFBUzlTQs3XvP62xOFl0H35CHFTjhUwm6fMrStsCrCidL5rFnzHxmDm8IkoIV8c0X3oIVunEgFLogOjfigKVISXJkvImMzuSUiHWZrajoLsAtOzkkA52QkcVSHT+PYytfHJIMEG6rFAp9vqUBgXDZT2sFSCJFBn1+lG7IELuJqQgBWeAUcaAPeOFT9nLqTuvQS0aViOcemdvRs/uZo0MMVNxbSZIkyQRDCCcCWju/KeKOjh8dux/82qvONpb4jR2/Ts70nGx0pdi2ejkyR9EDnxY75AKNB7k+JIZO4AYhFndtpxmhg3qPamOPHUik7y7AKhnogX7oQQxExnXlcQjEnS3rPbc+TpyVE/EGhaEtHvwktsBdrFwo1hAosY8sSJZtPPax00/F71Y5Ll1PNzqVtsTI0XwpuKEbhwaaGJyi4tI9e9+PbcRQRbNcLAfSDznEWs1O+ZIcuI197PLXCFmMPycr24mpijPcCadTtCisyZEcRU7P4Vt+N481uTTApj2/PeQXucOmLVshdwK/AUM6Adh9BBub5gk9N5m9r1EOooY42vPhCwsqM9WRSRufPMDCoQQVZEslJQjURO35XjnmPpeigGFUSeQxPhLBkQDFYzpTHNi3IiGNloNsjK5y80UxyVDlxpEQPYAhA9kEZF1xCSIgWQLg3Jy3vEY/Ao8gIsiwExs5POZUihjfnB0ZXNr56LQiS3QBO2RRYSv8VJQCi4AsQSKeEobuUXufLXOfuxYW3ZOPpFCxhzPBOHqRpJA/nRD+dwZeyOe+bGSvqq5UElGScwKwrTy6IAoZKzqwls/PzXPPa7CoEFCcKCDTDedDiATSmcDHzxz0JOCdtapjHmxmGwaf4VPGDNGjJ35vn+JI/M7pj63EDst/EhTCqcDVqYFX8QW+6U08tmQJ32w1Ej/8WZzR6c7PBrIRXcAv3SikdO9hW5IcOf6cbvIaDIn75s2fxV76kLjFY4QGjrPtYST5JYPxEU5YkafElfgUvJJH3op/icditS+PIr/uUfNV5rX1LLYgmnKBYsi4GTPyiMm+X2GFIGNvHefS9ewu3tGLzrzVUQSGPOJw/BrxZCOy2RYiT4o14valMdbeT4zlMziBmE/nMAoPYorvpJBLY88KZXgFGeVPhbjVQrhfG+vIe2xu5Q2PMD7ZjA27ZKUXssIJXR4Za+6z7KRAFUdsUTSuOCc/8xXxRn6QG/9fe/f1ck1WtA183u8f8FBBQRQD6IGIYtYDxQPFnOMzo4JZMaHigWIEc8Ccc9YDc845K5hfc85ZJ+l++TVcz7em7e7d3Wv1fT8zs29oeofevWpVXVV1Va21960waEl+I0+Za+Uk9rcanNWKcCs4po+S/NKRItIqlPuV98r9c55Nfgmh2wocvs0rCVJMyK8zYSQrlb69VlMDR4ClZ8nNHl9GEFAAhAIcxieHx4IvcPsZnn41y8Ctg3D0w2HL7h3HkYxUTUDDsenIt8HtQ/G5pTrYd70AptMNACo3CQlYVdMqfx3WgBep0gmVsBOg9t1/6ftwQCZVPACX3TJ2Al5J2vKkZZQk6RY26mMQgcyvlHBqgURQQ2oUdfa90Rm7wZY9YVuQX4HL/Ohd11d3WWANdujFERl1hGoTwJTd4BA5gRvEMoGFLwkofIk8SJ8kbXuPfZ706b61tirtRBZEDmkQ/NmCHAiLDq/kBcd0Q05yCYiKFyRmC58yRxgW/3TJECo6cYg5ZFBMKt6ykjKl75r3JMj87JyC0QqceILg+KIVn6YfOlFM6daL2br1NeP6bOzkLHlYVdNdTkEAK3RBJ3ST7Q62Z+hAtiB0++YAi8iOVRtfTJSnxEAkAn75v67fVp1f8vHr/OdK/oI80Af9sIv4C7/05LlDjmBPGDaH6HrffKfely91dMUW8T9jRQ5+hWjZ18mfU8xO3XPNe+bj4EMaaFYC5EH4DPHUzVSQsJGcQF5xGRmzVWLNuPmM2GalxNYFxFZDge7FD3gQ961csBlMiyVk8z6dict4jZ/S0onOfVuf5QVbFPEImMVx6IcsMMNeSCn+swX5ZX94ES/EWzhR1FsdoB+FAd+hD4c80KrzO6RLDRZxxuoWXCS2OCdHsWMIMB8jqy+WDt2vfO2/yK/gFMfjfB77gASNfQNNkhFQ6JAZnDAOgNZZQ37LgZY+juM757F7AKcv5AhkyIlJO0LmGItSyEQRHErl67PlfZbKM3a9zh3AILLkyvIWkotE6XzYEE4OSyrkpDfte2QLoYmOx8ZY8ro5AqSfAzG2AMtGvrjEJhKCTfsIH5IjibsOAdapMFatPGQoMSQR6NZbakrQpQN2Ip/kpOIXgHSIWjs1TNOzLwMi1zoNsIGE2w5ibxmZ4QTZRcJ1hMnlN6B1tuilFj/l52EGceSA9r4p0gQ1PhTd0A+8eF3Abkl+S1kQBfhVLElKxoQNQU6xgsDAdelrfr9W1a9btASf+65lK1hBGPi4YO9gCzhVyJJVpyodeu+zp9UgOuKTtRgu5XQvttLVFf/ox5hsJc6QTadVZ02ibo3fUhaP3V8ShlMJiq5002DKe7Z/6MRa2k88VETo6tfqxedTsCEDfEgSlBOM5TH9wC68wBEibq8pwg53Jfb6c6t5nrmxP1zybUW1PIHo2ubli2Y6jvQmBubXHlp1fsngUOgrkmADNvk0vTgkcasa8Bz7JF9pkPgtaXas1ZN7+GIqQs2PxVrbMOQe3UW2IU/Ib39veI0t+p9VeCGflvTpBW6MrWjypSp+DR+WthE/+UrRJi+l81ujD7HKOOxPx4glzOIrikY6R8zpLHuS5SQY5ud0Z0VbR9Q8+vNr9VzhDrcaZuIvv8EddMbFQzjSeLSaA+ctxo1eFe2KJdxB95TfsBGs5PsmtvIo0ujPYXvEFuSXHeRreIBZ8UtMYTPcSjEg1oQD8h924k/IrybEPt1oap1n28MQ+eXMur6+WCFoGAShyjkDew5MgqLKad/gc95nmAQ1CvFLDQIH5xFUAk6EBlgoBkC8ThFIhaU5Y8XIc8adew3D21DNgexzBgjjS4ZIg4pFICSzX1xgMI4keSOiiEfmN3fMqes4j6UiSziCiLHYyqGbhmzRoSDAuckLXPZBqcjdu0ZP/blwKIlFZxOxCmlgO4cALBkgFYKiypydp+a49D1BglOTQcHBoSUlQZB9zN2c7StSGCDhyJ5rfLGJg9fqpS+zvaOc2x5xGJWA6IGDw48zXbGfYINYtfziaGwML35VASbgQ4fZmLAhiAj4fkor5Ffw0QnQyYPrlkuAsAMvEqFgL8DRRcbU9ZWgJSpJwftwzU4eS0z8CX4yv77e1zwnFx/X+UAo4ZZ9xDtn+hJ7LEXSZd8H1ow59RnzQ351yUJ+FQxit8/RnyKSDSUHcoqP+UnDXDc1xtR7CgG+hNSyjQNWxTZkE1bohW0kbIlUvFO00E1L25RyRu8hvwgCu5APrnWzNACQB/EZ+dyC/NIvXYur9BJfJos4Z5sKUipfwDf7yFcetyS/fMmcESk4YQurJn6+0S9hKPDhw7YH/sS3EMBSp7WPY2tFqcJQ3JAH+Sy8+MUosQc5RYzpRScW+VWkIL8+x69rZLHdgc8g/opm4+MKuqo6nWJ/4oacLsZYIQ2/4ONHQX5hl4y2ZbCZjjzusCX5pVd5gF/LSXw1q590ZG823qDAPnHixHnI7xadX/6jAFHE8082ghV+JI6JMXwY18QfxBkc1PvNyS8w2DslQUsyGYTjcNiQX69b3mlJfgN4oECi7CUGQgnI2EAMzAKKYJdlfj/ELOip9nU8cp/WZwEDORI8gJVMiDkHt+TmSx6W+yRuZDTGQ3ryG30JEC1kE/CQObaSqNnkzDPP7JyY8wO3ylUHVPAHKsnJslj37cfTTmumK7IYT7dexRi7wQscSQaWtqwUWN7RiVFEsHULXeQenEn3wPx0BzkIW0lOugE63q7JpnokPJ1fOhOYc69WtgpBgVlzZyt4Da5DrASfLTq/5mMuAhq9KAJgRsBnG11FvgPDOoswzW70ZgVDYIKjloQceRH07PdV6Ye4KdAQccuR9rrqEEkI5KQvOOJb5iGIs2XstfZc2tk9JWC6kATZhp/DkeQo/uisKfhbjL1P5pBf3UwFE/sg3fzN+AorydvrdCcG0KUuChK/1r/Yx2etkOiCi2UhbsgKss138rOKxg35VYwjv+Qrdbtvrkve75NfqyVIrrkjfZK4lRy4QdBhXEEuftd2fjM2eenIcr1cJPZKznybPMioVRNjymXskzxKX3CvCREitmT+/WsRRvZgAwW/OI98IpQaL9GN+Ku7x59hvX+ftc9jZzYXZ/itL4QiL2IJv7HS5otkuo2aAGIy28AVn7aNR46t3fagE8g/3d/YDjGNTsR/K9tsSGYrG7Z/IVeuYxdx+CjIr9UbRZGCBZcSl22D2Jr8ih/4iO0CmnZIJczyFdxPHrfdw/YquMYbHK3JL6zQv3zNTxRAxhHnyeM5nPjnHjriYo0Y7GAn1zTt/Fqy8JMXFKGSpRgJ0JGOEJB4TyJ3rY7ZWqfpfw4ogVHyE2CTiDm1gGLpRFeGI5m41wUciUrlhNT079nquf3H9gGqTs4555xOB4KKPTm6iComy+b5xxIStaBrfxUjJ0C0kkfwQrhDtCVpepAkyZGlc53QbNNQRQGagE2OMpCvlUvBhODpMqhk0yVSrMAMooX4qeyQXvoTqJFygX/tuP3PIQSCpwBrewHCTx+CoA38nNp4CIMOgE6EZID8ktmWFb8S0r9vzXMOrtshGUt2bOSgG8nQWfB36ATBjuJJAmhhG7LDHb9GiHQs2cS4gofgpkPmPcvn/C0dEMUKIgFH5hE91OLY59lKEGandMyiA0QPeaI322fEnmDJsq4vVSkyI0+LM1zohlg5kjx1yATY2MZjh2SBGFtxaYndsTkYQ1FGJ4qmkvxGj/ybTmCY/SQPSdRc1nT34E6hw6eRCD4STIRMKJzENsvVdOR98sEvX7N66D61WBnTS3wD+eTzflNXsaZIgRf6Ih8iyK9akt9SJuPrNCIvdCB5i/v5mTd+g5j6FQ4daUQnhQQ/tKLCxrV6QqJ1msUUcUYuRHwV/GI/XPAhe8SRTwSVD5ZzafEYuUS6xVb7+OmDXsRhqxeaZR6LgV7nU+RGlMVePrgGs6Xs4oYvxBpfbIFZsQ4+5G/2UlhbycIX2IbN4Nj1R0V+2V0soRexFskT+7cmv1ZyxDjj4XmZN1zaFoiv0JE9v7DEp+jECodc3yruwZ84rrli3gpDmIANhYqmIVzL2wo4XWqNTnwvOVTXvNm2B0lSIKEIk+bUloaRFVWcqp+AQMKRdYwkzhJ8NY8FEyREUiSDQG4sctiKwTiWs33xQgdGRUkZnIyxKMr4tcFkaA6MzyAIJPJLNsQJKeds9sroetKTYBPdcTKGbi0TEIb8ArFAr1hRlHBqujQPAJMcAZljsZfk7b0kkaH5zn0NiUEmBXeJR0FAN2xjGV91qwuCHKvmvAZTOr8lqZo73th1sKvjwBZwyTEkA4lQEtfRYwfJUsdRklZNspMAhHAhEmP3X/M6GyGViL9CjU9xcgmAPRJ8JAG4QTQUeC2LJR0GAY0MVk2MbbwEGfpS5evwhfxKGGwZ8lsGvBY4hk2dScSbHOQRV+BX10UXiI8jcZKWa+hH8lZISJKxRyt54EPRqJgXfMmUw/hsp4jjP65t4TuZw9iZ3vvkV+cqxIUMyIKOjWSPgMJ8toDlurH7D73OJ8UMBTLftRpBD+KwRAkbfFtzQqHtde8jxGzHz7PnuIVthmSM7uGIP2vCBCdkUtSRh6+F/MJ/i85vKY/xYVUMgRE+bSlfo4SdzJ8NkUIkVJxBtOjQta3IL6LrfmKM+8uFcpW4J9Yif/KD5oTcqvsdHZbzqX0sr4irOIRcY0yYMb6mB6IrNzjkbYQcZhAYBRdd1cpFF5pj8rLx2YUMdIP4i3UIl1xhpU8OhR0Ydu1Rkl8E1L5fjRrxzqrJluQXHhWmCgTYoBP+a974llVh3EEBo1HCz6OT1uRXXhJn/Jyk1T2+avWErRRJsGSFgh/hVn5yEmaakN8+0AQ9BELAs9ePMJYDAJmBBBTkl7IARDXNoXVpawBbftZj1aqkxzHiOMbWsUSMgVcg4+RIr0DirNqU5GsdeOzzyBFyi1yeffbZnbMAjC6RfbX2USJ5AEUeJA+AWu6VLGWT2IACoUEaODon1glmxyQe4FFhukbBIFGm81veb+1jBQe96MRLNJKv4IYE65QJOL5AiWQhMDClA2zfF5K3dlzzC3acBXT4yM/HGJ88KkZLoOTU9RXwBEe20S2TLHXvdbpq95v158LB4cJYcCEJCCZIL/LAXpwZhnXRJCddkDWkpT92nkvQuoAIggTEf1NhG9NKCh8W8OJP5NGNUJHDUkt5yOV+9q5KxLBCJnqgIwWSPb3Ghm1xwIFUWP6iz5ZbMMhDR/mZKIUi3Ig9bJWzogG24DarKtHxVmcxGtkWaxFbpBzOrfrEv2Ff90qyhylyIr86aUvtZjz3Re6tzGRViQ7KQ25whFwgDuIiosXXxLz45ha6yb375JeMihR4oQf242PJVZZuWxa47ID8sg0cG0tBDUtiTWIUrCti+DcfJKcYgPzWNADc3+etdom7/EeMFfPkZrlbHqITha08IPbRAd21tA2b6KzCgDwj3wQz8AEv7CIG0hWZ8Ax+rhtJnhYyKWA1HBAqOcCYxiKD4pkONNDkTmerS7rwkRVu5HQxSGHVUkflvWCHbyPAGh7iL7tprrGjmOgx7tVCL4kXdM23xV4FE1vQDS4Do8gxncjR/FsugB15U6EtRphH7lfOaclj89fEQH6RfjaSA+QmGCKHxhpOF07oPdfQDTxZCZvzaw//9YW3MfJL2UBJIRQDPJRAOIBmEMHEDREG5GrJpPvXJpA5U4iKFQHnJGTIuDobErhqBPn2OiUIcMixai5LJrlnf6ya56p5ziLI6/wyBGAYn6xJCAgEPZkDcAcsNWMPfZZDcGDBFnCNLwhLWLpqCIIqDnA4MzvqhiKqOrXuWQPgBG1kWqXGHgkg7IZEIFW+kMOxEQd2E4x1iZEI9h6a25LXkgDg0T5f+pAABDGdFs7h1w38mLi9d8gVXcAOOTm2ZUJLYcHPkvGnrkUiEBaJzljGdAg6Vk74Ep15j3zIuy7R1D2XvkfH7inw64bx6fhNCje2QdDh2NKS7oMkoeD0+ZYYFi/8Liv728Zg/gKagz+Rje0i51lnndXhWsdXNwCma3A7pD9kRVGtY6Zgg1NyRU+eizFWDBRRwf7QvVq+ZhxysZ2YrFCDZR1MBQ3bILhwg/yyL935XgI5l/qXuGlM+/D4DV/KaoB4l4OdEv/oSLK2ZxFe7EGmgy1icHSbe4uBCIp4omAJjjRp4JjdxGHFN9vx8ZYFLv0qPNIBR7Zss6J7S8Rwqng0NhnFAr4vVtJZOr+Z19JzYh+yl5gmHyVnO8sL4oyCSEee/0V/S8ebul6hb+5IeHw6OIEV/mze3penFN5Wc/me+AJ38eucp8Ybe4++2VneoXP5mjxkEd/oBC74CV5DPzDsdViHI51YWxl1HsfGqX3dHPmunKOYRgTlIfkRx5ETPFbAtIy/uq1wIJZaFTVf86cHhBcRlxcU0rGZVUBbZdioFXb4jgIRr1KowEZ2FsCrWAwfGp10IF+yo+v4ELtqeCLzbDEl12LySyEMwJmSiCzv6MaoUCQwFaRgUgPWCO0smJ04caLrxBkTYE0WKCmEAjwnE/kCWpWm/SEccJ8i1oJWhUI2Y0nIZHMwCD05yKOKlIToCJEHmLVjTn0OeCRCCUog5byCL6AiCBIYo6vwBF3g1j1Dhi1huHcLu6kWEQY2oQ96YDsdTB0Jh2/2qua8Tn86rZJGC6eGGzq2L0jwgBP6MBZypWARyAR/zyUqMpKVvRQOHM0m/+BnSu9L3kN+LfUJsiVG4NnKRQKPoExGXxhktyVj7LtWgOWr9K/rTi/BKpJr2VHSUhTQBwLhVx908BAgum2FYXhDDJA3vmHMJMqQ3/hT/MvrdAhDujp0um/OS9/nD5YBbWuwzC/GRA6PEU+rBK5TWC69/9rrYVvMQeAEfEU1PfB7WNEFJg/sS1zsK7FLGPS0lPyyjzGRB90hDQdbu0J6c2Ybj+FIsW9ciYqvwZr5us/aee/7XO4d8is5IlTkghfE18Fu5PLFYM0RyXZpN3xKlpBfHUBrDX4AACAASURBVF94EfvFYwlZ84GcOle6rWKv2MP3YUrckbNqfIu9fF5zQQzhv474t8deF58RBZ20rVYtrOLZ8w0P8enghE3IJEexk3zE12xjJFNNHurbBx9B8OU+foMzGJss9CFPObwWHuExwil/ijXykybRlr/zmznDCExaHdAFRzoVCGSSyzQjW+TJ6Imd6Jyf2h6oURSdaI75jo4YCMs4g3ii2QnPkTn3qjmH/KbzC6fIL6yIOQi4fG0rILni32SyeiI24TJIOTkSE4Zkmk1+Lc1wzADGOaDBtnUhEKp0ygSgoQHnvlYKzZFNCFGhjADWY4RGAijlEkQoSrJWzSTYl/ecK8e+6+wREty12ulD5ZjqMY+dvc9ggg3y0BK4pYzmKukhL0gUUEiObKTq1Q3SleXIgAPEOrSSmi8VuleNnuIIlocEPQ4UwiDI2fun8227A6dOEFI86RIhMjXjRxfuQce6zLqXSGWWa8gFq77p7TFHzyoGfcGUYEdGAaFl55d+EBDEAE7hln4c8CzA0VPk0L2xtUYQzNxanAVWyRg5UrySA3EhB3/yGp3xoyRLiYk8CFYtTso50IkutC9UwI2glu4LPcSPohdnyZTtdBV1ylonJDL59QhblgRUCbDUEZmQG362xdaYUj9Dj+3P04WHXfayDxumLTFbxndYNUBw4ue2hth6sDY2wyDbi8O2M7FNebALu8kTEhHd2D4jtuRLoy18e0gfXsu9Q375vS4ZWwU7fEyhrcjSXVJ08YUastmXRwy2hUyzQ9KmD2P68rPxdPPoUVEuRgfr4gFyIQ7XyAO7Pi8vuWfiS1mk0IdVAURTfEuO7M+l9jlSpYiWg9gBXkpbeI1vif+KFSs5dNdvnplTjSzmSO/ydXxa7iOPsyM4cXawC8KnG41wWSHkd4rLGlnmfJb9dGPFfj9zyYfJpEkhZ9rqVYORvgzuZVVCHLU/WwwWY+FHsSjWwTEZ6Io9xZyaLYp9GTyHQ4TavPEBY/EhBBhu6IEsDnk67zsjxla3NFHMxf0SE4bGOkl+JTukCGGgiPJDboSoSIYq1BwcV+dDl8/mdMQFaH22Fqx9YVXDiIwgYlyGQRScTdzhOXmQORvFtfDj1C3lyb2cVRiSryBvH6uOQv9A+OyNQcR9Y39t8unrZOy5JUaJzmZwXQXVK90IMp7TH+A4LOWwXevuh64GciLwpnJTtCT4IVQOAVmQkbRtu7A8NTavNa8jMLpiArCEjCjYboDUSTQewzNnUt3aE4ec+2a2IFf6wZrx+5+BGeRXl0NQMTb7xEZwLMDo1KvAkRWYSbEU7PXvu/Q5v4BHRa3CiBzxIT7FJuTwOvJnCUrg9xkFQcZrJQ8/sp8r9uIzDskwj53jY76AppBjI/5EP61kydzIIyZKBpIz7NCJwI9U2haCfCcBtB4/cgyd+YniBQFmHzgmF1zzb75OXgnLe+I7AromYcYHkhsQOHYainMIgtUB8VoipRtYWzPu0LznvEZe+vGlJfsU7Z8kF3lhyH5cmOnnuTn3nnuNDhrfio/zKQ0imFFUS9TsE1/jewpuJKt2yyAc0oH5i/F82CEHOHvNdh0xF9GOfefObcl1dGwchRlfZgc2YBP2sCVNhxpW2AxJjfxLxpl7rVU8foAgWYX05drgODLluVijYBHzxBk8qOUKwZjMsKkTz366q+wlP8CSvEGHvojs8y1tR+/sJQ/jM/bcaiCWGPUYx7I1IjKMzWPN6+YjZsh7ClRx1vxhV+ztH+SBac1F+UkjYq5OJslvgjlhBFkVh45VDkTULz4gCsidYAy8Bs9n1yhg6DMCrm9sCvQAEBksB6iwdUA4tE4Woq77ad9Q5JirkKGxx15zT9VkZNMVy5J+eQZie9BUcpFn7J61rwMveYwvsAAqXamYQn4RYM+RQcFYFyJFQu34+TznAVzdMpVbug5ZekSIHV4HXgQcaQ+RyH1qz+6paNLp1nmHWVhJBUk38GP5EcHTCbH1QlLYAsvsDwuCCv0bG4ZzkId89iXrTNtCVAbcVvgRYG2DEeAQu/iQswNZctb5cI1iRjcRSS0LlFbyuKeApwNsLySfcVjKz2NnARe2rWIgGBISzDtqsdL/fJb5YVmXQ9zRAKATy472jOpqtt4W05dj6Dn7kc9KEpJVYjoEWEHndZgSu5EqBHZpLOzbWMyzt7iMcR6zFfvYt20suPVZ42XM/r2G5lb7mjHEEc0YCZFMDvjxfQh5KnJtgRvyi8G+32CJOvGXT8OR7VQaA3yM37MRX9Mp17BAfMi3VleZmxVGnW/3TlyJT9uGwYdsp4ptavU+9HmyaELJx3QPJ/Fnj209yZemSpxsJRN5NHrMW84pMUyu8rnVZkTZ9fxtaH6tXyOfscRDsuA78jWc2I6GDPv1BTo1dks9JY4q+vmwItYqD14FN2SAIziWK8lA3tY6MH9cCd8TZ+VJ4/KXxDPPHZFLw1Ohooiaq5O95JdCBHfg1U1VKangHKpqACKs69KdMngrpeQ+7g+ECKblPOOTRUXpyGMOpiNECSENuUdrI7mfe5svHZi/89DRl6H/vKVsxtedQ/4tI6fCpTN7GKMvryN69NrSZubiCzkKEd1VFasuRzpTeezs0HG1x0cyb03CkSMBzE+o6TAEO/QAM7oQziF3gg6sxT45t7KP+yEPsQtbKFJKHLOTvb58jvzs2VoOWIURARaJM2Z8im6CFbIpjlwb4tRalujWfeFwyo/ynvNWcpDHvY2B7Ov8IAqSge6QlQR40sEv90qSPXPZ+gwTEgT/VdyRC5aD52A7vi5W8/NauejFwUeG4lxpn9qxaj4fGclDVnHF4zzPvV2Xxy3PyLfuohUKnV72UKjwJ+fE4cQhr7GjhE9esqyVzedgEYlJbDFOxrQqiEClsF47zlx9mU9038dM3x5z77n0unKOHjuMTZ7INnQuP7d0zDXXRy6NFyvKVp7EYvjgwwi5L9zV/tOPKdmiB00aW1CMLa7Aj8dksEVNrmytn9wPfuUcJNy8jV3mKP6Uw3vyJb4jxuUeU3P03iT5zYcJImG7sfY/oZw939IIGT9nTmQ8e0I4bnmQx2HbhcCTAJLPXpjOcSCOzUaSZKmrPPYectU6aRsfsJAqX/DTiVcp2o/juUM3UZfDYx0jNk2nqKWtyEIPcMNZM/fgJWckRsDZEjdxSmNEjrEzfZC5tW2i22AkeokenPsypQOez16YzhIB4sRP4kd0JM6kuD4ufcAGuYLr0oZDdjwuOS+M48KNPCRvwk1pm75/5T12hKtW+oJPY+X+5ZlcZExMajXm4T71/yGVX8sRsCAPBD/O8hS7HYWeyQDDeAK8BD9kIsdWuamcGx2MYTjyOJMP3pfoZpL8lo4x9Lh8rRT4OB+fijIdlz5KXZSPt5Qn43AYS3/+ZaLDNoIcec1Zd8I30/O5o5BtyzEO964P/qeSDuEyx1EE+6VzJ9OpKNfSeVyYrw++jkoHRxFrj2ouF9RxYqP++Sjn28dlYk1ej2xby7TVOLPJ79YTbHX/rRTVSr5T6T4B8xbJUxWmK6Wz6FDB5bGzytHhdZ3ZrfQSPDjn8VZjnZ/ue9DHBYukn5+wd5D1eLGno7dFzD/Ytd6uYzmKzQ52m6ffMR328TlJfvsXe56k6RzyNHTd1q+Vcsyd7NYynYr3L+10nDrL2NHRkM2GXsv1rc59OVrdd+l9IsfYeen9Wl7fl6nlvc9v96KLyJx45xwd5b3jOEcGZ4mxL0P5vsf99w/P5yXTLfQU22xx7yX3PODi+DCwxE7Hee0QVo8KNxl7i2LtJPn1Lbqxnzo7TsUfxj445wEDBwycKhhIMB6TJ0kh57HrDq8fMH3AwAEDBwwcHwYO5Pe041P+AfgH3R8wcGpjoOw45HHOQ7bzHuI71Ikduv7w2qlt/4N9DvY5YOCCiYED+T2Q38Ny6AEDBwzswQBS6/DLF/ayO9uv7nF55H3fOp4iyYeEesFMqAe7Hux6wMD5AwMH8rsn6R2AfP4A8sFOBztthYFsddDN9U9T/IcwvyXuN1md+4f/fuY3Mv07YF/q3Equw30PmD9g4ICBAwbWYeAk+fXfM456z++FqTNS7gFMMr2wgrbUxXFhwLilHMdlC3L4ZQwdQ0Qpv4Shm+j1vlyngsx9mU6V51vopsSn37zMvzv2X7qe+tSn7p7ylKd0/7Erz/1XPv8e1T+f8B/oEOAt5KrReSt5yvuUeops5ft57TjOp4oc5k6WU0me47DH+WXMEtMeO05V2wVXpcy1es49a+9zqn7ef4Q7bbfbdf86bi35jZKGzlMTb2mojBMZAta8fjj//8Ab3URXzv3XTiV9bYGT/vxKXXjcf58MQ6/3r1vy3D0tnSNIl7zkJbt/Geu/iflPNX4j2X8X020sxy0fLxlr37XuGwzsu7b/fj6Xs3ttKWeNrH3Z9z03J9f4OT7/WemJT3zi7g1veMPu7W9/e/efCf37Uf82+53vfGf372m9/qpXvar7t63+ayG75h77xlrzfqmL6H3svOb+cz+z5RznyjB1XamTqesO763/z3JzdVfaov8Yjrw2914X5OuimzHfyvvHpa/zu62akN9TBYDHDYYxPZDLv+69/OUv3/3DB/+28CpXuUq3hOq/l/j30WOfbfn6HCeJDrcEtnv7LzFIH51YSr7yla98ngMJRP5c11IHNfeao7+59/cfaRCjO9zhDrsnPelJu5e85CXd/233P8qRKf8Rz7/RNX8d4JZjz5Wx5rrgqOYeQ5/d6r5DY3ktfuAfsfiXsN/+9rd3f/rTn3Z//vOfd3/84x+7w7/w9ms5jr/85S/dv/T2b7T9a84rXOEKm3757VTChc64OMefr3rVq3Yxzj+24eNeP9VwfNRYGsOY149Kljl4Ka8pH0/Jf35+L//BEUaDW/lInrZ6oxlhG5PrYqujmO9RYWJsLnPGPz/hoz8f29OqOr+Sgy93jB15X+ckiWQrheX+zjpmZHLuH94fM/gWrxvvZje72e7ud79793/e8z+q/Z/sq1/96ruLXexiRyIPvZOFXtijtJnnsVH0t4WejGlpX4K0NIxQlP+3O7qxCmFv5eUud7lNdQMbfV1EP9FJ3m+pD51dlSeS+/73v3/3mc98Zvetb31r973vfW/3/e9/f/ee97yn+xfQSBdSQc4tsFneEz6ij3Lugj6dlNeWj30OsXH4XGtZ3T8HGziGbJSxW9op89T19b/kf/GLX+z+9re/deT3D3/4w+53v/vd7uMf//jurW99a9f9/fvf/777wQ9+0P0/+pvc5CabkN/owtlcYzM6mTpa24VuyvEQhJvf/Oadnh796EfvHvOYx+we+tCHdltFvI5ckMFBbvJHv1uco5vgN7LCifeOQoZyXsYv/Sp4zevkKa9v/Zi+o//y3JcpckV/reQKXmOHoTNbZXzXTx2t9KPBoBEhR8OtHCQneQy/97nPfbqVnIte9KKdfcjdauz+ffrzpfsh+3it1J/Y28pOpUzkgRVj9eXwWl9ez8vPb/m4HHtoHPIGT2Tt6+c85Pce97hHN8n+RW5cvpZB7VG0tPfkJz959/SnP333tKc9rdsDZx9cDnvgvO985zvfeXeJS1yiIz8UOiTw2tfIp4OKTPoCykMe8pDd4x//+G5sspDhCU94wu6Od7xjV81RSmsZIjv9ULwlbf/mF4n76Ec/uvvGN76x++lPf7r7+c9/vvvlL3/ZPbZM+shHPrLTSQmcUt+579qze5mv5HTrW99694AHPKDrNsZGzvYv0tHd7na33Y1vfONuiRdJXTvm2OdU0be5zW12r371q3cf+9jHOqL329/+dpdDV+3Xv/717n3ve18XhNiS7GP3W/o6Hbuf/5Ou6LjmNa+5u8td7nJy/tFFH8tsdNvb3nZ36UtfurPt0nH711/vetfr7GCvPQKli2ju0cOPf/zj3Ve+8pUuIOdfQPfv0eq5/cVWIm5xi1vsdCzhwB5Wh8ePfexjd2eccUY3d3uTE0iQcnq81a1utXvGM57R+Twfgy9fJvA/12tlhN34Bf9OwWT7ARsFt/FxetVprPGfjCc+WJ3QvbzTne7UYVJn9/e///3uve99bzdfcUYQZSNjf/rTn95997vf3T3qUY/a3f72t99d4xrX6IqXWj2Unzc3RZF5Wjlgs9iKvcqj9HFzSPyt0U9kgYMb3OAGu7ve9a67+9///rtXvOIVu89//vOdfhQGMK1YoI/Pfvazu5e//OVdHnD9ZS5zmS5eu0fut+bMVjnYCwm4yEUu0sVdhOba1752F/ejB7qBG/uy73e/+3U2EpPE6TXjz/0Mfd/0pjfd3ete9+rkKeOLx+R60IMe1MlTq5O+TMlzdHOta12ri79IXakTj/mSQy4nJ18T79asTMaHyGJ8sUAjA8Gk+/AC45p7OT4s3/Oe99xd/OIX72KtOINriDVwn9y9FsPBC9k8lo8e/vCH7z70oQ91eJWjxd/f/OY3XY6GX7nKSpyGxdZYIRMMKBZveMMbnge/sRF9wQ1b4Tnyk651q5VSNnMvNsDbFATGLA+xXhNLjFQY0AvfC976OFzyvMRP+TlYxEuMBQ/GCw6cIzfcwjgZoyf+hduQlX7Ps+1hivyWAvigJIhMCWQC3pe//OXdF7/4xe6x5zkEPY8/97nPdaBPIkcOy3vWPo6DnX766R2QLR9LRGQyNhkA+DnPeU7ngBTXklRFfkYTZChYcpL8dHgtl/7whz/snMoyqaQgiX7ta1/bvfSlL+2MWeqkBYAik/sCjE4U8L7lLW/pdPOFL3xh1z9e/OIXd4lbkJQoc49WZzLoCBn3Jz/5SUf2EArEz/HXv/51J3F+5CMf6fCC/JZ6aSEHx1EkISuC/LOe9azdl770pZM4hRXy5QxD73jHO7oAYDmMLsecc658173udTvSotOb5fNf/epXu+985zvdsjlCDCOKEdde6lKXam6LBFldTcTocY973O7Nb35z5y/81sF3dDbhAqFVMJi/QEOPl73sZbsAw/9d+4lPfKIjQQoKQXGuPsauI2N0zWcf8YhH7F72spd1nfLYjJ0cxrdigJClE5LPjt1/6PUEU/EBSUNujfvVr351p7OrOEPkQm7NU6Jw7dve9rau8/vc5z63S5bIqSQ2NM7a18gFEyk6dJ0zfzqIT0cveS5Ralbw6zWEpi8vOU6cONERGfucv/71r3eFPX928GU+Lc4p+L1vhUMykqjhiG+vsVFfFveQk2DEcjXSK9Hp2sFkXz/iy+te97ouHroOjvv3rH1OJliiJ0naysErX/nKTp4yvnhML3wPKTQPY7fQS3kfW62QStusNF1gRWzLwZ9yPP/5z++uhRdNnBpdIK5IEj2L/XQfnBov44dDaBSJRfyGzOKTAkVOEoNsFVSw12KHXWBQoSqmyNGILz8ni/grNiPBVuPEQM2zrVdqzYvOFB9IufhLT2Rypjt4pjfPvY/v0C/d1Ngqn1Vk8FG/aIMzffCDH+zGTExxxqc0RTT3rn/963c5Fb+j09xnzXkK9/xbEXW1q12ti4FXutKVTjZjYk+NHCtNMM736U0j6TWvec3u3ve+d5dL+eVq8ks5BEDsfvSjH3WkznKfx0heeXjdoTuEPAAPQdcoZuwzgrnko0LhuEBBBmCOXMDtCyoUYNkZwMbut/Z1pFWwsGdV0kQCOBaiRxbdX6BFehAcZ1+gAdpSJ63IbxzJ/lkJXHJGaozLVjlUuo4PfOAD3f5THWIBZ60ehj4HcJIRfSgAkD2J0TJykiVy4bEAKVC27vySC04kbYkAJgUOtgl2c6aP6EdyQh6QZkQnBGlonnNeC/kVVJF9B7wq2DiroKsLTEY4gtc59517DfkdfEAA0TmQmI0ff3Umk86HrRkIsoJOFwc++TGi4XP051pbN/gYEtqqeDKWQwHwwhe+sMMo/LKPMSMvTOkqKchjozV2ymcQaIEWBi2BfvOb39z985//7FZtyCHZeF8i5rtI8Gtf+9rO1xFSSYPPCcZz7TJ0XZkMPEak6NfSrAAPm9EFfXhcPvcaHIszik+dbPcYGmvJa0iaWIroKw5hAI7/8Y9/dKTXvmjkF5b5+c9+9rPO71/0ohd1Ky5kaNXlZDNEiW/DKbkQB4VtGg/BCt2wpcRIJxomcLxk7nOvNT/5AIELdsnDHnBLFo/FgU996lNdgjYPdi7tPne8qes0q5BrGEVeghV+44i/s+Mb3/jG3YMf/OCuiGCntfnIHMQBuLvvfe/bxX574zO2c3nQA3InHslZOngIOB+EeatKfE5ziX/W6IhdxDD4ffe7390VaGKdLWfvete7OrukeGMnWLFNjy2n9FzzHj0jj8agL5gJKcchghtnB7nEXFi+5S1vWUXME/ec6ZgfWdnyHRS8JWPmTC5detfAikaN1UP5ocYupf5yH3rhS/CAbCPd9KNrn/gr5iuYFCgKGhhnT3h2sKnuvRhhjovIr8F1exBYzPphD3tYF3xDXgBFwCuPvCYA+lKPRABwqW7LidY8lhgtSwMxcqk7Qw7dh8gjMAt6kjVyd8UrXnG1U4/JyliqE84KFDpElrYZQvUk8CPnKhGVJaLD+QS8MhEEiGPjjL2ezzkjvnSN3PjyzYc//OEODLow6c7kTE8eczCyKiI6cDT8HWTzM1fkG7FTUQt8nEhyNH4Sp6oSkVF5tsbK7W53uy4BIGmKJAEXhskkCbCXAzkPdjj/C17wgq6Tz8nG9D/3dbq1DCPhhBzAhMSESCgCHJa0dTI57Nx7j12XQOJ9CU1yoV9L1goAHSj2ZwfzDjb4MDuxB7l1ydgSIfd59sz1dAbnlpQtmY3Jsu91iYlPIyWK7Otc5zpdMOYvgi9fjpxljNHNswwoOQqY8Yd94w29z38UsZarkQa2OvvsszsSh1TpLmoC+CzdwoXuEL+WkBQSbGnZcOj+c15z38wBwRbo6QO51iFTBBiP/8Kww+PEvdjQmTwPfOADOyLSohsNk/SCgIsZbGJ8vozg6PQq8GEDlskE64iVVRe5pIx5c/Qxdg08i+eW1fmQREc/8EKe6IQeyOI1W890+WyhYeO1BG9IJvNyP1sv5Dzx95Of/GQXX+iAnmKb2Irv8SXEg81Lfx0aY+5rcKw5dKMb3ahb2hfbYIYfyZX81TYejQ9L/+Kg5zrV7ATXZWNm7ri5ztK9FUd2F2PEfT5r/uauKELe5Cf5W35GvJBeq9EKSJ/nS67R/YU9vrBWR/SrGy1+6ZziBYiknKChhyQhu3KTfElfcpJVC7aUr5Fvc1wrQ/TTP5OLrTSq4JeuSrzQn1iU/OS5FUP5RGxg78SM/r2nnuczWdG3jUnTw1gwER/KmVzwSn+ON73pTR0Zlh/W6qT8nO0uZNGBtoKu849gwwLdwAp7iNF0xi4aH/DD9+mHjOQVh3R+NZPEPv4JRye/8Kaq8eKY41Gqby+rqnXMXv/613fBA4gNwqkNIrB4bNAEPmfL+4yjQ9KS0FCYTpr9HYIuEJPHQRaHx2RAigVqnRyBssXyX2kw+jM/BMteJuAxvoDMUJSvShJ0Uk2qZvtfairvOQXY/nv5nDPnBBxFgS6IYAfEbMQ+9JFkGbLlNQmVrAh8//5rn8MUm1vaQwwkHuMIeipLDkwW5FcSFZB1tlR5CTJrx/a56IUMkh2iSQ6BN2MjvpwmP12F8NELuSQMxMYe4RYrBpIKImJM82UTHTyFkSRhXF1G1a3lr5bLsnShg2upClG0/9r2m+CDr5AJboMVwT+YQDLgVSxQREoQYgDsuE4SRX6Xdn7JFTv5LPy5j+RnFUDxoYInExkzZpKoeKNr8+xnP7vrnNSSXwlfkhVUQ37POuusDrvGEHOQbNh2KHoVu/Ak8LKtWMO/12I3+nCmc8WsOJ3umbESa4NVdvAavcBuDjZW1OqM1OLJfHXz5ACkmi8bhw3ENeQcjhE6WIJlvk0mSZLukF85Za1u4tfszE66TrCCMNA9ORAXWCGXsR157jXXPe95z+v2TtfKUs6DfsQtRRt9I1SK7MSa6IqtHJ7DNRLmFwbMKbYv77v0sXuk0LXqxldh01iIi+0qiJ5GjW6ZApfN+BGsIAg6keRZOjYd+JwmmWIE8WUTeIgtxF/4kbvpKF8w43M6vVYJbdOTR3XxxGS4oyPkd6lMuZ5ccrR5wwCcaHDIOeKtedsSZ1yxX9zxPgLuOxA6kPIA/bawU+SCQavF5FA8ypPRVeIyeeVN+oAn+hR3rTT57JqiIHNgM3kBwWQvxDf8yfgeGy8HvdGN8V2PYMoPmc/aM/vgUYpSmFCI4WyahwoztpC/xR/XwAq+JUdoaMFZ6efklOvgStwhlxXVk+TXDVKxUkJfcAkJeTOwYPavf/2rc1pBFVkxcUojIAIhGHNsiuJQlo11ISWMVoGG0ShKkrRcQi7jqegBldI4EEWlG3zmmWd24OFwZOnPc81zckiWyL1fdTAmpw6h4GjeQ0ZVs5xYEFLJqFwCvozdf57X557pVzK2pPfMZz6zIyTsARACYLoi0UkcjDNJrJYzEM9aOcjrHkgnwieQmLsOg2LI8sWJEye65MmxJG0kEFB1DHT/YHLuvPvXGdvnVXuWeyVINgn5ZwOOIhHApz2aAoiEIPjAuCTpfc6lE1m7p4mMIb90QRZzFzwQbAWCMeEUfu0ttd2iP7elz/l07Clg8FVJEKHjM4IYbKicJawsZwk+DktMMGzlh54kS90BGDIPBYVk6lrzg78lMkY2pEESRqLJJIaEqNCRLgNiJaEKzt4LtiVthbllQ3FhKI7NlYkPIVU67xIzPBiHznSB/FKHrrlgLxnDFuJFl/yMXpAZhGzumP3rzMFrCIxOu6Ss4wEz5m0sBa1x+K3Dbw7TA91433UO1/Br8UnxE333x9z3XHLll+Qo4weZ4Icf0ZlEg+iKy5IP8suW8I382upVW9hqXsAZrCLcmgpiWfBAPrEfNvlwilty8C9ydOz32AAAIABJREFUKVjEoFY5KfpTqMAxHRhbrOEnYiBSQwaywgry6zmbyZFrbZOxc6YfRA2h0YBhI2OykxUJBaxOsy6rVSaEF06soCjOddzWkF+45YPuayz4y1z5tPxstUlTRm7kZwoy48lZChLFgvgrp7Onz9Ohrij8Wh2Kfy/VF9zhKfIQ2fgQ/Oggum/8DuGCc4TT+GKlHKljXJubYiNzsELA7nKe/KeYZKuQSl1oxI48/JcO8BfkT+6gHxiHZSt6S7EsRyLz+JC8gOMZ333dn82MpQGiEaGBhOPRHb+mF/ZiU/t+M7eldvE5tqEPRb6tQPzDGA6PycKn+ZRVJ6sBxubP8JJr4YZfwYxVF1jMSp1xztP5HSO/JkAxmLLqgmEAwY0JYwlQ8JEcLQXqNHJ6g0sUyIVExWiWQoGrhtBEsc5kA1RVGrIpgAhoxmMkjo1gmTylxQn9mgBi0eIb6eQgg2AueBhbVcahBN8s1SANdCM5k4MTKSaQsnJONY8DNg4lYVoG8A1RMrEXIAM20NAJ50oQdlY1CQJsxRlrZMln41g6D8YX4JEm+7okQbhSyQIw20mOAqJiq7Yz7/OCsA6lYK7Lyakd7CPQ6CxYMvIFIvs4deqQUAVbnJ/jK1SQaIEles4cl56HyK8koYjk8Ak8gp5CQEJQXNWMm0RBVsFTAINPviyYwKmChGyKFeOZK7ID24KH7U78SWEp+LAZ3LAZXCPVfC5dkaV6cT3c2vOdwpHf6qAiVYoSOIIP3RFJlPz8SSyyrUa33FItnyznPFeWfMZZl0BxKrYhlOYaP4KPrCL5gg6/8T5Z2E/QRSTgfO7YY9dJtLqICjP4MIaD//InMTjfBJcUdabFIPEXhl1LFh1sOK4hv/zJqlkKN/owb8QffiRwOLBCyG/YEnmQD4KVVuRXMjMX/qo4ET/M2QE/dGXOSIMihJ97zD62sCChYhH/WkoYxmzldfeyTIuMINx821mssY+TrPAa3bEPmflhy86v5XmFM3KvmDQG3CJ9/NSysmKV38ARPIkDClsdVrgTQ9fEHatkxqVrPuos3tCDmCYXkkFDAfcwJjuKK+RUuMELPfm819hTAwmPEJ9ig/hsnu87sw+CjQfADN9QzNIH8pX78aUs/ZOFL4lHcpb81ILHiFNWBzQczF/cMGfjsIXCW7xmR2OKSQo+r9tKikeQi97gLatR+3RQvi++8yOxX2NBXI/e4QK3UtzjBPQvTxobbluSX3mH/Hgk+8Aj29O9s+JejpRvbFERW9gPVvgSeVzrsUOOx2k0ZRRXZePq5J5fNwXAJAxgdxBGMmJsyVJlLWAYkFIEPF0gwY5CVJOSEsVQivsiWhKWJAKwAVbOpRGWPiYjmQXaJAUOpjsESEAlMWWbAUABOsWqLKKMNc5dysqZfEFMNYTsUzw9Sc4Stq6NoCbQqKoFAks+SKbqu7xXi8d0IvBJdBKjxE0mIEklBxgJTF4HLsnLtgzdrCwP1MpDN8gIG7ENvSDjgg2iiVh4TleSpGQET5Y9ajFCBxwadnVgrFJwEDYyntcRKfYxpudsKAlxfvoRXAQae/fotUYfwRkiY7WCPOzBNsajH+PF2REMAVA3VqKPPtwnj5fIk/HNVSdboDUWEoeoCMDIDb2xGQzALf9X0Ao6go/PkdMBRwinbp9iElmu0ZNxFWZwgjRIUHxYcBb0yaRDI1kq5NiT/shiVYVuy8S4RD+ujV6dJUKH2MWP4EZAToIiIxshWh7zI/pgR7GGfLXkV4K1FKszRwaJyXz5KyIjxsJSVlHEPcUJXLmGfmArRN1+ymx7CB6W6EgC5LfBLfyQQ2NEDhAHkSk2pCe6MD7ySx4EkI3Ysra41ThA0iRC+Yi/2v8o/vMZmEUadHkQCEWwVTnX6RKxpefIbwsiEz3yAbFd3pEr2cC8FYgaRXIVvXk9Z/JrAiBgYuYa22T8nPmy+KoAgFEHmcRY5FQxq7Opaxg/YkcFjO6b/J97LT0jMPIPm8OredIF8g/P4qkvaeELiJuOOP+CFweyCzf5PD+DK+SoVj/igy1mltCzcs2/+LrYxfc16XRBxTu2IQcMmwP9aISsjXOlbY2jcM3KBTsYi53YTVdcTBRbsxIF8/xLgetaB8yLD65bKhef1c1WHKbrS/f8F38jh/iLF4g15GUvdqUTh9ztWvFh6fiw5TP5jpIi375eMR2xNz/y0AlyLsaJZzgUffFncZe8HsOaQwymV5xGrCnlOtn5HSO/Eq5lE8lNctT1NYDKlbIRCs5laRbQ/YyK5QTBF/m1PAiwnIxRWgYYCgMiE9L5BQbG4DSIDRmAV7cP+0doKMyyIBIKwHHuEoxLndz15gUYqSQZhMPQEd14T7eDPByOc5NHIlL9rhlz6jN0gsAI6rY9hPwCBCDRUUBCVonMAdSSKDKYwmBqnDnv0Y176UIDq7kL/uwAG7rlbCdpOQRfWy7gpdYuiBLiRu8cU+Fj/nCsakSWLLVJogo0FaJALAjTC4fjVAoYNpwz36lrMh/VMz3TgwRsHP4S+5AxzsvhJXd+GLLgPiFpU+P138v4lqQtgQsufAYWdTh0V8kmGDrMmX9LDPwfniVKJI/MMERXkhhCyp9qE5NATy+wYu4CHSIRsoRYIDTkJzf5BUj+xtd0ktboJroa+ixCAkPiiGQJP3RHB3wpRBNWQjIkA3GolvxK1OJnOj1IAKyYs/HoX6dXghJ/FW/0RzYYDo7FHUlABweWzDd4yNznnNlZkmR79yaDROg12LHCJebCiWsc8ExecsOyxKPbFDzPGXfoGsv5mjbyDLzwGQQy22/kJCRMg0aOsMyO7JEb+UVktiC/4p1iH5GAD/NHojQ+2AqG2McBO3TkNbYrl2aH5rzkNQTN3C1X04/4qvOKgPIVxa5tKQoq9nHAueLE8nny45Ixc618p8FE1+7LNvRt+R6exSDFCZ0gKclBYgsfcq3P+LyDLnWMxQc+uga7ka0kv3xU3mYvuUru9D4fQZDlJvKxEfyK163JL9LK9mQxV/O2KqnoV4TodCO+GjlisVVrPhfM050GEv2Ik0MxLHMfOov1GiLynIYDvMrT8KJJIldpAOiWwpImiLjjOtsNHJ6bg1xaksyh8YZegzVj0C05dJvTlOMndGLO8pTtFR6LPcmbZPUaudnK9eym6KSzPvecJL8mYCK+eCKYMEw6HRxZ9cg4AoygoqoVhCQsCiSwNrzgJIkKdDWAHVKY+5HT9gFBL4rQiSADBepOCyycXCK1/KVLBdyt5CGDDpnAQkfACLwKAfskdUToASFHwBiKEVXAljKG5rbmtcyHoQUJnW9JUcJJEMkZcAEEeSAvRwISFSDiKQCskaH/GY7oyzrmCkNsw1FUrbACM8gEoLIV4KseVcT9ey19LhBwJglHAYCQmLdAyiks38Imx2cre0qRC85DTxIXvah2FQTR71I5+tcbU/Vun7yCDIkz/3QVje/gQxITMgNHiF+tDD7Pp31xA1bZX0HLHvyaP0uMkqaCRWBWqCiQ2U5wocPgh80QIh2Z/jzXPIdbvkMfChRy8h+kAGGSCCRPpEWSTNL2GX6tmFwTfPuy6gLRty0cfFt8U+yLhfwYuYMV+MghzpBZrIFtMiGt/Xsvec53xA5FoQQHI/wVOYAN2PE6HyeXBEAv7BNfl0R83ipHiM0SGcprkVvNA9iEG+NbUi99CY7IIB6TgY3IAzuIsS0BCtPaGKMoUrCTwRyNIzHKS+KYbq8GgBhoVUs3Cc7JpVvFbluQX6ultlmJ8/RkLLZKHoJtr9ONszgsf5GxtiAobaVo48uwq1gT98RBpE6hZFsVHSAR4gB5FJW6wrpwfKC835LHClTNHXg1Pwf768TJwYga3Cgo+RG8OMuPVrucyQQ35JMv5Xk+WUt+FehWf+lCXINXxZv4IvfpmIsxZOXnfC05gYyIk7y9Ns6UMdx82AMB57vmy79xF9imRz4rBsrPMExeunQd3HuMa2ngrNlyZvXZfBXqcEoGfsI+urDmi/jCtLHhmD7YNL6Nb8ETIl3Oby5m6EGOw1nglRzsn/huLH5jHDbzWPyBG/6Pe4m9clQwYw78W05jq1KuveRXAPGlDgmagjmqDosugq0NggwDSeL2EQEJJ6MYoFehGESgW1qNzFGayZgUciLRJNgCBYcBDAoiv8SgumNEFXGrziY5yQBAdED5SJZEqdOCyHF2JELHHKHi8AKdTgndzJnrnGuiY/Igj4gfwOqwAlH0AxwJugIemwGQZUHLURyoXynNGX/oGjYS0BVSuoeIAbsAM5ywk4OdVNkCpsBSE3gjR5/8xrE5D7KgGyRp29tlbDIkyNGPxCCB0YtkUDpPxlhz1lWBC8GMbRACZFxXSsDh0GQhgzOH111dU9X35YMR+3f5tfvyFdhgD+MqAhAl21J0adL5YLMEPJiBIa/xK7oRvPpjrXmO/Oq+C24Cmm60zgNiKwHYm20/Pz3RjQCJXNAfjJFlzbj9zyDbSK+AjDSKcRK2VTBbLsQ/eEa2YMnKgtd0zjwnnyRe0/mFN/ownuU+xZn4gcS4v66ZLzKRTeIhixgc/0ry8BnEgd2zjNqf79znOus6hrCp8JELJBhJUleZbfgXn9ZdhS32gRny87X8GL44NXfcoesUyuYOK+5vHD6EwNlTCjdIDl2RVVxOwt5y2wPya3uD8djg3HPP7fyFzvo+5LkD+bFKl7ibWD4077mvhfzKPTCADPAtWFUw0Ql9RCdklc+RX8VsipM1cU+Br+HBB8RdfIAMxtQ5NF/xFZ9INw/ZtF2FHuQJ9hRnfFbRqZgJZtbIFL2V5JdsxtLRJC/OA8cw5HVkl9x0xE4aOIp9RHmtjUrZxU0Y5Uf8BkaMh2DyaVuM4BzX4uvyEbwHR67FOWzZ001P8VSOkXmPndlKHhSrYDa+jVDTBWKs4GUbOcKY/JrPiTVijlVBpFWnesnYkYkexBYrjbrN7IKv8FNn2AxvkbPgRoNBXKQnfEuTRmONTBpqmkbijeYWvwp2jDlJfpEPQc6EkSOTNXiSMSKXTl66nd4HEsojlMQheAMJhaxRSpQzdHY/E5KcOLRJGzvJmSyUKDjrTiMdlNCXYy2II5MtBpIzAq5iZQiABUZdGySDA5ONLoFdRe5zCXa5V+25nAsHtZRg6V8lyZEBlRwO9lLUKA7IrBteEt++ntbKRibzzLINwkRXDiAlA6eybJJvi2bsnNeMrYrX5UTkBJckIzYQeAWYYBh2OBmdwI/gAuOCd4v9x6X89CGx8A2dTF8ssaeKv1jKtUJBXjJYUiIP/AosAnd5rzWPFX7IN2LJb+gBNtgBaRHcPA75lzTpjD/Rj+DDXkgYMhgZSuzltaVnOtEF4y/Ghw82Euh0YYxJ1pB28giMllDhXad06ZhD10uEEorCxNh0wJ+RAvpTQPMXtnNmP6/pPOuqiTm6NDWdX7ZG5i1TIy1sYK7ua76CuhUERE8hZ/+kRAg3/Bum6Yrvl9ipsZPiGBbJIsYjVnCEzCALkk9sJ/Y6YMo3wulT86FV40F+UgCE8PMTmBFvkSxYkZvoIzihPwnVF97IyU6t9/xqPCji2QmWxVeJ2JHCLjGYn7EZOcwntqmJe8Gz2AIfsKK5wWeMyx4e82c6g5M0bTSSxAa+lNwUmXLffWfX80O5RMGKgJifTqtiGlGy4ifGKbRtPUPA7EXnR3Kjwpdu2NJjeVQcjl5y3ifL0PvmpemgUDJ3WBZn+DncOGCjryO+BG/ZDrJWhvJzJflN5zf5h53EHeOyD33AscM1sMy/6FRhIN9lvktslm0P/Np4cAGzeArf1u3lV3wJ/8vKLTnoDcat0ImPYpaxyzlGpn1ncUHXHU9A9jUT+Qvs0gUZFAg6vIi2bTU64/DC1xTXbOlaMZM/KfjxLGOXMk2SXwDhOJYDdCrdEFAoJsE1BCpJ0XPKEXSAvj/gvsmvfV9HTLWqa6WiZRzABWAVow6ojkd5/zh2+drSx3FyyxI6EPSiItFpUMWqcMu9bx4rJsiS5YnSIEvH33c9+RwKBN1LBBeRYEvABRTdIt00IKGTFnoZk0tVCuCKECQB2RMUkVIBR8Wv60vmsXsseV33ju0FOlVhHDv4hVuYFViMj4wLtjAMP/SlA5BqesnY+66NbWL/zJmtsr9KklDpS+6ShOXiktzls/vG6r/vc+wMg8ic+1pu0rXTvVTxs4vgZylN1Z/AokAQBGEZSff5yN4fZ81z80OoJEd2QcTZK3HHY3FI4HcWEMUbX7aFrbK6XzN+PqPbYWuX4JtiQFdIrBnSe16jj3RpJHsxKcky9861eT52Npd0fmFRcua7kqDuDzyLNwoRB30lJtOPOMiWyHErv0Z+JRX2ED9gweG5g2wIgr38Oklwy6908RQSSCFC36KIQ/7lJ+Te3OFBXDN35CAy0Ukee08jB47pEN5t72khT+zIH2ARGYGHHMgogoAEk9X4sCtf8EGF1FxsZKyxs/vAD11bEbHqCYvm60D8EAn6YEfvKZ74X228K+cAd3SBgCDU0YUz/fAnundouCG/cMJmCI0tK4gvUjQ216WvG8uWGQ0qcSYrssbk68gmzJZxRxzWtLGS2jLemTPbIJlWjNhC7okscJKY5wzfDvgmq9UnxY37rPVxRYX8r8srZsGlHCi2prDk43gg7PBpvIpPIb/wK0fgQUttUV5PrzDLPgpI+TtbUDQUxB0x2IoGPLmOPTRwxB36oTc5HIGe2lI6SX4JkW9kquoFV2QywY5yPDdgBqUMikMkfGnJxOIIOZeTbfVY9YRQ+hkb2wlMHjDILImbqK6M8QJc86sd370EC0a3JGH+dAIkqiEHYgesdKRisazEqDp/Pr+lXso52vfCjsDKoYCEfiR48ute0ceW8pgvwAqCyK9uuW5vqkddMrqJjWrtYxxdb2SKgwj2cAvDzhzGY5WlLoRgq3sFwwKQvVi2JmT5r1ae8vPmODRP+qcD+rGUj/DAkIRgaQphLe9T89i8+I6Oi+RryUkg1s11+EKg7Ra6QeTgU0iMoOi5bRGSV40M/c8K4rYL6SrqhLBFYg7ixy58SdLma2wq+OqY90lm/95Lno+RX5jq34fNYktJ3fYISUnHRBFsGbz8zBIfkwQUILAIo3Rh/nQBwyHDsCxx8uvEG3FQ4YcklrGglGXp45DfjMEejpBNMUWn78SJEx1uLGHqTOm26uTYDgBvbBWdLZUh1+v6wKwYYsUNHsxfHCYTfURHJW6QX4fiAOlDflv7uDgnN/Avc2VH2LE9RAOCnEiWXImIWvLVFMjcas/BJOKJBMjHtr7wZUvpcMEusERvGg8KCTZphZXMASnj10g1feTwnI5cR1460nXWNIInBR8syV0IWu5XczaO+ck9YptmlG0XsMCX6AIZRkTlSVgS9+R0XEIhucR/98lKN0gnv2ATcpCBnyOeDnKRAYbJE99zDRKqyGS3tXIhkghlmlFiqmJS7BXr+ZAcjfxbvdEQ4nPk8Dr9kd+XS/fNd8775sEf+Q388g3fQZH/FHLl9wVgllx0BMv0Q36rCfKo8aKXnL02SX4pk0IEGN0D1TUAOHR9OK2DcQRehuHQlOV1ychgGTDnOZNfeg1FSTqW/lSKxqcMpAEZ9s3TdBQTcFvI414MREfa7JzFIahJ3A7AYRDy6Eoj6Ay6dI5rrs9cfRaJY0P2iQNZMtHds+QUElN+Zs2Y+z5D72xlj7RAoguiqkbMVfg6XS1sQw5ObUWAznUpbWGAXYcE5IAVRYluFYKZjiM8c3SdqrUV9ZQuzHFsnjDFHrBLNoldh94eRnOauu+S99haItCBUfz4MpOK2dK0g9/wY2Q0CRuJCeFEbFrKQ3a6hgtFoqBq+Y29xB14FfBDcHQ+2VRSEhQRjiXzn7oW+RX3dIAkHjEund+hz8WWAi7yi7zDEvkShPO5XJvnU2ekgT5gmDzIJWJAB9FDitn4taRET3xLx8TWnyVjTskT8ksG4zg8VhQ5sxU/RracjW8FI7iBGXsmxcBakoVEK9zFMLoWb+mEPsR+OCWPx+KeGExehZNrFAcKY9vmtvBx93TQPWzyley1pyu2hGt5wXavsrBqYS/+bVwFs6Vtvs2frcrKk/niFL+yWqHYZftWOSBzcE6sYfMcXo/eyalIFHPoQ3ES8quQKpf0c98pnI69F1msriHaWe3i50ivFS5FpnwAI3xKEQXDsNuRptNOaxZn6AJR4+O2HVhpgll5SYPB2eoO/MpJIXhiEp5hSx/eU+NLyTe+1K2LbP4Z2/i2xZm/sXRfxTf+BsPIb4vObx9zsTFuh7vpTLOX1RPFU95HunEHukn8EwdcL4e6b+6dz8DGJPl1YfYkWlK0ROCLF5ZGHLp0lrYQKp0zwVZgUbUwno5bOdgYGFu8bhxVoy4A46hogUMVhUAgQK0qx1LeKFbXWftdMuYoEmWKAg4EsEiwLpDlgdZdhlKm8nGM7jW2A+IkALZCOn1Bx35AFTg9lp8p79XisXtL5hKobpSAK/CG3Nm7w44txnIPc0LqBHvdHVWiL2HCrzP8Ojy2lKMDg+Sli6aitvVHYNkKy+7bvzc9wYilMNs1yCRRwViZBGr1lHGNJaAIFoKLpSaH1RLdEboRgAU7SUlnRvWvMGDPGsxEhszFc8WYboj5SgjsxU464TrzAh1/kiR9UUXwV1AlkeZeNWddBrFDfAv5tQ9YTJy6Lzl0qyRucUgy7S+/9ec8dT/XIov0gTiZPxuwBRLHjx2e5zVnxE9XU8GkMHCfJeOOyRTyW45LHomH39j+hZBKpJaW4QQJt3ddjlCESvb0GGI4Nta+13WAdEuR16z6iflIAfKCrPBtKzrIDRJMZ+SgH0u8uqBWPVroJvL27xXdmzMck5HOdNaQDIVt2YDofz73XXOmY/6dXK6hpZOmYwibiIICjS+zmzFqiNQaGX0GQfcFUz6PcCmWxBm+JHaXBWRNvIl89AE/Clr8xpfS5cjkAzZRSMG5nI5guYadco9WZxjm4xoOiXfwjGOZv86mVWS4CfmFZfGFjyFyNZjxWbmSTuhDnKGL5Eiy4FX8zMoFLgi3dCN/tyC/pS7LucCiFQL2l58Q9RKf9CU34jViEJvhE+KU63Pf8p5eO0l+OYAq3U0Bq7zQcyAxOAIpuDs7GE03QndKFc2hkT4kS5WZgbc+k5GC7KdiOFUKwKqWBFudWUl9CznoDHHgFMiK5XXdKgYwvr1lErUCQSKw97bUb0uZcl9nh2qabGxnewMCEyIuiVry8WWPchmhpTz9e9GV7oYql2MJKMDKuelOEup/pua58ZAzHQVz5Az2wMEtHHvsrONpwz7cspXAC8eW/i3l0GWLgLt0LjrPEje5VNocnd/Fzkvvt+9695UszVWQ0Z1TWQuySIPuHvwIhLqJLUlVKZtkLRnCLRs581/JAAFGRsUbiUERpSPQ2j6KHvvbzB2pcyiiyoAamYMPcisa2E3iliB0k7wGi7l+6VlsM3/z1HXRHZJ0BHsH24T45nc3ETukQVJttVWGjhX6viOgkC8POEWovCeRGhPxVpwoIPJlUh1x3b0WMYfe09m0V1RX09Kx7Thyge6ewp7fZP82ORAHha6uLxz3i5Ol9plzPWyINVY05CZ+hHzKF3QEI1uvCNIVvfuVIdgU48Rg+tIZ9t6cubS6hv1yiMlWW2wf1DCCZ1uHdGYRrtZdcf7o0GxB+tiGDAp+RYAcjtzJTym0cYtsn2ylA/eBDT6eXC3eOcgDx5oPmiC6rHTjkLsRVPL0t1XVyAaDdC3ulgf9WLmwXUSBIv6G/CKfmnqttj0Myc9WsFK+5zkd2E7FTvSi+Sou2T8/5U+zyK/BDCwpJjE6cyRGs1dIB8bGfco4DvJLCcCjS5VkrRJQKWnVq3QZslRcq8fGpgsdOXuTdDMlPt0OZBNhkKgkLJ1HRUHfiK1kyX0kKTaThMhl/6ggxzYAwol0plSyvhAmALg+n9/qHHJgeU3A142RvJEMslj6a01izMU9c1/zzFzh2GPdENWtTrik5JvgliQVhLpUW9trTN9IlL1nCJSCjo62JL/kyFyRX0HVMhjyjVTBMuJJL1ZT6G1M9prXycAu/Cq2UsTwbeSJb+uGIzWIVPar14zZ/yzyq3BGfo2H/Oq+Skq5NrLBFlkFW4QLtpEaS9q6WNly5XPRb+4x9ywxsr0OHVIgvrAFvIZYIgyxkxikMLA1wGdrxi5lJIMklxXA8iy+IVbmKB6Lh3RB1nSrW5LfUi4Exlzta7VvXRcRARcDs2eaD9GVFTr2sfQPPy1XU0qZysfkQFQQGXZDgCVtxNOWNDLETuXnWj5mE3lQDhLr5AK5WxHAl8nYcrx994ITvsOP+IjOor2k4gwyo5hCbrxeEvO1PlTKk5yQ8RNv5EJFppjLn+Qn5Bf5tF9akVLep9VjcrgXOTw2RzHP3G3rghV8BnasXFiV1Egjr7zqs630QobwvZzFN4cCE175EL6HS4T8ZuWglU723YeeNK00X8VBK4IKW5wPWZ/C8yT5pcgcfSHK121E1sWz3KXTaSlHYupu3nBvTF+G8jlyp8sBIDquAgs5dFq1vxmwBTDKMfMYUDx2BkIdGt1U+9BUjxxZp0xVy4ED7Hx+i7Mgp0PFNsBhCVAwYR9AAV4dnNKOcb4t5Mk92UI3VSGAXAIre0nSiO9Wwd88h+bnNQ4tGSA6gotgJylY8tYNkVQj/1YYcn+y5Mh4x0F+ja3Chw/EwPKwwKKAQ6h06BFAtkrQHdJt5lBzpm8kXCBD+iRsJFShzbclKXJs4d8hvzrukg3/4Ts6r7ofVimC2ZBemEF2LbvDN93pTieB0MUaXfl8+Tn6F1+tuqUrj1w6FCoIjdUudpRAa2ww9tnEjpzLuZHVuPxawQI3CIQOtcf8TSw0r7H7z3k9YzuPXY9U2f6A7LINGXStdIfYBpEvu4pj96l5nT4Qcv9sByYQGCtvVjLcMFRBAAAO8klEQVR0nnX43H9qHmvHL/OTRocla116MijqbI3xGvJda4+lMtIL+ULI5UmrBHKmZX7kjo/De6mb0heWjjl1vfsiTMbEYWBFPuD/fErn10rC1D1q3yODuOo7MbbkIJliDyIuDttSqutLzq30MDQH+jee7awhv3yavXTr8S8F59Bnt3gNx/EFPf4kJ+ASMA03mqD7xjxJft1gbNvD2E2ieJ+TiASTkE7AEeDGPtvidY7KIM4Cvb06ghqCh7zougKP9neL8cbuEVCE/Kqg7cNBpnR+JCTdCBVTq+XHMVm8Tp4QBr+Dp6pXtXIgBYHlPvLp4Ezdp+V7ZHI/laFuXRxaYJG8OZSuzVSl1lIe2GUvhzEVCToO9CPAcGrVI5nosuXY5b2CGcEOWXDm1LkG0dL5RWj81qVqf+vOr2LAGLbxSJaWkSQBPk0nfKokvpG15Tl4IQtiKREo4qxcCHL8SkdI0UuHxs5nWslh7xsfpvfowNYlgd4XAPm0JX6JG3mxXw85dm1WncRVNmslU+6jIBPzEBfy8W020omxwuPLt7qMW2I3soydxWU5QPdXd1NBIIHr/IoDyG+Kp7F7eP3/TRxTn8t7OtGKf3pSPInH7EgOS+qKmK3JLxzDAezQgyQt3viOCjv2yV1kb3EW6/gGe8ArP0IQ+JFcKcbIE5olWxVKU/MgH9KUhhGfkRfsI/XbtfaOK+Km7tHqPbKIbbYKKbDLzi/yu2XnN3NIbrKyZtUEsaMPPs5miiZ+z56OfO4ozsbzRVbkly9piNhepaizPWNrrlXOUd5GYDUZ+JO87dCFVnSX1w49riK/HIqhJAgb5hEaYMm2B8lgaNCWrxkfWZCQLWmlOtJNRMZ1rwSelmMO3YscgGHfGcXrNEhCAGL5BGAsh84J9kP3X/KaTofx7JOSBJFdZMFPlyDB6Vy13Cc0Jh+MlKQEYbD3DkHg0EBrWb1FF2hMhrHXQ3yRBEkp8tCT7Rg61Ft1Q+jE+MZGEGDG7+zqdHiMdFtBEPzYDIYk7633/NIVf0EIfPnQNgsBxVIxu0nWyITryA/3Y/qteT240WVBQq0sCbRIpfhi2d++8a1Ii3nZKiWu2NZlRQlm6QJmPVZcI7v2v+lY0Y/4g4QqntKBpbMaXQx9lg0UsBKycRT75CITv+8C+8ou89B4a19D6hAJ25x00OnGF4nsnc4e130Y+h+FzcixTy44MnYSJOLLz+kte0mRK0vH++615n2+JEnDqVUBOYqdyKPrqzjZmsDQr7yDmPjlDf8NK99HQaT4l9zkujJWr5nv0s8YE+G2N1wxIl8iefzc90DgGE62sk9fXvMP+RVz4RVeENCjIr+KafbAIdJ9Dmbs0/bPHawi9GXf+jlbwbIVbFud8D06sV1QLNYwOYriiRz8ht/6FRBYYSPdeVsw6Cc5akonVeTXjSVA+1E4tb0WR0V+46gCB7BKjumyAortBvaRAhIZp5RQ+x5ZjCHAIPyWRiRnyxMqayTYF4OA4yhksbVAZYY4+akoX6rQEedIusACjUobkGvnvu/zdJNrPNZ18DMqVgjYSadVF01HfGvdRI6cjaejIND4EpVAJ8jpCunK6JJsFXSNrWjzRTskRiJkGysoigG/KqAjpHjRASET8nsUe34T4NjF1h3dRLqxxG7PKzITHW55hhfbCnSl+LIgx5/owi+UWK7ewj4SIPtYwbH1QbdHgZ8veNAHEgzDSATSa8sXIhzyq4Cyz9WeRasaLfVENskGkZEM00lEqMRAK0w65cYs/a+lDHPvpXgU+3R/4ReOdIoUBAq8LYtedjR/BTd76Jop4pwRUbiyfUWO2KJDbnw+bo4StRUcOUGhIlcqmJDjrW3k/nzadxfkJbna9i54UZDY2pSlfDLPtW2L65AlMVi+UuTTC/IrDiPpinBNADm+xXj77mH+dGXbg6ISXvn7UZFftpKP8AirFQp+47OVLTu27lhplx/2zaX1++IOLPtlDNvxkF/fG2I7BZT3XNN63P796MhqoJ8yk6P4E/LLx/mXZkS+AzLlW83ILyeKoSQowEn3oS98q+cBquUaRE8isldIUtKJVjlRkvG2dmr356CAYU9kAgxZdBUlUk6+tRyMbanalypUzn7FQzcIyZR8fCFFMrZMexQd8XK+Ah0yJ0EjMg6Vvs5MudTfCh/77kNXChIkU4GCuOjYCTKSo6XZrXSUog1R0YlHknQXdekRcT/dpfPq9Xxxkv2OYtsDn1Eg+TKQYMunBGAEND8yTrdTgWWf7ue8T0dsoMugwyDAiTEKW8TBfuxyJaXE2pz7T10jiNtaoINgzmTQJYMR3UNJ0WP+bc+blQLk2Ove14GAKV1jBc7UWEvf4yv20Yor9AGzkrPxxT2JG2FYet/W17OH2KzQ1qEhG/IpV0jgdEvOrXzMfGAIybVagFT5FRe6krwt09IVvG8hA/+QE5BrGDBvhAGOxT2Jm3yt9d6/X7CscLXFTPFIB/KlHKFZwg7k3dqn+7LxX7lIwW+5GsljJ/nK0j7ZtipO+rLk+RD55edH0fmlfyuBvt+AQ+hmInfyOP3YXiBnbPFza5n/2JmPWKnUDCCHGOcf7/BtcdpK8lHgJyTc6rZmGn+Sn8jDx+z3RcTNY4qMV5Nfky27U4RAfo9iz6+xfRHG1gadF1Wj8TmOKluXLG14gbhlcuwDhCyWtuxDRBgkIuROYkJEj+KbvGQCUF0VBArJFOR0WB2+aKKbaWuGTutRALXUkyRDBiDVfbF0rCtNppLElJ/Z8rH568jYZoDYBLtIpmJK0t5KR+xEH8bmP4gvIiMhIXcKKMuykpNqVvImlw4xwr4llmHD6oV9mgKwXw8QgP2ElE6obqzxJe6p4FJjO/dH8hAUtvAFSd1WRbUkoGDq/4JCS1u5FxvpiCFpthJYDaAHBA7JdYYZXTQHX0d8vW6/oG1XbAhjNbrof1ackXzgQVImE3yIuWQUDxP8+5896ufIry60BAnjyCc5LZXa+uC9xOgtZINP5FeskSSNz1aKB51Q9mXnltjJPIzNxxEG+zfFY90pRZMldR2qo4h7utoIpoIa+YYV+cC+X+RFPpBHybuFHqKPoTMfN77vEiggcQd+rjhAbLwHy0ehp8h3nOSXL+Q3hxUp8iTMKBx9yU3BZMWEvSLvUZ3ZSuzXrLGCYMWJH4vRVneOilPIO/iUpoTcwJ/4tjwp/iHiiSlTxWVHfv/zn/90wVqQWKNI31aVLC2RMpTqTaWC1GyVpDmEqtD+DkSXwwhqliAtB1rOylLOmjkt/Yx5clQgJYuEJFHrlkmeW+mhlJOh7RnVcQLMJEYOJDGriI5q+ShyCVpsxRYqRjYSeJE8WzJU/IJNrj+Ks6VyXUNdH/t6/Vc33U1ftPBYkrCksrUskg1HRZBsKbC9AQFWvHHodFwRKgfH1pHdeq82eyAHus6W1RVxus860ex4FF8+0f0Q6LN6AcuKAlsdBNqt9vqO2RwpsJSmkLVsj8jxdUS8PLxOZnuF7Y2zb7gVoZBc6F9Hnj50yPi27pDtMpb3xWJxoNWYY/qY+zriZc8muXSqxUU/I4joiNPi1RZbDkr50vlVqNCZmKxwksy31pO5w4CGhJyIhIt/looR0lLOLR7DAtzqFmo8yAtIlV97kJeOu0iCaQ2AdKPFObGPr+tUK0y20MvYPcVkq7T0RaYQKz4m/tprqxM99vm1r4vpCkFf8FM441HwqsiWI+UjRRT51o5R+zkyagIoXukDlnGwkmBuyXNyb5zC/nWrR3IUviV3+zlDdpu7FU7uPW23250kjjoqEqxK3XnssIfL4X2/soD4CvpIloCs4yjIAEvuOXavOa/7JmiuM67lX9WiSatkgZQxdDztz/ODy8aNjD5b3iP3anU2Fj1wmIBWlS1R2mpgX+dW47uv+yOXCgG6TweKLA4AUSgAyNa6KHVKJraSsC1JIHQ6Y4Kw7QX2DEWm8nNbPYYHpIou4EdAUzGSi0y2Hei6uoYMrm+B3/583BNZ0d1AuO13ox9bVOCYjnSpcui+6k7zMzpl85Z4Ms/4ioLAfjtLpHSCMPAzS/j0wqdzPdz157bmeTkf91bE6vYi3hJAOob0Vl67ZqwlnzG/6EWwJZc967pmuuI52M7huaIOhnRFxCHyRl9Lxi6vNW+EKd9tiE7EPURY8YRM2g4idreySynDksdkMGe+Lf7ZZqBI0KE555xzuiKPr1ldgOfc2+diX3Nw3PWM03d3Pf303Ym7nfFfRz43diYD3dBRYo+VOb5nnLHP1b5uXKRbTtCdQvzFZb6kAOBLR2EjhbziWtEmzmXPvLykYUXGyFGL0SU6i+51v61ikEueUhilO6/T6X3YJ1s+s2ScpdfSl9/ptxon9gQzZEP6rDDz6aX3nbreT4RpNvCRFIjGze9104MvOtMFW9FHbDZ139bvKehxK8Qcn4BlPxXIx+Foaxtl7sbjV7iD1RS6kjd9Z8Zqf+ZNnjzun5F48bIjv0CHtOrMuZHurcQ3dnjfQRHIJ6AAiMB21llndWcVrvdzj333zHVDZzLldfcxpoBG7n//+9/dASyCq9czbjlmeY/cq8XZfemNTAxBJt10TgwgZHHYltFivP49jO3+5gqUbEAnZKCTPI9eXLeVLH3ZjIXMKYqCD7JFT3AT2V2bo3+fls8FWrqAT/pCNOmKTGQkE5njC+RrOb57lZjhd8ZFaPjOueeee9J+5Mqf96Mvn3fQVwvZSr2bb2SKPIopY6v4c61zK91kPubivmzDLv7oA4Y9j95co0veYu5T9+An8RVjIy4IJ1t47Mx2DrGHv3sM7zr4YgIclTqbGq//Xmzs8+7nvvSQuEc3bIRYxTaRt3+vo3ye+fK1yE0vYmJio+fsTD+RzbWem4NVBx3Az33xC7svfuXLu//90Q//68jnhs7uQQ4+zrfzB8uJOUOfa/GaOcT+iTWlzeCi9B1yBictxncP93ck3iW+wAvsltjK2M6txp+6j7G9b950IU/RDz+HaY/5Etlzn3wmz7c4B6tiHT3BqiM5K7mh5dixER9mF/P3lxweDsE2dBC7tpRhzr2Mb/58OLZKzCHX1thx/8RT4yae0BP8JObSj/k4w1d/bl6XO+S4/wNgIT4s3qG5iAAAAABJRU5ErkJggg==)![mn\n",
        "\n",
        "The first (and often most important) step in machine learning is preparing the data. This can include downloading, organizing, formatting, shuffling, pre-processing, augmenting, and batching examples so that they can be fed to a model. The torchvision package makes this easy by implementing many of these, allowing us to put these datasets into a usable form in only a few lines of code. First, let's download the train and test sets of MNIST"
      ]
    },
    {
      "cell_type": "code",
      "metadata": {
        "id": "I57ivxVUSZzl"
      },
      "source": [
        "from torchvision import datasets, transforms\n",
        "\n",
        "mnist_train = datasets.MNIST(root=\"./datasets\", train=True, transform=transforms.ToTensor(), download=True)\n",
        "mnist_test = datasets.MNIST(root=\"./datasets\", train=False, transform=transforms.ToTensor(), download=True)"
      ],
      "execution_count": null,
      "outputs": []
    },
    {
      "cell_type": "code",
      "metadata": {
        "colab": {
          "base_uri": "https://localhost:8080/"
        },
        "id": "5J2g7CcgSCjr",
        "outputId": "f9de35ec-6290-4231-d7d5-1301ec658b1e"
      },
      "source": [
        "print(\"Number of MNIST training examples: {}\".format(len(mnist_train)))\n",
        "print(\"Number of MNIST test examples: {}\".format(len(mnist_test)))"
      ],
      "execution_count": null,
      "outputs": [
        {
          "output_type": "stream",
          "text": [
            "Number of MNIST training examples: 60000\n",
            "Number of MNIST test examples: 10000\n"
          ],
          "name": "stdout"
        }
      ]
    },
    {
      "cell_type": "markdown",
      "metadata": {
        "id": "1Ir5lTH8Si2Q"
      },
      "source": [
        "As we'd expect, 60000 of the MNIST examples are in the train set, and the rest are in the test set.\n",
        "We added the transform `ToTensor()` when formatting the dataset, to convert the input data from a Pillow `Image` type into a PyTorch `Tensor`. Tensors will eventually be the input type that we feed into our model. \n",
        "\n",
        "Let's look at an example image from the train set and its label.\n",
        "Notice that the `image` tensor defaults to something 3-dimensional.\n",
        "The \"1\" in the first dimension indicates that the image only has one channel (i.e. grayscale).\n",
        "We need to get rid of this to visualize the image with `imshow`."
      ]
    },
    {
      "cell_type": "code",
      "metadata": {
        "colab": {
          "base_uri": "https://localhost:8080/",
          "height": 316
        },
        "id": "0oD120ZdSjvl",
        "outputId": "ab74f2c5-d4d8-4eed-9ccf-bede2890328b"
      },
      "source": [
        "# Pick out the 4th (0-indexed) example from the training set\n",
        "image, label = mnist_train[3]\n",
        "\n",
        "# Plot the image\n",
        "print(\"Default image shape: {}\".format(image.shape))\n",
        "image = image.reshape([28,28])\n",
        "print(\"Reshaped image shape: {}\".format(image.shape))\n",
        "plt.imshow(image, cmap=\"gray\")\n",
        "\n",
        "# Print the label\n",
        "print(\"The label for this image: {}\".format(label))"
      ],
      "execution_count": null,
      "outputs": [
        {
          "output_type": "stream",
          "text": [
            "Default image shape: torch.Size([1, 28, 28])\n",
            "Reshaped image shape: torch.Size([28, 28])\n",
            "The label for this image: 1\n"
          ],
          "name": "stdout"
        },
        {
          "output_type": "display_data",
          "data": {
            "image/png": "[encoded data removed]",
            "text/plain": [
              "<Figure size 432x288 with 1 Axes>"
            ]
          },
          "metadata": {
            "tags": [],
            "needs_background": "light"
          }
        }
      ]
    },
    {
      "cell_type": "markdown",
      "metadata": {
        "id": "f-7JNEJgStQE"
      },
      "source": [
        "While we could work directly with the data as a `torchvision.dataset`, we'll find it useful to use a `DataLoader`, which will take care of shuffling and batching:"
      ]
    },
    {
      "cell_type": "code",
      "metadata": {
        "id": "z1jf8_RtSuGl"
      },
      "source": [
        "train_loader = torch.utils.data.DataLoader(mnist_train, batch_size=100, shuffle=True)\n",
        "test_loader = torch.utils.data.DataLoader(mnist_test, batch_size=100, shuffle=False)"
      ],
      "execution_count": null,
      "outputs": []
    },
    {
      "cell_type": "markdown",
      "metadata": {
        "id": "OAPXIrq7S2Mw"
      },
      "source": [
        "An example of a minibatch drawn from a `DataLoader`:"
      ]
    },
    {
      "cell_type": "code",
      "metadata": {
        "colab": {
          "base_uri": "https://localhost:8080/"
        },
        "id": "mRQqMXPiS3Vn",
        "outputId": "33d68951-fb4c-482c-ba6d-48988226d160"
      },
      "source": [
        "data_train_iter = iter(train_loader)\n",
        "images, labels = data_train_iter.next()\n",
        "\n",
        "print(\"Shape of the minibatch of images: {}\".format(images.shape))\n",
        "print(\"Shape of the minibatch of labels: {}\".format(labels.shape))"
      ],
      "execution_count": null,
      "outputs": [
        {
          "output_type": "stream",
          "text": [
            "Shape of the minibatch of images: torch.Size([100, 1, 28, 28])\n",
            "Shape of the minibatch of labels: torch.Size([100])\n"
          ],
          "name": "stdout"
        }
      ]
    },
    {
      "cell_type": "markdown",
      "metadata": {
        "id": "x6EeWj3QS8b_"
      },
      "source": [
        "### Logistic Regression Model"
      ]
    },
    {
      "cell_type": "markdown",
      "metadata": {
        "id": "LBvhZKkvTFmj"
      },
      "source": [
        "Now that we have a good feel for how to load our data, let's start putting together our model. \n",
        "In this tutorial, we'll be building a logistic regression model, which is essentially a fully-connected neural network without any hidden layers. \n",
        "While fairly basic, logistic regression can perform surprisingly well on many simple classification tasks.\n",
        "\n",
        "#### The forward pass\n",
        "\n",
        "While our data inputs (which we'll call `x`) are images (i.e. 2-dimensional), MNIST digits are pretty small, and the model we're using is very simple.\n",
        "Thus, we're going to be treating the input as flat vectors.\n",
        "To convert our inputs into row vectors (a.k.a. flattening), we can use `view()`, the equivalent of NumPy's `reshape()`.\n",
        "Also like NumPy, we can replace one of the dimensions of the reshaping with a `-1`, which tells PyTorch to infer this dimension based on the original dimensions and the other specified dimensions.\n",
        "Let's do try this flattening on the minibatch of 100 images we drew in the previous section."
      ]
    },
    {
      "cell_type": "code",
      "metadata": {
        "colab": {
          "base_uri": "https://localhost:8080/"
        },
        "id": "YcEoLl16S_dd",
        "outputId": "efb0e1c0-3001-4719-97f2-a6ce2e1d70a1"
      },
      "source": [
        "x = images.view(-1, 28*28)\n",
        "print(\"The shape of input x: {}\".format(x.shape))"
      ],
      "execution_count": null,
      "outputs": [
        {
          "output_type": "stream",
          "text": [
            "The shape of input x: torch.Size([100, 784])\n"
          ],
          "name": "stdout"
        }
      ]
    },
    {
      "cell_type": "markdown",
      "metadata": {
        "id": "dOrD1dOqTRai"
      },
      "source": [
        "To get our predicted probabilities of each digit, let's first start with the probability of a digit being a 1 like the image above. \n",
        "For our simple model, we can start by applying a linear transformation. \n",
        "That is, we multiply each pixel $x_i$ of the input row vector by a weight $w_{i,1}$, sum them all together, and then add a bias $b_1$.\n",
        "This is equivalent to a dot product between the class \"1\" weights and the input:\n",
        "\n",
        "\\begin{align}\n",
        "y_1 = \\sum_i x_i w_{i,1} + b_1\n",
        "\\end{align}\n",
        "\n",
        "The magnitude of this result $y_1$, we'll take as being correlated to our belief in how likely we think the input digit was a 1. \n",
        "The higher the value of $y_1$, the more likely we think the input image $x$ was a 1 (i.e., we'd hope we'd get a relatively large value for $y_1$ for the above image). \n",
        "Remember though, our original goal was to identify all 10 digits, so we actually have:\n",
        "\n",
        "\\begin{align*}\n",
        "y_0 =& \\sum_i x_i w_{i,0} + b_0 \\\\\n",
        "y_1 =& \\sum_i x_i w_{i,1} + b_1 \\\\\n",
        "y_2 =& \\sum_i x_i w_{i,2} + b_2 \\\\\n",
        "y_3 =& \\sum_i x_i w_{i,3} + b_3 \\\\\n",
        "y_4 =& \\sum_i x_i w_{i,4} + b_4 \\\\\n",
        "y_5 =& \\sum_i x_i w_{i,5} + b_5 \\\\\n",
        "y_6 =& \\sum_i x_i w_{i,6} + b_6 \\\\\n",
        "y_7 =& \\sum_i x_i w_{i,7} + b_7 \\\\\n",
        "y_8 =& \\sum_i x_i w_{i,8} + b_8 \\\\\n",
        "y_9 =& \\sum_i x_i w_{i,9} + b_9\n",
        "\\end{align*}\n",
        "\n",
        "We can express this in matrix form as:\n",
        "\n",
        "\\begin{align}\n",
        "y = x W + b \n",
        "\\end{align}\n",
        "\n",
        "To take advantage of parallel computation, we commonly process multiple inputs $x$ at once, in a minibatch.\n",
        "We can stack each input $x$ into a matrix $X$, giving us \n",
        "\n",
        "\\begin{align}\n",
        "Y = X W + b \n",
        "\\end{align}\n",
        "\n",
        "Visualizing the dimensions:\n",
        "\n",
        "![image.png](data:image/png;base64,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)\n",
        "\n",
        "In our specific example, the minibatch size $m$ is $100$, the dimension of the data is $28 \\times 28=784$, and the number of classes $c$ is $10$.\n",
        "While $X$ and $Y$ are matrices due to the batching, conventionally, they are often given lowercase variable names, as if they were for a single example.\n",
        "We will use `x` and `y` throughout."
      ]
    },
    {
      "cell_type": "markdown",
      "metadata": {
        "id": "Ycos6FLMTYWR"
      },
      "source": [
        "The weight $W$ and bias $b$ make up the parameters of this model.\n",
        "When we say that we want to \"learn the model,\" what we're really trying to do is find good values for every element in $W$ and $b$.\n",
        "Before we begin learning, we need to initialize our parameters to some value, as a starting point.\n",
        "Here, we don't really know what the best values are, so we going to initialize $W$ randomly (using something called [Xavier initialization](http://proceedings.mlr.press/v9/glorot10a.html)), and set $b$ to a vector of zeros."
      ]
    },
    {
      "cell_type": "code",
      "metadata": {
        "id": "Tf-btYppTSTS"
      },
      "source": [
        "# Randomly initialize weights W\n",
        "W = torch.randn(784, 10)/np.sqrt(784)\n",
        "W.requires_grad_()\n",
        "\n",
        "# Initialize bias b as 0s\n",
        "b = torch.zeros(10, requires_grad=True)"
      ],
      "execution_count": null,
      "outputs": []
    },
    {
      "cell_type": "code",
      "metadata": {
        "colab": {
          "base_uri": "https://localhost:8080/"
        },
        "id": "ACYkt2NmTjb8",
        "outputId": "3b903824-70cc-4b8e-e816-e872ae4481d1"
      },
      "source": [
        "torch.rand"
      ],
      "execution_count": null,
      "outputs": [
        {
          "output_type": "execute_result",
          "data": {
            "text/plain": [
              "<function _VariableFunctionsClass.rand>"
            ]
          },
          "metadata": {
            "tags": []
          },
          "execution_count": 72
        }
      ]
    },
    {
      "cell_type": "markdown",
      "metadata": {
        "id": "VMN_G52nTlMS"
      },
      "source": [
        "As both `W` and `b` are parameters we wish to learn, we set `requires_grad` to `True`. \n",
        "This tells PyTorch's autograd to track the gradients for these two variables, and all the variables depending on `W` and `b`.\n",
        "\n",
        "With these model parameters, we compute $y$:"
      ]
    },
    {
      "cell_type": "code",
      "metadata": {
        "id": "sKf0PImDToEl"
      },
      "source": [
        "# Linear transformation with W and b\n",
        "y = torch.matmul(x, W) + b"
      ],
      "execution_count": null,
      "outputs": []
    },
    {
      "cell_type": "code",
      "metadata": {
        "colab": {
          "base_uri": "https://localhost:8080/"
        },
        "id": "Y42C8s1uT0GF",
        "outputId": "ac5485e5-7f60-4bb8-ab83-c81db7fe97a1"
      },
      "source": [
        "y[0:2]"
      ],
      "execution_count": null,
      "outputs": [
        {
          "output_type": "execute_result",
          "data": {
            "text/plain": [
              "tensor([[ 0.4788,  0.2799,  0.0542,  0.0070,  0.2502, -0.0329,  0.1290,  0.2726,\n",
              "         -0.3471, -0.2857],\n",
              "        [ 0.2675,  0.1568,  0.0146, -0.1276, -0.0385, -0.0279, -0.4310,  0.2479,\n",
              "         -0.2975, -0.2288]], grad_fn=<SliceBackward>)"
            ]
          },
          "metadata": {
            "tags": []
          },
          "execution_count": 74
        }
      ]
    },
    {
      "cell_type": "markdown",
      "metadata": {
        "id": "K6OrQgxnT9TS"
      },
      "source": [
        "We can see for example what the predictions look like for the first example in our minibatch. Remember, the bigger the number, the more the model thinks the input $x$ is of that class."
      ]
    },
    {
      "cell_type": "code",
      "metadata": {
        "colab": {
          "base_uri": "https://localhost:8080/"
        },
        "id": "dM0A1dnkUAjr",
        "outputId": "2163a9fd-1a42-4cdc-f229-fd4a9a2118e2"
      },
      "source": [
        "print(y[0,:])"
      ],
      "execution_count": null,
      "outputs": [
        {
          "output_type": "stream",
          "text": [
            "tensor([ 0.4788,  0.2799,  0.0542,  0.0070,  0.2502, -0.0329,  0.1290,  0.2726,\n",
            "        -0.3471, -0.2857], grad_fn=<SliceBackward>)\n"
          ],
          "name": "stdout"
        }
      ]
    },
    {
      "cell_type": "markdown",
      "metadata": {
        "id": "s5lo8s3WUEti"
      },
      "source": [
        "We can interpret these values (aka logits) $y$ as probabilities if we normalize them to be positive and add up to 1. In logistic regression, we do this with a softmax:\n",
        "\n",
        "\\begin{align}\n",
        "p(y_i) = \\text{softmax}(y_i) = \\frac{\\text{exp}(y_i)}{\\sum_j\\text{exp}(y_j)}\n",
        "\\end{align}\n",
        "\n",
        "Notice that because the range of the exponential function is always non-negative, and since we're normalizing by the sum, the softmax achieves the desired property of producing values between 0 and 1 that sum to 1. If we look at the case with only 2 classes, we see that the softmax is the multi-class extension of the binary sigmoid function: \n",
        "\n",
        "![image.png](data:image/png;base64,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)\n",
        "\n",
        "We can compute the softmax ourselves using the above formula if we'd like, but PyTorch already has the softmax function in `torch.nn.functional`:"
      ]
    },
    {
      "cell_type": "code",
      "metadata": {
        "colab": {
          "base_uri": "https://localhost:8080/"
        },
        "id": "qLSn78jzUHRd",
        "outputId": "e546e631-224b-4c9f-aa5e-860f78f25200"
      },
      "source": [
        "# Option 1: Softmax to probabilities from equation\n",
        "py_eq = torch.exp(y) / torch.sum(torch.exp(y), dim=1, keepdim=True)\n",
        "print(\"py[0] from equation: {}\".format(py_eq[0]))\n",
        "\n",
        "# Option 2: Softmax to probabilities with torch.nn.functional\n",
        "import torch.nn.functional as F\n",
        "py = F.softmax(y, dim=1)\n",
        "print(\"py[0] with torch.nn.functional.softmax: {}\".format(py[0]))"
      ],
      "execution_count": null,
      "outputs": [
        {
          "output_type": "stream",
          "text": [
            "py[0] from equation: tensor([0.1446, 0.1185, 0.0946, 0.0902, 0.1151, 0.0867, 0.1019, 0.1177, 0.0633,\n",
            "        0.0673], grad_fn=<SelectBackward>)\n",
            "py[0] with torch.nn.functional.softmax: tensor([0.1446, 0.1185, 0.0946, 0.0902, 0.1151, 0.0867, 0.1019, 0.1177, 0.0633,\n",
            "        0.0673], grad_fn=<SelectBackward>)\n"
          ],
          "name": "stdout"
        }
      ]
    },
    {
      "cell_type": "markdown",
      "metadata": {
        "id": "ZW6wF1vVUQ05"
      },
      "source": [
        "We've now defined the forward pass of our model: given an input image, the graph returns the probabilities the model thinks the input is each of the 10 classes. Are we done?"
      ]
    },
    {
      "cell_type": "markdown",
      "metadata": {
        "id": "veGZ_u4LUWKR"
      },
      "source": [
        "#### The cross-entropy loss\n",
        "\n",
        "This tutorial isn't done yet, so you can probably guess that the answer is not quite. \n",
        "We don't know the values of $W$ and $b$ yet! \n",
        "Remember how we initialized them randomly? \n",
        "Before we adjust any of the weights, we need a way to measure how the model is doing.\n",
        "Specifically, we're going to measure how badly the model is doing.\n",
        "We do this with a *loss* function, which takes the model's prediction and returns a single number (i.e. a scalar) summarizing model performance.\n",
        "This loss will inform how we adjust the parameters of the model.\n",
        "\n",
        "The loss we commonly use in classification is cross-entropy, a concept from information theory.\n",
        "Explaining exactly what the cross-entropy represents goes slightly beyond the scope of this course, but you can think of it as a way of quantifying how far apart one distribution $y'$ is from another $y$.\n",
        "\n",
        "\\begin{align}\n",
        "H_{y'}(y)=-\\sum_i y'_i \\text{log}(y_i)\n",
        "\\end{align}\n",
        "\n",
        "In our case, $y$ is the set of probabilities predicted by the model ($py$ above); $y'$ is the target distribution.\n",
        "What is the target distribution?\n",
        "It's the true label, which is what we wanted the model to predict.\n",
        "\n",
        "Cross-entropy not only captures how *correct* (max probability corresponds to the right answer) the model's answers are, it also accounts for how *confident* (high confidence in correct answers) they are. This encourages the model to produce very high probabilities for correct answers while driving down the probabilities for the wrong answers, instead of merely being satisfied with it being the argmax. \n",
        "\n",
        "We focus here on supervised learning, a setting in which we have the labels.\n",
        "Our `DataLoader` automatically includes the corresponding labels for each of our inputs.\n",
        "Here are the labels from the first time we retrieved a minibatch:"
      ]
    },
    {
      "cell_type": "code",
      "metadata": {
        "colab": {
          "base_uri": "https://localhost:8080/"
        },
        "id": "cJq_j4J9URp3",
        "outputId": "f6347da6-e213-4eb5-8a11-140d3330d9af"
      },
      "source": [
        "print(labels.shape)"
      ],
      "execution_count": null,
      "outputs": [
        {
          "output_type": "stream",
          "text": [
            "torch.Size([100])\n"
          ],
          "name": "stdout"
        }
      ]
    },
    {
      "cell_type": "markdown",
      "metadata": {
        "id": "JXrbuZNaWlrR"
      },
      "source": [
        "Like the softmax operation, we can implement the cross-entropy directly from the equation, using the softmax output.\n",
        "However, as with the softmax, `torch.nn.functional` already has the cross-entropy loss implemented as well."
      ]
    },
    {
      "cell_type": "code",
      "metadata": {
        "colab": {
          "base_uri": "https://localhost:8080/"
        },
        "id": "EJ5tK4AIWcSX",
        "outputId": "605a27fe-7144-4030-ee4a-0e6fb15967d8"
      },
      "source": [
        "# Cross-entropy loss from equation\n",
        "cross_entropy_eq = torch.mean(-torch.log(py_eq)[range(labels.shape[0]),labels])\n",
        "print(\"cross entropy from equation: {}\".format(cross_entropy_eq))\n",
        "\n",
        "# Option 2: cross-entropy loss with torch.nn.functional\n",
        "cross_entropy = F.cross_entropy(y, labels)\n",
        "print(\"cross entropy with torch.nn.functional.cross_entropy: {}\".format(cross_entropy))"
      ],
      "execution_count": null,
      "outputs": [
        {
          "output_type": "stream",
          "text": [
            "cross entropy from equation: 2.3383028507232666\n",
            "cross entropy with torch.nn.functional.cross_entropy: 2.3383028507232666\n"
          ],
          "name": "stdout"
        }
      ]
    },
    {
      "cell_type": "markdown",
      "metadata": {
        "id": "nVphnTcMW77_"
      },
      "source": [
        "Note that PyTorch's cross-entropy loss combines the softmax operator and cross-entropy into a single operation, for numerical stability reasons.\n",
        "Don't do the softmax twice!\n",
        "Make sure to feed in the pre-softmax logits `y`, not the post-softmax probabilities `py`."
      ]
    },
    {
      "cell_type": "markdown",
      "metadata": {
        "id": "Gj3H9gH_XGeX"
      },
      "source": [
        "#### The backwards pass\n",
        "\n",
        "Now that we have the loss as a way of quantifying how badly the model is doing, we can improve our model by changing the parameters in a way that minimizes the loss.\n",
        "For neural networks, the common way of doing this is with backpropagation: we take the gradient of the loss with respect to $W$ and $b$ and take a step in the direction that reduces our loss.\n",
        "\n",
        "If we were not using a deep learning framework like PyTorch, we would have to go through and derive all the gradients ourselves by hand, then code them into our program. \n",
        "We certainly still could.\n",
        "However, with modern auto-differentiation libraries, it's much faster and easier to let the computer do it.\n",
        "\n",
        "First, we need to create an optimizer.\n",
        "There are many choices, but since logistic regression is fairly simple, we'll use standard stochastic gradient descent (SGD), which makes the following update:\n",
        "\n",
        "\\begin{align}\n",
        "\\theta_{t+1} = \\theta_t - \\alpha \\nabla_\\theta \\mathcal{L}\n",
        "\\end{align}\n",
        "\n",
        "where $\\theta$ is a parameter, $\\alpha$ is our learning rate (step size), and $\\nabla_\\theta \\mathcal{L}$ is the gradient of our loss with respect to $\\theta$."
      ]
    },
    {
      "cell_type": "code",
      "metadata": {
        "id": "6dJlMy9RXBv9"
      },
      "source": [
        "# Optimizer\n",
        "optimizer = torch.optim.SGD([W,b], lr=0.1)"
      ],
      "execution_count": null,
      "outputs": []
    },
    {
      "cell_type": "markdown",
      "metadata": {
        "id": "aszdUp5yXPMS"
      },
      "source": [
        "When we created our parameters $W$ and $b$, we indicated that they require gradients.\n",
        "To compute the gradients for $W$ and $b$, we call the `backward()` function on the cross-entropy loss."
      ]
    },
    {
      "cell_type": "code",
      "metadata": {
        "id": "2MLUmTP9XLx8"
      },
      "source": [
        "cross_entropy.backward()"
      ],
      "execution_count": null,
      "outputs": []
    },
    {
      "cell_type": "markdown",
      "metadata": {
        "id": "2lGtAe7pXca2"
      },
      "source": [
        "Each of the variables that required gradients have now accumulated gradients.\n",
        "We can see these for example on `b`:"
      ]
    },
    {
      "cell_type": "code",
      "metadata": {
        "colab": {
          "base_uri": "https://localhost:8080/"
        },
        "id": "3CXZMVX-XWR-",
        "outputId": "acd03209-e688-4f27-eea2-146e449cf9ac"
      },
      "source": [
        "b.grad"
      ],
      "execution_count": null,
      "outputs": [
        {
          "output_type": "execute_result",
          "data": {
            "text/plain": [
              "tensor([ 0.1083,  0.0211,  0.0391,  0.0383, -0.0329, -0.0803,  0.0319, -0.0101,\n",
              "        -0.0784, -0.0369])"
            ]
          },
          "metadata": {
            "tags": []
          },
          "execution_count": 81
        }
      ]
    },
    {
      "cell_type": "markdown",
      "metadata": {
        "id": "ZQdDBbrkXlcs"
      },
      "source": [
        "To apply the gradients, we could manually update $W$ and $b$ using the update rule $\\theta_{t+1} = \\theta_t - \\alpha \\nabla_\\theta \\mathcal{L}$, but since we have an optimizer, we can tell it to perform the update step for us:"
      ]
    },
    {
      "cell_type": "code",
      "metadata": {
        "id": "G0w16C_uXhEX"
      },
      "source": [
        "optimizer.step()"
      ],
      "execution_count": null,
      "outputs": []
    },
    {
      "cell_type": "markdown",
      "metadata": {
        "id": "uZvapAJqXyDg"
      },
      "source": [
        "We set our learning rate to 0.1, so `b` has been updated by `-0.1*b.grad`:"
      ]
    },
    {
      "cell_type": "code",
      "metadata": {
        "colab": {
          "base_uri": "https://localhost:8080/"
        },
        "id": "JhwCsjrYXs2m",
        "outputId": "612e8cd5-3745-4008-cee7-b5bdd9e071d7"
      },
      "source": [
        "b"
      ],
      "execution_count": null,
      "outputs": [
        {
          "output_type": "execute_result",
          "data": {
            "text/plain": [
              "tensor([-0.0108, -0.0021, -0.0039, -0.0038,  0.0033,  0.0080, -0.0032,  0.0010,\n",
              "         0.0078,  0.0037], requires_grad=True)"
            ]
          },
          "metadata": {
            "tags": []
          },
          "execution_count": 83
        }
      ]
    },
    {
      "cell_type": "markdown",
      "metadata": {
        "id": "34BPNpxpX6_Q"
      },
      "source": [
        "We've now successfully trained on a minibatch!\n",
        "However, one minibatch probably isn't enough.\n",
        "At this point, we've trained the model on 100 examples out of the 60000 in the training set.\n",
        "We're going to need to repeat this process, for more of the data.\n",
        "\n",
        "One more thing to keep in mind though: gradients calculated by `backward()` don't override the old values; instead, they accumulate.\n",
        "Therefore, you'll want to clear the gradient buffers before you compute gradients for the next minibatch."
      ]
    },
    {
      "cell_type": "code",
      "metadata": {
        "colab": {
          "base_uri": "https://localhost:8080/"
        },
        "id": "vPYz4pwQX43g",
        "outputId": "52ed9f47-d26b-4b3f-bd2e-9de538df33a8"
      },
      "source": [
        "print(\"b.grad before zero_grad(): {}\".format(b.grad))\n",
        "optimizer.zero_grad()\n",
        "print(\"b.grad after zero_grad(): {}\".format(b.grad))"
      ],
      "execution_count": null,
      "outputs": [
        {
          "output_type": "stream",
          "text": [
            "b.grad before zero_grad(): tensor([ 0.1083,  0.0211,  0.0391,  0.0383, -0.0329, -0.0803,  0.0319, -0.0101,\n",
            "        -0.0784, -0.0369])\n",
            "b.grad after zero_grad(): tensor([0., 0., 0., 0., 0., 0., 0., 0., 0., 0.])\n"
          ],
          "name": "stdout"
        }
      ]
    },
    {
      "cell_type": "markdown",
      "metadata": {
        "id": "5x3s-vahYJ-u"
      },
      "source": [
        "#### Model Training"
      ]
    },
    {
      "cell_type": "markdown",
      "metadata": {
        "id": "ntNaKU6NYMt2"
      },
      "source": [
        "To train the model, we just need repeat what we just did for more minibatches from the training set.\n",
        "As a recap, the steps were:\n",
        "1. Draw a minibatch\n",
        "2. Zero the gradients in the buffers for `W` and `b`\n",
        "3. Perform the forward pass (compute prediction, calculate loss)\n",
        "4. Perform the backward pass (compute gradients, perform SGD step)\n",
        "\n",
        "Going through the entire dataset once is referred to as an epoch.\n",
        "In many cases, we train neural networks for multiple epochs, but here, a single epoch is enough.\n",
        "We also wrap the train_loader with `tqdm`.\n",
        "This isn't neccessary, but it adds a handy progress bar so we can track our training progress."
      ]
    },
    {
      "cell_type": "code",
      "metadata": {
        "colab": {
          "base_uri": "https://localhost:8080/",
          "height": 66,
          "referenced_widgets": [
            "0951d51ffcd14ca495859f5e3aa60a07",
            "0c14d8e33a46487cb2b2b5407e081404",
            "0b8c41fbe36b49f9ac7a50718e096d6f",
            "fdcd0599c9b040deaefbacecde9dd245",
            "5ac578f862e64a1a8b0424fbaadc9ab1",
            "4d88097464aa4fbaa2f5820b96f9cb4e",
            "a1f749e629514ba6be36f50d5017ba7a",
            "24df7d07af024406a114a2a6f2916809"
          ]
        },
        "id": "92_qnEtkYCLR",
        "outputId": "f113fbac-9f5f-4c29-baa3-9ef4b908b77e"
      },
      "source": [
        "# Iterate through train set minibatchs \n",
        "for images, labels in tqdm(train_loader):\n",
        "    # Zero out the gradients\n",
        "    optimizer.zero_grad()\n",
        "    \n",
        "    # Forward pass\n",
        "    x = images.view(-1, 28*28)\n",
        "    y = torch.matmul(x, W) + b\n",
        "    cross_entropy = F.cross_entropy(y, labels)\n",
        "    # Backward pass\n",
        "    cross_entropy.backward()\n",
        "    optimizer.step()"
      ],
      "execution_count": null,
      "outputs": [
        {
          "output_type": "display_data",
          "data": {
            "application/vnd.jupyter.widget-view+json": {
              "model_id": "0951d51ffcd14ca495859f5e3aa60a07",
              "version_minor": 0,
              "version_major": 2
            },
            "text/plain": [
              "HBox(children=(FloatProgress(value=0.0, max=600.0), HTML(value='')))"
            ]
          },
          "metadata": {
            "tags": []
          }
        },
        {
          "output_type": "stream",
          "text": [
            "\n"
          ],
          "name": "stdout"
        }
      ]
    },
    {
      "cell_type": "markdown",
      "metadata": {
        "id": "4XIGyDzkYrPZ"
      },
      "source": [
        "#### Testing"
      ]
    },
    {
      "cell_type": "markdown",
      "metadata": {
        "id": "NvWM-U3KYs4Q"
      },
      "source": [
        "Now let's see how we did! \n",
        "For every image in our test set, we run the data through the model, and take the digit in which we have the highest confidence as our answer. \n",
        "We then compute an accuracy by seeing how many we got correct.\n",
        "We're going to wrap evaluation with `torch.no_grad()`, as we're not interested in computing gradients during evaluation.\n",
        "By turning off the autograd engine, we can speed up evaluation."
      ]
    },
    {
      "cell_type": "code",
      "metadata": {
        "colab": {
          "base_uri": "https://localhost:8080/",
          "height": 83,
          "referenced_widgets": [
            "442bf9d0dd114b58832cd31d5b1652cd",
            "8c332e42a94f444dbc3fbec3fb5fbab3",
            "b912b1b978514d65bc8008585caf97e2",
            "28855bfb1a5648ef9e3d4111cc0ccb72",
            "0bdf3332249c40fc94ea1f51726c9ffa",
            "3e312fe8d34e4056bbd3af1c8a51c405",
            "3306357d839b4673998f80855c15b845",
            "7953b9c211ba47b3938cd6edf84cce61"
          ]
        },
        "id": "M7TVoZCyYdBn",
        "outputId": "a9eccc6d-59bb-41d6-9064-928f5d43e7d0"
      },
      "source": [
        "correct = 0\n",
        "total = len(mnist_test)\n",
        "\n",
        "with torch.no_grad():\n",
        "    # Iterate through test set minibatchs \n",
        "    for images, labels in tqdm(test_loader):\n",
        "        # Forward pass\n",
        "        x = images.view(-1, 28*28)\n",
        "        y = torch.matmul(x, W) + b\n",
        "        \n",
        "        predictions = torch.argmax(y, dim=1)\n",
        "        correct += torch.sum((predictions == labels).float())\n",
        "    \n",
        "print('Test accuracy: {}'.format(correct/total))"
      ],
      "execution_count": null,
      "outputs": [
        {
          "output_type": "display_data",
          "data": {
            "application/vnd.jupyter.widget-view+json": {
              "model_id": "442bf9d0dd114b58832cd31d5b1652cd",
              "version_minor": 0,
              "version_major": 2
            },
            "text/plain": [
              "HBox(children=(FloatProgress(value=0.0), HTML(value='')))"
            ]
          },
          "metadata": {
            "tags": []
          }
        },
        {
          "output_type": "stream",
          "text": [
            "\n",
            "Test accuracy: 0.9041000008583069\n"
          ],
          "name": "stdout"
        }
      ]
    },
    {
      "cell_type": "markdown",
      "metadata": {
        "id": "S6JEKc-1Y7Fo"
      },
      "source": [
        "Not bad for a simple model and a few lines of code.\n",
        "Before we conclude this example, there's one more interesting thing we can do. \n",
        "Normally, it can be difficult to inspect exactly what the filters in a model are doing, but since this model is so simple, and the weights transform the data directly to their logits, we can actually visualize what the model's learning by simply plotting the weights. \n",
        "The results look pretty reasonable:"
      ]
    },
    {
      "cell_type": "code",
      "metadata": {
        "colab": {
          "base_uri": "https://localhost:8080/",
          "height": 145
        },
        "id": "eacaBPm5Yzle",
        "outputId": "64f367b7-9584-4835-f266-973fe6d55231"
      },
      "source": [
        "# Get weights\n",
        "fig, ax = plt.subplots(1, 10, figsize=(20, 2))\n",
        "\n",
        "for digit in range(10):\n",
        "    ax[digit].imshow(W[:,digit].detach().view(28,28), cmap='gray')"
      ],
      "execution_count": null,
      "outputs": [
        {
          "output_type": "display_data",
          "data": {
            "image/png": "[encoded data removed]",
            "text/plain": [
              "<Figure size 1440x144 with 10 Axes>"
            ]
          },
          "metadata": {
            "tags": [],
            "needs_background": "light"
          }
        }
      ]
    },
    {
      "cell_type": "markdown",
      "metadata": {
        "id": "-9IRDCMfZGRk"
      },
      "source": [
        "As we can see, the model learned a template for each digit.\n",
        "Remember that our model takes a dot product between the weights of each digit and input.\n",
        "Therefore, the more the input matches the template for a digit, the higher the value of the dot product for that digit will be, which makes the model more likely to predict that digit."
      ]
    },
    {
      "cell_type": "markdown",
      "metadata": {
        "id": "XkUR2-u1ZKMG"
      },
      "source": [
        "#### The Full Code"
      ]
    },
    {
      "cell_type": "markdown",
      "metadata": {
        "id": "Vn_sOvcqZP2L"
      },
      "source": [
        "The entire model, with the complete model definition, training, and evaluation (but minus the weights visualization) as independently runable code:"
      ]
    },
    {
      "cell_type": "code",
      "metadata": {
        "colab": {
          "base_uri": "https://localhost:8080/",
          "height": 132,
          "referenced_widgets": [
            "aa4d480a5ea64f1b9664c56ec5a3ae4d",
            "41da51cde5e44e2f8346e30204e8bf2e",
            "67ae1a2e411040d1a24d13a440873f9a",
            "a40ce916f662489194a9692c77db778c",
            "0aa4ce278482404ab91c4665ef4a964b",
            "efb95aa8e42d425ea3d167b1c1953e36",
            "bd612d52f4dc4dbd9bbc7510abe28c25",
            "a658226402a541439cc934624721b6a4",
            "c392adccd1d94f62b4ce028e560c91df",
            "b1e3977481684e02981f89b86b7fa84d",
            "39734db92c06478f8cdbd389fc59cf0d",
            "99652d7c635c415eb8e9083b32f58bfc",
            "cd154405c8a04d3ea89c8eed29981a2a",
            "3ef0a57205404810b0fd3ad5bf27750e",
            "270f9464d0974729a505ce842a5a5f89",
            "091d433425a740759337b797893b16ef"
          ]
        },
        "id": "dSX9ujdfY_5P",
        "outputId": "e56891ba-9d9e-4026-8a6f-e78e0c9ba84e"
      },
      "source": [
        "import numpy as np\n",
        "import torch\n",
        "import torch.nn.functional as F\n",
        "from torchvision import datasets, transforms\n",
        "from tqdm.notebook import tqdm\n",
        "\n",
        "# Load the data\n",
        "mnist_train = datasets.MNIST(root=\"./datasets\", train=True, transform=transforms.ToTensor(), download=True)\n",
        "mnist_test = datasets.MNIST(root=\"./datasets\", train=False, transform=transforms.ToTensor(), download=True)\n",
        "train_loader = torch.utils.data.DataLoader(mnist_train, batch_size=100, shuffle=True)\n",
        "test_loader = torch.utils.data.DataLoader(mnist_test, batch_size=100, shuffle=False)\n",
        "\n",
        "## Training\n",
        "# Initialize parameters\n",
        "W = torch.randn(784, 10)/np.sqrt(784)\n",
        "W.requires_grad_()\n",
        "b = torch.zeros(10, requires_grad=True)\n",
        "\n",
        "# Optimizer\n",
        "optimizer = torch.optim.SGD([W,b], lr=0.1)\n",
        "\n",
        "# Iterate through train set minibatchs \n",
        "for images, labels in tqdm(train_loader):\n",
        "    # Zero out the gradients\n",
        "    optimizer.zero_grad()\n",
        "    \n",
        "    # Forward pass\n",
        "    x = images.view(-1, 28*28)\n",
        "    y = torch.matmul(x, W) + b\n",
        "    cross_entropy = F.cross_entropy(y, labels)\n",
        "    # Backward pass\n",
        "    cross_entropy.backward()\n",
        "    optimizer.step()\n",
        "\n",
        "## Testing\n",
        "correct = 0\n",
        "total = len(mnist_test)\n",
        "\n",
        "with torch.no_grad():\n",
        "    # Iterate through test set minibatchs \n",
        "    for images, labels in tqdm(test_loader):\n",
        "        # Forward pass\n",
        "        x = images.view(-1, 28*28)\n",
        "        y = torch.matmul(x, W) + b\n",
        "        \n",
        "        predictions = torch.argmax(y, dim=1)\n",
        "        correct += torch.sum((predictions == labels).float())\n",
        "    \n",
        "print('Test accuracy: {}'.format(correct/total))"
      ],
      "execution_count": null,
      "outputs": [
        {
          "output_type": "display_data",
          "data": {
            "application/vnd.jupyter.widget-view+json": {
              "model_id": "aa4d480a5ea64f1b9664c56ec5a3ae4d",
              "version_minor": 0,
              "version_major": 2
            },
            "text/plain": [
              "HBox(children=(FloatProgress(value=0.0, max=600.0), HTML(value='')))"
            ]
          },
          "metadata": {
            "tags": []
          }
        },
        {
          "output_type": "stream",
          "text": [
            "\n"
          ],
          "name": "stdout"
        },
        {
          "output_type": "display_data",
          "data": {
            "application/vnd.jupyter.widget-view+json": {
              "model_id": "c392adccd1d94f62b4ce028e560c91df",
              "version_minor": 0,
              "version_major": 2
            },
            "text/plain": [
              "HBox(children=(FloatProgress(value=0.0), HTML(value='')))"
            ]
          },
          "metadata": {
            "tags": []
          }
        },
        {
          "output_type": "stream",
          "text": [
            "\n",
            "Test accuracy: 0.9024999737739563\n"
          ],
          "name": "stdout"
        }
      ]
    },
    {
      "cell_type": "markdown",
      "metadata": {
        "id": "5zbrvrm6Zjln"
      },
      "source": [
        "Note: The accuracy from the full version directly above might return a slightly different test accuracy from the step-by-step version we first went through. \n",
        "We trained our model with stochastic gradient descent (SGD), with the word \"stochastic\" highlighting that training is an inherently random process."
      ]
    },
    {
      "cell_type": "markdown",
      "metadata": {
        "id": "_acQkExbZodp"
      },
      "source": [
        "### Higher level APIs"
      ]
    },
    {
      "cell_type": "markdown",
      "metadata": {
        "id": "g0ks9pqjZr1R"
      },
      "source": [
        "So far, we've primarily been building neural networks with fairy basic PyTorch operations.\n",
        "We did this to provide a clearer picture of how models actually work and what's going on under the hood.\n",
        "This can be important as you're learning concepts and the various frameworks, and sometimes the low-level control is necessary if you're trying to build something novel.\n",
        "\n",
        "However, most of the time, we do find ourselves repeating the same fairly standard lines of code, which can slow us down. \n",
        "Worse, it clutters up our code unnecessarily and introduces room for bugs and typos.\n",
        "And finally, as researchers or engineers, we would like to spend most of our time thinking on the highest levels of abstractions: I want to add a convolution layer here, then a fully-connected there, etc.\n",
        "Having to code all the small details are distractions that can detract from our ability to translate ideas into code.\n",
        "For this reason, PyTorch has higher level abstractions to help speed up implementation and improve model organization.\n",
        "While there are many ways to organize PyTorch code, one common paradigm is with `torch.nn.Module`.\n",
        "\n",
        "#### Object-oriented Refactorization\n",
        "\n",
        "It often makes sense for us to code our models in an [object-oriented manner](https://realpython.com/python3-object-oriented-programming/).\n",
        "To understand why, let's look back at the linear transformation $y = xW + b$ that we used for logistic regression. \n",
        "We can see that while the operation consisted of a matrix multiplication and addition, also associated with this operation was the instantiation of two parameters `W` and `b`, and these two parameters conceptually *belong* to the transform.\n",
        "As such, it would make sense to bundle up the instantiation of the two parameters with the actual transformation:"
      ]
    },
    {
      "cell_type": "code",
      "metadata": {
        "id": "7iZiyTqtZaCj"
      },
      "source": [
        "# Note: illustrative example only; see below for torch.nn usage\n",
        "class xW_plus_b:\n",
        "    def __init__(self, dim_in, dim_out):\n",
        "        self.W = torch.randn(dim_in, dim_out)/np.sqrt(dim_in)\n",
        "        self.W.requires_grad_()\n",
        "        self.b = torch.zeros(dim_out, requires_grad=True)\n",
        "        \n",
        "    def forward(self, x):\n",
        "        return torch.matmul(x, self.W) + self.b"
      ],
      "execution_count": null,
      "outputs": []
    },
    {
      "cell_type": "markdown",
      "metadata": {
        "id": "ypYcWiQHZ2w2"
      },
      "source": [
        "To use what we just wrote, we can create an `xW_plus_b` instance using its `__init__()` method (the constructor).\n",
        "In this case, we're going to set the dimensions to be 784 and 10, as we did in our logisitic regression example above.\n",
        "This creates an `xW_plus_b` instance with two parameters `W` and `b`."
      ]
    },
    {
      "cell_type": "code",
      "metadata": {
        "colab": {
          "base_uri": "https://localhost:8080/"
        },
        "id": "sJCPxWPQZzaO",
        "outputId": "0fd461e1-076f-44ab-daba-a708831aee6b"
      },
      "source": [
        "# Note: illustrative example only; see below for torch.nn usage\n",
        "lin_custom = xW_plus_b(784, 10)\n",
        "print(\"W: {}\".format(lin_custom.W.shape))\n",
        "print(\"b: {}\".format(lin_custom.b.shape))"
      ],
      "execution_count": null,
      "outputs": [
        {
          "output_type": "stream",
          "text": [
            "W: torch.Size([784, 10])\n",
            "b: torch.Size([10])\n"
          ],
          "name": "stdout"
        }
      ]
    },
    {
      "cell_type": "markdown",
      "metadata": {
        "id": "afE2BowyaJ7q"
      },
      "source": [
        "After instantiating the instance, we can perform the actual linear transform of our custom `xW_plus_b` class by calling the instance's `forward()` function:"
      ]
    },
    {
      "cell_type": "code",
      "metadata": {
        "colab": {
          "base_uri": "https://localhost:8080/"
        },
        "id": "kUWhSR0HaHRE",
        "outputId": "6745fb3a-7ae5-48e5-df54-6d8f44276c7f"
      },
      "source": [
        "# Note: illustrative example only; see below for torch.nn usage\n",
        "x_rand = torch.randn(1,784)\n",
        "y = lin_custom.forward(x_rand)\n",
        "print(y.shape)"
      ],
      "execution_count": null,
      "outputs": [
        {
          "output_type": "stream",
          "text": [
            "torch.Size([1, 10])\n"
          ],
          "name": "stdout"
        }
      ]
    },
    {
      "cell_type": "markdown",
      "metadata": {
        "id": "hmAFfbztaR5v"
      },
      "source": [
        "#### Using  `torch.nn`\n",
        "\n",
        "While we can certainly implement our own classes for the operations we'd like to use, we don't have to, as PyTorch already has them in the `torch.nn` sublibrary. "
      ]
    },
    {
      "cell_type": "code",
      "metadata": {
        "id": "gOw0vMauaOdP"
      },
      "source": [
        "import torch.nn as nn"
      ],
      "execution_count": null,
      "outputs": []
    },
    {
      "cell_type": "markdown",
      "metadata": {
        "id": "GrQXfjhyaiBR"
      },
      "source": [
        "For example, the linear transform example we just went through is called `torch.nn.Linear`:"
      ]
    },
    {
      "cell_type": "code",
      "metadata": {
        "colab": {
          "base_uri": "https://localhost:8080/"
        },
        "id": "90V5UuG5adfY",
        "outputId": "b031dc10-2066-417a-80e4-72dc9c06fc68"
      },
      "source": [
        "lin = nn.Linear(784, 10)\n",
        "print(\"Linear parameters: {}\".format([p.shape for p in lin.parameters()]))\n",
        "\n",
        "y = lin(x_rand)\n",
        "print(y.shape)"
      ],
      "execution_count": null,
      "outputs": [
        {
          "output_type": "stream",
          "text": [
            "Linear parameters: [torch.Size([10, 784]), torch.Size([10])]\n",
            "torch.Size([1, 10])\n"
          ],
          "name": "stdout"
        }
      ]
    },
    {
      "cell_type": "markdown",
      "metadata": {
        "id": "E5-sm_KLauF6"
      },
      "source": [
        "The implementation for `nn.Linear` has a few more things under the hood (notice for example that the `forward()` function is aliased with calling the instance itself), but in spirit, it operates in much the same way as our custom `xW_plus_b` class.\n",
        "In the first line, we instantiate a `Linear` object, which automatically creates weight and bias variables of the specified dimensions.\n",
        "The fourth line then calls the `forward()` function (aliased with the object call), which performs the linear transformation."
      ]
    },
    {
      "cell_type": "markdown",
      "metadata": {
        "id": "UOaS0Zabavh8"
      },
      "source": [
        "#### Using `torch.nn.Module`\n",
        "\n",
        "The `torch.nn.Linear` class we just saw is a subclass of `torch.nn.Module`.\n",
        "However, `Module`s do not have to just describe a single operation; they can also define a chain of operations, each of which may also be `Module`s.\n",
        "As such, we can place our entire neural network within a `Module`.\n",
        "In this case, the module can track all of its associated parameters, some of which may also be associated with a submodule (e.g. `nn.Linear`), while also defining the `forward()` function, in one place."
      ]
    },
    {
      "cell_type": "code",
      "metadata": {
        "id": "6FEBdyF4apRp"
      },
      "source": [
        "class MNIST_Logistic_Regression(nn.Module):\n",
        "    def __init__(self):\n",
        "        super().__init__()\n",
        "        self.lin = nn.Linear(784, 10)\n",
        "\n",
        "    def forward(self, x):\n",
        "        return self.lin(x)"
      ],
      "execution_count": null,
      "outputs": []
    },
    {
      "cell_type": "markdown",
      "metadata": {
        "id": "iXhxGOmHa5gL"
      },
      "source": [
        "In this particular example, we didn't need to chain any operations, but we'll see this come in handy as we move on to more complex models.\n",
        "Additionally, the `nn.Module` that we subclassed has a few other nice features.\n",
        "For example:\n",
        "- The `forward()` function of a `nn.Module` will call the `forward()` function of any child `nn.Module`s.\n",
        "- `print()` will print out a formatted summary of our model, recursively summarizing any child `nn.Module`s as well.\n",
        "- The `parameters()` function will return a generator that returns all parameters of a `nn.Module` (including those of any children)."
      ]
    },
    {
      "cell_type": "code",
      "metadata": {
        "colab": {
          "base_uri": "https://localhost:8080/"
        },
        "id": "-Lp94P3Ka2oM",
        "outputId": "04eb5ff5-d6c6-4a99-ab74-3d353588698e"
      },
      "source": [
        "model = MNIST_Logistic_Regression()\n",
        "y = model(x_rand)\n",
        "print(\"The model: \\n{}\".format(model))\n",
        "print(\"\\nParameters: \\n{}\".format(list(model.parameters())))\n",
        "print(\"\\nOutput shape: \\n{}\".format(y.shape))"
      ],
      "execution_count": null,
      "outputs": [
        {
          "output_type": "stream",
          "text": [
            "The model: \n",
            "MNIST_Logistic_Regression(\n",
            "  (lin): Linear(in_features=784, out_features=10, bias=True)\n",
            ")\n",
            "\n",
            "Parameters: \n",
            "[Parameter containing:\n",
            "tensor([[ 0.0008,  0.0129, -0.0346,  ..., -0.0324,  0.0200,  0.0303],\n",
            "        [ 0.0287,  0.0014, -0.0091,  ...,  0.0151, -0.0074,  0.0159],\n",
            "        [-0.0254, -0.0303, -0.0032,  ..., -0.0196, -0.0312,  0.0148],\n",
            "        ...,\n",
            "        [-0.0123, -0.0254, -0.0049,  ...,  0.0218,  0.0133,  0.0067],\n",
            "        [ 0.0130, -0.0142, -0.0172,  ..., -0.0258, -0.0112,  0.0017],\n",
            "        [-0.0297, -0.0195,  0.0144,  ...,  0.0225, -0.0130,  0.0273]],\n",
            "       requires_grad=True), Parameter containing:\n",
            "tensor([ 0.0281, -0.0218, -0.0307,  0.0195,  0.0265, -0.0246, -0.0088, -0.0285,\n",
            "         0.0052, -0.0208], requires_grad=True)]\n",
            "\n",
            "Output shape: \n",
            "torch.Size([1, 10])\n"
          ],
          "name": "stdout"
        }
      ]
    },
    {
      "cell_type": "markdown",
      "metadata": {
        "id": "RFxbdgQ-bOrg"
      },
      "source": [
        "#### Full code with `nn.Module`\n",
        "\n",
        "Refactoring our previous complete logistic regression code to use a `nn.Module`:"
      ]
    },
    {
      "cell_type": "code",
      "metadata": {
        "colab": {
          "base_uri": "https://localhost:8080/",
          "height": 132,
          "referenced_widgets": [
            "5825a167881f499b93f844a1eb6c7633",
            "cdd7669ed4ef42728c97d5c23f7a1257",
            "755a2abd3b314a27b74931b9d222bb31",
            "1d60bb2fadc340a79fdff7eb9de9cd92",
            "d87b1e428e25452caa9378bbdab43f56",
            "a87481c3701c42b3bbefbc6e9cb264ad",
            "bd83e8d364f241c390574970da7aa57c",
            "2be789f80d12409b9f0ffa8f4e903e42",
            "c2a9d601c71848a59bcdd8a2ebec89e3",
            "69dc79003be74415a0008ae902e6977c",
            "aff8e1366210465983a34f151018acb0",
            "1a907ec8c1a4460f8d1a8a8a50074477",
            "5e41304010cd44bc90a7919ae64c4c34",
            "ada2279e912d42109cfdb55f98ff3631",
            "e642d5dd98aa4746addb9806b8846c70",
            "4324262139e3411fab9498e2fb9d3008"
          ]
        },
        "id": "hUvVGTxoa-h3",
        "outputId": "7febefdd-f681-4ce1-f9a4-00df1e3b1361"
      },
      "source": [
        "import numpy as np\n",
        "import torch\n",
        "import torch.nn as nn\n",
        "import torch.nn.functional as F\n",
        "from torchvision import datasets, transforms\n",
        "from tqdm.notebook import tqdm\n",
        "\n",
        "class MNIST_Logistic_Regression(nn.Module):\n",
        "    def __init__(self):\n",
        "        super().__init__()\n",
        "        self.lin = nn.Linear(784, 10)\n",
        "\n",
        "    def forward(self, x):\n",
        "        return self.lin(x)\n",
        "\n",
        "# Load the data\n",
        "mnist_train = datasets.MNIST(root=\"./datasets\", train=True, transform=transforms.ToTensor(), download=True)\n",
        "mnist_test = datasets.MNIST(root=\"./datasets\", train=False, transform=transforms.ToTensor(), download=True)\n",
        "train_loader = torch.utils.data.DataLoader(mnist_train, batch_size=100, shuffle=True)\n",
        "test_loader = torch.utils.data.DataLoader(mnist_test, batch_size=100, shuffle=False)\n",
        "\n",
        "## Training\n",
        "# Instantiate model\n",
        "model = MNIST_Logistic_Regression()\n",
        "\n",
        "# Loss and Optimizer\n",
        "criterion = nn.CrossEntropyLoss()\n",
        "optimizer = torch.optim.SGD(model.parameters(), lr=0.1)\n",
        "\n",
        "# Iterate through train set minibatchs \n",
        "for images, labels in tqdm(train_loader):\n",
        "    # Zero out the gradients\n",
        "    optimizer.zero_grad()\n",
        "    \n",
        "    # Forward pass\n",
        "    x = images.view(-1, 28*28)\n",
        "    y = model(x)\n",
        "    loss = criterion(y, labels)\n",
        "    # Backward pass\n",
        "    loss.backward()\n",
        "    optimizer.step()\n",
        "\n",
        "## Testing\n",
        "correct = 0\n",
        "total = len(mnist_test)\n",
        "\n",
        "with torch.no_grad():\n",
        "    # Iterate through test set minibatchs \n",
        "    for images, labels in tqdm(test_loader):\n",
        "        # Forward pass\n",
        "        x = images.view(-1, 28*28)\n",
        "        y = model(x)\n",
        "        \n",
        "        predictions = torch.argmax(y, dim=1)\n",
        "        correct += torch.sum((predictions == labels).float())\n",
        "    \n",
        "print('Test accuracy: {}'.format(correct/total))"
      ],
      "execution_count": null,
      "outputs": [
        {
          "output_type": "display_data",
          "data": {
            "application/vnd.jupyter.widget-view+json": {
              "model_id": "5825a167881f499b93f844a1eb6c7633",
              "version_minor": 0,
              "version_major": 2
            },
            "text/plain": [
              "HBox(children=(FloatProgress(value=0.0, max=600.0), HTML(value='')))"
            ]
          },
          "metadata": {
            "tags": []
          }
        },
        {
          "output_type": "stream",
          "text": [
            "\n"
          ],
          "name": "stdout"
        },
        {
          "output_type": "display_data",
          "data": {
            "application/vnd.jupyter.widget-view+json": {
              "model_id": "c2a9d601c71848a59bcdd8a2ebec89e3",
              "version_minor": 0,
              "version_major": 2
            },
            "text/plain": [
              "HBox(children=(FloatProgress(value=0.0), HTML(value='')))"
            ]
          },
          "metadata": {
            "tags": []
          }
        },
        {
          "output_type": "stream",
          "text": [
            "\n",
            "Test accuracy: 0.902999997138977\n"
          ],
          "name": "stdout"
        }
      ]
    },
    {
      "cell_type": "markdown",
      "metadata": {
        "id": "1dFRD2i7bewb"
      },
      "source": [
        "While the benefits of organizing a model as a `nn.Module` may not be as obvious for a simple logistic regression model, such a programming style allows for much quicker and cleaner implementations for more complex models, as we'll see in later notebooks."
      ]
    }
  ]
}